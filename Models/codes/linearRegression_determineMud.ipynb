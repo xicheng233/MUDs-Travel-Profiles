{
 "cells": [
  {
   "cell_type": "code",
   "execution_count": null,
   "id": "226e1d96",
   "metadata": {},
   "outputs": [],
   "source": [
    "%matplotlib inline\n",
    "%config InlineBackend.figure_format = 'retina'\n",
    "\n",
    "import pandas as pd\n",
    "import numpy as np\n",
    "from matplotlib import pyplot as plt\n",
    "from matplotlib.ticker import FuncFormatter\n",
    "from os.path import abspath\n",
    "import re\n",
    "import os\n",
    "import matplotlib.image\n",
    "from functools import partial\n",
    "from IPython.display import Image\n",
    "from sklearn import linear_model\n",
    "from statistics import median \n",
    "import plotly.offline as py\n",
    "import seaborn as sns\n",
    "import plotly.figure_factory as ff\n",
    "import pingouin as pg\n",
    "import statsmodels.api as sm\n",
    "import statsmodels.formula.api as smf\n",
    "WEIGHT = 'WTPERFIN'"
   ]
  },
  {
   "cell_type": "markdown",
   "id": "bb428f7b",
   "metadata": {},
   "source": [
    "### Regression for Census Division & Incomes"
   ]
  },
  {
   "cell_type": "code",
   "execution_count": null,
   "id": "d820e5d8",
   "metadata": {},
   "outputs": [],
   "source": [
    "incCensus = pd.read_excel('datasets/UnitInStructure.xlsx', sheet_name = 'linearRegression',header =None,index_col=0)\n",
    "incCensus.reset_index(inplace = True)"
   ]
  },
  {
   "cell_type": "code",
   "execution_count": null,
   "id": "1a1c1545",
   "metadata": {},
   "outputs": [],
   "source": [
    "incCensus.loc[14,0] = 162500"
   ]
  },
  {
   "cell_type": "code",
   "execution_count": null,
   "id": "37af1a85",
   "metadata": {},
   "outputs": [],
   "source": [
    "arr = np.zeros(((len(incCensus.index)-1)*(len(incCensus.columns)-1), 3))\n",
    "print(arr.shape)\n",
    "incCensus.iloc[1,0]"
   ]
  },
  {
   "cell_type": "code",
   "execution_count": null,
   "id": "d31facde",
   "metadata": {},
   "outputs": [],
   "source": [
    "for i in range(len(incCensus.index)-1):\n",
    "    for j in range(len(incCensus.columns)-1):\n",
    "        arr[j+i*(len(incCensus.columns)-1)][0] = incCensus.iloc[i+1,0]\n",
    "        arr[j+i*(len(incCensus.columns)-1)][1] = incCensus.iloc[0,j+1]\n",
    "        arr[j+i*(len(incCensus.columns)-1)][2] = incCensus.iloc[i+1,j+1]"
   ]
  },
  {
   "cell_type": "code",
   "execution_count": null,
   "id": "f575c731",
   "metadata": {},
   "outputs": [],
   "source": [
    "arr\n",
    "linPre = pd.DataFrame(arr,columns=['HHIncomes', 'CensusDivisions', 'MUDsShares'])\n",
    "linPre\n",
    "linPre_2 = linPre"
   ]
  },
  {
   "cell_type": "code",
   "execution_count": null,
   "id": "1a4ddccf",
   "metadata": {},
   "outputs": [],
   "source": [
    "model = sm.OLS(linPre[['MUDsShares']], linPre[['HHIncomes','CensusDivisions']])\n",
    "results = model.fit()\n",
    "print(results.summary())"
   ]
  },
  {
   "cell_type": "code",
   "execution_count": null,
   "id": "bfc55209",
   "metadata": {},
   "outputs": [],
   "source": [
    "# We have a categorical variable 'Census Divisions' which has 9 values, so we should only be using 8 dummy variables. \n",
    "# 'Pacific Division' becomes the reference category, in the case that the other dummy variables are all 0, \n",
    "# then by default the variable would be 'Pacific Division'.\n",
    "division_list = ['NewEngland','MiddleAtlantic','EastNorthCentral','WestNorthCentral',\\\n",
    "                 'SouthAtlantic','EastSouthCentral','WestSouthCentral','Mountain']\n",
    "for i, item in enumerate(division_list):\n",
    "    linPre_2[item] = np.where(linPre_2['CensusDivisions']== i+1, 0, 1)"
   ]
  },
  {
   "cell_type": "code",
   "execution_count": null,
   "id": "313418a3",
   "metadata": {},
   "outputs": [],
   "source": [
    "X = sm.add_constant(linPre_2[['HHIncomes']+division_list])\n",
    "model = sm.OLS(linPre_2[['MUDsShares']], X)\n",
    "results_2 = model.fit()\n",
    "#print(results_2.summary())\n",
    "print(results_2.summary().as_latex())\n",
    "with open('summary_no_interaction_terms.txt', 'w') as fh:\n",
    "    fh.write(results_2.summary().as_latex())\n",
    "#print('p-values are: \\n',results_2.pvalues)"
   ]
  },
  {
   "cell_type": "code",
   "execution_count": null,
   "id": "4a17f610",
   "metadata": {},
   "outputs": [],
   "source": [
    "# we also test the interaction terms hereby\n",
    "\n",
    "model2 = smf.ols(formula = \"MUDsShares ~ HHIncomes + NewEngland+MiddleAtlantic+EastNorthCentral+\\\n",
    "                 WestNorthCentral+SouthAtlantic+EastSouthCentral+WestSouthCentral+Mountain+\\\n",
    "                 HHIncomes:NewEngland+HHIncomes:MiddleAtlantic+HHIncomes:EastNorthCentral+HHIncomes:WestNorthCentral+\\\n",
    "                 HHIncomes:SouthAtlantic+HHIncomes:EastSouthCentral+HHIncomes:WestSouthCentral+HHIncomes:Mountain\",data=linPre_2)\n",
    "results_3 = model2.fit()\n",
    "#print(results_3.summary())\n",
    "#print('p-values are: \\n',results_3.pvalues)\n",
    "# do either\n",
    "print(results_3.summary().as_latex())\n",
    "with open('summary_with_interaction_terms.txt', 'w') as fh:\n",
    "    fh.write(results_3.summary().as_latex())\n",
    "# alternatively\n",
    "# for table in results.summary().tables:\n",
    "#     print(table.as_latex_tabular())"
   ]
  },
  {
   "cell_type": "code",
   "execution_count": null,
   "id": "9a781aea",
   "metadata": {},
   "outputs": [],
   "source": [
    "pg.corr(x=linPre_2['HHIncomes'], y=linPre_2['NewEngland'])"
   ]
  },
  {
   "cell_type": "code",
   "execution_count": null,
   "id": "03df5900",
   "metadata": {},
   "outputs": [],
   "source": [
    "pg.pairwise_corr(linPre_2).sort_values(by=['p-unc'])[['X', 'Y', 'n', 'r', 'p-unc']].head()"
   ]
  },
  {
   "cell_type": "code",
   "execution_count": null,
   "id": "a7cb9a8d",
   "metadata": {},
   "outputs": [],
   "source": [
    "linPre_2"
   ]
  },
  {
   "cell_type": "code",
   "execution_count": null,
   "id": "087d5e7d",
   "metadata": {},
   "outputs": [],
   "source": [
    "linPre_2_2 = linPre_2.drop(columns='CensusDivisions')\n",
    "linPre_2_2.head()"
   ]
  },
  {
   "cell_type": "code",
   "execution_count": null,
   "id": "c806b516",
   "metadata": {},
   "outputs": [],
   "source": [
    "linPre_2_2.corr().round(2)"
   ]
  },
  {
   "cell_type": "code",
   "execution_count": null,
   "id": "8998472f",
   "metadata": {},
   "outputs": [],
   "source": [
    "corrs = linPre_2_2.corr()\n",
    "mask = np.zeros_like(corrs)\n",
    "mask[np.triu_indices_from(mask)] = True\n",
    "plt.figure(figsize=(20,10))\n",
    "sns.heatmap(corrs, cmap='Spectral_r', mask=mask, square=True, vmin=-.8, vmax=.3)\n",
    "plt.title('Correlation matrix')"
   ]
  },
  {
   "cell_type": "markdown",
   "id": "76870027",
   "metadata": {},
   "source": [
    "### Pick out only one primary vehicle for each household to generate the sub-dataset of original trip data."
   ]
  },
  {
   "cell_type": "code",
   "execution_count": null,
   "id": "b2e80d1f",
   "metadata": {},
   "outputs": [],
   "source": [
    "# 'trippub.csv' can be downloaded from \n",
    "# Federal Highway Administration. (2017). 2017 National Household Travel Survey, U.S. Department of Transportation, Washington, DC. \n",
    "# Available online: https://nhts.ornl.gov.\n",
    "trip17 = pd.read_csv('trippub.csv')\n",
    "trip17.head()"
   ]
  },
  {
   "cell_type": "code",
   "execution_count": null,
   "id": "79e1e518",
   "metadata": {},
   "outputs": [],
   "source": [
    "trip17_1pv = trip17.groupby(['HOUSEID','VEHID'], as_index=False)['VMT_MILE'].sum()"
   ]
  },
  {
   "cell_type": "code",
   "execution_count": null,
   "id": "979ac526",
   "metadata": {},
   "outputs": [],
   "source": [
    "trip17_process=trip17_1pv.groupby(['HOUSEID']).agg(list)"
   ]
  },
  {
   "cell_type": "code",
   "execution_count": null,
   "id": "5787c837",
   "metadata": {},
   "outputs": [],
   "source": [
    "trip17_process['freq_car_index']=trip17_process.agg(lambda x: x['VEHID'][np.argmax(x['VMT_MILE'])],axis=1)"
   ]
  },
  {
   "cell_type": "code",
   "execution_count": null,
   "id": "8c03e4a4",
   "metadata": {},
   "outputs": [],
   "source": [
    "trip17_process=trip17_process.reset_index()"
   ]
  },
  {
   "cell_type": "code",
   "execution_count": null,
   "id": "031beda8",
   "metadata": {},
   "outputs": [],
   "source": [
    "trip17_process.head()"
   ]
  },
  {
   "cell_type": "code",
   "execution_count": null,
   "id": "f449f068",
   "metadata": {},
   "outputs": [],
   "source": [
    "trip17.head()"
   ]
  },
  {
   "cell_type": "code",
   "execution_count": null,
   "id": "5d3052b1",
   "metadata": {},
   "outputs": [],
   "source": [
    "trip17_final=trip17.merge(trip17_process[['HOUSEID','freq_car_index']],on=['HOUSEID'],how='left')"
   ]
  },
  {
   "cell_type": "code",
   "execution_count": null,
   "id": "8cdf46a4",
   "metadata": {},
   "outputs": [],
   "source": [
    "trip17_final['selected_car']=trip17_final['freq_car_index']==trip17_final['VEHID']"
   ]
  },
  {
   "cell_type": "code",
   "execution_count": null,
   "id": "6c16eadb",
   "metadata": {},
   "outputs": [],
   "source": [
    "trip17_final[['freq_car_index','VEHID','selected_car']].head()"
   ]
  },
  {
   "cell_type": "code",
   "execution_count": null,
   "id": "8637e9a6",
   "metadata": {},
   "outputs": [],
   "source": [
    "trip17_final = trip17_final[trip17_final['selected_car'] == True]"
   ]
  },
  {
   "cell_type": "code",
   "execution_count": null,
   "id": "d3b8864d",
   "metadata": {},
   "outputs": [],
   "source": [
    "trip17_final.head()"
   ]
  },
  {
   "cell_type": "code",
   "execution_count": null,
   "id": "b5cef36c",
   "metadata": {},
   "outputs": [],
   "source": [
    "trip_inter = trip17_final.groupby(['HOUSEID','VEHID','HHFAMINC','CENSUS_D'], as_index=False)['VMT_MILE'].sum()"
   ]
  },
  {
   "cell_type": "code",
   "execution_count": null,
   "id": "3befcdc5",
   "metadata": {},
   "outputs": [],
   "source": [
    "for i, item in enumerate(division_list):\n",
    "    trip_inter[item] = np.where(trip_inter['CENSUS_D']== i+1, 0, 1)\n",
    "#trip_inter.head()"
   ]
  },
  {
   "cell_type": "code",
   "execution_count": null,
   "id": "eb46f593",
   "metadata": {},
   "outputs": [],
   "source": [
    "trip_inter.loc[:, 'const'] = 1"
   ]
  },
  {
   "cell_type": "code",
   "execution_count": null,
   "id": "f21dae67",
   "metadata": {},
   "outputs": [],
   "source": [
    "income = (5000, 12500, 20000, 30000, 40000, 62500, 87500,112500, 137500, 175000, 250000) \n",
    "#trip17_MUD_C.loc[:, 'MUDs_Predict'] = 0\n",
    "trip_inter.loc[:, 'HHIncomes'] = 0\n",
    "for i in range(11):\n",
    "    trip_inter['HHIncomes'].mask(trip_inter['HHFAMINC'] == i+1, income[i], inplace=True)\n",
    "trip_inter[trip_inter['HHIncomes'] == 0] = median(income)"
   ]
  },
  {
   "cell_type": "code",
   "execution_count": null,
   "id": "53d5bbeb",
   "metadata": {},
   "outputs": [],
   "source": [
    "Xnew = [trip_inter['const'],trip_inter['HHIncomes'],trip_inter[division_list[0]],trip_inter[division_list[1]],\\\n",
    "            trip_inter[division_list[2]],trip_inter[division_list[3]], trip_inter[division_list[4]],\\\n",
    "            trip_inter[division_list[5]], trip_inter[division_list[6]], trip_inter[division_list[7]]]\n",
    "   "
   ]
  },
  {
   "cell_type": "code",
   "execution_count": null,
   "id": "50ed029b",
   "metadata": {},
   "outputs": [],
   "source": [
    "Xnew=np.array(Xnew)"
   ]
  },
  {
   "cell_type": "code",
   "execution_count": null,
   "id": "a772dad5",
   "metadata": {},
   "outputs": [],
   "source": [
    "Xnew.shape"
   ]
  },
  {
   "cell_type": "code",
   "execution_count": null,
   "id": "177e2f0a",
   "metadata": {},
   "outputs": [],
   "source": [
    "X = sm.add_constant(Xnew)"
   ]
  },
  {
   "cell_type": "code",
   "execution_count": null,
   "id": "d91f8eaa",
   "metadata": {},
   "outputs": [],
   "source": [
    "X.shape"
   ]
  },
  {
   "cell_type": "code",
   "execution_count": null,
   "id": "0cf39e9a",
   "metadata": {},
   "outputs": [],
   "source": [
    "results_2.predict(X[:,132])"
   ]
  },
  {
   "cell_type": "code",
   "execution_count": null,
   "id": "6b749852",
   "metadata": {},
   "outputs": [],
   "source": [
    "trip_inter.loc[:, 'MUDs_Predict'] = 0\n",
    "for i in range(len(trip_inter)):\n",
    "    trip_inter.loc[i,'MUDs_Predict'] = results_2.predict(X[:,i])[0]"
   ]
  },
  {
   "cell_type": "code",
   "execution_count": null,
   "id": "5b297240",
   "metadata": {},
   "outputs": [],
   "source": [
    "## Predict corresponding MUDs share for trip takers\n",
    "## merge MUD or others from AHS with the share of MUD in different CENSUS DIVISION\n",
    "\n",
    "random_lists = []\n",
    "for i in range(len(trip_inter)):\n",
    "    if trip_inter.loc[i,'MUDs_Predict'] >= 1:\n",
    "        #print(i)\n",
    "        random_lists.append(1)\n",
    "    elif trip_inter.loc[i,'MUDs_Predict'] > 0 :\n",
    "        #print(i)\n",
    "        random_lists.append(np.random.choice([1, 0], p=[trip_inter.loc[i,'MUDs_Predict'], 1-trip_inter.loc[i,'MUDs_Predict']]))\n",
    "    else:\n",
    "        random_lists.append(0)\n",
    "trip_inter['MUDs_Predict_OW'] = random_lists\n"
   ]
  },
  {
   "cell_type": "code",
   "execution_count": null,
   "id": "668fa061",
   "metadata": {},
   "outputs": [],
   "source": [
    "random_lists = []\n",
    "for i in range(len(trip_inter)):\n",
    "    if trip_inter.loc[i,'MUDs_Predict'] >= 1:\n",
    "        #print(i)\n",
    "        random_lists.append(1)\n",
    "    elif trip_inter.loc[i,'MUDs_Predict'] > 0 :\n",
    "        #print(i)\n",
    "        random_lists.append(np.random.choice([1, 0], p=[trip_inter.loc[i,'MUDs_Predict'], 1-trip_inter.loc[i,'MUDs_Predict']]))\n",
    "    else:\n",
    "        random_lists.append(0)\n",
    "trip_inter['MUDs_Predict_OW_1'] = random_lists\n"
   ]
  },
  {
   "cell_type": "code",
   "execution_count": null,
   "id": "7800c583",
   "metadata": {},
   "outputs": [],
   "source": [
    "trip_inter['MUDs_Predict_OW'].value_counts()"
   ]
  },
  {
   "cell_type": "markdown",
   "id": "fa464731",
   "metadata": {},
   "source": [
    "### Multiple simulations to convince the robustness of the ranmized assignment"
   ]
  },
  {
   "cell_type": "code",
   "execution_count": null,
   "id": "4f96540e",
   "metadata": {},
   "outputs": [],
   "source": [
    "###### Multiple times (9 times) of simulation with the randomized assignment\n",
    "count = 2\n",
    "while (count < 10):\n",
    "    random_lists = []\n",
    "    for i in range(len(trip_inter)):\n",
    "        if trip_inter.loc[i,'MUDs_Predict'] >= 1:\n",
    "            #print(i)\n",
    "            random_lists.append(1)\n",
    "        elif trip_inter.loc[i,'MUDs_Predict'] > 0 :\n",
    "            #print(i)\n",
    "            random_lists.append(np.random.choice([1, 0], p=[trip_inter.loc[i,'MUDs_Predict'], 1-trip_inter.loc[i,'MUDs_Predict']]))\n",
    "        else:\n",
    "            random_lists.append(0)\n",
    "    trip_inter['MUDs_Predict_OW_'+str(count)] = random_lists\n",
    "    count += 1\n",
    "    "
   ]
  },
  {
   "cell_type": "code",
   "execution_count": null,
   "id": "7090de9f",
   "metadata": {},
   "outputs": [],
   "source": [
    "MUDs_no_lists = []\n",
    "MUDs_no_lists.append(trip_inter['MUDs_Predict_OW'].sum())\n",
    "for count in range(1,10):\n",
    "    MUDs_no_lists.append(trip_inter['MUDs_Predict_OW_'+str(count)].sum())"
   ]
  },
  {
   "cell_type": "code",
   "execution_count": null,
   "id": "d40d8f4b",
   "metadata": {},
   "outputs": [],
   "source": [
    "MUDs_no_lists"
   ]
  },
  {
   "cell_type": "code",
   "execution_count": null,
   "id": "6bc01978",
   "metadata": {},
   "outputs": [],
   "source": [
    "###### (Expanding) Multiple times (90 times) of simulation with the randomized assignment\n",
    "count = 10\n",
    "while (count < 100):\n",
    "    random_lists = []\n",
    "    for i in range(len(trip_inter)):\n",
    "        if trip_inter.loc[i,'MUDs_Predict'] >= 1:\n",
    "            #print(i)\n",
    "            random_lists.append(1)\n",
    "        elif trip_inter.loc[i,'MUDs_Predict'] > 0 :\n",
    "            #print(i)\n",
    "            random_lists.append(np.random.choice([1, 0], p=[trip_inter.loc[i,'MUDs_Predict'], 1-trip_inter.loc[i,'MUDs_Predict']]))\n",
    "        else:\n",
    "            random_lists.append(0)\n",
    "    trip_inter['MUDs_Predict_OW_'+str(count)] = random_lists\n",
    "    MUDs_no_lists.append(trip_inter['MUDs_Predict_OW_'+str(count)].sum())\n",
    "    count += 1\n",
    "    "
   ]
  },
  {
   "cell_type": "code",
   "execution_count": null,
   "id": "1bfa143c",
   "metadata": {},
   "outputs": [],
   "source": [
    "trip_inter.head()"
   ]
  },
  {
   "cell_type": "code",
   "execution_count": null,
   "id": "d32b1868",
   "metadata": {},
   "outputs": [],
   "source": [
    "# the first simulation\n",
    "simu = trip_inter.loc[:,'MUDs_Predict_OW':'MUDs_Predict_OW_1']"
   ]
  },
  {
   "cell_type": "code",
   "execution_count": null,
   "id": "91ba3419",
   "metadata": {},
   "outputs": [],
   "source": [
    "# 100 simulation\n",
    "simu = trip_inter.loc[:,'MUDs_Predict_OW':'MUDs_Predict_OW_99']"
   ]
  },
  {
   "cell_type": "code",
   "execution_count": null,
   "id": "09626d65",
   "metadata": {},
   "outputs": [],
   "source": [
    "# simu.to_csv('new_simulation_result_income_162500.csv',index=False)"
   ]
  },
  {
   "cell_type": "markdown",
   "id": "e7676a55",
   "metadata": {},
   "source": [
    "### check each division has approximate MUDs share from the simulation"
   ]
  },
  {
   "cell_type": "code",
   "execution_count": null,
   "id": "e8e41c9a",
   "metadata": {},
   "outputs": [],
   "source": [
    "trip17_pred=trip17_final.merge(simu,on=['HOUSEID'],how='left')"
   ]
  },
  {
   "cell_type": "code",
   "execution_count": null,
   "id": "89ecf490",
   "metadata": {},
   "outputs": [],
   "source": [
    "trip17_pred.head()"
   ]
  },
  {
   "cell_type": "code",
   "execution_count": null,
   "id": "1b6e83ae",
   "metadata": {},
   "outputs": [],
   "source": [
    "division_list_9 = ['New England','Middle Atlantic','East North Central','West North Central',\\\n",
    "                 'South Atlantic','East South Central','West South Central','Mountain','Pacific']"
   ]
  },
  {
   "cell_type": "code",
   "execution_count": null,
   "id": "4253b0f2",
   "metadata": {},
   "outputs": [],
   "source": [
    "trip17_pred_uni = trip17_pred.groupby(['HOUSEID','CENSUS_D'], as_index=False)['MUDs_Predict_OW'].mean()"
   ]
  },
  {
   "cell_type": "code",
   "execution_count": null,
   "id": "8426b52c",
   "metadata": {},
   "outputs": [],
   "source": [
    "division = trip17_pred_uni[trip17_pred_uni['CENSUS_D'] == 0+3]\n",
    "division['MUDs_Predict_OW'].value_counts()"
   ]
  },
  {
   "cell_type": "code",
   "execution_count": null,
   "id": "5856ef2a",
   "metadata": {},
   "outputs": [],
   "source": [
    "MUD_share = []\n",
    "for i in range(9):\n",
    "    division = trip17_pred_uni[trip17_pred_uni['CENSUS_D'] == i+1]\n",
    "    temp = division['MUDs_Predict_OW'].value_counts().tolist()[1]/sum(division['MUDs_Predict_OW'].value_counts().tolist())\n",
    "    temp = round(temp, 3)\n",
    "    MUD_share.append(temp)\n",
    "    print('MUDs share of',division_list_9[i],'division is: ',MUD_share[i])"
   ]
  },
  {
   "cell_type": "code",
   "execution_count": null,
   "id": "d8027145",
   "metadata": {},
   "outputs": [],
   "source": [
    "fig, ax = plt.subplots(figsize=(8,5)) \n",
    "ax.bar(division_list_9,MUD_share)\n",
    "ax.set_title('MUDs Share per Census Division')\n",
    "\n",
    "for tick in ax.get_xticklabels():\n",
    "    tick.set_rotation(45)\n",
    "#ax.set_rotation(rotation=45)"
   ]
  },
  {
   "cell_type": "code",
   "execution_count": null,
   "id": "f5e657a4",
   "metadata": {},
   "outputs": [],
   "source": []
  },
  {
   "cell_type": "code",
   "execution_count": null,
   "id": "1a3a961b",
   "metadata": {},
   "outputs": [],
   "source": []
  }
 ],
 "metadata": {
  "kernelspec": {
   "display_name": "Python 3 (ipykernel)",
   "language": "python",
   "name": "python3"
  },
  "language_info": {
   "codemirror_mode": {
    "name": "ipython",
    "version": 3
   },
   "file_extension": ".py",
   "mimetype": "text/x-python",
   "name": "python",
   "nbconvert_exporter": "python",
   "pygments_lexer": "ipython3",
   "version": "3.9.12"
  }
 },
 "nbformat": 4,
 "nbformat_minor": 5
}
