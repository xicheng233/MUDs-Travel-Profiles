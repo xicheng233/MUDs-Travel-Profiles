{
 "cells": [
  {
   "cell_type": "code",
   "execution_count": null,
   "id": "4b7a4812",
   "metadata": {},
   "outputs": [],
   "source": [
    "%matplotlib inline\n",
    "%config InlineBackend.figure_format = 'retina'\n",
    "\n",
    "import pandas as pd\n",
    "import numpy as np\n",
    "from matplotlib import pyplot as plt\n",
    "from matplotlib.ticker import FuncFormatter\n",
    "from os.path import abspath\n",
    "import re\n",
    "import os\n",
    "import matplotlib.image\n",
    "from functools import partial\n",
    "from IPython.display import Image\n",
    "from sklearn import linear_model\n",
    "from statistics import median \n",
    "# import plotly.offline as py\n",
    "import seaborn as sns\n",
    "# import plotly.figure_factory as ff\n",
    "import pingouin as pg\n",
    "import itertools\n",
    "from tqdm import tqdm \n",
    "import time "
   ]
  },
  {
   "cell_type": "code",
   "execution_count": null,
   "id": "f0249167",
   "metadata": {},
   "outputs": [],
   "source": [
    "# 'trippub.csv' can be downloaded from \n",
    "# Federal Highway Administration. (2017). 2017 National Household Travel Survey, U.S. Department of Transportation, Washington, DC. \n",
    "# Available online: https://nhts.ornl.gov.\n",
    "trip17 = pd.read_csv('trippub.csv')\n",
    "trip17.head()"
   ]
  },
  {
   "cell_type": "code",
   "execution_count": null,
   "id": "52713637",
   "metadata": {},
   "outputs": [],
   "source": [
    "# Drop all zero values of trip dataset\n",
    "trip17 = trip17.loc[trip17.WTTRDFIN > 0]\n",
    "\n",
    "# Remove outliers which are not within 3 standard deviations from mean of trip dataset\n",
    "trip17 = trip17[\n",
    "    np.abs(trip17.WTTRDFIN - trip17.WTTRDFIN.mean()) <= (3*trip17.WTTRDFIN.std())\n",
    "]"
   ]
  },
  {
   "cell_type": "code",
   "execution_count": null,
   "id": "259b4b6f",
   "metadata": {},
   "outputs": [],
   "source": [
    "trip17_1pv = trip17.groupby(['HOUSEID','VEHID'], as_index=False)['VMT_MILE'].sum()"
   ]
  },
  {
   "cell_type": "code",
   "execution_count": null,
   "id": "a051291e",
   "metadata": {},
   "outputs": [],
   "source": [
    "trip17_process=trip17_1pv.groupby(['HOUSEID']).agg(list)"
   ]
  },
  {
   "cell_type": "code",
   "execution_count": null,
   "id": "b7adabaf",
   "metadata": {},
   "outputs": [],
   "source": [
    "trip17_process['freq_car_index']=trip17_process.agg(lambda x: x['VEHID'][np.argmax(x['VMT_MILE'])],axis=1)"
   ]
  },
  {
   "cell_type": "code",
   "execution_count": null,
   "id": "40d7dff5",
   "metadata": {},
   "outputs": [],
   "source": [
    "trip17_process=trip17_process.reset_index()"
   ]
  },
  {
   "cell_type": "code",
   "execution_count": null,
   "id": "9ef8dcb8",
   "metadata": {},
   "outputs": [],
   "source": [
    "trip17_process.head()"
   ]
  },
  {
   "cell_type": "code",
   "execution_count": null,
   "id": "9ef9642b",
   "metadata": {},
   "outputs": [],
   "source": [
    "trip17.head()"
   ]
  },
  {
   "cell_type": "code",
   "execution_count": null,
   "id": "a55f59be",
   "metadata": {},
   "outputs": [],
   "source": [
    "trip17_final=trip17.merge(trip17_process[['HOUSEID','freq_car_index']],on=['HOUSEID'],how='left')"
   ]
  },
  {
   "cell_type": "code",
   "execution_count": null,
   "id": "1fee6344",
   "metadata": {},
   "outputs": [],
   "source": [
    "trip17_final['selected_car']=trip17_final['freq_car_index']==trip17_final['VEHID']"
   ]
  },
  {
   "cell_type": "code",
   "execution_count": null,
   "id": "409764c1",
   "metadata": {},
   "outputs": [],
   "source": [
    "trip17_final[['freq_car_index','VEHID','selected_car']].head()"
   ]
  },
  {
   "cell_type": "code",
   "execution_count": null,
   "id": "6b15a840",
   "metadata": {},
   "outputs": [],
   "source": [
    "trip17_final = trip17_final[trip17_final['selected_car'] == True]"
   ]
  },
  {
   "cell_type": "code",
   "execution_count": null,
   "id": "85fec256",
   "metadata": {},
   "outputs": [],
   "source": [
    "trip17_final.head()"
   ]
  },
  {
   "cell_type": "code",
   "execution_count": null,
   "id": "69649d9d",
   "metadata": {},
   "outputs": [],
   "source": [
    "simu = pd.read_csv('outputs/new_simulation_result_income_162500.csv')"
   ]
  },
  {
   "cell_type": "code",
   "execution_count": null,
   "id": "51883864",
   "metadata": {},
   "outputs": [],
   "source": [
    "simu.head()"
   ]
  },
  {
   "cell_type": "code",
   "execution_count": null,
   "id": "eee9b5e2",
   "metadata": {},
   "outputs": [],
   "source": [
    "trip17_pred=trip17_final.merge(simu,on=['HOUSEID'],how='left')"
   ]
  },
  {
   "cell_type": "code",
   "execution_count": null,
   "id": "64e87474",
   "metadata": {},
   "outputs": [],
   "source": [
    "trip17_pred.head()"
   ]
  },
  {
   "cell_type": "code",
   "execution_count": null,
   "id": "70dc1f31",
   "metadata": {},
   "outputs": [],
   "source": [
    "### Trip distance in miles for personally driven vehicle trips\n",
    "### new Trip Distance Distribution with new categrarical CENSUS DIVISIONS using Dummy Variables\n",
    "plt.style.use(\"seaborn\")\n",
    "font = {'family': 'serif',\n",
    "        'color':  'black',\n",
    "        'weight': 'normal',\n",
    "        'size': 16,\n",
    "        }"
   ]
  },
  {
   "cell_type": "markdown",
   "id": "0f015aa0",
   "metadata": {},
   "source": [
    "### VMT Analysis"
   ]
  },
  {
   "cell_type": "code",
   "execution_count": null,
   "id": "9813167f",
   "metadata": {},
   "outputs": [],
   "source": [
    "trip17_vmt = trip17_pred[trip17_pred['VMT_MILE']>0]\n",
    "trip17_vmt = trip17_vmt[trip17_vmt['TRVLCMIN']>0]"
   ]
  },
  {
   "cell_type": "code",
   "execution_count": null,
   "id": "3a504bbe",
   "metadata": {},
   "outputs": [],
   "source": [
    "trip17_vmt_T = trip17_vmt[trip17_vmt['MUDs_Predict_OW'] == 1]\n",
    "trip17_vmt_F = trip17_vmt[trip17_vmt['MUDs_Predict_OW'] == 0]\n",
    "\n",
    "for i in range(24):\n",
    "    trip17_vmt_T['VMT_Hr'+str(i+1)] = np.where((trip17_vmt_T['STRTTIME'] >= 100*i) & (trip17_vmt_T['STRTTIME']< 100*(i+1)), \n",
    "                                               trip17_vmt_T['VMT_MILE']/(trip17_vmt_T['TRVLCMIN']/60),0)\n",
    "    trip17_vmt_T['VMT_Hr'+str(i+1)] = np.where((trip17_vmt_T['STRTTIME'] >= 100*i) & (trip17_vmt_T['ENDTIME']< 100*(i+1)), \n",
    "                                               trip17_vmt_T['VMT_MILE']/(trip17_vmt_T['TRVLCMIN']/60),0)\n",
    "    trip17_vmt_F['VMT_Hr'+str(i+1)] = np.where((trip17_vmt_F['STRTTIME'] >= 100*i) & (trip17_vmt_F['STRTTIME']< 100*(i+1)), \n",
    "                                               trip17_vmt_F['VMT_MILE']/(trip17_vmt_F['TRVLCMIN']/60),0)\n",
    "    trip17_vmt_F['VMT_Hr'+str(i+1)] = np.where((trip17_vmt_F['STRTTIME'] >= 100*i) & (trip17_vmt_F['ENDTIME']< 100*(i+1)), \n",
    "                                               trip17_vmt_F['VMT_MILE']/(trip17_vmt_F['TRVLCMIN']/60),0)\n"
   ]
  },
  {
   "cell_type": "code",
   "execution_count": null,
   "id": "5d134140",
   "metadata": {},
   "outputs": [],
   "source": [
    "trip17_vmt_T.head()"
   ]
  },
  {
   "cell_type": "code",
   "execution_count": null,
   "id": "679218f1",
   "metadata": {},
   "outputs": [],
   "source": [
    "avg_vmt_T = [[0 for i in range(24)] for j in range(100)]\n",
    "avg_vmt_F = [[0 for i in range(24)] for j in range(100)]\n",
    "avg_vmt = [[0 for i in range(24)] for j in range(100)]\n",
    "\n",
    "# trip17_vmt_T = trip17_vmt[trip17_vmt['MUDs_Predict_OW'] == 1]\n",
    "# trip17_vmt_F = trip17_vmt[trip17_vmt['MUDs_Predict_OW'] == 0]\n",
    "trip17_vmt_T = trip17_vmt_T[trip17_vmt_T['MUDs_Predict_OW'] == 1]\n",
    "trip17_vmt_F = trip17_vmt_F[trip17_vmt_F['MUDs_Predict_OW'] == 0]\n",
    "\n",
    "\n",
    "#trip17_MUD_C['HHIncomes'].mask(trip17_MUD_C['HHFAMINC'] == i+1, income[i], inplace=True)\n",
    "for i in range(24):\n",
    "    #avg_vmt_T[0][i] = trip17_vmt_T[(trip17_vmt_T['STRTTIME'] >= 100*i) & (trip17_vmt_T['STRTTIME']< 100*(i+1))].VMT_MILE.mean()\n",
    "    avg_vmt_T[0][i] = trip17_vmt_T['VMT_Hr'+str(i+1)].mean()\n",
    "    #avg_vmt_F[0][i] = trip17_vmt_F[(trip17_vmt_F['STRTTIME'] >= 100*i) & (trip17_vmt_F['STRTTIME']< 100*(i+1))].VMT_MILE.mean()\n",
    "    avg_vmt_F[0][i] = trip17_vmt_F['VMT_Hr'+str(i+1)].mean()\n",
    "    avg_vmt[0][i] = trip17_vmt[(trip17_vmt['STRTTIME'] >= 100*i) & (trip17_vmt['STRTTIME']< 100*(i+1))].VMT_MILE.mean()\n",
    "    "
   ]
  },
  {
   "cell_type": "code",
   "execution_count": null,
   "id": "9fc443bd",
   "metadata": {},
   "outputs": [],
   "source": [
    "for i in range(1,100):\n",
    "#     trip17_vmt_T = trip17_vmt[trip17_vmt['MUDs_Predict_OW_'+str(i)] == 1]\n",
    "#     trip17_vmt_F = trip17_vmt[trip17_vmt['MUDs_Predict_OW_'+str(i)] == 0]\n",
    "    trip17_vmt_T = trip17_vmt_T[trip17_vmt_T['MUDs_Predict_OW_'+str(i)] == 1]\n",
    "    trip17_vmt_F = trip17_vmt_F[trip17_vmt_F['MUDs_Predict_OW_'+str(i)] == 0]\n",
    "    for j in range(24):\n",
    "#         avg_vmt_T[i][j] = trip17_vmt_T[(trip17_vmt_T['STRTTIME'] >= 100*j) & (trip17_vmt_T['STRTTIME']< 100*(j+1))].VMT_MILE.mean()\n",
    "        avg_vmt_T[i][j] = trip17_vmt_T['VMT_Hr'+str(j+1)].mean()\n",
    "#         avg_vmt_F[i][j] = trip17_vmt_F[(trip17_vmt_F['STRTTIME'] >= 100*j) & (trip17_vmt_F['STRTTIME']< 100*(j+1))].VMT_MILE.mean()\n",
    "        avg_vmt_F[i][j] = trip17_vmt_F['VMT_Hr'+str(j+1)].mean()\n",
    "        avg_vmt[i][j] = trip17_vmt[(trip17_vmt['STRTTIME'] >= 100*j) & (trip17_vmt['STRTTIME']< 100*(j+1))].VMT_MILE.mean()\n",
    "\n",
    "# for i in range(24):\n",
    "#     trip17_vmt_T.loc[trip17_vmt_T['VMT_Hr'+str(i+1)] > 120,'VMT_Hr'+str(i+1)] = 120\n",
    "#     trip17_vmt_F.loc[trip17_vmt_F['VMT_Hr'+str(i+1)] > 120,'VMT_Hr'+str(i+1)] = 120"
   ]
  },
  {
   "cell_type": "code",
   "execution_count": null,
   "id": "958c208a",
   "metadata": {},
   "outputs": [],
   "source": [
    "col_list = range(24)\n",
    "df_avg_vmt_T = pd.DataFrame(data=avg_vmt_T, columns=col_list)\n",
    "df_avg_vmt_F = pd.DataFrame(data=avg_vmt_F, columns=col_list)\n",
    "df_avg_vmt = pd.DataFrame(data=avg_vmt, columns=col_list)\n",
    "df_avg_vmt_T"
   ]
  },
  {
   "cell_type": "markdown",
   "id": "ec2ccdc4",
   "metadata": {},
   "source": [
    "consider all trips"
   ]
  },
  {
   "cell_type": "code",
   "execution_count": null,
   "id": "190e5451",
   "metadata": {},
   "outputs": [],
   "source": [
    "df_avg_vmt_T.fillna(0, inplace=True)\n",
    "df_avg_vmt_F.fillna(0, inplace=True)\n",
    "df_avg_vmt.fillna(0,inplace=True)"
   ]
  },
  {
   "cell_type": "code",
   "execution_count": null,
   "id": "eae7a255",
   "metadata": {},
   "outputs": [],
   "source": [
    "# function for setting the colors of the box plots pairs\n",
    "def set_box_color(bp, color):\n",
    "    plt.setp(bp['boxes'], color=color)\n",
    "    plt.setp(bp['whiskers'], color=color)\n",
    "    plt.setp(bp['caps'], color=color)\n",
    "    plt.setp(bp['medians'], color=color)"
   ]
  },
  {
   "cell_type": "code",
   "execution_count": null,
   "id": "f965821f",
   "metadata": {},
   "outputs": [],
   "source": [
    "tod = []\n",
    "for i in range(24):\n",
    "    tod.append(str(i) + ':00 to ' + str(i+1) + ':00')\n",
    "  "
   ]
  },
  {
   "cell_type": "code",
   "execution_count": null,
   "id": "c8002d05",
   "metadata": {},
   "outputs": [],
   "source": [
    "plt.figure(figsize=(16, 8))\n",
    "plt.title('Time of Day Average VMT for all personally driven vehicle trips (Miles)', fontsize=28)\n",
    " \n",
    "# data required for plotting\n",
    "all_data = [df_avg_vmt_T[i] for i in range(24)]\n",
    "all_data_F = [df_avg_vmt_F[i] for i in range(24)]\n",
    "\n",
    "# plot box plot\n",
    "bp2 = plt.boxplot(all_data,positions=np.array(range(1,len(all_data)+1))*2-0.3)\n",
    "set_box_color(bp2, '#0000FF')\n",
    "\n",
    "\n",
    "# plot box plot\n",
    "bp4 = plt.boxplot(all_data_F,positions=np.array(range(1,len(all_data)+1))*2+0.3)\n",
    "#axs[1][1].set_title('Box plot')\n",
    "set_box_color(bp4, '#FF0000')\n",
    "\n",
    "\n",
    "plt.plot([], c='#0000FF', label=\"MUDs' Residents\")\n",
    "plt.plot([], c='#FF0000', label=\"Others' Residents\")\n",
    "plt.legend()\n",
    "# adding horizontal grid lines\n",
    "\n",
    "plt.xticks(range(1, len(tod)*2+1, 2), tod)\n",
    "plt.xticks(rotation=45)        \n",
    "plt.xlabel('Time of Day',fontdict=font)\n",
    "plt.ylabel('VMT(Miles)',fontdict=font)\n",
    "\n",
    "plt.show()"
   ]
  },
  {
   "cell_type": "markdown",
   "id": "702d2b2c",
   "metadata": {},
   "source": [
    "consider trips with positive vmts excludingly"
   ]
  },
  {
   "cell_type": "code",
   "execution_count": null,
   "id": "56e2a62a",
   "metadata": {},
   "outputs": [],
   "source": [
    "trip17_vmt_T = trip17_vmt[trip17_vmt['MUDs_Predict_OW'] == 1]\n",
    "trip17_vmt_F = trip17_vmt[trip17_vmt['MUDs_Predict_OW'] == 0]\n",
    "#trip17_vmt = trip17_vmt[trip17_vmt['TRVLCMIN']>0]"
   ]
  },
  {
   "cell_type": "code",
   "execution_count": null,
   "id": "24f6a5fa",
   "metadata": {},
   "outputs": [],
   "source": [
    "trip17_vmt_T.head()"
   ]
  },
  {
   "cell_type": "code",
   "execution_count": null,
   "id": "40a8f871",
   "metadata": {},
   "outputs": [],
   "source": [
    "for i in range(24):\n",
    "    trip17_vmt_T['VMT_Hr'+str(i+1)] = np.where((trip17_vmt_T['STRTTIME'] >= 100*i) & (trip17_vmt_T['STRTTIME']< 100*(i+1)), \n",
    "                                               trip17_vmt_T['VMT_MILE']/(trip17_vmt_T['TRVLCMIN']/60),0)\n",
    "    trip17_vmt_T['VMT_Hr'+str(i+1)] = np.where((trip17_vmt_T['STRTTIME'] >= 100*i) & (trip17_vmt_T['ENDTIME']< 100*(i+1)), \n",
    "                                               trip17_vmt_T['VMT_MILE']/(trip17_vmt_T['TRVLCMIN']/60),0)\n",
    "    trip17_vmt_F['VMT_Hr'+str(i+1)] = np.where((trip17_vmt_F['STRTTIME'] >= 100*i) & (trip17_vmt_F['STRTTIME']< 100*(i+1)), \n",
    "                                               trip17_vmt_F['VMT_MILE']/(trip17_vmt_F['TRVLCMIN']/60),0)\n",
    "    trip17_vmt_F['VMT_Hr'+str(i+1)] = np.where((trip17_vmt_F['STRTTIME'] >= 100*i) & (trip17_vmt_F['ENDTIME']< 100*(i+1)), \n",
    "                                               trip17_vmt_F['VMT_MILE']/(trip17_vmt_F['TRVLCMIN']/60),0)\n",
    "                                               "
   ]
  },
  {
   "cell_type": "code",
   "execution_count": null,
   "id": "3094ba06",
   "metadata": {},
   "outputs": [],
   "source": [
    "for i in range(24):\n",
    "    trip17_vmt_T.loc[trip17_vmt_T['VMT_Hr'+str(i+1)] > 120,'VMT_Hr'+str(i+1)] = 120\n",
    "    trip17_vmt_F.loc[trip17_vmt_F['VMT_Hr'+str(i+1)] > 120,'VMT_Hr'+str(i+1)] = 120"
   ]
  },
  {
   "cell_type": "code",
   "execution_count": null,
   "id": "7751e03e",
   "metadata": {},
   "outputs": [],
   "source": [
    "trip17_vmt_T[['HOUSEID','VMT_Hr16','VMT_MILE']].head(10)"
   ]
  },
  {
   "cell_type": "code",
   "execution_count": null,
   "id": "b5c7abca",
   "metadata": {},
   "outputs": [],
   "source": [
    "tod = []\n",
    "for i in range(24):\n",
    "    tod.append(str(i) + ':00 to ' + str(i+1) + ':00')\n",
    "    "
   ]
  },
  {
   "cell_type": "code",
   "execution_count": null,
   "id": "d2b9df10",
   "metadata": {},
   "outputs": [],
   "source": [
    "trip17_vmt_T[trip17_vmt_T['VMT_Hr'+str(1+1)] != 0]['VMT_Hr2'].head()"
   ]
  },
  {
   "cell_type": "code",
   "execution_count": null,
   "id": "1b4ee9db",
   "metadata": {},
   "outputs": [],
   "source": [
    "plt.figure(figsize=(16, 8))\n",
    "plt.title('Time of Day VMT for personally driven vehicle trips (vmt>0)', fontsize=28)\n",
    " \n",
    "# data required for plotting\n",
    "all_data = [trip17_vmt_T[trip17_vmt_T['VMT_Hr'+str(i+1)] != 0]['VMT_Hr'+str(i+1)] \n",
    "            for i in range(24)]\n",
    "all_data_F = [trip17_vmt_F[trip17_vmt_F['VMT_Hr'+str(i+1)]!=0]['VMT_Hr'+str(i+1)] \n",
    "            for i in range(24)]\n",
    "\n",
    "# plot box plot\n",
    "flierprops1 = dict(marker='o', markerfacecolor='blue', markersize=6,\n",
    "                  linestyle='none', markeredgecolor='g')\n",
    "bp2 = plt.boxplot(all_data,positions=np.array(range(1,len(all_data)+1))*2-0.3, flierprops=flierprops1)\n",
    "set_box_color(bp2, '#0000FF')\n",
    "\n",
    "\n",
    "# plot box plot\n",
    "flierprops2 = dict(marker='o', markerfacecolor='r', markersize=6,\n",
    "                  linestyle='none', markeredgecolor='g')\n",
    "bp4 = plt.boxplot(all_data_F,positions=np.array(range(1,len(all_data)+1))*2+0.3, flierprops=flierprops2)\n",
    "#axs[1][1].set_title('Box plot')\n",
    "set_box_color(bp4, '#FF0000')\n",
    "\n",
    "\n",
    "plt.plot([], c='#0000FF', label=\"MUDs' Residents\")\n",
    "plt.plot([], c='#FF0000', label=\"Others' Residents\")\n",
    "plt.legend(loc='upper left', bbox_to_anchor=(0.9, 1.06))\n",
    "# adding horizontal grid lines\n",
    "\n",
    "plt.xticks(range(1, len(tod)*2+1, 2), tod)\n",
    "plt.xticks(rotation=45)        \n",
    "plt.xlabel('Time of Day (Hrs)',fontdict=font)\n",
    "plt.ylabel('VMT (Miles)',fontdict=font)\n",
    "\n",
    "plt.show();"
   ]
  },
  {
   "cell_type": "code",
   "execution_count": null,
   "id": "20fb9a7e",
   "metadata": {},
   "outputs": [],
   "source": [
    "list_avg_vmt_T = []\n",
    "list_avg_vmt_F = []\n",
    "for i in range(24):\n",
    "    list_avg_vmt_T.append(all_data[i].mean())\n",
    "    list_avg_vmt_F.append(all_data_F[i].mean())"
   ]
  },
  {
   "cell_type": "markdown",
   "id": "056c92a7",
   "metadata": {},
   "source": [
    "plot figure 2"
   ]
  },
  {
   "cell_type": "code",
   "execution_count": null,
   "id": "a75c8e0c",
   "metadata": {},
   "outputs": [],
   "source": [
    "tod = []\n",
    "for i in range(24):\n",
    "    tod.append(str(i) + ':00 to ' + str(i+1) + ':00')\n",
    "\n",
    "plt.figure(figsize =(16,8),dpi=600)\n",
    "\n",
    "plt.plot(tod, list_avg_vmt_T, label='MUDs');\n",
    "plt.plot(tod, list_avg_vmt_F, label='Others');\n",
    "#plt.plot(tod, avg_vmt[0], label='Alls');\n",
    "\n",
    "plt.xlabel('Time of day (hrs)', fontsize=20)\n",
    "plt.ylabel('Average VMT (miles)', fontsize=20)\n",
    "plt.xticks(fontsize=18,rotation=45)\n",
    "plt.yticks(fontsize=18)\n",
    "plt.title('Time-of-day average VMT per household trip', fontsize=28)\n",
    "plt.legend(loc='upper right',fontsize=24)\n",
    "\n",
    "\n",
    "plt.show()"
   ]
  },
  {
   "cell_type": "markdown",
   "id": "c220ec57",
   "metadata": {},
   "source": [
    "### Distribution of dwell time"
   ]
  },
  {
   "cell_type": "code",
   "execution_count": null,
   "id": "2dcee323",
   "metadata": {},
   "outputs": [],
   "source": [
    "### Drop arrows where \"VEHID\" == \"-9\"&\"-1\", which means \"Not ascertained\" and \"Appropriate skip\" respectively\n",
    "trip17_pred_veh_determined = trip17_pred[trip17_pred['VEHID'] != -1]\n",
    "trip17_pred_veh_determined = trip17_pred_veh_determined[trip17_pred_veh_determined['VEHID'] != -9]"
   ]
  },
  {
   "cell_type": "code",
   "execution_count": null,
   "id": "d3cfd98e",
   "metadata": {},
   "outputs": [],
   "source": [
    "trip17_pred_veh_determined[['HOUSEID','VEHID']].head()"
   ]
  },
  {
   "cell_type": "code",
   "execution_count": null,
   "id": "a17a0444",
   "metadata": {},
   "outputs": [],
   "source": [
    "type(trip17_pred_veh_determined['WHYTRP1S'])"
   ]
  },
  {
   "cell_type": "code",
   "execution_count": null,
   "id": "19a64721",
   "metadata": {},
   "outputs": [],
   "source": [
    "### classification of \"WHYTRP1S\", which is \"Trip purpose summary\"\n",
    "trip17_pred_veh_determined['WHYTRP1S_GENERAL'] = np.where(trip17_pred_veh_determined['WHYTRP1S']== 1, 'Home', \n",
    "                                             np.where(trip17_pred_veh_determined['WHYTRP1S']== 10, 'Work','Public'))\n"
   ]
  },
  {
   "cell_type": "code",
   "execution_count": null,
   "id": "788f7f5f",
   "metadata": {},
   "outputs": [],
   "source": [
    "### analyze time before the starttime of the first trip, use \n",
    "### \"WHYFROM\", which is \"Trip Origin Purpose\"\n",
    "trip17_pred_veh_determined['WHYFROM_GENERAL'] = np.where((trip17_pred_veh_determined['WHYFROM']== 1) | (trip17_pred_veh_determined['WHYFROM']== 2), 'Home', \n",
    "                                             np.where((trip17_pred_veh_determined['WHYFROM']== 3) | (trip17_pred_veh_determined['WHYFROM']== 4), 'Work','Public'))\n"
   ]
  },
  {
   "cell_type": "code",
   "execution_count": null,
   "id": "4b2f315d",
   "metadata": {},
   "outputs": [],
   "source": [
    "trip17_pred_veh_determined[['HOUSEID','VEHID','WHYTRP1S_GENERAL','WHYFROM_GENERAL']].head()"
   ]
  },
  {
   "cell_type": "code",
   "execution_count": null,
   "id": "eb21c3b2",
   "metadata": {},
   "outputs": [],
   "source": [
    "trip17_pred_veh_determined.drop(columns='PERSONID',inplace=True)"
   ]
  },
  {
   "cell_type": "code",
   "execution_count": null,
   "id": "59e7dc4c",
   "metadata": {},
   "outputs": [],
   "source": [
    "trip17_pred_veh_determined.head()"
   ]
  },
  {
   "cell_type": "code",
   "execution_count": null,
   "id": "b28d1c2d",
   "metadata": {},
   "outputs": [],
   "source": [
    "trip17_pred_veh_determined.drop_duplicates(subset=['HOUSEID','TDTRPNUM','STRTTIME','ENDTIME',\n",
    "                                                  ],inplace = True)"
   ]
  },
  {
   "cell_type": "code",
   "execution_count": null,
   "id": "a88b7490",
   "metadata": {},
   "outputs": [],
   "source": [
    "trip17_pred_veh_determined.head(20)"
   ]
  },
  {
   "cell_type": "code",
   "execution_count": null,
   "id": "f807444f",
   "metadata": {},
   "outputs": [],
   "source": [
    "# trip17_pred_veh_determined = trip17_pred_veh_determined[trip17_pred_veh_determined.DWELTIME != -9]"
   ]
  },
  {
   "cell_type": "code",
   "execution_count": null,
   "id": "640712ff",
   "metadata": {},
   "outputs": [],
   "source": [
    "### pick out the columns needed for location classification during time of day \n",
    "### from the whole \"trip17_pred_veh_determined\" dataframe\n",
    "trip17_pred_veh_determined_part = trip17_pred_veh_determined[['HOUSEID','VEHID','STRTTIME','ENDTIME','TRVLCMIN','DWELTIME','WHYFROM_GENERAL','WHYTRP1S_GENERAL','MUDs_Predict_OW','CENSUS_D']]\n",
    "trip17_pred_veh_determined_part = trip17_pred_veh_determined_part.groupby(['HOUSEID','VEHID'], as_index=False).agg(lambda x: list(x))"
   ]
  },
  {
   "cell_type": "code",
   "execution_count": null,
   "id": "6f341f46",
   "metadata": {},
   "outputs": [],
   "source": [
    "type(trip17_pred_veh_determined_part)"
   ]
  },
  {
   "cell_type": "code",
   "execution_count": null,
   "id": "3abda983",
   "metadata": {},
   "outputs": [],
   "source": [
    "temp = trip17_pred_veh_determined[trip17_pred_veh_determined['HOUSEID'] \n",
    "                                      == trip17_pred_veh_determined_part.loc[4,'HOUSEID']]\n",
    "temp.reset_index(inplace=True)\n",
    "temp"
   ]
  },
  {
   "cell_type": "code",
   "execution_count": null,
   "id": "88d94762",
   "metadata": {},
   "outputs": [],
   "source": [
    "\n",
    "trip17_pred_veh_determined_part_1 = trip17_pred_veh_determined_part\n",
    "trip17_pred_veh_determined_part_1.reset_index(inplace=True)\n",
    "\n",
    "for k in range(len(trip17_pred_veh_determined_part_1)):\n",
    "    temp = trip17_pred_veh_determined[trip17_pred_veh_determined['HOUSEID'] \n",
    "                                      == trip17_pred_veh_determined_part_1.loc[k,'HOUSEID']]\n",
    "    temp.reset_index(inplace=True)\n",
    "    for i in range(24):\n",
    "        for count in range(len(temp)):\n",
    "            ### trip time in a hour\n",
    "            if ((temp.loc[count,'STRTTIME']>=i*100) & (temp.loc[count,'ENDTIME']<=(i+1)*100)):\n",
    "                trip17_pred_veh_determined_part_1.loc[k,'location_hr_'+str(i+1)] = 'Driving'\n",
    "                #aks[i]='Driving'\n",
    "            ### trip time over a hour\n",
    "            if ((temp.loc[count,'STRTTIME']<=i*100) & (temp.loc[count,'ENDTIME']>=(i+0)*100)):\n",
    "                trip17_pred_veh_determined_part_1.loc[k,'location_hr_'+str(i+1)] = 'Driving'\n",
    "                #aks[i]='Driving'\n",
    "            if count+2<=len(temp):\n",
    "                if ((i*100 >= temp.loc[count,'ENDTIME']) & (i*100 <= temp.loc[count+1,'STRTTIME'])):\n",
    "                    trip17_pred_veh_determined_part_1.loc[k,'location_hr_'+str(i+1)] = temp.loc[count,'WHYTRP1S_GENERAL']\n",
    "                    #aks[i]=temp.loc[count,'WHYTRP1S_GENERAL']\n",
    "        if (temp.loc[0,'STRTTIME']>i*100):\n",
    "            trip17_pred_veh_determined_part_1.loc[k,'location_hr_'+str(i+1)] = temp.loc[0,'WHYFROM_GENERAL']\n",
    "            #aks[i]=temp.loc[0,'WHYFROM_GENERAL']\n",
    "        if (temp.tail(1)['ENDTIME'].to_list()[0] < i*100):\n",
    "            trip17_pred_veh_determined_part_1.loc[k,'location_hr_'+str(i+1)] = temp.loc[len(temp)-1,'WHYTRP1S_GENERAL']\n",
    "            #aks[i]=temp.tail(1)['WHYTRP1S_GENERAL'].to_list()[0]\n",
    "    \n",
    "for i in tqdm (range (101),  \n",
    "               desc=\"Loading…\",  \n",
    "               ascii=False, ncols=75): \n",
    "    time.sleep(0.01) \n",
    "print(\"Complete.\") \n",
    "    \n",
    "\n"
   ]
  },
  {
   "cell_type": "code",
   "execution_count": null,
   "id": "9ba660cd",
   "metadata": {},
   "outputs": [],
   "source": [
    "# trip17_pred_veh_determined_part_1.to_csv('trip17_pred_veh_determined_part_1.csv')"
   ]
  },
  {
   "cell_type": "markdown",
   "id": "39db5a85",
   "metadata": {},
   "source": [
    "plot figure 3"
   ]
  },
  {
   "cell_type": "code",
   "execution_count": null,
   "id": "76763b18",
   "metadata": {},
   "outputs": [],
   "source": [
    "# trip17_pred_veh_determined_part_1 = pd.read_csv('outputs/trip17_pred_veh_determined_part_1.csv')"
   ]
  },
  {
   "cell_type": "code",
   "execution_count": null,
   "id": "83dc313b",
   "metadata": {},
   "outputs": [],
   "source": [
    "dwell_process = trip17_pred_veh_determined_part_1[['HOUSEID','VEHID','MUDs_Predict_OW',\n",
    "                                                  'location_hr_1','location_hr_2','location_hr_3','location_hr_4',\n",
    "                                                  'location_hr_5','location_hr_6','location_hr_7','location_hr_8',\n",
    "                                                  'location_hr_9','location_hr_10','location_hr_11','location_hr_12',\n",
    "                                                  'location_hr_13','location_hr_14','location_hr_15',\n",
    "                                                  'location_hr_16','location_hr_17','location_hr_18',\n",
    "                                                  'location_hr_19','location_hr_20','location_hr_21',\n",
    "                                                  'location_hr_22','location_hr_23','location_hr_24']]"
   ]
  },
  {
   "cell_type": "code",
   "execution_count": null,
   "id": "34a449eb",
   "metadata": {},
   "outputs": [],
   "source": [
    "dwell_process.head()"
   ]
  },
  {
   "cell_type": "code",
   "execution_count": null,
   "id": "5d494023",
   "metadata": {},
   "outputs": [],
   "source": [
    "dwell_process.iloc[0,:]=='Home'"
   ]
  },
  {
   "cell_type": "code",
   "execution_count": null,
   "id": "e1216a3f",
   "metadata": {},
   "outputs": [],
   "source": [
    "for i in range(len(dwell_process)):\n",
    "    dwell_process.loc[i,'DWELL_HOME'] = sum(dwell_process.iloc[i,:]=='Home')"
   ]
  },
  {
   "cell_type": "code",
   "execution_count": null,
   "id": "5ecce48b",
   "metadata": {},
   "outputs": [],
   "source": [
    "for i in range(len(dwell_process)):\n",
    "    dwell_process.loc[i,'DWELL_WORK'] = sum(dwell_process.iloc[i,:]=='Work')"
   ]
  },
  {
   "cell_type": "code",
   "execution_count": null,
   "id": "6a989310",
   "metadata": {},
   "outputs": [],
   "source": [
    "for i in range(len(dwell_process)):\n",
    "    dwell_process.loc[i,'DWELL_PUBLIC'] = sum(dwell_process.iloc[i,:]=='Public')"
   ]
  },
  {
   "cell_type": "code",
   "execution_count": null,
   "id": "b122c5c6",
   "metadata": {},
   "outputs": [],
   "source": [
    "dwell_process.head(10)"
   ]
  },
  {
   "cell_type": "code",
   "execution_count": null,
   "id": "30f26b0a",
   "metadata": {},
   "outputs": [],
   "source": [
    "dwell_process['MUDs_Predict_OW'] = dwell_process['MUDs_Predict_OW'].astype(int)"
   ]
  },
  {
   "cell_type": "code",
   "execution_count": null,
   "id": "8a53dfb8",
   "metadata": {},
   "outputs": [],
   "source": [
    "mask = dwell_process.MUDs_Predict_OW.apply(lambda x: 1.0 in x)\n",
    "dwell_process_mud = dwell_process[mask]\n",
    "# dwell_process_mud = dwell_process[dwell_process['MUDs_Predict_OW']==1.0]"
   ]
  },
  {
   "cell_type": "code",
   "execution_count": null,
   "id": "eec5e31d",
   "metadata": {},
   "outputs": [],
   "source": [
    "mask = dwell_process.MUDs_Predict_OW.apply(lambda x: 0.0 in x)\n",
    "dwell_process_other = dwell_process[mask]\n",
    "# dwell_process_other = dwell_process[dwell_process['MUDs_Predict_OW']==0.0]"
   ]
  },
  {
   "cell_type": "code",
   "execution_count": null,
   "id": "6b6b05aa",
   "metadata": {},
   "outputs": [],
   "source": [
    "dwell_process_other.head()"
   ]
  },
  {
   "cell_type": "code",
   "execution_count": null,
   "id": "d970eabc",
   "metadata": {},
   "outputs": [],
   "source": [
    "dwell_process_mud_home = dwell_process_mud['DWELL_HOME']\n",
    "dwell_process_mud_work = dwell_process_mud['DWELL_WORK']\n",
    "dwell_process_mud_public = dwell_process_mud['DWELL_PUBLIC']\n",
    "\n",
    "dwell_process_other_home = dwell_process_other['DWELL_HOME']\n",
    "dwell_process_other_work = dwell_process_other['DWELL_WORK']\n",
    "dwell_process_other_public = dwell_process_other['DWELL_PUBLIC']"
   ]
  },
  {
   "cell_type": "code",
   "execution_count": null,
   "id": "49eb6358",
   "metadata": {},
   "outputs": [],
   "source": [
    "dwell_process_mud_home.head()"
   ]
  },
  {
   "cell_type": "code",
   "execution_count": null,
   "id": "0f86e405",
   "metadata": {},
   "outputs": [],
   "source": [
    "######################################################################################################\n",
    "# REVISION:\n",
    "######################################################################################################\n",
    "fig = plt.figure(figsize = (16,8),dpi=600)\n",
    "p1=sns.kdeplot(dwell_process_mud_home, shade=True, label = 'Home of MUDs',color = '#0000FF')\n",
    "p1=sns.kdeplot(dwell_process_mud_work, shade=True,label = 'Workplace of MUDs',color = '#FF0000')\n",
    "p1=sns.kdeplot(dwell_process_mud_public, shade=True,label = 'Public of MUDs',color ='#008000')\n",
    "p1=sns.kdeplot(dwell_process_other_home, shade=True,label = 'Home of others',color = '#87CEFA',linestyle=\"--\")\n",
    "p1=sns.kdeplot(dwell_process_other_work, shade=True,label = 'Workplace of others',color ='#FFA07A',linestyle=\"--\")\n",
    "p1=sns.kdeplot(dwell_process_other_public, shade=True, label = 'Public of others',color = '#7CFC00',linestyle=\"--\")\n",
    "plt.title('Distribution of dwell time', fontsize=28)\n",
    "plt.xlabel('Time of day (hrs)',fontsize=20);\n",
    "plt.ylabel('Density',fontsize=20);\n",
    "plt.xticks(fontsize=18);\n",
    "plt.yticks(fontsize=18);\n",
    "plt.legend(loc='best',fontsize=20)\n",
    "plt.show();\n",
    "# plt.savefig('FIGURE3.png',dpi=600)"
   ]
  },
  {
   "cell_type": "markdown",
   "id": "b2dbb4aa",
   "metadata": {},
   "source": [
    "plot figure 4"
   ]
  },
  {
   "cell_type": "code",
   "execution_count": null,
   "id": "343d9a21",
   "metadata": {},
   "outputs": [],
   "source": [
    "# trip17_pred_veh_determined_part_1 = pd.read_csv('outputs/trip17_pred_veh_determined_part_1.csv')\n",
    "trip17_pred_veh_determined_part_1.head()"
   ]
  },
  {
   "cell_type": "code",
   "execution_count": null,
   "id": "4ea63cb8",
   "metadata": {},
   "outputs": [],
   "source": [
    "trip17_pred_veh_determined_part_1.drop(columns=['Unnamed: 0','index'],inplace=True)\n",
    "trip17_pred_veh_determined_part_1.head()"
   ]
  },
  {
   "cell_type": "code",
   "execution_count": null,
   "id": "3f1e9b7b",
   "metadata": {},
   "outputs": [],
   "source": [
    "trip17_pred_veh_determined_part_mud = trip17_pred_veh_determined_part_1[pd.Series(list(list(\n",
    "    itertools.zip_longest(*trip17_pred_veh_determined_part_1['MUDs_Predict_OW']))[0])) == 1.0]\n",
    "trip17_pred_veh_determined_part_other = trip17_pred_veh_determined_part_1[pd.Series(list(list(\n",
    "    itertools.zip_longest(*trip17_pred_veh_determined_part_1['MUDs_Predict_OW']))[0])) == 0.0]"
   ]
  },
  {
   "cell_type": "code",
   "execution_count": null,
   "id": "b182596c",
   "metadata": {},
   "outputs": [],
   "source": [
    "labels = []\n",
    "for i in range(24):\n",
    "    labels.append(str(i) + ':00 to ' + str(i+1) + ':00')\n",
    "home_share_mud = []\n",
    "work_share_mud = []\n",
    "public_share_mud = []\n",
    "driving_share_mud = []\n",
    "home_share_other = []\n",
    "work_share_other = []\n",
    "public_share_other = []\n",
    "driving_share_other = []\n",
    "for i in range(24):\n",
    "    home_mud = len(trip17_pred_veh_determined_part_mud[trip17_pred_veh_determined_part_mud['location_hr_'+str(i+1)]\n",
    "                                                       == 'Home'])/len(trip17_pred_veh_determined_part_mud)\n",
    "    home_share_mud.append(home_mud)\n",
    "    work_mud = len(trip17_pred_veh_determined_part_mud[trip17_pred_veh_determined_part_mud['location_hr_'+str(i+1)]\n",
    "                                                       == 'Work'])/len(trip17_pred_veh_determined_part_mud)\n",
    "    work_share_mud.append(work_mud)\n",
    "    public_mud = len(trip17_pred_veh_determined_part_mud[trip17_pred_veh_determined_part_mud['location_hr_'+str(i+1)]\n",
    "                                                       == 'Public'])/len(trip17_pred_veh_determined_part_mud)\n",
    "    public_share_mud.append(public_mud)\n",
    "    driving_mud = len(trip17_pred_veh_determined_part_mud[trip17_pred_veh_determined_part_mud['location_hr_'+str(i+1)]\n",
    "                                                       == 'Driving'])/len(trip17_pred_veh_determined_part_mud)\n",
    "    driving_share_mud.append(driving_mud)\n",
    "    \n",
    "#     home_other = len(trip17_pred_veh_determined_part_other[trip17_pred_veh_determined_part_other['location_hr_'+str(i+1)]\n",
    "#                                                        == 'Home'])/len(trip17_pred_veh_determined_part_other)\n",
    "#     home_share_other.append(home_other)\n",
    "    work_other = len(trip17_pred_veh_determined_part_other[trip17_pred_veh_determined_part_other['location_hr_'+str(i+1)]\n",
    "                                                       == 'Work'])/len(trip17_pred_veh_determined_part_other)\n",
    "    work_share_other.append(work_other)\n",
    "    public_other = len(trip17_pred_veh_determined_part_other[trip17_pred_veh_determined_part_other['location_hr_'+str(i+1)]\n",
    "                                                       == 'Public'])/len(trip17_pred_veh_determined_part_other)\n",
    "    public_share_other.append(public_other)\n",
    "    driving_other = len(trip17_pred_veh_determined_part_other[trip17_pred_veh_determined_part_other['location_hr_'+str(i+1)]\n",
    "                                                       == 'Driving'])/len(trip17_pred_veh_determined_part_other)\n",
    "    driving_share_other.append(driving_other)\n",
    "    home_other = 1-work_other-public_other-driving_other\n",
    "    home_share_other.append(home_other)\n",
    "    "
   ]
  },
  {
   "cell_type": "code",
   "execution_count": null,
   "id": "64d74346",
   "metadata": {},
   "outputs": [],
   "source": [
    "home_share_mud_100 = []\n",
    "for item in home_share_mud:\n",
    "    home_share_mud_100.append(item*100)\n",
    "home_share_mud = home_share_mud_100\n",
    "\n",
    "home_share_other_100 = []\n",
    "for item in home_share_other:\n",
    "    home_share_other_100.append(item*100)\n",
    "home_share_other = home_share_other_100\n",
    "\n",
    "driving_share_mud_100 = []\n",
    "for item in driving_share_mud:\n",
    "    driving_share_mud_100.append(item*100)\n",
    "driving_share_mud = driving_share_mud_100\n",
    "\n",
    "driving_share_other_100 = []\n",
    "for item in driving_share_other:\n",
    "    driving_share_other_100.append(item*100)\n",
    "driving_share_other = driving_share_other_100\n",
    "\n",
    "work_share_mud_100 = []\n",
    "for item in work_share_mud:\n",
    "    work_share_mud_100.append(item*100)\n",
    "work_share_mud = work_share_mud_100\n",
    "\n",
    "work_share_other_100 = []\n",
    "for item in work_share_other:\n",
    "    work_share_other_100.append(item*100)\n",
    "work_share_other = work_share_other_100\n",
    "\n",
    "public_share_mud_100 = []\n",
    "for item in public_share_mud:\n",
    "    public_share_mud_100.append(item*100)\n",
    "public_share_mud = public_share_mud_100\n",
    "\n",
    "public_share_other_100 = []\n",
    "for item in public_share_other:\n",
    "    public_share_other_100.append(item*100)\n",
    "public_share_other = public_share_other_100"
   ]
  },
  {
   "cell_type": "code",
   "execution_count": null,
   "id": "6c19a01c",
   "metadata": {},
   "outputs": [],
   "source": [
    "bar12 = np.add(home_share_mud, driving_share_mud).tolist()\n",
    "bar123 = np.add(bar12, work_share_mud).tolist()\n",
    "\n",
    "bar12other = np.add(home_share_other, driving_share_other).tolist()\n",
    "bar123other = np.add(bar12other, work_share_other).tolist()\n",
    "    \n",
    "x = np.arange(len(labels))  # the label locations\n",
    "width = 0.35       # the width of the bars: can also be len(x) sequence\n",
    "\n",
    "\n",
    "fig = plt.figure(figsize=(16, 8),dpi=600)\n",
    "\n",
    "plt.bar(x-width/2, home_share_mud, width, label='Home of MUDs',color='#00008B')\n",
    "plt.bar(x-width/2, driving_share_mud, width, bottom=home_share_mud, label='Driving of MUDs',color='#0000FF')\n",
    "plt.bar(x-width/2, work_share_mud, width, bottom=bar12, label='Work of MUDs',color='#00BFFF')\n",
    "plt.bar(x-width/2, public_share_mud, width, bottom=bar123, label='Public of MUDs',color='#B0E0E6')\n",
    "\n",
    "plt.bar(x+width/2, home_share_other, width, label='Home of others',color='#8B0000')\n",
    "plt.bar(x+width/2, driving_share_other, width, bottom=home_share_other, label='Driving of others',color='#FF0000')\n",
    "plt.bar(x+width/2, work_share_other, width, bottom=bar12other, label='Work of others',color='#F08080')\n",
    "plt.bar(x+width/2, public_share_other, width, bottom=bar123other, label='Public of others',color='#FFA07A')\n",
    "\n",
    "\n",
    "#df.plot.bar(ax=axes[1], stacked=True)\n",
    "\n",
    "# plt.xticks(Rotation=45) \n",
    "plt.xlabel('Time of day (hrs)',fontsize=20)\n",
    "plt.ylabel('Percentage of vehicles (%)',fontsize=20)\n",
    "plt.xticks(fontsize=18, rotation=45)\n",
    "plt.yticks(fontsize=18)\n",
    "plt.title('Status and location of vehicles per time of day',fontsize=28)\n",
    "plt.legend(loc='upper left', bbox_to_anchor=(0.95, 1.025), fontsize=16)\n",
    "\n",
    "plt.show()\n",
    "# fig.savefig('FIGURE_4.png',dpi=600)"
   ]
  },
  {
   "cell_type": "code",
   "execution_count": null,
   "id": "867b4a7a",
   "metadata": {},
   "outputs": [],
   "source": []
  }
 ],
 "metadata": {
  "kernelspec": {
   "display_name": "Python 3 (ipykernel)",
   "language": "python",
   "name": "python3"
  },
  "language_info": {
   "codemirror_mode": {
    "name": "ipython",
    "version": 3
   },
   "file_extension": ".py",
   "mimetype": "text/x-python",
   "name": "python",
   "nbconvert_exporter": "python",
   "pygments_lexer": "ipython3",
   "version": "3.9.12"
  }
 },
 "nbformat": 4,
 "nbformat_minor": 5
}
