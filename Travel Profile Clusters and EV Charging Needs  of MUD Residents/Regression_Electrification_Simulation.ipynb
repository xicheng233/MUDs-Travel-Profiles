{
 "cells": [
  {
   "cell_type": "code",
   "execution_count": null,
   "metadata": {
    "id": "1L8P_Tqb00eQ"
   },
   "outputs": [],
   "source": [
    "%matplotlib inline\n",
    "%config InlineBackend.figure_format = 'retina'\n",
    "\n",
    "import pandas as pd\n",
    "import numpy as np\n",
    "from matplotlib import pyplot as plt\n",
    "from matplotlib.ticker import FuncFormatter\n",
    "from os.path import abspath\n",
    "import re\n",
    "import os\n",
    "import matplotlib.image\n",
    "from functools import partial\n",
    "from IPython.display import Image\n",
    "from sklearn import linear_model\n",
    "from statistics import median \n",
    "import plotly.offline as py\n",
    "import seaborn as sns\n",
    "import plotly.figure_factory as ff\n",
    "import pingouin as pg\n",
    "\n",
    "WEIGHT = 'WTPERFIN'"
   ]
  },
  {
   "cell_type": "markdown",
   "metadata": {},
   "source": [
    "Regression for Census Division & Incomes"
   ]
  },
  {
   "cell_type": "code",
   "execution_count": null,
   "metadata": {},
   "outputs": [],
   "source": [
    "incCensus = pd.read_excel('UnitInStructure.xlsx', sheet_name = 'linearRegression',header =None,index_col=0)\n",
    "incCensus.reset_index(inplace = True)"
   ]
  },
  {
   "cell_type": "code",
   "execution_count": null,
   "metadata": {},
   "outputs": [],
   "source": [
    "incCensus"
   ]
  },
  {
   "cell_type": "code",
   "execution_count": null,
   "metadata": {},
   "outputs": [],
   "source": [
    "incCensus.loc[14,0] = 162500"
   ]
  },
  {
   "cell_type": "code",
   "execution_count": null,
   "metadata": {},
   "outputs": [],
   "source": [
    "#incCensus"
   ]
  },
  {
   "cell_type": "code",
   "execution_count": null,
   "metadata": {},
   "outputs": [],
   "source": [
    "arr = np.zeros(((len(incCensus.index)-1)*(len(incCensus.columns)-1), 3))\n",
    "print(arr.shape)\n",
    "incCensus.iloc[1,0]"
   ]
  },
  {
   "cell_type": "code",
   "execution_count": null,
   "metadata": {},
   "outputs": [],
   "source": [
    "for i in range(len(incCensus.index)-1):\n",
    "    for j in range(len(incCensus.columns)-1):\n",
    "        arr[j+i*(len(incCensus.columns)-1)][0] = incCensus.iloc[i+1,0]\n",
    "        arr[j+i*(len(incCensus.columns)-1)][1] = incCensus.iloc[0,j+1]\n",
    "        arr[j+i*(len(incCensus.columns)-1)][2] = incCensus.iloc[i+1,j+1]\n"
   ]
  },
  {
   "cell_type": "code",
   "execution_count": null,
   "metadata": {},
   "outputs": [],
   "source": [
    "arr\n",
    "linPre = pd.DataFrame(arr,columns=['HHIncomes', 'CensusDivisions', 'MUDsShares'])\n",
    "linPre\n",
    "linPre_2 = linPre"
   ]
  },
  {
   "cell_type": "code",
   "execution_count": null,
   "metadata": {},
   "outputs": [],
   "source": [
    "import statsmodels.api as sm\n",
    "model = sm.OLS(linPre[['MUDsShares']], linPre[['HHIncomes','CensusDivisions']])\n",
    "results = model.fit()\n",
    "print(results.summary())"
   ]
  },
  {
   "cell_type": "code",
   "execution_count": null,
   "metadata": {},
   "outputs": [],
   "source": [
    "# We have a categorical variable 'Census Divisions' which has 9 values, so we should only be using 8 dummy variables. \n",
    "# 'Pacific Division' becomes the reference category, in the case that the other dummy variables are all 0, \n",
    "# then by default the variable would be 'Pacific Division'.\n",
    "division_list = ['NewEngland','MiddleAtlantic','EastNorthCentral','WestNorthCentral',\\\n",
    "                 'SouthAtlantic','EastSouthCentral','WestSouthCentral','Mountain']\n",
    "for i, item in enumerate(division_list):\n",
    "    linPre_2[item] = np.where(linPre_2['CensusDivisions']== i+1, 0, 1)"
   ]
  },
  {
   "cell_type": "code",
   "execution_count": null,
   "metadata": {
    "scrolled": true
   },
   "outputs": [],
   "source": [
    "#linPre_2"
   ]
  },
  {
   "cell_type": "code",
   "execution_count": null,
   "metadata": {},
   "outputs": [],
   "source": [
    "# reg = linear_model.LinearRegression()\n",
    "# reg.fit(linPre[['Incomes', 'Census Divisions']],linPre[['MUDs Shares']])\n",
    "# print(reg.coef_)\n",
    "# print(reg.intercept_)"
   ]
  },
  {
   "cell_type": "code",
   "execution_count": null,
   "metadata": {},
   "outputs": [],
   "source": [
    "#x0.head()"
   ]
  },
  {
   "cell_type": "code",
   "execution_count": null,
   "metadata": {},
   "outputs": [],
   "source": [
    "# x0 = trip17_MUD_C.loc[:,[\"HHIncomes\",\"NewEngland\",\"MiddleAtlantic\",\"EastNorthCentral\",\"WestNorthCentral\",\"SouthAtlantic\",\"EastSouthCentral\",\"WestSouthCentral\",\"Mountain\"]]\n",
    "# x0 = sm.tools.add_constant(pd.DataFrame(x0).T)\n",
    "# results_3.predict(x0)\n"
   ]
  },
  {
   "cell_type": "code",
   "execution_count": null,
   "metadata": {
    "scrolled": false
   },
   "outputs": [],
   "source": [
    "import statsmodels.api as sm\n",
    "import statsmodels.formula.api as smf\n",
    "model2 = smf.ols(formula = \"MUDsShares ~ HHIncomes + NewEngland+MiddleAtlantic+EastNorthCentral+\\\n",
    "                 WestNorthCentral+SouthAtlantic+EastSouthCentral+WestSouthCentral+Mountain+\\\n",
    "                 HHIncomes:NewEngland+HHIncomes:MiddleAtlantic+HHIncomes:EastNorthCentral+HHIncomes:WestNorthCentral+\\\n",
    "                 HHIncomes:SouthAtlantic+HHIncomes:EastSouthCentral+HHIncomes:WestSouthCentral+HHIncomes:Mountain\",data=linPre_2)\n",
    "results_3 = model2.fit()\n",
    "#print(results_3.summary())\n",
    "#print('p-values are: \\n',results_3.pvalues)\n",
    "# do either\n",
    "print(results_3.summary().as_latex())\n",
    "with open('summary_with_interaction_terms.txt', 'w') as fh:\n",
    "    fh.write(results_3.summary().as_latex())\n",
    "# alternatively\n",
    "# for table in results.summary().tables:\n",
    "#     print(table.as_latex_tabular())"
   ]
  },
  {
   "cell_type": "code",
   "execution_count": null,
   "metadata": {
    "scrolled": false
   },
   "outputs": [],
   "source": [
    "\n",
    "import statsmodels.api as sm\n",
    "X = sm.add_constant(linPre_2[['HHIncomes']+division_list])\n",
    "model = sm.OLS(linPre_2[['MUDsShares']], X)\n",
    "results_2 = model.fit()\n",
    "#print(results_2.summary())\n",
    "print(results_2.summary().as_latex())\n",
    "with open('summary_no_interaction_terms.txt', 'w') as fh:\n",
    "    fh.write(results_2.summary().as_latex())\n",
    "#print('p-values are: \\n',results_2.pvalues)"
   ]
  },
  {
   "cell_type": "code",
   "execution_count": null,
   "metadata": {},
   "outputs": [],
   "source": [
    "pg.corr(x=linPre_2['HHIncomes'], y=linPre_2['NewEngland'])"
   ]
  },
  {
   "cell_type": "code",
   "execution_count": null,
   "metadata": {},
   "outputs": [],
   "source": [
    "pg.pairwise_corr(linPre_2).sort_values(by=['p-unc'])[['X', 'Y', 'n', 'r', 'p-unc']].head()"
   ]
  },
  {
   "cell_type": "code",
   "execution_count": null,
   "metadata": {},
   "outputs": [],
   "source": [
    "linPre_2"
   ]
  },
  {
   "cell_type": "code",
   "execution_count": null,
   "metadata": {},
   "outputs": [],
   "source": [
    "linPre_2_2 = linPre_2.drop(columns='CensusDivisions')\n",
    "linPre_2_2.head()"
   ]
  },
  {
   "cell_type": "code",
   "execution_count": null,
   "metadata": {},
   "outputs": [],
   "source": [
    "linPre_2_2.corr().round(2)"
   ]
  },
  {
   "cell_type": "code",
   "execution_count": null,
   "metadata": {},
   "outputs": [],
   "source": [
    "corrs = linPre_2_2.corr()\n",
    "mask = np.zeros_like(corrs)\n",
    "mask[np.triu_indices_from(mask)] = True\n",
    "plt.figure(figsize=(20,10))\n",
    "sns.heatmap(corrs, cmap='Spectral_r', mask=mask, square=True, vmin=-.8, vmax=.3)\n",
    "plt.title('Correlation matrix')"
   ]
  },
  {
   "cell_type": "code",
   "execution_count": null,
   "metadata": {
    "colab": {
     "base_uri": "https://localhost:8080/",
     "height": 164
    },
    "id": "BaX196rX00eb",
    "outputId": "1a5e3d4d-4af1-48c4-c59c-dd5954a606ef"
   },
   "outputs": [],
   "source": [
    "# pers17 = pd.read_csv('NHTS-daily travel patterns/Csv/perpub.csv')"
   ]
  },
  {
   "cell_type": "code",
   "execution_count": null,
   "metadata": {
    "id": "6bA6lKAh00ee",
    "outputId": "82358696-2581-4c97-91cf-ebb27788f94e"
   },
   "outputs": [],
   "source": [
    "# pers17.head()"
   ]
  },
  {
   "cell_type": "code",
   "execution_count": null,
   "metadata": {
    "id": "z7EOlxRO00eh",
    "outputId": "b27c9b25-7b28-44c7-8ef4-c975cb3755bf"
   },
   "outputs": [],
   "source": [
    "#veh17 = pd.read_csv('NHTS-daily travel patterns/Csv/vehpub.csv')\n",
    "#veh17.head()"
   ]
  },
  {
   "cell_type": "code",
   "execution_count": null,
   "metadata": {
    "colab": {
     "base_uri": "https://localhost:8080/",
     "height": 224
    },
    "id": "8fj1bL9H00ej",
    "outputId": "01f0e7a3-b0ca-4c15-b07e-49b4bf9e91cd",
    "scrolled": false
   },
   "outputs": [],
   "source": [
    "trip17 = pd.read_csv('trippub.csv')\n",
    "trip17.head()"
   ]
  },
  {
   "cell_type": "code",
   "execution_count": null,
   "metadata": {},
   "outputs": [],
   "source": [
    "type(trip17.loc[0,'CENSUS_D'])"
   ]
  },
  {
   "cell_type": "markdown",
   "metadata": {},
   "source": [
    "pick out only one primary vehicle for each household to generate the sub-dataset of original trip data."
   ]
  },
  {
   "cell_type": "code",
   "execution_count": null,
   "metadata": {},
   "outputs": [],
   "source": [
    "trip17_1pv = trip17.groupby(['HOUSEID','VEHID'], as_index=False)['VMT_MILE'].sum()"
   ]
  },
  {
   "cell_type": "code",
   "execution_count": null,
   "metadata": {},
   "outputs": [],
   "source": [
    "trip17_process=trip17_1pv.groupby(['HOUSEID']).agg(list)"
   ]
  },
  {
   "cell_type": "code",
   "execution_count": null,
   "metadata": {},
   "outputs": [],
   "source": [
    "trip17_process['freq_car_index']=trip17_process.agg(lambda x: x['VEHID'][np.argmax(x['VMT_MILE'])],axis=1)"
   ]
  },
  {
   "cell_type": "code",
   "execution_count": null,
   "metadata": {},
   "outputs": [],
   "source": [
    "trip17_process=trip17_process.reset_index()"
   ]
  },
  {
   "cell_type": "code",
   "execution_count": null,
   "metadata": {},
   "outputs": [],
   "source": [
    "trip17_process.head()"
   ]
  },
  {
   "cell_type": "code",
   "execution_count": null,
   "metadata": {},
   "outputs": [],
   "source": [
    "trip17.head()"
   ]
  },
  {
   "cell_type": "code",
   "execution_count": null,
   "metadata": {},
   "outputs": [],
   "source": [
    "trip17_final=trip17.merge(trip17_process[['HOUSEID','freq_car_index']],on=['HOUSEID'],how='left')"
   ]
  },
  {
   "cell_type": "code",
   "execution_count": null,
   "metadata": {},
   "outputs": [],
   "source": [
    "trip17_final['selected_car']=trip17_final['freq_car_index']==trip17_final['VEHID']"
   ]
  },
  {
   "cell_type": "code",
   "execution_count": null,
   "metadata": {},
   "outputs": [],
   "source": [
    "trip17_final[['freq_car_index','VEHID','selected_car']].head()"
   ]
  },
  {
   "cell_type": "code",
   "execution_count": null,
   "metadata": {},
   "outputs": [],
   "source": [
    "trip17_final = trip17_final[trip17_final['selected_car'] == True]"
   ]
  },
  {
   "cell_type": "code",
   "execution_count": null,
   "metadata": {},
   "outputs": [],
   "source": [
    "trip17_final.head()"
   ]
  },
  {
   "cell_type": "code",
   "execution_count": null,
   "metadata": {},
   "outputs": [],
   "source": [
    "trip_inter = trip17_final.groupby(['HOUSEID','VEHID','HHFAMINC','CENSUS_D'], as_index=False)['VMT_MILE'].sum()"
   ]
  },
  {
   "cell_type": "code",
   "execution_count": null,
   "metadata": {},
   "outputs": [],
   "source": [
    "#trip_inter.head()"
   ]
  },
  {
   "cell_type": "code",
   "execution_count": null,
   "metadata": {},
   "outputs": [],
   "source": [
    "for i, item in enumerate(division_list):\n",
    "    trip_inter[item] = np.where(trip_inter['CENSUS_D']== i+1, 0, 1)\n",
    "#trip_inter.head()"
   ]
  },
  {
   "cell_type": "code",
   "execution_count": null,
   "metadata": {},
   "outputs": [],
   "source": [
    "trip_inter.loc[:, 'const'] = 1"
   ]
  },
  {
   "cell_type": "code",
   "execution_count": null,
   "metadata": {},
   "outputs": [],
   "source": [
    "income = (5000, 12500, 20000, 30000, 40000, 62500, 87500,112500, 137500, 175000, 250000) \n",
    "#trip17_MUD_C.loc[:, 'MUDs_Predict'] = 0\n",
    "trip_inter.loc[:, 'HHIncomes'] = 0\n",
    "for i in range(11):\n",
    "    trip_inter['HHIncomes'].mask(trip_inter['HHFAMINC'] == i+1, income[i], inplace=True)\n",
    "trip_inter[trip_inter['HHIncomes'] == 0] = median(income)"
   ]
  },
  {
   "cell_type": "code",
   "execution_count": null,
   "metadata": {},
   "outputs": [],
   "source": [
    "Xnew = [trip_inter['const'],trip_inter['HHIncomes'],trip_inter[division_list[0]],trip_inter[division_list[1]],\\\n",
    "            trip_inter[division_list[2]],trip_inter[division_list[3]], trip_inter[division_list[4]],\\\n",
    "            trip_inter[division_list[5]], trip_inter[division_list[6]], trip_inter[division_list[7]]]\n",
    "   "
   ]
  },
  {
   "cell_type": "code",
   "execution_count": null,
   "metadata": {},
   "outputs": [],
   "source": [
    "Xnew=np.array(Xnew)"
   ]
  },
  {
   "cell_type": "code",
   "execution_count": null,
   "metadata": {
    "scrolled": true
   },
   "outputs": [],
   "source": [
    "Xnew.shape"
   ]
  },
  {
   "cell_type": "code",
   "execution_count": null,
   "metadata": {},
   "outputs": [],
   "source": [
    "X = sm.add_constant(Xnew)"
   ]
  },
  {
   "cell_type": "code",
   "execution_count": null,
   "metadata": {},
   "outputs": [],
   "source": [
    "X.shape"
   ]
  },
  {
   "cell_type": "code",
   "execution_count": null,
   "metadata": {},
   "outputs": [],
   "source": [
    "results_2.predict(X[:,132])"
   ]
  },
  {
   "cell_type": "code",
   "execution_count": null,
   "metadata": {},
   "outputs": [],
   "source": [
    "trip_inter.loc[:, 'MUDs_Predict'] = 0\n",
    "for i in range(len(trip_inter)):\n",
    "    trip_inter.loc[i,'MUDs_Predict'] = results_2.predict(X[:,i])[0]"
   ]
  },
  {
   "cell_type": "code",
   "execution_count": null,
   "metadata": {
    "scrolled": false
   },
   "outputs": [],
   "source": [
    "#trip_inter.head()"
   ]
  },
  {
   "cell_type": "code",
   "execution_count": null,
   "metadata": {},
   "outputs": [],
   "source": [
    "## Predict corresponding MUDs share for trip takers\n",
    "## merge MUD or others from AHS with the share of MUD in different CENSUS DIVISION\n",
    "\n",
    "random_lists = []\n",
    "for i in range(len(trip_inter)):\n",
    "    if trip_inter.loc[i,'MUDs_Predict'] >= 1:\n",
    "        #print(i)\n",
    "        random_lists.append(1)\n",
    "    elif trip_inter.loc[i,'MUDs_Predict'] > 0 :\n",
    "        #print(i)\n",
    "        random_lists.append(np.random.choice([1, 0], p=[trip_inter.loc[i,'MUDs_Predict'], 1-trip_inter.loc[i,'MUDs_Predict']]))\n",
    "    else:\n",
    "        random_lists.append(0)\n",
    "trip_inter['MUDs_Predict_OW'] = random_lists\n",
    "\n"
   ]
  },
  {
   "cell_type": "code",
   "execution_count": null,
   "metadata": {},
   "outputs": [],
   "source": [
    "random_lists = []\n",
    "for i in range(len(trip_inter)):\n",
    "    if trip_inter.loc[i,'MUDs_Predict'] >= 1:\n",
    "        #print(i)\n",
    "        random_lists.append(1)\n",
    "    elif trip_inter.loc[i,'MUDs_Predict'] > 0 :\n",
    "        #print(i)\n",
    "        random_lists.append(np.random.choice([1, 0], p=[trip_inter.loc[i,'MUDs_Predict'], 1-trip_inter.loc[i,'MUDs_Predict']]))\n",
    "    else:\n",
    "        random_lists.append(0)\n",
    "trip_inter['MUDs_Predict_OW_1'] = random_lists\n",
    "\n",
    "\n"
   ]
  },
  {
   "cell_type": "code",
   "execution_count": null,
   "metadata": {
    "scrolled": true
   },
   "outputs": [],
   "source": [
    "trip_inter['MUDs_Predict_OW'].value_counts()"
   ]
  },
  {
   "cell_type": "code",
   "execution_count": null,
   "metadata": {},
   "outputs": [],
   "source": [
    "###### Multiple times (9 times) of simulation with the randomized assignment\n",
    "count = 2\n",
    "while (count < 10):\n",
    "    random_lists = []\n",
    "    for i in range(len(trip_inter)):\n",
    "        if trip_inter.loc[i,'MUDs_Predict'] >= 1:\n",
    "            #print(i)\n",
    "            random_lists.append(1)\n",
    "        elif trip_inter.loc[i,'MUDs_Predict'] > 0 :\n",
    "            #print(i)\n",
    "            random_lists.append(np.random.choice([1, 0], p=[trip_inter.loc[i,'MUDs_Predict'], 1-trip_inter.loc[i,'MUDs_Predict']]))\n",
    "        else:\n",
    "            random_lists.append(0)\n",
    "    trip_inter['MUDs_Predict_OW_'+str(count)] = random_lists\n",
    "    count += 1\n",
    "    "
   ]
  },
  {
   "cell_type": "code",
   "execution_count": null,
   "metadata": {},
   "outputs": [],
   "source": [
    "MUDs_no_lists = []\n",
    "MUDs_no_lists.append(trip_inter['MUDs_Predict_OW'].sum())\n",
    "for count in range(1,10):\n",
    "    MUDs_no_lists.append(trip_inter['MUDs_Predict_OW_'+str(count)].sum())"
   ]
  },
  {
   "cell_type": "code",
   "execution_count": null,
   "metadata": {},
   "outputs": [],
   "source": [
    "MUDs_no_lists"
   ]
  },
  {
   "cell_type": "code",
   "execution_count": null,
   "metadata": {},
   "outputs": [],
   "source": [
    "###### (Expanding) Multiple times (90 times) of simulation with the randomized assignment\n",
    "count = 10\n",
    "while (count < 100):\n",
    "    random_lists = []\n",
    "    for i in range(len(trip_inter)):\n",
    "        if trip_inter.loc[i,'MUDs_Predict'] >= 1:\n",
    "            #print(i)\n",
    "            random_lists.append(1)\n",
    "        elif trip_inter.loc[i,'MUDs_Predict'] > 0 :\n",
    "            #print(i)\n",
    "            random_lists.append(np.random.choice([1, 0], p=[trip_inter.loc[i,'MUDs_Predict'], 1-trip_inter.loc[i,'MUDs_Predict']]))\n",
    "        else:\n",
    "            random_lists.append(0)\n",
    "    trip_inter['MUDs_Predict_OW_'+str(count)] = random_lists\n",
    "    MUDs_no_lists.append(trip_inter['MUDs_Predict_OW_'+str(count)].sum())\n",
    "    count += 1\n",
    "    "
   ]
  },
  {
   "cell_type": "code",
   "execution_count": null,
   "metadata": {
    "scrolled": true
   },
   "outputs": [],
   "source": [
    "trip_inter.head()"
   ]
  },
  {
   "cell_type": "code",
   "execution_count": null,
   "metadata": {},
   "outputs": [],
   "source": [
    "# the first simulation\n",
    "simu = trip_inter.loc[:,'MUDs_Predict_OW':'MUDs_Predict_OW_1']"
   ]
  },
  {
   "cell_type": "code",
   "execution_count": null,
   "metadata": {
    "scrolled": true
   },
   "outputs": [],
   "source": [
    "# 100 simulation\n",
    "simu = trip_inter.loc[:,'MUDs_Predict_OW':'MUDs_Predict_OW_99']"
   ]
  },
  {
   "cell_type": "code",
   "execution_count": null,
   "metadata": {},
   "outputs": [],
   "source": [
    "simu.insert(loc = 0, \n",
    "          column = 'HOUSEID', \n",
    "          value = trip_inter['HOUSEID']) "
   ]
  },
  {
   "cell_type": "code",
   "execution_count": null,
   "metadata": {},
   "outputs": [],
   "source": [
    "#simu.head()"
   ]
  },
  {
   "cell_type": "code",
   "execution_count": null,
   "metadata": {},
   "outputs": [],
   "source": [
    "# simu.to_csv('new_simulation_result_income_162500.csv',index=False)"
   ]
  },
  {
   "cell_type": "code",
   "execution_count": null,
   "metadata": {},
   "outputs": [],
   "source": [
    "trip17_pred=trip17_final.merge(simu,on=['HOUSEID'],how='left')"
   ]
  },
  {
   "cell_type": "code",
   "execution_count": null,
   "metadata": {
    "scrolled": true
   },
   "outputs": [],
   "source": [
    "trip17_pred.head()"
   ]
  },
  {
   "cell_type": "markdown",
   "metadata": {},
   "source": [
    "check each division has approximate MUDs share from the simulation"
   ]
  },
  {
   "cell_type": "code",
   "execution_count": null,
   "metadata": {},
   "outputs": [],
   "source": [
    "division_list_9 = ['New England','Middle Atlantic','East North Central','West North Central',\\\n",
    "                 'South Atlantic','East South Central','West South Central','Mountain','Pacific']"
   ]
  },
  {
   "cell_type": "code",
   "execution_count": null,
   "metadata": {},
   "outputs": [],
   "source": [
    "trip17_pred_uni = trip17_pred.groupby(['HOUSEID','CENSUS_D'], as_index=False)['MUDs_Predict_OW'].mean()"
   ]
  },
  {
   "cell_type": "code",
   "execution_count": null,
   "metadata": {},
   "outputs": [],
   "source": [
    "#trip17_pred_uni.head()"
   ]
  },
  {
   "cell_type": "code",
   "execution_count": null,
   "metadata": {},
   "outputs": [],
   "source": [
    "division = trip17_pred_uni[trip17_pred_uni['CENSUS_D'] == 0+3]\n",
    "division['MUDs_Predict_OW'].value_counts()"
   ]
  },
  {
   "cell_type": "code",
   "execution_count": null,
   "metadata": {},
   "outputs": [],
   "source": [
    "MUD_share = []\n",
    "for i in range(9):\n",
    "    division = trip17_pred_uni[trip17_pred_uni['CENSUS_D'] == i+1]\n",
    "    temp = division['MUDs_Predict_OW'].value_counts().tolist()[1]/sum(division['MUDs_Predict_OW'].value_counts().tolist())\n",
    "    temp = round(temp, 3)\n",
    "    MUD_share.append(temp)\n",
    "    print('MUDs share of',division_list_9[i],'division is: ',MUD_share[i])"
   ]
  },
  {
   "cell_type": "code",
   "execution_count": null,
   "metadata": {},
   "outputs": [],
   "source": [
    "fig, ax = plt.subplots(figsize=(8,5)) \n",
    "ax.bar(division_list_9,MUD_share)\n",
    "ax.set_title('MUDs Share per Census Division')\n",
    "\n",
    "for tick in ax.get_xticklabels():\n",
    "    tick.set_rotation(45)\n",
    "#ax.set_rotation(rotation=45)"
   ]
  },
  {
   "cell_type": "markdown",
   "metadata": {},
   "source": [
    "## Space-Time Path"
   ]
  },
  {
   "cell_type": "code",
   "execution_count": null,
   "metadata": {},
   "outputs": [],
   "source": [
    "trip17_pred.head(20)"
   ]
  },
  {
   "cell_type": "code",
   "execution_count": null,
   "metadata": {},
   "outputs": [],
   "source": [
    "trip17_pred_MUD = trip17_pred[trip17_pred['MUDs_Predict_OW'] == 1]"
   ]
  },
  {
   "cell_type": "code",
   "execution_count": null,
   "metadata": {
    "scrolled": false
   },
   "outputs": [],
   "source": [
    "trip17_pred_MUD.head(20)"
   ]
  },
  {
   "cell_type": "code",
   "execution_count": null,
   "metadata": {},
   "outputs": [],
   "source": [
    "part_trip17_pred_MUD = trip17_pred_MUD[['HOUSEID','PERSONID','VEHID','STRTTIME','ENDTIME','TRVLCMIN','TRPMILES','WHYTRP1S']]\n",
    "part_trip17_pred_MUD.head()"
   ]
  },
  {
   "cell_type": "code",
   "execution_count": null,
   "metadata": {},
   "outputs": [],
   "source": [
    "part_trip17_pred_MUD['WHYTRP1S'] = np.where(part_trip17_pred_MUD['WHYTRP1S']== 1, 'Home', \n",
    "                                             np.where(part_trip17_pred_MUD['WHYTRP1S']== 10, 'Work','Public'))\n",
    "\n",
    "part_trip17_pred_MUD.head()"
   ]
  },
  {
   "cell_type": "code",
   "execution_count": null,
   "metadata": {},
   "outputs": [],
   "source": [
    "part_trip17_pred_MUD.head(30)"
   ]
  },
  {
   "cell_type": "code",
   "execution_count": null,
   "metadata": {},
   "outputs": [],
   "source": [
    "# case: HOUSEID == 30000161 [can be taken as housewife]\n",
    "trip17_pred_MUD_case_1 = part_trip17_pred_MUD[part_trip17_pred_MUD['HOUSEID'] == 30000161]\n",
    "trip17_pred_MUD_case_1"
   ]
  },
  {
   "cell_type": "code",
   "execution_count": null,
   "metadata": {},
   "outputs": [],
   "source": [
    "# case: HOUSEID == 30000265 [can be taken as normal worker]\n",
    "trip17_pred_MUD_case_2 = part_trip17_pred_MUD[part_trip17_pred_MUD['HOUSEID'] == 30000265]\n",
    "trip17_pred_MUD_case_2"
   ]
  },
  {
   "cell_type": "code",
   "execution_count": null,
   "metadata": {},
   "outputs": [],
   "source": []
  },
  {
   "cell_type": "code",
   "execution_count": null,
   "metadata": {},
   "outputs": [],
   "source": [
    "trip17_MUD_C = trip17_final\n",
    "division_list = ['NewEngland','MiddleAtlantic','EastNorthCentral','WestNorthCentral',\\\n",
    "                 'SouthAtlantic','EastSouthCentral','WestSouthCentral','Mountain']\n",
    "for i, item in enumerate(division_list):\n",
    "    trip17_MUD_C[item] = np.where(trip17_MUD_C['CENSUS_D']== i+1, 0, 1)\n",
    "trip17_MUD_C.head()"
   ]
  },
  {
   "cell_type": "code",
   "execution_count": null,
   "metadata": {},
   "outputs": [],
   "source": [
    "# Normolize income with median value\n",
    "income = (5000, 12500, 20000, 30000, 40000, 62500, 87500,112500, 137500, 175000, 250000) \n",
    "#trip17_MUD_C.loc[:, 'MUDs_Predict'] = 0\n",
    "trip17_MUD_C.loc[:, 'HHIncomes'] = 0\n",
    "for i in range(11):\n",
    "    trip17_MUD_C['HHIncomes'].mask(trip17_MUD_C['HHFAMINC'] == i+1, income[i], inplace=True)\n",
    "trip17_MUD_C[trip17_MUD_C['HHIncomes'] == 0] = median(income)\n",
    "# for i in range(len(trip17_MUD_C)):\n",
    "#     # get predicted MUDs share for each trip taker\n",
    "#     Xnew = [trip17_MUD_C.loc[i, 'HHIncomes'],trip17_MUD_C.loc[i, division_list[0]],trip17_MUD_C.loc[i, division_list[1]],\\\n",
    "#             trip17_MUD_C.loc[i, division_list[2]],trip17_MUD_C.loc[i, division_list[3]], trip17_MUD_C.loc[i, division_list[4]],\\\n",
    "#             trip17_MUD_C.loc[i, division_list[5]], trip17_MUD_C.loc[i, division_list[6]], trip17_MUD_C.loc[i, division_list[7]]]\n",
    "#     trip17_MUD_C.loc[i,'MUDs_Predict'] = results_2.predict(Xnew)[0]"
   ]
  },
  {
   "cell_type": "code",
   "execution_count": null,
   "metadata": {},
   "outputs": [],
   "source": [
    "Xnew = [trip17_MUD_C['HHIncomes'],trip17_MUD_C[division_list[0]],trip17_MUD_C[division_list[1]],\\\n",
    "            trip17_MUD_C[division_list[2]],trip17_MUD_C[division_list[3]], trip17_MUD_C[division_list[4]],\\\n",
    "            trip17_MUD_C[division_list[5]], trip17_MUD_C[division_list[6]], trip17_MUD_C[division_list[7]]]\n",
    "   "
   ]
  },
  {
   "cell_type": "code",
   "execution_count": null,
   "metadata": {},
   "outputs": [],
   "source": [
    "x0=np.array(x0)"
   ]
  },
  {
   "cell_type": "code",
   "execution_count": null,
   "metadata": {},
   "outputs": [],
   "source": [
    "x0.shape"
   ]
  },
  {
   "cell_type": "code",
   "execution_count": null,
   "metadata": {},
   "outputs": [],
   "source": [
    "Xnew=np.array(Xnew)"
   ]
  },
  {
   "cell_type": "code",
   "execution_count": null,
   "metadata": {},
   "outputs": [],
   "source": [
    "results_3.predict(120000,1,1,1,1,1,1,0,1)"
   ]
  },
  {
   "cell_type": "code",
   "execution_count": null,
   "metadata": {},
   "outputs": [],
   "source": [
    "prediction = results_3.get_prediction(exog=dict(x0[0,:])) "
   ]
  },
  {
   "cell_type": "code",
   "execution_count": null,
   "metadata": {},
   "outputs": [],
   "source": [
    "for i in range(len(trip17_MUD_C)):\n",
    "    trip17_MUD_C.loc[i,'MUDs_Predict'] = results_3.predict(x0[:,i])[0]"
   ]
  },
  {
   "cell_type": "code",
   "execution_count": null,
   "metadata": {},
   "outputs": [],
   "source": [
    "x0 = trip17_MUD_C.loc[:,(\"HHIncomes\",division_list[0],division_list[1],division_list[2],division_list[3],\\\n",
    "                         division_list[4],division_list[5],division_list[6],division_list[7])]\n",
    "x0 = sm.tools.add_constant(pd.DataFrame(x0).T)\n",
    "results_3.predict(x0)"
   ]
  },
  {
   "cell_type": "code",
   "execution_count": null,
   "metadata": {},
   "outputs": [],
   "source": [
    "trip17_MUD_C.loc[:, 'MUDs_Predict'] = ls"
   ]
  },
  {
   "cell_type": "code",
   "execution_count": null,
   "metadata": {},
   "outputs": [],
   "source": [
    "len(trip17_MUD_C)"
   ]
  },
  {
   "cell_type": "code",
   "execution_count": null,
   "metadata": {},
   "outputs": [],
   "source": [
    "paci = trip17_MUD_C[trip17_MUD_C['CENSUS_D']==9]\n",
    "paci['MUDs_Predict'].head(20)"
   ]
  },
  {
   "cell_type": "code",
   "execution_count": null,
   "metadata": {},
   "outputs": [],
   "source": [
    "paci['MUDs_Predict']"
   ]
  },
  {
   "cell_type": "code",
   "execution_count": null,
   "metadata": {},
   "outputs": [],
   "source": [
    "random_lists = []\n",
    "for i in range(len(paci)):\n",
    "    if paci.loc[i,'MUDs_Predict'] >= 1:\n",
    "        random_lists.append(1)\n",
    "    elif paci.loc[i,'MUDs_Predict'] > 0 :\n",
    "        #print(i)\n",
    "        random_lists.append(np.random.choice([1, 0], p=[paci.loc[i,'MUDs_Predict'], 1-paci.loc[i,'MUDs_Predict']]))\n",
    "    else:\n",
    "        random_lists.append(0)\n",
    "paci['MUDs_Predict_OW'] = random_lists\n"
   ]
  },
  {
   "cell_type": "code",
   "execution_count": null,
   "metadata": {
    "scrolled": false
   },
   "outputs": [],
   "source": [
    "len(trip17_MUD_C[trip17_MUD_C['CENSUS_D']==9])"
   ]
  },
  {
   "cell_type": "code",
   "execution_count": null,
   "metadata": {},
   "outputs": [],
   "source": [
    "trip17_MUD_C.head(20)"
   ]
  },
  {
   "cell_type": "code",
   "execution_count": null,
   "metadata": {},
   "outputs": [],
   "source": [
    "for i in range(len(trip17_MUD_C)):\n",
    "    trip17_MUD_C.loc[i,'MUDs_Predict'] = results_2.predict(Xnew[:,i])[0]"
   ]
  },
  {
   "cell_type": "code",
   "execution_count": null,
   "metadata": {},
   "outputs": [],
   "source": [
    "trip17_MUD_C.loc[:,'MUDs_Predict'].fillna(0)"
   ]
  },
  {
   "cell_type": "code",
   "execution_count": null,
   "metadata": {},
   "outputs": [],
   "source": [
    "## Predict corresponding MUDs share for trip takers\n",
    "## merge MUD or others from AHS with the share of MUD in different CENSUS DIVISION\n",
    "\n",
    "random_lists = []\n",
    "for i in range(len(trip17_MUD_C)):\n",
    "    if trip17_MUD_C.loc[i,'MUDs_Predict'] >= 1:\n",
    "        #print(i)\n",
    "        random_lists.append(1)\n",
    "    elif trip17_MUD_C.loc[i,'MUDs_Predict'] > 0 :\n",
    "        #print(i)\n",
    "        random_lists.append(np.random.choice([1, 0], p=[trip17_MUD_C.loc[i,'MUDs_Predict'], 1-trip17_MUD_C.loc[i,'MUDs_Predict']]))\n",
    "    else:\n",
    "        random_lists.append(0)\n",
    "trip17_MUD_C['MUDs_Predict_OW'] = random_lists\n"
   ]
  },
  {
   "cell_type": "markdown",
   "metadata": {},
   "source": [
    "### Multiple simulations to convince the robustness of the ranmized assignment"
   ]
  },
  {
   "cell_type": "code",
   "execution_count": null,
   "metadata": {},
   "outputs": [],
   "source": [
    "###### Multiple times (9 times) of simulation with the randomized assignment\n",
    "count = 1\n",
    "while (count < 10):\n",
    "    random_lists = []\n",
    "    for i in range(len(trip17_MUD_C)):\n",
    "        if trip17_MUD_C.loc[i,'MUDs_Predict'] >= 1:\n",
    "            #print(i)\n",
    "            random_lists.append(1)\n",
    "        elif trip17_MUD_C.loc[i,'MUDs_Predict'] > 0 :\n",
    "            #print(i)\n",
    "            random_lists.append(np.random.choice([1, 0], p=[trip17_MUD_C.loc[i,'MUDs_Predict'], 1-trip17_MUD_C.loc[i,'MUDs_Predict']]))\n",
    "        else:\n",
    "            random_lists.append(0)\n",
    "    trip17_MUD_C['MUDs_Predict_OW_'+str(count)] = random_lists\n",
    "    count += 1"
   ]
  },
  {
   "cell_type": "code",
   "execution_count": null,
   "metadata": {},
   "outputs": [],
   "source": [
    "trip17_MUD_C['MUDs_Predict_OW'].sum()"
   ]
  },
  {
   "cell_type": "code",
   "execution_count": null,
   "metadata": {},
   "outputs": [],
   "source": [
    "MUDs_no_lists = []\n",
    "MUDs_no_lists.append(trip17_MUD_C['MUDs_Predict_OW'].sum())\n",
    "for count in range(1,10):\n",
    "    MUDs_no_lists.append(trip17_MUD_C['MUDs_Predict_OW_'+str(count)].sum())"
   ]
  },
  {
   "cell_type": "code",
   "execution_count": null,
   "metadata": {
    "scrolled": true
   },
   "outputs": [],
   "source": [
    "print(median(MUDs_no_lists))\n",
    "import statistics\n",
    "statistics.stdev(MUDs_no_lists)"
   ]
  },
  {
   "cell_type": "code",
   "execution_count": null,
   "metadata": {},
   "outputs": [],
   "source": [
    "print(median(MUDs_no_lists))\n",
    "statistics.stdev(MUDs_no_lists)"
   ]
  },
  {
   "cell_type": "code",
   "execution_count": null,
   "metadata": {},
   "outputs": [],
   "source": [
    "sum(MUDs_no_lists)/(len(MUDs_no_lists))"
   ]
  },
  {
   "cell_type": "code",
   "execution_count": null,
   "metadata": {},
   "outputs": [],
   "source": [
    "simulation_result = trip17_MUD_C.loc[:,'MUDs_Predict_OW':'MUDs_Predict_OW_99']"
   ]
  },
  {
   "cell_type": "code",
   "execution_count": null,
   "metadata": {},
   "outputs": [],
   "source": [
    "simulation_result.head()"
   ]
  },
  {
   "cell_type": "code",
   "execution_count": null,
   "metadata": {},
   "outputs": [],
   "source": [
    "simulation_result.to_csv('simulation_result.csv',index=False)"
   ]
  },
  {
   "cell_type": "code",
   "execution_count": null,
   "metadata": {},
   "outputs": [],
   "source": [
    "df = pd.read_csv('simulation_result.csv')"
   ]
  },
  {
   "cell_type": "code",
   "execution_count": null,
   "metadata": {},
   "outputs": [],
   "source": [
    "df.head()"
   ]
  },
  {
   "cell_type": "code",
   "execution_count": null,
   "metadata": {},
   "outputs": [],
   "source": [
    "###### (Expanding) Multiple times (90 times) of simulation with the randomized assignment\n",
    "count = 10\n",
    "while (count < 100):\n",
    "    random_lists = []\n",
    "    for i in range(len(trip17_MUD_C)):\n",
    "        if trip17_MUD_C.loc[i,'MUDs_Predict'] >= 1:\n",
    "            #print(i)\n",
    "            random_lists.append(1)\n",
    "        elif trip17_MUD_C.loc[i,'MUDs_Predict'] > 0 :\n",
    "            #print(i)\n",
    "            random_lists.append(np.random.choice([1, 0], p=[trip17_MUD_C.loc[i,'MUDs_Predict'], 1-trip17_MUD_C.loc[i,'MUDs_Predict']]))\n",
    "        else:\n",
    "            random_lists.append(0)\n",
    "    trip17_MUD_C['MUDs_Predict_OW_'+str(count)] = random_lists\n",
    "    MUDs_no_lists.append(trip17_MUD_C['MUDs_Predict_OW_'+str(count)].sum())\n",
    "    count += 1"
   ]
  },
  {
   "cell_type": "code",
   "execution_count": null,
   "metadata": {},
   "outputs": [],
   "source": [
    "tod_trip17 = trip17"
   ]
  },
  {
   "cell_type": "code",
   "execution_count": null,
   "metadata": {},
   "outputs": [],
   "source": [
    "tod_trip17.sort_values(by='STRTTIME', ascending=True, na_position='first', inplace=True)"
   ]
  },
  {
   "cell_type": "code",
   "execution_count": null,
   "metadata": {},
   "outputs": [],
   "source": [
    "tod_trip17.head()"
   ]
  },
  {
   "cell_type": "markdown",
   "metadata": {},
   "source": [
    "### previous predictions exclusively considering income"
   ]
  },
  {
   "cell_type": "code",
   "execution_count": null,
   "metadata": {},
   "outputs": [],
   "source": [
    "## Predict corresponding MUDs share for trip takers\n",
    "income = (5000, 12500, 20000, 30000, 40000, 62500, 87500,112500, 137500, 175000, 250000) \n",
    "trip17_MUD = trip17\n",
    "trip17_MUD.loc[:, 'MUDs_Predict'] = 0\n",
    "trip17_MUD.loc[:, 'HHIncomes'] = 0\n",
    "for i in range(len(trip17_MUD)):\n",
    "    if trip17_MUD.loc[i, 'HHFAMINC'] == 1:\n",
    "        trip17_MUD.loc[i, 'HHIncomes'] = 5000\n",
    "    if trip17_MUD.loc[i, 'HHFAMINC'] == 2:\n",
    "        trip17_MUD.loc[i, 'HHIncomes'] = 12500\n",
    "    if trip17_MUD.loc[i, 'HHFAMINC'] == 3:\n",
    "        trip17_MUD.loc[i, 'HHIncomes'] = 20000\n",
    "    if trip17_MUD.loc[i, 'HHFAMINC'] == 4:\n",
    "        trip17_MUD.loc[i, 'HHIncomes'] = 30000\n",
    "    if trip17_MUD.loc[i, 'HHFAMINC'] == 5:\n",
    "        trip17_MUD.loc[i, 'HHIncomes'] = 40000\n",
    "    if trip17_MUD.loc[i, 'HHFAMINC'] == 6:\n",
    "        trip17_MUD.loc[i, 'HHIncomes'] = 62500\n",
    "    if trip17_MUD.loc[i, 'HHFAMINC'] == 7:\n",
    "        trip17_MUD.loc[i, 'HHIncomes'] = 87500\n",
    "    if trip17_MUD.loc[i, 'HHFAMINC'] == 8:\n",
    "        trip17_MUD.loc[i, 'HHIncomes'] = 112500\n",
    "    if trip17_MUD.loc[i, 'HHFAMINC'] == 9:\n",
    "        trip17_MUD.loc[i, 'HHIncomes'] = 137500\n",
    "    if trip17_MUD.loc[i, 'HHFAMINC'] == 10:\n",
    "        trip17_MUD.loc[i, 'HHIncomes'] = 175000\n",
    "    if trip17_MUD.loc[i, 'HHFAMINC'] == 11:\n",
    "        trip17_MUD.loc[i, 'HHIncomes'] = 250000\n",
    "    else:\n",
    "        trip17_MUD.loc[i, 'HHIncomes'] = median(income)\n",
    "    #trip17_MUD.loc[i,'MUD_OW'] = reg.predict([[87500,2]])[0][0]\n",
    "    trip17_MUD.loc[i,'MUDs_Predict'] = results.predict([trip17_MUD.loc[i, 'HHIncomes'],trip17_MUD.loc[i, 'CENSUS_D']])[0]"
   ]
  },
  {
   "cell_type": "code",
   "execution_count": null,
   "metadata": {},
   "outputs": [],
   "source": [
    "trip17_MUD"
   ]
  },
  {
   "cell_type": "code",
   "execution_count": null,
   "metadata": {},
   "outputs": [],
   "source": [
    "Prob_MUD = np.array([0.326,0.341,0.211,0.186,0.213,0.154,0.206,0.197,0.286])"
   ]
  },
  {
   "cell_type": "code",
   "execution_count": null,
   "metadata": {},
   "outputs": [],
   "source": [
    "for i in range(len(trip17_MUD)):\n",
    "    trip17_MUD.loc[i,'MUDs_Predict'] = reg.predict([[trip17_MUD.loc[i, 'HHIncomes'],trip17_MUD.loc[i, 'CENSUS_D']]])[0][0]\n",
    "    if trip17_MUD.loc[i,'MUDs_Predict'] < 0:\n",
    "        trip17_MUD.loc[i,'MUDs_Predict'] = Prob_MUD[trip17_MUD.loc[i,'CENSUS_D']-1]"
   ]
  },
  {
   "cell_type": "code",
   "execution_count": null,
   "metadata": {},
   "outputs": [],
   "source": [
    "## Predict corresponding MUDs share for trip takers\n",
    "## merge MUD or others from AHS with the share of MUD in different CENSUS DIVISION\n",
    "import time\n",
    "t1= time.time()\n",
    "trip17_MUD = trip17\n",
    "trip17_MUD.loc[:, 'MUDs_Predict_OW'] = 0\n",
    "\n",
    "mudsPredict= []\n",
    "#count = 11\n",
    "#while (count > 0):\n",
    "for i in range(len(trip17_MUD)): \n",
    "    trip17_MUD.loc[i,'MUDs_Predict_OW'] = np.random.choice([1, 0], p=[trip17_MUD.loc[i,'MUDs_Predict'],\n",
    "                                                          1-trip17_MUD.loc[i,'MUDs_Predict']])\n",
    "mudsPredict.append(trip17_MUD['MUDs_Predict_OW'].sum())\n",
    "#count-=1\n",
    "    \n",
    "t2= time.time()\n",
    "t=t2-t1\n",
    "print(t)\n",
    "print(mudsPredict)"
   ]
  },
  {
   "cell_type": "markdown",
   "metadata": {},
   "source": [
    "### previous predictions with fixed MUDs share by CENSUN DIVISION"
   ]
  },
  {
   "cell_type": "code",
   "execution_count": null,
   "metadata": {
    "colab": {
     "base_uri": "https://localhost:8080/"
    },
    "id": "NM8IEfdb00em",
    "outputId": "c40fd607-d4bf-4c5f-a18c-5324b94a3b75"
   },
   "outputs": [],
   "source": [
    "## merge MUD or others from AHS with the share of MUD in different CENSUS DIVISION\n",
    "import time\n",
    "t1= time.time()\n",
    "Prob_MUD = np.array([0.326,0.341,0.211,0.186,0.213,0.154,0.206,0.197,0.286])\n",
    "trip17_MUD = trip17\n",
    "trip17_MUD.loc[:, 'MUDs_OW'] = 0\n",
    "\n",
    "muds= []\n",
    "count = 11\n",
    "#while (count > 0):\n",
    "for i in range(len(trip17_MUD)): \n",
    "    trip17_MUD.loc[i,'MUDs_OW'] = np.random.choice([1, 0], p=[Prob_MUD[trip17_MUD.loc[i,'CENSUS_D']-1],\n",
    "                                                          1-Prob_MUD[trip17_MUD.loc[i,'CENSUS_D']-1]])\n",
    "muds.append(trip17_MUD['MUD_OW'].sum())\n",
    "count-=1\n",
    "    \n",
    "t2= time.time()\n",
    "t=t2-t1\n",
    "print(t)\n",
    "\n",
    "t2= time.time()\n",
    "t=t2-t1\n",
    "print(t)\n",
    "print(muds)"
   ]
  },
  {
   "cell_type": "code",
   "execution_count": null,
   "metadata": {
    "id": "Rfcp1Y-z00eo",
    "outputId": "31870710-ed5a-4e05-a112-eee931199276"
   },
   "outputs": [],
   "source": [
    "x = np.random.choice([1, 0], p=[0.2, 0.8])\n",
    "\n",
    "print(x)"
   ]
  },
  {
   "cell_type": "code",
   "execution_count": null,
   "metadata": {
    "id": "2Bjh8f9s00eq"
   },
   "outputs": [],
   "source": [
    "# trip17_MUD_True = trip17_MUD[trip17_MUD['MUD_OW'] == 1]\n",
    "# trip17_MUD_False = trip17_MUD[trip17_MUD['MUD_OW'] == 0]\n",
    "\n",
    "trip17_MUD_True_C = trip17_MUD_C[trip17_MUD_C['MUDs_Predict_OW'] == 1]\n",
    "trip17_MUD_False_C = trip17_MUD_C[trip17_MUD_C['MUDs_Predict_OW'] == 0]"
   ]
  },
  {
   "cell_type": "code",
   "execution_count": null,
   "metadata": {
    "colab": {
     "base_uri": "https://localhost:8080/",
     "height": 224
    },
    "id": "M1LwH-Nc00et",
    "outputId": "0c941ab9-37ec-4d71-b7ff-50622c7f7ef5"
   },
   "outputs": [],
   "source": [
    "trip17_MUD.head()"
   ]
  },
  {
   "cell_type": "code",
   "execution_count": null,
   "metadata": {
    "id": "Y6RB7Mrm00ev"
   },
   "outputs": [],
   "source": [
    "### new Trip Distance Distribution with new categrarical CENSUS DIVISIONS using Dummy Variables\n",
    "plt.style.use(\"fivethirtyeight\")\n",
    "\n",
    "trip17_MUD_True_C1 = trip17_MUD_True_C[trip17_MUD_True_C['TRPMILES']>0]\n",
    "\n",
    "trip17_MUD_True_C1 = trip17_MUD_True_C1[\n",
    "    np.abs(trip17_MUD_True_C1.TRPMILES - trip17_MUD_True_C1.TRPMILES.mean()) <= (3*trip17_MUD_True_C1.TRPMILES.std())\n",
    "]\n",
    "trip17_MUD_True_C1 = trip17_MUD_True_C1.groupby('TRPMILES').WTTRDFIN.sum().reset_index(name ='count')\n",
    "trip17_MUD_True_C1 = trip17_MUD_True_C1.groupby(pd.cut(trip17_MUD_True_C1.TRPMILES, bins=np.arange(trip17_MUD_True_C1.TRPMILES.min(), trip17_MUD_True_C1.TRPMILES.max(), step=10),include_lowest=True)).sum()\n",
    "trip17_MUD_True_C1 = trip17_MUD_True_C1.head(22)\n",
    "\n",
    "trip17_MUD_False_C1 = trip17_MUD_False_C[trip17_MUD_False_C['TRPMILES']>0]\n",
    "\n",
    "trip17_MUD_False_C1 = trip17_MUD_False_C1[\n",
    "    np.abs(trip17_MUD_False_C1.TRPMILES - trip17_MUD_False_C1.TRPMILES.mean()) <= (3*trip17_MUD_False_C1.TRPMILES.std())\n",
    "]\n",
    "trip17_MUD_False_C1 = trip17_MUD_False_C1.groupby('TRPMILES').WTTRDFIN.sum().reset_index(name ='count')\n",
    "trip17_MUD_False_C1 = trip17_MUD_False_C1.groupby(pd.cut(trip17_MUD_False_C1.TRPMILES, bins=np.arange(trip17_MUD_False_C1.TRPMILES.min(), trip17_MUD_False_C1.TRPMILES.max(), step=10),include_lowest=True)).sum()\n",
    "trip17_MUD_False_C1 = trip17_MUD_False_C1.head(22)\n",
    "\n",
    "\n",
    "\n",
    "width = 0.35       # the width of the bars: can also be len(x) sequence\n",
    "plt.figure(figsize =(20,12))\n",
    "\n",
    "plt.bar(TRPMILES, trip17_MUD_True_C1['count'], width, label='MUDs')\n",
    "plt.bar(TRPMILES, trip17_MUD_False_C1['count'], width, label='Others',bottom=np.array(trip17_MUD_True_1['count']) )\n",
    "\n",
    "plt.xlabel('TRPMILES(miles)')\n",
    "plt.ylabel('Counts of trips')\n",
    "plt.title('Trip distance in miles')\n",
    "plt.legend(loc='upper right')\n",
    "plt.xticks(rotation=45)\n",
    "\n",
    "plt.show()"
   ]
  },
  {
   "cell_type": "code",
   "execution_count": null,
   "metadata": {},
   "outputs": [],
   "source": [
    "simu_re = pd.read_csv('simulation_result.csv')"
   ]
  },
  {
   "cell_type": "code",
   "execution_count": null,
   "metadata": {
    "scrolled": true
   },
   "outputs": [],
   "source": [
    "simu_re.head()"
   ]
  },
  {
   "cell_type": "code",
   "execution_count": null,
   "metadata": {},
   "outputs": [],
   "source": [
    "simu_re.shape"
   ]
  },
  {
   "cell_type": "code",
   "execution_count": null,
   "metadata": {},
   "outputs": [],
   "source": [
    "trip17 = pd.read_csv('trippub.csv')\n",
    "trip17.head()"
   ]
  },
  {
   "cell_type": "code",
   "execution_count": null,
   "metadata": {},
   "outputs": [],
   "source": [
    "trip17.shape"
   ]
  },
  {
   "cell_type": "code",
   "execution_count": null,
   "metadata": {},
   "outputs": [],
   "source": [
    "trip17_MUD = trip17.join(simu_re, how=\"inner\")\n",
    "trip17_MUD.shape"
   ]
  },
  {
   "cell_type": "code",
   "execution_count": null,
   "metadata": {
    "scrolled": true
   },
   "outputs": [],
   "source": [
    "trip17_MUD.head()"
   ]
  },
  {
   "cell_type": "code",
   "execution_count": null,
   "metadata": {
    "id": "PsDWDU0J00ex"
   },
   "outputs": [],
   "source": [
    "# Drop all zero values of trip dataset\n",
    "trip17_MUD = trip17_MUD.loc[trip17_MUD.WTTRDFIN > 0]\n",
    "\n",
    "# Remove outliers which are not within 3 standard deviations from mean of trip dataset\n",
    "trip17_MUD = trip17_MUD[\n",
    "    np.abs(trip17_MUD.WTTRDFIN - trip17_MUD.WTTRDFIN.mean()) <= (3*trip17_MUD.WTTRDFIN.std())\n",
    "]"
   ]
  },
  {
   "cell_type": "markdown",
   "metadata": {},
   "source": [
    "100 runs of the semi-randomized process creating the MUDs and single family housing categories reporting:\n",
    "\n",
    "    descriptive statistics like daily vehicle miles traveled, percentage of time spend at home\n",
    "    distributions of vehicle miles traveled per time of day, etc. \n",
    "\n",
    "time of day analysis of travel patterns similar to my Transportation Research record paper for each housing category (single family housing and MUDs) as well as for different census divisions"
   ]
  },
  {
   "cell_type": "code",
   "execution_count": null,
   "metadata": {},
   "outputs": [],
   "source": [
    "trip17_MUD.shape"
   ]
  },
  {
   "cell_type": "code",
   "execution_count": null,
   "metadata": {},
   "outputs": [],
   "source": [
    "466346/(466346+212062+120576+45693+41295+11148+2518+1474+671+188+90+29+28+4)"
   ]
  },
  {
   "cell_type": "code",
   "execution_count": null,
   "metadata": {
    "scrolled": true
   },
   "outputs": [],
   "source": [
    "trip17_MUD['VEHID'].value_counts()"
   ]
  },
  {
   "cell_type": "code",
   "execution_count": null,
   "metadata": {},
   "outputs": [],
   "source": [
    "### Trip distance in miles for personally driven vehicle trips\n",
    "### new Trip Distance Distribution with new categrarical CENSUS DIVISIONS using Dummy Variables\n",
    "plt.style.use(\"seaborn\")\n",
    "font = {'family': 'serif',\n",
    "        'color':  'darkred',\n",
    "        'weight': 'normal',\n",
    "        'size': 16,\n",
    "        }\n",
    "trip17_MUD_vmt = trip17_MUD[trip17_MUD['VMT_MILE']>0]"
   ]
  },
  {
   "cell_type": "code",
   "execution_count": null,
   "metadata": {},
   "outputs": [],
   "source": [
    "trip17_MUD_vmt.shape"
   ]
  },
  {
   "cell_type": "markdown",
   "metadata": {},
   "source": [
    "Time of day process"
   ]
  },
  {
   "cell_type": "code",
   "execution_count": null,
   "metadata": {},
   "outputs": [],
   "source": [
    "trip17_MUD_vmt.head(1)"
   ]
  },
  {
   "cell_type": "code",
   "execution_count": null,
   "metadata": {},
   "outputs": [],
   "source": [
    "avg_vmt_T = [[0 for i in range(24)] for j in range(100)]\n",
    "avg_vmt_F = [[0 for i in range(24)] for j in range(100)]\n",
    "avg_vmt = [[0 for i in range(24)] for j in range(100)]\n",
    "\n",
    "trip17_MUD_vmt_T = trip17_MUD_vmt[trip17_MUD_vmt['MUDs_Predict_OW'] == 1]\n",
    "trip17_MUD_vmt_F = trip17_MUD_vmt[trip17_MUD_vmt['MUDs_Predict_OW'] == 0]\n",
    "\n",
    "#trip17_MUD_C['HHIncomes'].mask(trip17_MUD_C['HHFAMINC'] == i+1, income[i], inplace=True)\n",
    "for i in range(24):\n",
    "    avg_vmt_T[0][i] = trip17_MUD_vmt_T[(trip17_MUD_vmt_T['STRTTIME'] >= 100*i) & (trip17_MUD_vmt_T['STRTTIME']< 100*(i+1))].VMT_MILE.mean()\n",
    "    avg_vmt_F[0][i] = trip17_MUD_vmt_F[(trip17_MUD_vmt_F['STRTTIME'] >= 100*i) & (trip17_MUD_vmt_F['STRTTIME']< 100*(i+1))].VMT_MILE.mean()\n",
    "    avg_vmt[0][i] = trip17_MUD_vmt[(trip17_MUD_vmt['STRTTIME'] >= 100*i) & (trip17_MUD_vmt['STRTTIME']< 100*(i+1))].VMT_MILE.mean()\n",
    "    "
   ]
  },
  {
   "cell_type": "code",
   "execution_count": null,
   "metadata": {
    "scrolled": true
   },
   "outputs": [],
   "source": [
    "trip17_MUD_vmt.head()"
   ]
  },
  {
   "cell_type": "code",
   "execution_count": null,
   "metadata": {},
   "outputs": [],
   "source": [
    "for i in range(1,100):\n",
    "    trip17_MUD_vmt_T = trip17_MUD_vmt[trip17_MUD_vmt['MUDs_Predict_OW_'+str(i)] == 1]\n",
    "    trip17_MUD_vmt_F = trip17_MUD_vmt[trip17_MUD_vmt['MUDs_Predict_OW_'+str(i)] == 0]\n",
    "    for j in range(24):\n",
    "        avg_vmt_T[i][j] = trip17_MUD_vmt_T[(trip17_MUD_vmt_T['STRTTIME'] >= 100*j) & (trip17_MUD_vmt_T['STRTTIME']< 100*(j+1))].VMT_MILE.mean()\n",
    "        avg_vmt_F[i][j] = trip17_MUD_vmt_F[(trip17_MUD_vmt_F['STRTTIME'] >= 100*j) & (trip17_MUD_vmt_F['STRTTIME']< 100*(j+1))].VMT_MILE.mean()\n",
    "        avg_vmt[i][j] = trip17_MUD_vmt[(trip17_MUD_vmt['STRTTIME'] >= 100*j) & (trip17_MUD_vmt['STRTTIME']< 100*(j+1))].VMT_MILE.mean()\n",
    "    "
   ]
  },
  {
   "cell_type": "code",
   "execution_count": null,
   "metadata": {
    "scrolled": true
   },
   "outputs": [],
   "source": [
    "col_list = range(24)\n",
    "df_avg_vmt_T = pd.DataFrame(data=avg_vmt_T, columns=col_list)\n",
    "df_avg_vmt_F = pd.DataFrame(data=avg_vmt_F, columns=col_list)\n",
    "df_avg_vmt = pd.DataFrame(data=avg_vmt, columns=col_list)\n",
    "df_avg_vmt_T"
   ]
  },
  {
   "cell_type": "code",
   "execution_count": null,
   "metadata": {
    "scrolled": false
   },
   "outputs": [],
   "source": [
    "fig, axs = plt.subplots(nrows=2, ncols=2, figsize=(16, 12))\n",
    "fig.suptitle('Time of Day Average VMT for personally driven vehicle trips (Mile)', fontsize=28)\n",
    " \n",
    "# data required for plotting\n",
    "all_data = [df_avg_vmt_T[i] for i in range(24)]\n",
    "all_data_F = [df_avg_vmt_F[i] for i in range(24)]\n",
    "\n",
    "# plot violin plot\n",
    "axs[0][0].violinplot(all_data,\n",
    "                  showmeans=False,\n",
    "                  showmedians=True)\n",
    "axs[0][0].set_title('Violin plot',fontdict=font)\n",
    "\n",
    "# plot box plot\n",
    "axs[0][1].boxplot(all_data)\n",
    "axs[0][1].set_title('Box plot',fontdict=font)\n",
    "\n",
    "# plot violin plot\n",
    "axs[1][0].violinplot(all_data_F,\n",
    "                  showmeans=False,\n",
    "                  showmedians=True)\n",
    "#axs[1][0].set_title('Violin plot')\n",
    "\n",
    "# plot box plot\n",
    "axs[1][1].boxplot(all_data_F)\n",
    "#axs[1][1].set_title('Box plot')\n",
    "\n",
    "# adding horizontal grid lines\n",
    "for ax in axs[0]:\n",
    "    ax.yaxis.grid(True)\n",
    "    ax.set_xticks([y + 1 for y in range(len(all_data))])\n",
    "    \n",
    "    #ax.set_xlabel('Time of Day')\n",
    "axs[0][0].set_ylabel(\"VMT of MUDs' Residents\",fontdict=font)\n",
    "\n",
    "for ax in axs[1]:\n",
    "    ax.yaxis.grid(True)\n",
    "    ax.set_xticks([y + 1 for y in range(len(all_data_F))])\n",
    "    \n",
    "    ax.set_xlabel('Time of Day',fontdict=font)\n",
    "axs[1][0].set_ylabel(\"VMT of Others' Residents\",fontdict=font)\n",
    "    \n",
    "# add x-tick labels\n",
    "\n",
    "\n",
    "plt.setp(axs, xticks=[y + 1 for y in range(len(all_data))],\n",
    "         xticklabels=range(1,25))\n",
    "\n",
    "plt.show()"
   ]
  },
  {
   "cell_type": "code",
   "execution_count": null,
   "metadata": {},
   "outputs": [],
   "source": [
    "tod = []\n",
    "for i in range(24):\n",
    "    tod.append(str(i) + ':00 to ' + str(i+1) + ':00')\n",
    "\n",
    "col_list = tod\n",
    "stat_avg_vmt = pd.DataFrame(columns=col_list,index = ['mean of MUDs', 'std of MUDs', 'mean of Others','std of Others','mean of Alls','std of Alls'])\n",
    "stat_avg_vmt"
   ]
  },
  {
   "cell_type": "code",
   "execution_count": null,
   "metadata": {},
   "outputs": [],
   "source": [
    "for i in range(24):\n",
    "    stat_avg_vmt.iloc[0,i] = df_avg_vmt_T[i].mean()\n",
    "    stat_avg_vmt.iloc[1,i] = df_avg_vmt_T[i].std()\n",
    "    stat_avg_vmt.iloc[2,i] = df_avg_vmt_F[i].mean()\n",
    "    stat_avg_vmt.iloc[3,i] = df_avg_vmt_F[i].std()\n",
    "    stat_avg_vmt.iloc[4,i] = df_avg_vmt[i].mean()\n",
    "    stat_avg_vmt.iloc[5,i] = df_avg_vmt[i].std()\n",
    "stat_avg_vmt   "
   ]
  },
  {
   "cell_type": "code",
   "execution_count": null,
   "metadata": {
    "scrolled": false
   },
   "outputs": [],
   "source": [
    "tod = []\n",
    "for i in range(24):\n",
    "    tod.append(str(i) + ':00 to ' + str(i+1) + ':00')\n",
    "\n",
    "plt.figure(figsize =(20,12))\n",
    "\n",
    "plt.plot(tod, avg_vmt_T[0], label='MUDs');\n",
    "plt.plot(tod, avg_vmt_F[0], label='Others');\n",
    "#plt.plot(tod, avg_vmt[0], label='Alls');\n",
    "\n",
    "plt.xlabel('Time of day', fontdict=font)\n",
    "plt.ylabel('Average VMT (Miles)', fontdict=font)\n",
    "plt.title('Average VMTs of predicted MUDs', fontsize=28)\n",
    "plt.legend(loc='upper right')\n",
    "plt.xticks(rotation=45)\n",
    "\n",
    "plt.show()"
   ]
  },
  {
   "cell_type": "code",
   "execution_count": null,
   "metadata": {
    "scrolled": false
   },
   "outputs": [],
   "source": [
    "trip17_MUD_vmt_T = trip17_MUD_vmt[trip17_MUD_vmt['MUDs_Predict_OW'] == 1]\n",
    "trip17_MUD_vmt_F = trip17_MUD_vmt[trip17_MUD_vmt['MUDs_Predict_OW'] == 0]\n",
    "trip17_MUD_vmt_T = trip17_MUD_vmt_T[\n",
    "    np.abs(trip17_MUD_vmt_T.VMT_MILE - trip17_MUD_vmt_T.VMT_MILE.mean()) <= (3*trip17_MUD_vmt_T.VMT_MILE.std())\n",
    "]\n",
    "\n",
    "trip17_MUD_vmt_F = trip17_MUD_vmt_F[\n",
    "    np.abs(trip17_MUD_vmt_F.VMT_MILE - trip17_MUD_vmt_F.VMT_MILE.mean()) <= (3*trip17_MUD_vmt_F.VMT_MILE.std())\n",
    "]\n",
    "f, axes = plt.subplots(2, 1, figsize=(20, 16), sharex=True)\n",
    "#plt.figure(figsize =(20,12))\n",
    "\n",
    "sns.distplot(trip17_MUD_vmt_T['VMT_MILE'],ax=axes[0]);\n",
    "axes[0].set(xlabel='VMT (mile)', ylabel=\"Density\", title = 'VMT of MUDs')\n",
    "\n",
    "sns.distplot(trip17_MUD_vmt_F['VMT_MILE'],ax=axes[1],color=\"g\");\n",
    "axes[1].set(xlabel='VMT (mile)', ylabel=\"Density\", title = 'VMT of Others')\n",
    "#axes.legend(loc='upper right');\n",
    "f.suptitle('Distribution of Trip distance in miles for personally driven vehicle trips', fontsize=24);"
   ]
  },
  {
   "cell_type": "code",
   "execution_count": null,
   "metadata": {},
   "outputs": [],
   "source": [
    "\n",
    "trip17_MUD_vmt_T = trip17_MUD_vmt[trip17_MUD_vmt['MUDs_Predict_OW'] == 1]\n",
    "trip17_MUD_vmt_F = trip17_MUD_vmt[trip17_MUD_vmt['MUDs_Predict_OW'] == 0]\n",
    "\n",
    "\n",
    "trip17_MUD_vmt_T = trip17_MUD_vmt_T[\n",
    "    np.abs(trip17_MUD_vmt_T.VMT_MILE - trip17_MUD_vmt_T.VMT_MILE.mean()) <= (3*trip17_MUD_vmt_T.VMT_MILE.std())\n",
    "]\n",
    "trip17_MUD_vmt_T = trip17_MUD_vmt_T.groupby('VMT_MILE').WTTRDFIN.sum().reset_index(name ='count')\n",
    "trip17_MUD_vmt_T = trip17_MUD_vmt_T.groupby(pd.cut(trip17_MUD_vmt_T.VMT_MILE, bins=np.arange(trip17_MUD_vmt_T.VMT_MILE.min(), trip17_MUD_vmt_T.VMT_MILE.max(), step=10),include_lowest=True)).sum()\n",
    "trip17_MUD_vmt_T = trip17_MUD_vmt_T.append({'VMT_MILE': 0, 'count':0}, ignore_index=True)\n",
    "trip17_MUD_vmt_T = trip17_MUD_vmt_T.append({'VMT_MILE': 0, 'count':0}, ignore_index=True)\n",
    "\n",
    "\n",
    "trip17_MUD_vmt_F = trip17_MUD_vmt_F[\n",
    "    np.abs(trip17_MUD_vmt_F.VMT_MILE - trip17_MUD_vmt_F.VMT_MILE.mean()) <= (3*trip17_MUD_vmt_F.VMT_MILE.std())\n",
    "]\n",
    "trip17_MUD_vmt_F = trip17_MUD_vmt_F.groupby('VMT_MILE').WTTRDFIN.sum().reset_index(name ='count')\n",
    "trip17_MUD_vmt_F = trip17_MUD_vmt_F.groupby(pd.cut(trip17_MUD_vmt_F.VMT_MILE, bins=np.arange(trip17_MUD_vmt_F.VMT_MILE.min(), trip17_MUD_vmt_F.VMT_MILE.max(), step=10),include_lowest=True)).sum()\n",
    "\n",
    "VMT_MILE = []\n",
    "for i in range(10):\n",
    "    VMT_MILE.append(str(10*i) + ' to ' + str(10*(i+1)))\n",
    "\n",
    "x = np.arange(len(VMT_MILE))  # the label locations\n",
    "width = 0.35       # the width of the bars: can also be len(x) sequence\n",
    "\n",
    "fig, ax = plt.subplots(figsize = (16,8))\n",
    "\n",
    "# rects1 = ax.bar(x - width/2, men_means, width, label='Men')\n",
    "# rects2 = ax.bar(x - width/2, women_means, width, label='Women')\n",
    "\n",
    "# plt.bar(VMT_MILE, trip17_MUD_vmt_T['count'],x - width/2, width, label='MUDs');\n",
    "# plt.bar(VMT_MILE, trip17_MUD_vmt_F['count'],x + width/2, width, label='Others');\n",
    "\n",
    "ax.bar(x - width/2, trip17_MUD_vmt_T['count'], width, label='MUDs');\n",
    "ax.bar(x + width/2, trip17_MUD_vmt_F['count'], width, label='Others');\n",
    "\n",
    "ax.set_xlabel('VMT_MILE(miles)', fontdict=font)\n",
    "ax.set_ylabel('Counts of trips', fontdict=font)\n",
    "ax.set_title('Distribution of counts of Trip distance in miles for personally driven vehicle trips', fontdict=font)\n",
    "ax.legend(loc='upper right')\n",
    "#ax.xticks(rotation=45)\n",
    "ax.set_xticks(x)\n",
    "ax.set_xticklabels(VMT_MILE)\n",
    "\n",
    "plt.show()"
   ]
  },
  {
   "cell_type": "markdown",
   "metadata": {},
   "source": [
    "# Analysis based on only one primary vehicle for each household"
   ]
  },
  {
   "cell_type": "code",
   "execution_count": null,
   "metadata": {},
   "outputs": [],
   "source": [
    "trip17_MUD['VEHID'].value_counts()"
   ]
  },
  {
   "cell_type": "code",
   "execution_count": null,
   "metadata": {},
   "outputs": [],
   "source": [
    "# filtering exclusively one primary vehicle for each household \n",
    "# by \"vehid == 1\"\n",
    "trip17_MUD_1v = trip17_MUD[trip17_MUD['VEHID'] == 1]"
   ]
  },
  {
   "cell_type": "code",
   "execution_count": null,
   "metadata": {
    "scrolled": true
   },
   "outputs": [],
   "source": [
    "trip17_MUD_1v['VEHID'].value_counts()"
   ]
  },
  {
   "cell_type": "code",
   "execution_count": null,
   "metadata": {},
   "outputs": [],
   "source": [
    "### Trip distance in miles for personally driven vehicle trips\n",
    "### new Trip Distance Distribution with new categrarical CENSUS DIVISIONS using Dummy Variables\n",
    "plt.style.use(\"seaborn\")\n",
    "font = {'family': 'serif',\n",
    "        'color':  'darkred',\n",
    "        'weight': 'normal',\n",
    "        'size': 16,\n",
    "        }\n",
    "trip17_MUD_1v_vmt = trip17_MUD_1v[trip17_MUD_1v['VMT_MILE']>0]"
   ]
  },
  {
   "cell_type": "code",
   "execution_count": null,
   "metadata": {},
   "outputs": [],
   "source": [
    "avg_1v_vmt_T = [[0 for i in range(24)] for j in range(100)]\n",
    "avg_1v_vmt_F = [[0 for i in range(24)] for j in range(100)]\n",
    "avg_1v_vmt = [[0 for i in range(24)] for j in range(100)]\n",
    "\n",
    "trip17_MUD_1v_vmt_T = trip17_MUD_1v_vmt[trip17_MUD_1v_vmt['MUDs_Predict_OW'] == 1]\n",
    "trip17_MUD_1v_vmt_F = trip17_MUD_1v_vmt[trip17_MUD_1v_vmt['MUDs_Predict_OW'] == 0]\n",
    "\n",
    "#trip17_MUD_C['HHIncomes'].mask(trip17_MUD_C['HHFAMINC'] == i+1, income[i], inplace=True)\n",
    "for i in range(24):\n",
    "    avg_1v_vmt_T[0][i] = trip17_MUD_1v_vmt_T[(trip17_MUD_1v_vmt_T['STRTTIME'] >= 100*i) & (trip17_MUD_1v_vmt_T['STRTTIME']< 100*(i+1))].VMT_MILE.mean()\n",
    "    avg_1v_vmt_F[0][i] = trip17_MUD_1v_vmt_F[(trip17_MUD_1v_vmt_F['STRTTIME'] >= 100*i) & (trip17_MUD_1v_vmt_F['STRTTIME']< 100*(i+1))].VMT_MILE.mean()\n",
    "    avg_1v_vmt[0][i] = trip17_MUD_1v_vmt[(trip17_MUD_1v_vmt['STRTTIME'] >= 100*i) & (trip17_MUD_1v_vmt['STRTTIME']< 100*(i+1))].VMT_MILE.mean()\n",
    "    "
   ]
  },
  {
   "cell_type": "code",
   "execution_count": null,
   "metadata": {},
   "outputs": [],
   "source": [
    "for i in range(1,100):\n",
    "    trip17_MUD_1v_vmt_T = trip17_MUD_1v_vmt[trip17_MUD_1v_vmt['MUDs_Predict_OW_'+str(i)] == 1]\n",
    "    trip17_MUD_1v_vmt_F = trip17_MUD_1v_vmt[trip17_MUD_1v_vmt['MUDs_Predict_OW_'+str(i)] == 0]\n",
    "    for j in range(24):\n",
    "        avg_1v_vmt_T[i][j] = trip17_MUD_1v_vmt_T[(trip17_MUD_1v_vmt_T['STRTTIME'] >= 100*j) & (trip17_MUD_1v_vmt_T['STRTTIME']< 100*(j+1))].VMT_MILE.mean()\n",
    "        avg_1v_vmt_F[i][j] = trip17_MUD_1v_vmt_F[(trip17_MUD_1v_vmt_F['STRTTIME'] >= 100*j) & (trip17_MUD_1v_vmt_F['STRTTIME']< 100*(j+1))].VMT_MILE.mean()\n",
    "        avg_1v_vmt[i][j] = trip17_MUD_1v_vmt[(trip17_MUD_1v_vmt['STRTTIME'] >= 100*j) & (trip17_MUD_1v_vmt['STRTTIME']< 100*(j+1))].VMT_MILE.mean()\n",
    "    "
   ]
  },
  {
   "cell_type": "code",
   "execution_count": null,
   "metadata": {
    "scrolled": true
   },
   "outputs": [],
   "source": [
    "col_1v_list = range(24)\n",
    "df_avg_1v_vmt_T = pd.DataFrame(data=avg_1v_vmt_T, columns=col_1v_list)\n",
    "df_avg_1v_vmt_F = pd.DataFrame(data=avg_1v_vmt_F, columns=col_1v_list)\n",
    "df_avg_1v_vmt = pd.DataFrame(data=avg_1v_vmt, columns=col_1v_list)\n",
    "df_avg_1v_vmt_T"
   ]
  },
  {
   "cell_type": "code",
   "execution_count": null,
   "metadata": {},
   "outputs": [],
   "source": [
    "fig, axs = plt.subplots(nrows=2, ncols=2, figsize=(16, 12))\n",
    "fig.suptitle('Time of Day Average VMT of trips for one primary vehicle per household (Mile)', fontsize=28)\n",
    " \n",
    "# data required for plotting\n",
    "all_data = [df_avg_1v_vmt_T[i] for i in range(24)]\n",
    "all_data_F = [df_avg_1v_vmt_F[i] for i in range(24)]\n",
    "\n",
    "# plot violin plot\n",
    "axs[0][0].violinplot(all_data,\n",
    "                  showmeans=False,\n",
    "                  showmedians=True)\n",
    "axs[0][0].set_title('Violin plot',fontdict=font)\n",
    "\n",
    "# plot box plot\n",
    "axs[0][1].boxplot(all_data)\n",
    "axs[0][1].set_title('Box plot',fontdict=font)\n",
    "\n",
    "# plot violin plot\n",
    "axs[1][0].violinplot(all_data_F,\n",
    "                  showmeans=False,\n",
    "                  showmedians=True)\n",
    "#axs[1][0].set_title('Violin plot')\n",
    "\n",
    "# plot box plot\n",
    "axs[1][1].boxplot(all_data_F)\n",
    "#axs[1][1].set_title('Box plot')\n",
    "\n",
    "# adding horizontal grid lines\n",
    "for ax in axs[0]:\n",
    "    ax.yaxis.grid(True)\n",
    "    ax.set_xticks([y + 1 for y in range(len(all_data))])\n",
    "    \n",
    "    #ax.set_xlabel('Time of Day')\n",
    "axs[0][0].set_ylabel(\"VMT of MUDs' Residents\",fontdict=font)\n",
    "\n",
    "for ax in axs[1]:\n",
    "    ax.yaxis.grid(True)\n",
    "    ax.set_xticks([y + 1 for y in range(len(all_data_F))])\n",
    "    \n",
    "    ax.set_xlabel('Time of Day',fontdict=font)\n",
    "axs[1][0].set_ylabel(\"VMT of Others' Residents\",fontdict=font)\n",
    "    \n",
    "# add x-tick labels\n",
    "\n",
    "\n",
    "plt.setp(axs, xticks=[y + 1 for y in range(len(all_data))],\n",
    "         xticklabels=range(1,25))\n",
    "\n",
    "plt.show()"
   ]
  },
  {
   "cell_type": "code",
   "execution_count": null,
   "metadata": {},
   "outputs": [],
   "source": [
    "tod = []\n",
    "for i in range(24):\n",
    "    tod.append(str(i) + ':00 to ' + str(i+1) + ':00')\n",
    "    \n",
    "col_1v_list = tod\n",
    "stat_avg_1v_vmt = pd.DataFrame(columns=col_1v_list,index = ['mean of MUDs', 'std of MUDs', 'mean of Others','std of Others','mean of Alls','std of Alls'])\n",
    "stat_avg_1v_vmt"
   ]
  },
  {
   "cell_type": "code",
   "execution_count": null,
   "metadata": {},
   "outputs": [],
   "source": [
    "for i in range(24):\n",
    "    stat_avg_1v_vmt.iloc[0,i] = df_avg_1v_vmt_T[i].mean()\n",
    "    stat_avg_1v_vmt.iloc[1,i] = df_avg_1v_vmt_T[i].std()\n",
    "    stat_avg_1v_vmt.iloc[2,i] = df_avg_1v_vmt_F[i].mean()\n",
    "    stat_avg_1v_vmt.iloc[3,i] = df_avg_1v_vmt_F[i].std()\n",
    "    stat_avg_1v_vmt.iloc[4,i] = df_avg_1v_vmt[i].mean()\n",
    "    stat_avg_1v_vmt.iloc[5,i] = df_avg_1v_vmt[i].std()\n",
    "stat_avg_1v_vmt   "
   ]
  },
  {
   "cell_type": "code",
   "execution_count": null,
   "metadata": {},
   "outputs": [],
   "source": [
    "tod = []\n",
    "for i in range(24):\n",
    "    tod.append(str(i) + ':00 to ' + str(i+1) + ':00')\n",
    "\n",
    "plt.figure(figsize =(20,12))\n",
    "\n",
    "plt.plot(tod, avg_1v_vmt_T[0], label='MUDs');\n",
    "plt.plot(tod, avg_1v_vmt_F[0], label='Others');\n",
    "#plt.plot(tod, avg_vmt[0], label='Alls');\n",
    "\n",
    "plt.xlabel('Time of day', fontdict=font)\n",
    "plt.ylabel('Average VMT (Miles)', fontdict=font)\n",
    "plt.title('Average VMTs of predicted MUDs for one primary vehicle per household', fontsize=28)\n",
    "plt.legend(loc='upper right')\n",
    "plt.xticks(rotation=45)\n",
    "\n",
    "plt.show()"
   ]
  },
  {
   "cell_type": "code",
   "execution_count": null,
   "metadata": {},
   "outputs": [],
   "source": [
    "trip17_MUD_1v_vmt_T = trip17_MUD_1v_vmt[trip17_MUD_1v_vmt['MUDs_Predict_OW'] == 1]\n",
    "trip17_MUD_1v_vmt_F = trip17_MUD_1v_vmt[trip17_MUD_1v_vmt['MUDs_Predict_OW'] == 0]\n",
    "trip17_MUD_1v_vmt_T = trip17_MUD_1v_vmt_T[\n",
    "    np.abs(trip17_MUD_1v_vmt_T.VMT_MILE - trip17_MUD_1v_vmt_T.VMT_MILE.mean()) <= (3*trip17_MUD_1v_vmt_T.VMT_MILE.std())\n",
    "]\n",
    "\n",
    "trip17_MUD_1v_vmt_F = trip17_MUD_1v_vmt_F[\n",
    "    np.abs(trip17_MUD_1v_vmt_F.VMT_MILE - trip17_MUD_1v_vmt_F.VMT_MILE.mean()) <= (3*trip17_MUD_1v_vmt_F.VMT_MILE.std())\n",
    "]\n",
    "f, axes = plt.subplots(2, 1, figsize=(20, 16), sharex=True)\n",
    "#plt.figure(figsize =(20,12))\n",
    "\n",
    "sns.distplot(trip17_MUD_1v_vmt_T['VMT_MILE'],ax=axes[0]);\n",
    "axes[0].set(xlabel='VMT (mile)', ylabel=\"Density\", title = 'VMT of MUDs')\n",
    "\n",
    "sns.distplot(trip17_MUD_1v_vmt_F['VMT_MILE'],ax=axes[1],color=\"g\");\n",
    "axes[1].set(xlabel='VMT (mile)', ylabel=\"Density\", title = 'VMT of Others')\n",
    "#axes.legend(loc='upper right');\n",
    "f.suptitle('Distribution of Trip distance in miles for one primary vehicle per household', fontsize=24);\n"
   ]
  },
  {
   "cell_type": "code",
   "execution_count": null,
   "metadata": {
    "scrolled": false
   },
   "outputs": [],
   "source": [
    "\n",
    "trip17_MUD_1v_vmt_T = trip17_MUD_1v_vmt[trip17_MUD_1v_vmt['MUDs_Predict_OW'] == 1]\n",
    "trip17_MUD_1v_vmt_F = trip17_MUD_1v_vmt[trip17_MUD_1v_vmt['MUDs_Predict_OW'] == 0]\n",
    "\n",
    "\n",
    "trip17_MUD_1v_vmt_T = trip17_MUD_1v_vmt_T[\n",
    "    np.abs(trip17_MUD_1v_vmt_T.VMT_MILE - trip17_MUD_1v_vmt_T.VMT_MILE.mean()) <= (3*trip17_MUD_1v_vmt_T.VMT_MILE.std())\n",
    "]\n",
    "trip17_MUD_1v_vmt_T = trip17_MUD_1v_vmt_T.groupby('VMT_MILE').WTTRDFIN.sum().reset_index(name ='count')\n",
    "trip17_MUD_1v_vmt_T = trip17_MUD_1v_vmt_T.groupby(pd.cut(trip17_MUD_1v_vmt_T.VMT_MILE, bins=np.arange(trip17_MUD_1v_vmt_T.VMT_MILE.min(), trip17_MUD_1v_vmt_T.VMT_MILE.max(), step=10),include_lowest=True)).sum()\n",
    "trip17_MUD_1v_vmt_T = trip17_MUD_1v_vmt_T.append({'VMT_MILE': 0, 'count':0}, ignore_index=True)\n",
    "trip17_MUD_1v_vmt_T = trip17_MUD_1v_vmt_T.append({'VMT_MILE': 0, 'count':0}, ignore_index=True)\n",
    "\n",
    "\n",
    "trip17_MUD_1v_vmt_F = trip17_MUD_1v_vmt_F[\n",
    "    np.abs(trip17_MUD_1v_vmt_F.VMT_MILE - trip17_MUD_1v_vmt_F.VMT_MILE.mean()) <= (3*trip17_MUD_1v_vmt_F.VMT_MILE.std())\n",
    "]\n",
    "trip17_MUD_1v_vmt_F = trip17_MUD_1v_vmt_F.groupby('VMT_MILE').WTTRDFIN.sum().reset_index(name ='count')\n",
    "trip17_MUD_1v_vmt_F = trip17_MUD_1v_vmt_F.groupby(pd.cut(trip17_MUD_1v_vmt_F.VMT_MILE, bins=np.arange(trip17_MUD_1v_vmt_F.VMT_MILE.min(), trip17_MUD_1v_vmt_F.VMT_MILE.max(), step=10),include_lowest=True)).sum()\n",
    "\n",
    "VMT_MILE = []\n",
    "for i in range(10):\n",
    "    VMT_MILE.append(str(10*i) + ' to ' + str(10*(i+1)))\n",
    "\n",
    "x = np.arange(len(VMT_MILE))  # the label locations\n",
    "width = 0.35       # the width of the bars: can also be len(x) sequence\n",
    "\n",
    "fig, ax = plt.subplots(figsize = (16,8))\n",
    "\n",
    "# rects1 = ax.bar(x - width/2, men_means, width, label='Men')\n",
    "# rects2 = ax.bar(x - width/2, women_means, width, label='Women')\n",
    "\n",
    "# plt.bar(VMT_MILE, trip17_MUD_vmt_T['count'],x - width/2, width, label='MUDs');\n",
    "# plt.bar(VMT_MILE, trip17_MUD_vmt_F['count'],x + width/2, width, label='Others');\n",
    "\n",
    "ax.bar(x - width/2, trip17_MUD_1v_vmt_T['count'], width, label='MUDs');\n",
    "ax.bar(x + width/2, trip17_MUD_1v_vmt_F['count'], width, label='Others');\n",
    "\n",
    "ax.set_xlabel('VMT_MILE(miles)', fontdict=font)\n",
    "ax.set_ylabel('Counts of trips', fontdict=font)\n",
    "ax.set_title('Distribution of counts of Trip distance in miles for one primary vehicle per household', fontdict=font)\n",
    "ax.legend(loc='upper right')\n",
    "#ax.xticks(rotation=45)\n",
    "ax.set_xticks(x)\n",
    "ax.set_xticklabels(VMT_MILE)\n",
    "\n",
    "plt.show()"
   ]
  },
  {
   "cell_type": "markdown",
   "metadata": {},
   "source": [
    "% of time 1 primary vehicle staying at home"
   ]
  },
  {
   "cell_type": "code",
   "execution_count": null,
   "metadata": {},
   "outputs": [],
   "source": [
    "trip17_MUD_1v.head()"
   ]
  },
  {
   "cell_type": "markdown",
   "metadata": {},
   "source": [
    "TRVLCMIN: Trip Duration in Minutes\n",
    "\n",
    "WHYTRP1S: Trip purpose summary, 01=Home\n",
    "\n",
    "DWELTIME: Time at destination, -9=Not ascertained"
   ]
  },
  {
   "cell_type": "code",
   "execution_count": null,
   "metadata": {},
   "outputs": [],
   "source": [
    "hsid = trip17_MUD_1v.HOUSEID.unique().tolist()"
   ]
  },
  {
   "cell_type": "code",
   "execution_count": null,
   "metadata": {},
   "outputs": [],
   "source": []
  },
  {
   "cell_type": "code",
   "execution_count": null,
   "metadata": {},
   "outputs": [],
   "source": [
    "trip17_MUD_1v[(trip17_MUD_1v['HOUSEID'] == hsid[0]) &\n",
    "                          (trip17_MUD_1v['WHYTRP1S'] != '01')]['DWELTIME'].sum()"
   ]
  },
  {
   "cell_type": "code",
   "execution_count": null,
   "metadata": {},
   "outputs": [],
   "source": [
    "trip17_MUD_1v_T = trip17_MUD_1v[trip17_MUD_1v['MUDs_Predict_OW'] == 1]\n",
    "trip17_MUD_1v_F = trip17_MUD_1v[trip17_MUD_1v['MUDs_Predict_OW'] == 0]"
   ]
  },
  {
   "cell_type": "code",
   "execution_count": null,
   "metadata": {},
   "outputs": [],
   "source": [
    "# MUDs: time not at home"
   ]
  },
  {
   "cell_type": "code",
   "execution_count": null,
   "metadata": {},
   "outputs": [],
   "source": [
    "time_not_home = []\n",
    "for i in range(len(hsid)):\n",
    "    temp1 = trip17_MUD_1v_T[trip17_MUD_1v_T['HOUSEID'] == hsid[i]]['TRVLCMIN'].sum()\n",
    "    temp2 = trip17_MUD_1v_T[(trip17_MUD_1v_T['HOUSEID'] == hsid[i]) &\n",
    "                          (trip17_MUD_1v_T['WHYTRP1S'] != '01')]['DWELTIME'].sum()\n",
    "    temp = temp1 + temp2\n",
    "    time_not_home.append(temp)"
   ]
  },
  {
   "cell_type": "code",
   "execution_count": null,
   "metadata": {},
   "outputs": [],
   "source": [
    "time_not_home = [i for i in time_not_home if i != 0]\n",
    "time_home_muds = []\n",
    "for i in range(len(time_not_home)):\n",
    "    temp = (1440-time_not_home[i])/1440\n",
    "    time_home_muds.append(temp)\n"
   ]
  },
  {
   "cell_type": "code",
   "execution_count": null,
   "metadata": {},
   "outputs": [],
   "source": [
    "# Others: time not at home"
   ]
  },
  {
   "cell_type": "code",
   "execution_count": null,
   "metadata": {},
   "outputs": [],
   "source": [
    "time_not_home_others = []\n",
    "for i in range(len(hsid)):\n",
    "    temp1 = trip17_MUD_1v_F[trip17_MUD_1v_F['HOUSEID'] == hsid[i]]['TRVLCMIN'].sum()\n",
    "    temp2 = trip17_MUD_1v_F[(trip17_MUD_1v_F['HOUSEID'] == hsid[i]) &\n",
    "                          (trip17_MUD_1v_F['WHYTRP1S'] != '01')]['DWELTIME'].sum()\n",
    "    temp = temp1 + temp2\n",
    "    time_not_home_others.append(temp)"
   ]
  },
  {
   "cell_type": "code",
   "execution_count": null,
   "metadata": {},
   "outputs": [],
   "source": [
    "time_not_home_others = [i for i in time_not_home_others if i != 0]\n",
    "time_home_others = []\n",
    "for i in range(len(time_not_home_others)):\n",
    "    temp = (1440-time_not_home_others[i])/1440\n",
    "    time_home_others.append(temp)"
   ]
  },
  {
   "cell_type": "code",
   "execution_count": null,
   "metadata": {},
   "outputs": [],
   "source": []
  },
  {
   "cell_type": "code",
   "execution_count": null,
   "metadata": {},
   "outputs": [],
   "source": [
    "fig, axs = plt.subplots(1, 2, sharey=True, tight_layout=True,figsize = (12,8))\n",
    "n_bins = 20\n",
    "# We can set the number of bins with the `bins` kwarg\n",
    "axs[0].hist(time_home_muds, bins=n_bins)\n",
    "axs[1].hist(time_home_others, bins=n_bins)\n",
    "axs[0].set_title('distribution of % time staying at home of MUDs')\n",
    "axs[1].set_title('distribution of % time staying at home of Others')\n",
    "axs[0].set_xlim(0, 1);\n",
    "axs[1].set_xlim(0, 1);\n",
    "plt.show()"
   ]
  },
  {
   "cell_type": "code",
   "execution_count": null,
   "metadata": {},
   "outputs": [],
   "source": [
    "##### box plot y:0-1;;;"
   ]
  },
  {
   "cell_type": "code",
   "execution_count": null,
   "metadata": {},
   "outputs": [],
   "source": [
    "def dist_share_home(time_home_muds,time_home_others,division):\n",
    "    fig, axs = plt.subplots(1, 2, sharey=True, tight_layout=True,figsize = (12,8))\n",
    "    n_bins = 20\n",
    "    # We can set the number of bins with the `bins` kwarg\n",
    "    axs[0].hist(time_home_muds, bins=n_bins)\n",
    "    axs[1].hist(time_home_others, bins=n_bins)\n",
    "    axs[0].set_title('distribution of % time staying at home of MUDs of '+ division)\n",
    "    axs[1].set_title('distribution of % time staying at home of Others of '+ division)\n",
    "    axs[0].set_xlim(0, 1);\n",
    "    axs[1].set_xlim(0, 1);\n",
    "    plt.show()"
   ]
  },
  {
   "cell_type": "code",
   "execution_count": null,
   "metadata": {
    "scrolled": false
   },
   "outputs": [],
   "source": [
    "division_list = ['New England','Middle Atlantic','East North Central','West North Central',\n",
    "                 'South Atlantic','East South Central','West South Central','Mountain','Pacific']\n",
    "\n",
    "for i in range(9):\n",
    "    division = division_list[i]\n",
    "    trip17_MUD_CENSUS = trip17_MUD_1v[trip17_MUD_1v['CENSUS_D'] == i+1]\n",
    "    trip17_MUD_1v_T = trip17_MUD_CENSUS[trip17_MUD_CENSUS['MUDs_Predict_OW'] == 1]\n",
    "    trip17_MUD_1v_F = trip17_MUD_CENSUS[trip17_MUD_CENSUS['MUDs_Predict_OW'] == 0]\n",
    "\n",
    "    time_not_home = []\n",
    "    for i in range(len(hsid)):\n",
    "        temp1 = trip17_MUD_1v_T[trip17_MUD_1v_T['HOUSEID'] == hsid[i]]['TRVLCMIN'].sum()\n",
    "        temp2 = trip17_MUD_1v_T[(trip17_MUD_1v_T['HOUSEID'] == hsid[i]) &\n",
    "                          (trip17_MUD_1v_T['WHYTRP1S'] != '01')]['DWELTIME'].sum()\n",
    "        temp = temp1 + temp2\n",
    "        time_not_home.append(temp)\n",
    "    time_not_home = [i for i in time_not_home if i != 0]\n",
    "    time_home_muds = []\n",
    "    for i in range(len(time_not_home)):\n",
    "        temp = (1440-time_not_home[i])/1440\n",
    "        time_home_muds.append(temp)\n",
    "\n",
    "        \n",
    "    time_not_home_others = []\n",
    "    for i in range(len(hsid)):\n",
    "        temp1 = trip17_MUD_1v_F[trip17_MUD_1v_F['HOUSEID'] == hsid[i]]['TRVLCMIN'].sum()\n",
    "        temp2 = trip17_MUD_1v_F[(trip17_MUD_1v_F['HOUSEID'] == hsid[i]) &\n",
    "                              (trip17_MUD_1v_F['WHYTRP1S'] != '01')]['DWELTIME'].sum()\n",
    "        temp = temp1 + temp2\n",
    "        time_not_home_others.append(temp)\n",
    "    time_not_home_others = [i for i in time_not_home_others if i != 0]\n",
    "    time_home_others = []\n",
    "    for i in range(len(time_not_home_others)):\n",
    "        temp = (1440-time_not_home_others[i])/1440\n",
    "        time_home_others.append(temp)\n",
    "    \n",
    "    dist_share_home(time_home_muds,time_home_others,division)"
   ]
  },
  {
   "cell_type": "code",
   "execution_count": null,
   "metadata": {},
   "outputs": [],
   "source": []
  },
  {
   "cell_type": "code",
   "execution_count": null,
   "metadata": {},
   "outputs": [],
   "source": []
  },
  {
   "cell_type": "code",
   "execution_count": null,
   "metadata": {},
   "outputs": [],
   "source": []
  },
  {
   "cell_type": "code",
   "execution_count": null,
   "metadata": {},
   "outputs": [],
   "source": []
  },
  {
   "cell_type": "code",
   "execution_count": null,
   "metadata": {},
   "outputs": [],
   "source": []
  },
  {
   "cell_type": "code",
   "execution_count": null,
   "metadata": {
    "colab": {
     "base_uri": "https://localhost:8080/",
     "height": 204
    },
    "id": "fM58DWxv00fV",
    "outputId": "8dd48609-fe37-45de-f609-4f515bfda4e4"
   },
   "outputs": [],
   "source": [
    "#### \n",
    "trip2 = trip17.groupby('TRPTRANS').WTTRDFIN.sum().reset_index(name ='count')\n",
    "trip2.head()"
   ]
  },
  {
   "cell_type": "code",
   "execution_count": null,
   "metadata": {
    "id": "D_BpkDkO00fX",
    "outputId": "35295b5a-5ea9-4767-82ef-e4deb9525c45"
   },
   "outputs": [],
   "source": [
    "# Trip Mode, deriv\n",
    "trip2 = trip17.groupby('TRPTRANS').WTTRDFIN.sum().reset_index(name ='count')\n",
    "trip2['proportion(%)'] = 100*trip2['count']/trip2['count'].sum()\n",
    "trip2=trip2.sort_values(by='proportion(%)', ascending=False)\n",
    "trip2.plot(x='TRPTRANS', y='proportion(%)', kind='bar',figsize=(16,10),title='Trip Mode',fontsize=14);\n",
    "plt.xticks(rotation=45)"
   ]
  },
  {
   "cell_type": "code",
   "execution_count": null,
   "metadata": {
    "id": "dm4LSM4D00fZ",
    "outputId": "3c82791d-ce1e-4560-a186-8e7ef3c4eeea",
    "scrolled": true
   },
   "outputs": [],
   "source": [
    "Image(filename=\"img/trptans.png\",width=800, height=800)"
   ]
  },
  {
   "cell_type": "code",
   "execution_count": null,
   "metadata": {
    "id": "ql1FFFVq00fb"
   },
   "outputs": [],
   "source": [
    "#Only consider trips with personal vehicles\n",
    "# exclude taxi\n",
    "vehs = ['3','4','5','6','7','8','17','18']\n",
    "trip17 = trip17.loc[trip17['TRPTRANS'].isin(vehs)]"
   ]
  },
  {
   "cell_type": "code",
   "execution_count": null,
   "metadata": {
    "id": "WUuU_98e00fd",
    "outputId": "f1e8dd5e-6c14-40ac-f9ac-d365586b7a25"
   },
   "outputs": [],
   "source": [
    "#tripday.loc[tripday.TRAVDAY =='1','TRAVDAY'] = 'Sunday'\n",
    "tripday = trip17.groupby('TRAVDAY').WTTRDFIN.sum().reset_index(name ='count')\n",
    "tripday['TRAVDAY'] = tripday['TRAVDAY'].map({1:'Sunday',2:'Monday',3:'Tuesday',4:'Wednesday',5:'Thursday',6:'Friday',7:'Saturday'})\n",
    "tripday.head(20)\n",
    "tripday['proportion(%)'] = 100*tripday['count']/tripday['count'].sum()\n",
    "tripday=tripday.sort_values(by='proportion(%)', ascending=False)\n",
    "tripday.plot(x='TRAVDAY', y='proportion(%)', kind='bar',figsize=(16,10),title='Trips of Day of week',fontsize=14);\n",
    "plt.xticks(rotation=45)"
   ]
  },
  {
   "cell_type": "code",
   "execution_count": null,
   "metadata": {
    "id": "E0MRntNu00fe"
   },
   "outputs": [],
   "source": [
    "# Travel day - day of week\n",
    "tripday = trip17.groupby('TRAVDAY').WTTRDFIN.sum().reset_index(name ='count')\n",
    "# tripday[tripday.TRAVDAY =='1'] = 'Sunday'\n",
    "# tripday['proportion(%)'] = 100*tripday['count']/tripday['count'].sum()\n",
    "# tripday=tripday.sort_values(by='proportion(%)', ascending=False)\n",
    "# tripday.plot(x='TRAVDAY', y='proportion(%)', kind='bar',figsize=(16,10),title='Trips of Day of week',fontsize=14);"
   ]
  },
  {
   "cell_type": "code",
   "execution_count": null,
   "metadata": {
    "id": "cGkdx_GD00ff",
    "outputId": "acf3160b-08af-4251-f126-8a205847470f"
   },
   "outputs": [],
   "source": [
    "Image(filename=\"img/travday.png\",width=100, height=100)"
   ]
  },
  {
   "cell_type": "code",
   "execution_count": null,
   "metadata": {
    "colab": {
     "base_uri": "https://localhost:8080/",
     "height": 777
    },
    "id": "XNc5mavF00fh",
    "outputId": "7adb3f21-07f9-422b-e18a-afd3aaf93aad"
   },
   "outputs": [],
   "source": [
    "#Trip distance in miles, derived from route geometry returned\n",
    "# Remove outliers which are not within 3 standard deviations from mean of trip dataset\n",
    "trip170 = trip17[trip17['TRPMILES']>0]\n",
    "\n",
    "trip18 = trip170[\n",
    "    np.abs(trip170.TRPMILES - trip170.TRPMILES.mean()) <= (3*trip170.TRPMILES.std())\n",
    "]\n",
    "tripvmt = trip18.groupby('TRPMILES').WTTRDFIN.sum().reset_index(name ='count')\n",
    "tripvmt = tripvmt.groupby(pd.cut(tripvmt.TRPMILES, bins=np.arange(tripvmt.TRPMILES.min(), tripvmt.TRPMILES.max(), step=10),include_lowest=True)).sum()\n",
    "# tripvmt.head()\n",
    "\n",
    "# ax = tripvmt.plot.hist(bins=[0,10,30,60,120,200],figsize=(16,10),title='Trip distance in miles',fontsize=16)\n",
    "# x = np.linspace(0, 250, num=26)\n",
    "# plt.xticks(x)\n",
    "tripvmt['proportion(%)'] = 100*tripvmt['count']/tripvmt['count'].sum()\n",
    "tripvmt=tripvmt.sort_values(by='proportion(%)', ascending=False)\n",
    "\n",
    "#tripvmt.TRPMILES = pd.cut(tripvmt.TRPMILES, bins=np.arange(tripvmt.TRPMILES.min(), tripvmt.TRPMILES.max(), step=10), include_lowest=True)\n",
    "#tripvmt = tripvmt.groupby(pd.cut(tripvmt.TRPMILES, bins=np.arange(tripvmt.TRPMILES.min(), tripvmt.TRPMILES.max(), step=10),include_lowest=True)).count.sum()\n",
    "#\n",
    "tripvmt = tripvmt[['proportion(%)']]\n",
    "tripvmt.reset_index('TRPMILES')\n",
    "tripvmt['proportion(%)'].plot(kind='bar',figsize=(16,10),title='Trip distance in miles',fontsize=14);\n",
    "plt.xticks(rotation=45)"
   ]
  },
  {
   "cell_type": "code",
   "execution_count": null,
   "metadata": {
    "colab": {
     "base_uri": "https://localhost:8080/",
     "height": 818
    },
    "id": "is08jGSh00fi",
    "outputId": "2d5a9d42-5380-4942-dfd3-55dca26a62ea"
   },
   "outputs": [],
   "source": [
    "plt.style.use(\"fivethirtyeight\")\n",
    "\n",
    "trip17_MUD_True_1 = trip17_MUD_True[trip17_MUD_True['TRPMILES']>0]\n",
    "\n",
    "trip17_MUD_True_1 = trip17_MUD_True_1[\n",
    "    np.abs(trip17_MUD_True_1.TRPMILES - trip17_MUD_True_1.TRPMILES.mean()) <= (3*trip17_MUD_True_1.TRPMILES.std())\n",
    "]\n",
    "trip17_MUD_True_1 = trip17_MUD_True_1.groupby('TRPMILES').WTTRDFIN.sum().reset_index(name ='count')\n",
    "trip17_MUD_True_1 = trip17_MUD_True_1.groupby(pd.cut(trip17_MUD_True_1.TRPMILES, bins=np.arange(trip17_MUD_True_1.TRPMILES.min(), trip17_MUD_True_1.TRPMILES.max(), step=10),include_lowest=True)).sum()\n",
    "trip17_MUD_True_1 = trip17_MUD_True_1.head(22)\n",
    "\n",
    "width = 0.35       # the width of the bars: can also be len(x) sequence\n",
    "plt.figure(figsize =(20,12))\n",
    "\n",
    "plt.bar(TRPMILES, trip17_MUD_True_1['count'], width, label='MUDs')\n",
    "plt.bar(TRPMILES, trip17_MUD_False_1['count'], width, label='Others',bottom=np.array(trip17_MUD_True_1['count']) )\n",
    "\n",
    "plt.xlabel('TRPMILES(miles)')\n",
    "plt.ylabel('Counts')\n",
    "plt.title('Trip distance in miles')\n",
    "plt.legend(loc='upper right')\n",
    "plt.xticks(rotation=45)\n",
    "\n",
    "plt.show()"
   ]
  },
  {
   "cell_type": "code",
   "execution_count": null,
   "metadata": {
    "colab": {
     "base_uri": "https://localhost:8080/"
    },
    "id": "RQCllddrVbbi",
    "outputId": "2be8edcd-40ea-44a2-ec58-1c7f2b9e36de"
   },
   "outputs": [],
   "source": [
    "print(len(TRPMILES))\n",
    "print(len(trip17_MUD_True_1['count']))\n",
    "len(trip17_MUD_False_1['count'])"
   ]
  },
  {
   "cell_type": "code",
   "execution_count": null,
   "metadata": {
    "colab": {
     "base_uri": "https://localhost:8080/",
     "height": 235
    },
    "id": "XO0pEzFcIWC9",
    "outputId": "e3ad6618-40d0-48ed-eaa1-a3251ea42457"
   },
   "outputs": [],
   "source": [
    "trip17_MUD_True_1.head()"
   ]
  },
  {
   "cell_type": "code",
   "execution_count": null,
   "metadata": {
    "id": "JobHhKgBIUL1"
   },
   "outputs": [],
   "source": [
    "plt.style.use(\"seaborn\")"
   ]
  },
  {
   "cell_type": "code",
   "execution_count": null,
   "metadata": {
    "id": "iBh6ob9N00fj"
   },
   "outputs": [],
   "source": [
    "trip17_MUD_False_1 = trip17_MUD_False[trip17_MUD_False['TRPMILES']>0]\n",
    "\n",
    "trip17_MUD_False_1 = trip17_MUD_False_1[\n",
    "    np.abs(trip17_MUD_False_1.TRPMILES - trip17_MUD_False_1.TRPMILES.mean()) <= (3*trip17_MUD_False_1.TRPMILES.std())\n",
    "]\n",
    "trip17_MUD_False_1 = trip17_MUD_False_1.groupby('TRPMILES').WTTRDFIN.sum().reset_index(name ='count')\n",
    "trip17_MUD_False_1 = trip17_MUD_False_1.groupby(pd.cut(trip17_MUD_False_1.TRPMILES, bins=np.arange(trip17_MUD_False_1.TRPMILES.min(), trip17_MUD_False_1.TRPMILES.max(), step=10),include_lowest=True)).sum()\n"
   ]
  },
  {
   "cell_type": "code",
   "execution_count": null,
   "metadata": {
    "colab": {
     "base_uri": "https://localhost:8080/",
     "height": 235
    },
    "id": "kd9NY4j600fl",
    "outputId": "9df6ba64-be46-4356-fd52-14273d3c9ef6"
   },
   "outputs": [],
   "source": [
    "trip17_MUD_False_1.head()"
   ]
  },
  {
   "cell_type": "code",
   "execution_count": null,
   "metadata": {
    "id": "e_YF_Skn00fm",
    "outputId": "af391011-4877-4af5-fe09-ea592a06e8d9"
   },
   "outputs": [],
   "source": [
    "# Trip Origin Purpose\n",
    "tripfrom = trip17.groupby('WHYFROM').WTTRDFIN.sum().reset_index(name ='count')\n",
    "tripfrom['proportion(%)'] = 100*tripfrom['count']/tripfrom['count'].sum()\n",
    "tripfrom=tripfrom.sort_values(by='proportion(%)', ascending=False)\n",
    "tripfrom.plot(x='WHYFROM', y='proportion(%)',kind='bar',figsize=(16,10),title='Trip Origin Purpose',fontsize=14);\n",
    "plt.xticks(rotation=45)"
   ]
  },
  {
   "cell_type": "code",
   "execution_count": null,
   "metadata": {
    "id": "ZK8toMoa00fn",
    "outputId": "c38c86f3-65dc-449b-d5ee-9b5819f64bf1"
   },
   "outputs": [],
   "source": [
    "Image(filename=\"img/whyfrom.png\",width=800, height=800)"
   ]
  },
  {
   "cell_type": "code",
   "execution_count": null,
   "metadata": {
    "id": "e7FwrwZa00fo",
    "outputId": "f8bb96b6-e6f7-4492-9777-775b026aa7e3"
   },
   "outputs": [],
   "source": [
    "# Trip Destination Purpose\n",
    "trip1 = trip17.groupby('WHYTO').WTTRDFIN.sum().reset_index(name ='count')\n",
    "trip1['proportion(%)'] = 100*trip1['count']/trip1['count'].sum()\n",
    "trip1=trip1.sort_values(by='proportion(%)', ascending=False)\n",
    "trip1.plot(x='WHYTO', y='proportion(%)',kind='bar',figsize=(16,10),title='Trip Destination Purpose',fontsize=14);\n",
    "plt.xticks(rotation=45)"
   ]
  },
  {
   "cell_type": "code",
   "execution_count": null,
   "metadata": {
    "id": "ZhSH-y1900fp",
    "outputId": "0fc300e1-a2d4-418d-aa12-3afaf3854771",
    "scrolled": true
   },
   "outputs": [],
   "source": [
    "Image(filename=\"img/whyto.png\",width=800, height=800)"
   ]
  },
  {
   "cell_type": "code",
   "execution_count": null,
   "metadata": {
    "id": "Sjr_V8dM00fq",
    "outputId": "15e2144d-d1fb-4187-9567-7a812ba248d9"
   },
   "outputs": [],
   "source": [
    "# Trip Purpose Summary\n",
    "trip0 = trip17.groupby('WHYTRP1S').WTTRDFIN.sum().reset_index(name ='count')\n",
    "trip0['proportion(%)'] = 100*trip0['count']/trip0['count'].sum()\n",
    "trip0=trip0.sort_values(by='proportion(%)', ascending=False)\n",
    "trip0.plot(x='WHYTRP1S', y='proportion(%)',kind='bar',figsize=(16,10),title='Trip Purpose Summary',fontsize=14);\n",
    "plt.xticks(rotation=45)"
   ]
  },
  {
   "cell_type": "code",
   "execution_count": null,
   "metadata": {
    "id": "wiTmeQFg00fr",
    "outputId": "e3c01167-859d-4e02-d4df-63c790c5ac5f"
   },
   "outputs": [],
   "source": [
    "plt.style.use(\"seaborn\")\n",
    "font = {'family': 'serif',\n",
    "        'color':  'darkred',\n",
    "        'weight': 'normal',\n",
    "        'size': 16,\n",
    "        }\n",
    "#home & work & public charging\n",
    "chargers = {'AggWHYTRP1S': ['Home','Work','Public'],\n",
    "        'prop': [trip0.iloc[0,2],trip0.iloc[2,2],100-trip0.iloc[0,2]- trip0.iloc[2,2]]\n",
    "        }\n",
    "\n",
    "df = pd.DataFrame(chargers, columns = ['AggWHYTRP1S', 'prop'])\n",
    "df\n",
    "df.plot(x='AggWHYTRP1S', y='prop',kind='bar',figsize=(15,9), legend=None)\n",
    "plt.xticks(rotation=45)\n",
    "plt.title('Genral Trip Purpose Shares', fontdict=font)\n",
    "plt.xlabel('Genral trip origins', fontdict=font)\n",
    "plt.ylabel('Share (%)', fontdict=font)"
   ]
  },
  {
   "cell_type": "code",
   "execution_count": null,
   "metadata": {
    "id": "5HN6RQ7B00fs",
    "outputId": "539b874f-7082-47f8-dc63-805b02ff60b9"
   },
   "outputs": [],
   "source": [
    "trip17['WHYTRP1S'].dtype"
   ]
  },
  {
   "cell_type": "code",
   "execution_count": null,
   "metadata": {
    "id": "gC29sQfN00fu"
   },
   "outputs": [],
   "source": [
    "## calculate VMTs for three trips locations: home, work, public\n",
    "VMT_home = trip17[trip17['WHYTRP1S'] == 1]['VMT_MILE'].sum()\n",
    "VMT_work = trip17[trip17['WHYTRP1S'] == 10]['VMT_MILE'].sum()\n",
    "VMT_public = trip17['VMT_MILE'].sum() - VMT_home - VMT_work\n"
   ]
  },
  {
   "cell_type": "code",
   "execution_count": null,
   "metadata": {
    "id": "7bmgA8gW00fv",
    "outputId": "a0144437-0ea2-4401-b3c9-05252ab0fe27"
   },
   "outputs": [],
   "source": [
    "from matplotlib import pyplot as plt\n",
    "\n",
    "plt.style.use(\"seaborn\")\n",
    "\n",
    "slices = [VMT_home, VMT_work, VMT_public]\n",
    "labels = ['Home(MUDs & others)', 'Work', 'Public']\n",
    "explode = [0.1, 0, 0]\n",
    "\n",
    "plt.pie(slices, labels=labels, explode=explode, shadow=True,\n",
    "        startangle=90, autopct='%1.1f%%',\n",
    "        wedgeprops={'edgecolor': 'black'})\n",
    "\n",
    "plt.title(\"VMTs\")\n",
    "plt.tight_layout()\n",
    "plt.show()"
   ]
  },
  {
   "cell_type": "code",
   "execution_count": null,
   "metadata": {
    "id": "ylmsIxzg00fv",
    "outputId": "d9eb6bf3-f575-413f-ac97-84e0bdf21776",
    "scrolled": true
   },
   "outputs": [],
   "source": [
    "Image(filename=\"img/WHYTRP1S.png\",width=1000, height=1000)"
   ]
  },
  {
   "cell_type": "markdown",
   "metadata": {
    "id": "JUzumfK100fw"
   },
   "source": [
    "### Shall we consider Taxi, rental car... into personal vehicles?"
   ]
  },
  {
   "cell_type": "code",
   "execution_count": null,
   "metadata": {
    "id": "wKC47mwW00fx",
    "outputId": "4610a909-19dc-43b9-ddd0-8281b29e6545"
   },
   "outputs": [],
   "source": [
    "plt.style.use(\"seaborn\")\n",
    "font = {'family': 'serif',\n",
    "        'color':  'darkred',\n",
    "        'weight': 'normal',\n",
    "        'size': 16,\n",
    "        }\n",
    "#trip time of each trip with vehicles\n",
    "vehs = ['3','4','5','6','7','8','17','18']\n",
    "trip3 = trip17.loc[trip17['TRPTRANS'].isin(vehs)]\n",
    "trip3['triptime'] = trip3.ENDTIME - trip3.STRTTIME\n",
    "\n",
    "trip3 = trip3[trip3['triptime']>0]\n",
    "\n",
    "trip3 = trip3[\n",
    "    np.abs(trip3.triptime - trip3.triptime.mean()) <= (3*trip3.triptime.std())\n",
    "]\n",
    "\n",
    "trip4 = trip3.groupby('triptime').WTTRDFIN.sum().reset_index(name ='count')\n",
    "trip4 = trip4.groupby(pd.cut(trip4.triptime, bins=np.arange(trip4.triptime.min(), trip4.triptime.max(), step=20),include_lowest=True)).sum()\n",
    "# tripvmt.head()\n",
    "trip4['proportion(%)'] = 100*trip4['count']/trip4['count'].sum()\n",
    "\n",
    "trip4 = trip4[['proportion(%)']]\n",
    "trip4.reset_index('triptime')\n",
    "trip4['proportion(%)'].plot(kind='bar',figsize=(15,9))\n",
    "\n",
    "plt.xticks(rotation=45)\n",
    "plt.title('Trip time', fontdict=font)\n",
    "plt.xlabel('Trip time (min)', fontdict=font)\n",
    "plt.ylabel('Share (%)', fontdict=font)\n",
    "# trip4 = trip3.groupby('triptime').WTTRDFIN.sum().reset_index(name ='count')\n",
    "# # trip4['proportion(%)'] = 100*trip4['count']/trip4['count'].sum()\n",
    "# # trip4=trip4.sort_values(by='proportion(%)', ascending=False)\n",
    "\n",
    "# # trip4.plot(x='triptime', y='proportion(%)',kind='bar',figsize=(16,10),title='trip time of each trip',fontsize=14);\n",
    "# ax = trip4.plot.hist(bins=np.arange(0, 2880, 50),figsize=(16,10),title='trip time of each trip',fontsize=16)\n",
    "# #trip4.plot(x='triptime', y='count',kind='bar',figsize=(16,10),title='trip time of each trip');"
   ]
  },
  {
   "cell_type": "code",
   "execution_count": null,
   "metadata": {
    "id": "8ABAd6tB00fy",
    "outputId": "a39df00f-4e1a-4cd9-86eb-251f43e6eed6"
   },
   "outputs": [],
   "source": [
    "np.arange(0, 2880, 60)"
   ]
  },
  {
   "cell_type": "code",
   "execution_count": null,
   "metadata": {
    "id": "c8dDSv0B00fz",
    "outputId": "a6b4124b-31b7-416b-eca1-d4113a20a6fe"
   },
   "outputs": [],
   "source": [
    "#Dwelling time between trips\n",
    "trip5 = trip17.loc[trip17.TRPTRANS.isin(vehs)]\n",
    "\n",
    "trip5 = trip5[trip5['DWELTIME']>0]\n",
    "\n",
    "trip5 = trip5[\n",
    "    np.abs(trip5.DWELTIME - trip5.DWELTIME.mean()) <= (3*trip5.DWELTIME.std())\n",
    "]\n",
    "\n",
    "\n",
    "trip5 = trip5.groupby('DWELTIME').WTTRDFIN.sum().reset_index(name ='count')\n",
    "trip5 = trip5.groupby(pd.cut(trip5.DWELTIME, bins=np.arange(trip5.DWELTIME.min(), trip5.DWELTIME.max(), step=20),include_lowest=True)).sum()\n",
    "# tripvmt.head()\n",
    "trip5['proportion(%)'] = 100*trip5['count']/trip5['count'].sum()\n",
    "trip5=trip5.sort_values(by='proportion(%)', ascending=False)\n",
    "\n",
    "trip5 = trip5[['proportion(%)']]\n",
    "trip5.reset_index('DWELTIME')\n",
    "trip5 = trip5.iloc[::-1]\n",
    "trip5['proportion(%)'].plot(kind='barh',figsize=(16,10),)\n",
    "plt.title('Dwelling time', fontdict=font)\n",
    "plt.ylabel('DWELTIME(min)', fontdict=font)\n",
    "plt.xlabel('Share (%)', fontdict=font)\n",
    "\n",
    "\n",
    "# trip5 = trip5.groupby('DWELTIME').WTTRDFIN.sum().reset_index(name ='count')\n",
    "# # trip5['proportion(%)'] = 100*trip5['count']/trip5['count'].sum()\n",
    "# # trip5=trip5.sort_values(by='proportion(%)', ascending=False)\n",
    "\n",
    "# #trip5.plot(x=np.arange(0, 2880, 100), y='proportion(%)',kind='bar',figsize=(16,10),title='Dwelling time between trips',fontsize=14);\n",
    "# ax = trip5.plot.hist(bins=np.arange(0, 2880, 60),figsize=(16,10),title='Dwelling time between trips',fontsize=16)"
   ]
  },
  {
   "cell_type": "code",
   "execution_count": null,
   "metadata": {
    "id": "c9y2kcdU00f0",
    "outputId": "28fab755-9e83-4269-c2c5-e723fdfd3676"
   },
   "outputs": [],
   "source": [
    "trip5.DWELTIME"
   ]
  },
  {
   "cell_type": "code",
   "execution_count": null,
   "metadata": {
    "id": "NNzce2zT00f1",
    "outputId": "ab74b26b-95ef-454b-d8a0-48fc7ca450a0",
    "scrolled": true
   },
   "outputs": [],
   "source": [
    "dictionary17 = pd.read_excel('NHTS-daily travel patterns/dictionary_v1_2.xlsx')\n",
    "dictionary17"
   ]
  },
  {
   "cell_type": "code",
   "execution_count": null,
   "metadata": {
    "id": "ZiEGMAzL00f2",
    "outputId": "3e0d4d12-e94f-4610-acea-966565e0a560"
   },
   "outputs": [],
   "source": [
    "codebook17 = pd.read_excel('NHTS-daily travel patterns/codebook_v1.2.xlsx')\n",
    "codebook17.head()"
   ]
  },
  {
   "cell_type": "code",
   "execution_count": null,
   "metadata": {
    "id": "HctJN46Z00f3",
    "outputId": "2a054f77-b9e1-4de6-9e7d-495b3a2618ac"
   },
   "outputs": [],
   "source": [
    "trip17.describe()"
   ]
  },
  {
   "cell_type": "code",
   "execution_count": null,
   "metadata": {
    "id": "cHYaGJ0700f4",
    "outputId": "3234a38f-827e-49f3-c617-20ac23ddafa7"
   },
   "outputs": [],
   "source": [
    "# Use \"UnitInStructe\" dataset to make assumption about household type of MUD or single family.\n",
    "pd.set_option('display.max_columns', None)\n",
    "single_MUD = pd.read_excel('UnitInStructure.xlsx', sheet_name = 'MUD', index_col=0)\n",
    "single_MUD['Total'] = single_MUD.sum(axis=1) \n",
    "single_MUD.info()"
   ]
  },
  {
   "cell_type": "code",
   "execution_count": null,
   "metadata": {
    "id": "RqFnVVkb00f5",
    "outputId": "1d43a6b6-d0dd-4961-8a8e-61751f164da8"
   },
   "outputs": [],
   "source": [
    "# Assume \"1, detached\" and \"1, attached\" are single family house.\n",
    "# So, column 2 to 6 can be Multi-Unit Dwelling (i.e. Apartment)\n",
    "single_MUD['MUD #'] = single_MUD.iloc[:, 2:6].sum(axis=1) \n",
    "single_MUD['MUD percentage'] = single_MUD['MUD #']/single_MUD['Total']\n",
    "single_MUD"
   ]
  },
  {
   "cell_type": "code",
   "execution_count": null,
   "metadata": {
    "id": "3PW80ZGK00f6",
    "outputId": "b1369f28-6c59-49e6-b6e6-9e78b6d5d8f7"
   },
   "outputs": [],
   "source": [
    "single_MUD['MUD percentage'].plot(kind='bar',figsize=(16,10),title='MUD percentage');\n",
    "plt.xticks(rotation=45)"
   ]
  },
  {
   "cell_type": "code",
   "execution_count": null,
   "metadata": {
    "id": "HQtBAymz00f6",
    "outputId": "b6f2cacb-fcc8-4dc2-ee50-fe6b4462d30b"
   },
   "outputs": [],
   "source": [
    "# research garage among household\n",
    "# Year 2015 - 2019\n",
    "pd.set_option('display.max_columns', None)\n",
    "garage1519 = pd.read_excel('UnitInStructure.xlsx', sheet_name = 'Garage1519', index_col=0)\n",
    "garage1519"
   ]
  },
  {
   "cell_type": "code",
   "execution_count": null,
   "metadata": {
    "id": "ZANBH9PD00f7",
    "outputId": "42b95750-4847-4ba9-af7f-b18d9a2f38e8"
   },
   "outputs": [],
   "source": [
    "garage1519.plot(kind='bar',figsize=(16,10),title='Garage info 2015 - 2019');\n",
    "plt.xticks(rotation=45)"
   ]
  },
  {
   "cell_type": "code",
   "execution_count": null,
   "metadata": {
    "id": "FF377D1Y00f8",
    "outputId": "394435f9-c75b-4348-c4d4-0fc131811f58"
   },
   "outputs": [],
   "source": [
    "# research garage among household\n",
    "# Year 2013\n",
    "pd.set_option('display.max_columns', None)\n",
    "garage13 = pd.read_excel('UnitInStructure.xlsx', sheet_name = 'Garage13', index_col=0)\n",
    "garage13"
   ]
  },
  {
   "cell_type": "code",
   "execution_count": null,
   "metadata": {
    "id": "AJ2o5UqK00f9",
    "outputId": "4777cdfe-9d6d-4944-c5de-549198e49362"
   },
   "outputs": [],
   "source": [
    "garage13.plot(kind='bar',figsize=(16,10),title='Garage info 2013');\n",
    "plt.xticks(rotation=45)"
   ]
  },
  {
   "cell_type": "code",
   "execution_count": null,
   "metadata": {
    "id": "igk2OfvC00f-"
   },
   "outputs": [],
   "source": []
  },
  {
   "cell_type": "code",
   "execution_count": null,
   "metadata": {
    "id": "QlFZQmZz00f_",
    "outputId": "33096010-6f95-41ff-bff9-9a9abda5f007"
   },
   "outputs": [],
   "source": [
    "# research garage among household\n",
    "# Year 2011\n",
    "pd.set_option('display.max_columns', None)\n",
    "garage11 = pd.read_excel('UnitInStructure.xlsx', sheet_name = 'Garage11', index_col=0)\n",
    "garage11"
   ]
  },
  {
   "cell_type": "code",
   "execution_count": null,
   "metadata": {
    "id": "am5vn4x-00gA",
    "outputId": "2bf519e7-9970-4937-fc7b-a8b1d1c0d9eb"
   },
   "outputs": [],
   "source": [
    "#Trip Distance sample size and weighted.\n",
    "tripDist = pd.read_excel('UnitInStructure.xlsx', sheet_name = 'TripDistance', index_col=0)\n",
    "tripDist['Percent WT'] = 100*tripDist['Sum (Millions)']/tripDist.loc['All','Sum (Millions)']\n",
    "tripDist['Percent Sample'] = 100*tripDist['Sample Size']/tripDist.loc['All','Sample Size']\n",
    "tripDist"
   ]
  },
  {
   "cell_type": "code",
   "execution_count": null,
   "metadata": {
    "id": "fbWMiYX200gB",
    "outputId": "5484161d-4b66-4af5-ea5c-d5d439a9febb"
   },
   "outputs": [],
   "source": [
    "tripDistPlt = tripDist.loc[:,['Percent Sample','Percent WT']]\n",
    "tripDistPlt = tripDistPlt[:-1]\n",
    "tripDistPlt.plot(kind='bar',figsize=(16,10),title='Trip Distance with Sample and Weighted Sum');\n",
    "plt.xticks(rotation=45)"
   ]
  },
  {
   "cell_type": "code",
   "execution_count": null,
   "metadata": {
    "id": "THiISrY500gC",
    "outputId": "54f360e3-0bc7-4b49-95bc-17fd20c7216c",
    "scrolled": true
   },
   "outputs": [],
   "source": [
    "#VMT corresponding to ages sample size and weighted.\n",
    "vmtAge = pd.read_excel('UnitInStructure.xlsx', sheet_name = 'VMT_AGE', index_col=0)\n",
    "vmtAge['Percent WT'] = 100*vmtAge['Sum (Millions)']/vmtAge.loc['All','Sum (Millions)']\n",
    "vmtAge['Percent Sample'] = 100*vmtAge['Sample Size']/vmtAge.loc['All','Sample Size']\n",
    "vmtAge"
   ]
  },
  {
   "cell_type": "code",
   "execution_count": null,
   "metadata": {
    "id": "n8ABZgPI00gD",
    "outputId": "0f944246-e563-4160-c4fd-2ef8ea8b70e2"
   },
   "outputs": [],
   "source": [
    "vmtAgePlt = vmtAge[:-1]\n",
    "vmtAgePlt.loc[:,['Percent Sample','Percent WT']].plot(kind='bar',figsize=(16,10),title='VMT ~ Age with Sample and Weighted Sum');\n",
    "plt.xticks(rotation=45)"
   ]
  },
  {
   "cell_type": "code",
   "execution_count": null,
   "metadata": {
    "id": "yteYGU2Z00gE",
    "outputId": "e632638d-d8f3-4e3f-dfb0-5c0131f88ef1"
   },
   "outputs": [],
   "source": [
    "#VMT corresponding to Destinations sample size and weighted.\n",
    "vmtDes = pd.read_excel('UnitInStructure.xlsx', sheet_name = 'VMT_Destination', index_col=0)\n",
    "vmtDes['Percent WT'] = 100*vmtDes['Sum (Millions)']/vmtDes.loc['All','Sum (Millions)']\n",
    "vmtDes['Percent Sample'] = 100*vmtDes['Sample Size']/vmtDes.loc['All','Sample Size']\n",
    "vmtDes"
   ]
  },
  {
   "cell_type": "code",
   "execution_count": null,
   "metadata": {
    "id": "_dS7UUne00gE",
    "outputId": "6edbf7f7-1ab2-4258-a607-cca3df9cb267"
   },
   "outputs": [],
   "source": [
    "vmtDesPlt = vmtDes[:-1]\n",
    "vmtDesPlt.loc[:,['Percent Sample','Percent WT']].plot(kind='bar',figsize=(16,10),title='Time at Destination Sample and Weighted Sum');\n",
    "plt.xticks(rotation=45)"
   ]
  },
  {
   "cell_type": "code",
   "execution_count": null,
   "metadata": {
    "id": "m__p9oei00gF",
    "outputId": "8900365b-6d6d-4e1e-81c9-28b8919c5711"
   },
   "outputs": [],
   "source": [
    "#Vehicle Trips corresponding to Dwelling time sample size and weighted.\n",
    "VtripDwell = pd.read_excel('UnitInStructure.xlsx', sheet_name = 'VTrip_Dwell', index_col=0)\n",
    "VtripDwell['Percent WT'] = 100*VtripDwell['Sum (Millions)']/VtripDwell.loc['All','Sum (Millions)']\n",
    "VtripDwell['Percent Sample'] = 100*VtripDwell['Sample Size']/VtripDwell.loc['All','Sample Size']\n",
    "VtripDwell"
   ]
  },
  {
   "cell_type": "code",
   "execution_count": null,
   "metadata": {
    "id": "kOb7xj0900gG",
    "outputId": "a5b0ce10-0890-4611-f2ae-204c211c2194"
   },
   "outputs": [],
   "source": [
    "VtripDwellPlt = VtripDwell[:-1]\n",
    "VtripDwellPlt.loc[:,['Percent Sample','Percent WT']].plot(kind='bar',figsize=(16,10),title='Time at Destination with Sample and Weighted Sum');\n",
    "plt.xticks(rotation=45)"
   ]
  },
  {
   "cell_type": "markdown",
   "metadata": {
    "id": "-yljka_D00gH"
   },
   "source": [
    "#### half is over 50+ min, which shows the potential to provide charger station at the destination during the parking."
   ]
  },
  {
   "cell_type": "code",
   "execution_count": null,
   "metadata": {
    "id": "dUSmaTtd00gH"
   },
   "outputs": [],
   "source": []
  },
  {
   "cell_type": "code",
   "execution_count": null,
   "metadata": {
    "id": "121ZK6ke00gI"
   },
   "outputs": [],
   "source": []
  },
  {
   "cell_type": "code",
   "execution_count": null,
   "metadata": {
    "id": "ePzsG15Q00gJ"
   },
   "outputs": [],
   "source": []
  },
  {
   "cell_type": "code",
   "execution_count": null,
   "metadata": {
    "id": "aWB_0IZ100gK"
   },
   "outputs": [],
   "source": []
  }
 ],
 "metadata": {
  "accelerator": "GPU",
  "colab": {
   "collapsed_sections": [],
   "name": "Data processing.ipynb",
   "provenance": []
  },
  "kernelspec": {
   "display_name": "Python 3",
   "language": "python",
   "name": "python3"
  },
  "language_info": {
   "codemirror_mode": {
    "name": "ipython",
    "version": 3
   },
   "file_extension": ".py",
   "mimetype": "text/x-python",
   "name": "python",
   "nbconvert_exporter": "python",
   "pygments_lexer": "ipython3",
   "version": "3.7.7"
  }
 },
 "nbformat": 4,
 "nbformat_minor": 4
}
