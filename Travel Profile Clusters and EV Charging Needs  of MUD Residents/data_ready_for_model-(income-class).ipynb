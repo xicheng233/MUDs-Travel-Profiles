{
 "cells": [
  {
   "cell_type": "code",
   "execution_count": null,
   "metadata": {},
   "outputs": [],
   "source": [
    "import pandas as pd\n",
    "import numpy as np\n",
    "import gurobipy as gp\n",
    "from gurobipy import quicksum\n",
    "from gurobipy import GRB\n",
    "import csv\n",
    "import matplotlib.pyplot as plt"
   ]
  },
  {
   "cell_type": "code",
   "execution_count": null,
   "metadata": {},
   "outputs": [],
   "source": [
    "pd.set_option('display.max_columns', 200)\n",
    "# pd.set_option('display.max_rows', 200)"
   ]
  },
  {
   "cell_type": "code",
   "execution_count": null,
   "metadata": {},
   "outputs": [],
   "source": [
    "hac_cluster = pd.read_csv('cluster_hac.csv')"
   ]
  },
  {
   "cell_type": "code",
   "execution_count": null,
   "metadata": {
    "scrolled": false
   },
   "outputs": [],
   "source": [
    "hac_cluster.head()"
   ]
  },
  {
   "cell_type": "code",
   "execution_count": null,
   "metadata": {},
   "outputs": [],
   "source": [
    "final_input = pd.read_csv('new_charging_availibility_result.csv')"
   ]
  },
  {
   "cell_type": "code",
   "execution_count": null,
   "metadata": {},
   "outputs": [],
   "source": [
    "hac_cluster['income_classes'] = final_input['income_classes']"
   ]
  },
  {
   "cell_type": "code",
   "execution_count": null,
   "metadata": {},
   "outputs": [],
   "source": [
    "import seaborn as sns\n",
    "%matplotlib inline\n",
    "%config InlineBackend.figure_format = 'retina'"
   ]
  },
  {
   "cell_type": "code",
   "execution_count": null,
   "metadata": {},
   "outputs": [],
   "source": [
    "cluster_data = hac_cluster.copy()"
   ]
  },
  {
   "cell_type": "code",
   "execution_count": null,
   "metadata": {},
   "outputs": [],
   "source": [
    "cluster_data['income_classes'].value_counts()"
   ]
  },
  {
   "cell_type": "code",
   "execution_count": null,
   "metadata": {},
   "outputs": [],
   "source": [
    "fig = plt.figure(figsize = (16,8),dpi=600)\n",
    "p1=sns.kdeplot(cluster_data[cluster_data['income_classes'] == 0]['dwell_home'], shade=True, label = 'lower-level income',color = '#0000FF')\n",
    "p1=sns.kdeplot(cluster_data[cluster_data['income_classes'] == 1]['dwell_home'], shade=True,label = 'middle-level income',color = '#FF0000')\n",
    "p1=sns.kdeplot(cluster_data[cluster_data['income_classes'] == 2]['dwell_home'], shade=True,label = 'upper-level income',color ='#008000')\n",
    "# p1=sns.kdeplot(trip_inter_2_nor_3_home, shade=True,label = 'Cluster 4',color ='#000800')\n",
    "# p1=sns.kdeplot(trip_inter_2_nor_4_home, shade=True, label = 'Cluster 5',color = '#87CEFA')\n",
    "# p1=sns.kdeplot(trip_inter_2_nor_5_home, shade=True,label = 'Cluster 6',color = '#FFA07A')\n",
    "# p1=sns.kdeplot(trip_inter_2_nor_6_home, shade=True,label = 'Cluster 7',color ='#7CFC00')\n",
    "# p1=sns.kdeplot(trip_inter_2_nor_7_home, shade=True,label = 'Cluster 8',color ='#00FC7C')\n",
    "# p1=sns.kdeplot(dwell_process_other_home*0.6, shade=True,label = 'Home of others',color = '#87CEFA',linestyle=\"--\")\n",
    "# p1=sns.kdeplot(dwell_process_other_work*0.6, shade=True,label = 'Workplace of others',color ='#FFA07A',linestyle=\"--\")\n",
    "# p1=sns.kdeplot(dwell_process_other_public*0.6, shade=True, label = 'Public of Others',color = '#7CFC00',linestyle=\"--\")\n",
    "plt.title('Distribution of Dwell Time at Home', fontsize=28)\n",
    "plt.xlabel('Time (Minutes)',fontsize=18);\n",
    "plt.ylabel('Density',fontsize=18);\n",
    "plt.xticks(fontsize=12)\n",
    "plt.yticks(fontsize=12)\n",
    "plt.xlim(0, 1800) \n",
    "# plt.xticle()\n",
    "plt.legend(loc='best',fontsize=14)\n",
    "plt.show();\n",
    "\n",
    "fig.savefig('PaperFigures/Figure7a_hac_dwell_home_income.png',dpi=600)"
   ]
  },
  {
   "cell_type": "code",
   "execution_count": null,
   "metadata": {},
   "outputs": [],
   "source": [
    "fig = plt.figure(figsize = (16,8),dpi=600)\n",
    "p1=sns.kdeplot(cluster_data[cluster_data['income_classes'] == 0]['dwell_work'], shade=True, label = 'lower-level income',color = '#0000FF')\n",
    "p1=sns.kdeplot(cluster_data[cluster_data['income_classes'] == 1]['dwell_work'], shade=True,label = 'middle-level income',color = '#FF0000')\n",
    "p1=sns.kdeplot(cluster_data[cluster_data['income_classes'] == 2]['dwell_work'], shade=True,label = 'upper-level income',color ='#008000')\n",
    "# p1=sns.kdeplot(trip_inter_2_nor_3['dwell_work'].astype('float64'), shade=True,label = 'Cluster 4',color ='#000800')\n",
    "# p1=sns.kdeplot(trip_inter_2_nor_4['dwell_work'].astype('float64'), shade=True, label = 'Cluster 5',color = '#87CEFA')\n",
    "# p1=sns.kdeplot(trip_inter_2_nor_5['dwell_work'].astype('float64'), shade=True,label = 'Cluster 6',color = '#FFA07A')\n",
    "# p1=sns.kdeplot(trip_inter_2_nor_6['dwell_work'].astype('float64'), shade=True,label = 'Cluster 7',color ='#7CFC00')\n",
    "# p1=sns.kdeplot(trip_inter_2_nor_7['dwell_work'].astype('float64'), shade=True,label = 'Cluster 8',color ='#00FC7C')\n",
    "# p1=sns.kdeplot(trip_inter_2_nor_3['dwell_work'], shade=True,label = 'Cluster 4',color ='#000800')\n",
    "# p1=sns.kdeplot(dwell_process_other_home*0.6, shade=True,label = 'Home of others',color = '#87CEFA',linestyle=\"--\")\n",
    "# p1=sns.kdeplot(dwell_process_other_work*0.6, shade=True,label = 'Workplace of others',color ='#FFA07A',linestyle=\"--\")\n",
    "# p1=sns.kdeplot(dwell_process_other_public*0.6, shade=True, label = 'Public of Others',color = '#7CFC00',linestyle=\"--\")\n",
    "plt.title('Distribution of Dwell Time at Workplace', fontsize=28)\n",
    "plt.xlabel('Time (Minutes)',fontsize=18);\n",
    "plt.ylabel('Density',fontsize=18);\n",
    "plt.xticks(fontsize=12)\n",
    "plt.yticks(fontsize=12)\n",
    "plt.xlim(0, 800) \n",
    "# plt.xticle()\n",
    "plt.legend(loc='best',fontsize=14)\n",
    "plt.show();\n",
    "\n",
    "fig.savefig('PaperFigures/Figure7b_hac_dwell_work_income.png',dpi=600)"
   ]
  },
  {
   "cell_type": "code",
   "execution_count": null,
   "metadata": {},
   "outputs": [],
   "source": [
    "fig = plt.figure(figsize = (16,8),dpi=600)\n",
    "p1=sns.kdeplot(cluster_data[cluster_data['income_classes'] == 0]['dwell_public'], shade=True, label = 'lower-level income',color = '#0000FF')\n",
    "p1=sns.kdeplot(cluster_data[cluster_data['income_classes'] == 1]['dwell_public'], shade=True,label = 'middle-level income',color = '#FF0000')\n",
    "p1=sns.kdeplot(cluster_data[cluster_data['income_classes'] == 2]['dwell_public'], shade=True,label = 'upper-level income',color ='#008000')\n",
    "# p1=sns.kdeplot(trip_inter_2_nor_3['dwell_public'].astype('float64'), shade=True,label = 'Cluster 4',color ='#000800')\n",
    "# p1=sns.kdeplot(trip_inter_2_nor_4['dwell_public'].astype('float64'), shade=True, label = 'Cluster 5',color = '#87CEFA')\n",
    "# p1=sns.kdeplot(trip_inter_2_nor_5['dwell_public'].astype('float64'), shade=True,label = 'Cluster 6',color = '#FFA07A')\n",
    "# p1=sns.kdeplot(trip_inter_2_nor_6['dwell_public'].astype('float64'), shade=True,label = 'Cluster 7',color ='#7CFC00')\n",
    "# p1=sns.kdeplot(trip_inter_2_nor_7['dwell_public'].astype('float64'), shade=True,label = 'Cluster 8',color ='#00FC7C')\n",
    "# p1=sns.kdeplot(trip_inter_2_nor_3['dwell_public'].astype('float64'), shade=True,label = 'Cluster 4',color ='#000800')\n",
    "# p1=sns.kdeplot(dwell_process_other_home*0.6, shade=True,label = 'Home of others',color = '#87CEFA',linestyle=\"--\")\n",
    "# p1=sns.kdeplot(dwell_process_other_work*0.6, shade=True,label = 'Workplace of others',color ='#FFA07A',linestyle=\"--\")\n",
    "# p1=sns.kdeplot(dwell_process_other_public*0.6, shade=True, label = 'Public of Others',color = '#7CFC00',linestyle=\"--\")\n",
    "plt.title('Distribution of Dwell Time at Public locations', fontsize=28)\n",
    "plt.xlabel('Time (Minutes)',fontsize=18);\n",
    "plt.ylabel('Density',fontsize=18);\n",
    "plt.xticks(fontsize=12)\n",
    "plt.yticks(fontsize=12)\n",
    "plt.xlim(0, 1200) \n",
    "# plt.xticle()\n",
    "plt.legend(loc='best',fontsize=14)\n",
    "plt.show();\n",
    "\n",
    "fig.savefig('Figure7c_hac_dwell_public_income.png',dpi=600)"
   ]
  },
  {
   "cell_type": "code",
   "execution_count": null,
   "metadata": {},
   "outputs": [],
   "source": [
    "cluster_data = hac_cluster.copy()"
   ]
  },
  {
   "cell_type": "code",
   "execution_count": null,
   "metadata": {},
   "outputs": [],
   "source": [
    "from scipy import stats\n",
    "tod = []\n",
    "for i in range(24):\n",
    "    tod.append(str(i) + ':00 to ' + str(i+1) + ':00')\n",
    "    \n",
    "avg_vmt_0 = [0 for i in range(24)]\n",
    "std_vmt_0 = [0 for i in range(24)]\n",
    "avg_vmt_1 = [0 for i in range(24)]\n",
    "std_vmt_1 = [0 for i in range(24)]\n",
    "avg_vmt_2 = [0 for i in range(24)]\n",
    "std_vmt_2 = [0 for i in range(24)]\n",
    "\n",
    "avg_loc_0 = [0 for i in range(24)]\n",
    "std_loc_0 = [0 for i in range(24)]\n",
    "avg_loc_1 = [0 for i in range(24)]\n",
    "std_loc_1 = [0 for i in range(24)]\n",
    "avg_loc_2 = [0 for i in range(24)]\n",
    "std_loc_2 = [0 for i in range(24)]\n",
    "\n",
    "mode_loc_0 = [0 for i in range(24)]\n",
    "mode_loc_1 = [0 for i in range(24)]\n",
    "mode_loc_2 = [0 for i in range(24)]\n",
    "\n",
    "for j in range(24):\n",
    "        avg_vmt_0[j] = cluster_data[cluster_data['income_classes'] == 0]['VMT_Hr'+str(j+1)].mean()\n",
    "        std_vmt_0[j] = cluster_data[cluster_data['income_classes'] == 0]['VMT_Hr'+str(j+1)].std()\n",
    "        avg_vmt_1[j] = cluster_data[cluster_data['income_classes'] == 1]['VMT_Hr'+str(j+1)].mean()\n",
    "        std_vmt_1[j] = cluster_data[cluster_data['income_classes'] == 1]['VMT_Hr'+str(j+1)].std()\n",
    "        avg_vmt_2[j] = cluster_data[cluster_data['income_classes'] == 2]['VMT_Hr'+str(j+1)].mean()\n",
    "        std_vmt_2[j] = cluster_data[cluster_data['income_classes'] == 2]['VMT_Hr'+str(j+1)].std()\n",
    "        avg_loc_0[j] = cluster_data[cluster_data['income_classes'] == 0]['location_hr_'+str(j+1)].mean()\n",
    "        std_loc_0[j] = cluster_data[cluster_data['income_classes'] == 0]['location_hr_'+str(j+1)].std()\n",
    "        avg_loc_1[j] = cluster_data[cluster_data['income_classes'] == 1]['location_hr_'+str(j+1)].mean()\n",
    "        std_loc_1[j] = cluster_data[cluster_data['income_classes'] == 1]['location_hr_'+str(j+1)].std() \n",
    "        avg_loc_2[j] = cluster_data[cluster_data['income_classes'] == 2]['location_hr_'+str(j+1)].mean()\n",
    "        std_loc_2[j] = cluster_data[cluster_data['income_classes'] == 2]['location_hr_'+str(j+1)].std() \n",
    "        \n",
    "#         mode_loc_0[j] = stats.mode(cluster_data[cluster_data['cluster_3'] == 0]['location_hr_'+str(j+1)])[0][0]\n",
    "#         mode_loc_1[j] = stats.mode(cluster_data[cluster_data['cluster_3'] == 1]['location_hr_'+str(j+1)])[0][0]\n",
    "#         mode_loc_2[j] = stats.mode(cluster_data[cluster_data['cluster_3'] == 2]['location_hr_'+str(j+1)])[0][0]\n",
    "        \n",
    "\n"
   ]
  },
  {
   "cell_type": "code",
   "execution_count": null,
   "metadata": {},
   "outputs": [],
   "source": [
    "import matplotlib.pyplot as plt\n",
    "avg_vmt_0 = np.asarray(avg_vmt_0)\n",
    "std_vmt_0 = np.asarray(std_vmt_0)\n",
    "avg_vmt_1 = np.asarray(avg_vmt_1)\n",
    "std_vmt_1 = np.asarray(std_vmt_1)\n",
    "avg_vmt_2 = np.asarray(avg_vmt_2)\n",
    "std_vmt_2 = np.asarray(std_vmt_2)\n",
    "avg_loc_0 = np.asarray(avg_loc_0)\n",
    "std_loc_0 = np.asarray(std_loc_0)\n",
    "avg_loc_1 = np.asarray(avg_loc_1)\n",
    "std_loc_1 = np.asarray(std_loc_1)\n",
    "avg_loc_2 = np.asarray(avg_loc_2)\n",
    "std_loc_2 = np.asarray(std_loc_2)\n",
    "\n",
    "mode_loc_0 = np.asarray(mode_loc_0)\n",
    "mode_loc_1 = np.asarray(mode_loc_1)\n",
    "mode_loc_2 = np.asarray(mode_loc_2)\n",
    "\n",
    "\n",
    "fig = plt.figure(figsize=(20,10),dpi=300)\n",
    "plt.plot(tod, avg_vmt_0, 'k-', label = 'lower-level income')\n",
    "plt.plot(tod, avg_vmt_1, 'c--', label = 'middle-level income')\n",
    "plt.plot(tod, avg_vmt_2, 'r-.', label = 'upper-level income')\n",
    "# plt.plot(tod, avg_vmt_3, 'm:', label = 'Cluster 4')\n",
    "plt.fill_between(tod, avg_vmt_0-0.05*std_vmt_0, avg_vmt_0+0.05*std_vmt_0,alpha=0.1, edgecolor='#0000FF', facecolor='#0000FF',\n",
    "    linewidth=4, linestyle='dashdot', antialiased=True)\n",
    "plt.fill_between(tod, avg_vmt_1-0.05*std_vmt_1, avg_vmt_1+0.05*std_vmt_1,alpha=0.1, edgecolor='#FF0000', facecolor='#FF0000',\n",
    "    linewidth=0, linestyle='dashdot', antialiased=True)\n",
    "plt.fill_between(tod, avg_vmt_2-0.05*std_vmt_2, avg_vmt_2+0.05*std_vmt_2,alpha=0.1, edgecolor='#008000', facecolor='#008000',\n",
    "    linewidth=4, linestyle='dashdot', antialiased=True)\n",
    "# plt.fill_between(tod, avg_vmt_3-0.05*std_vmt_3, avg_vmt_3+0.05*std_vmt_3,alpha=0.1, edgecolor='#2F4FCC', facecolor='#7EFF99',\n",
    "#     linewidth=0)\n",
    "plt.xticks(rotation=45,fontsize=12)\n",
    "plt.yticks(fontsize=12)\n",
    "plt.xlabel('Time of Day',fontsize=18)\n",
    "plt.ylabel('VMT (Miles)',fontsize=18)\n",
    "plt.title('MUDs residents VMT during time of day',fontsize=28)\n",
    "plt.legend(fontsize=14)\n",
    "\n",
    "plt.show()"
   ]
  },
  {
   "cell_type": "code",
   "execution_count": null,
   "metadata": {},
   "outputs": [],
   "source": [
    "final_input_reidx = final_input.reset_index()"
   ]
  },
  {
   "cell_type": "code",
   "execution_count": null,
   "metadata": {},
   "outputs": [],
   "source": [
    "sum(final_input_reidx.loc[10,'new_avail_20'])"
   ]
  },
  {
   "cell_type": "code",
   "execution_count": null,
   "metadata": {},
   "outputs": [],
   "source": [
    "final_input_reidx.loc[10,'new_avail_20'] == 'infeasible'"
   ]
  },
  {
   "cell_type": "code",
   "execution_count": null,
   "metadata": {},
   "outputs": [],
   "source": [
    "final_input_reidx = final_input.copy()"
   ]
  },
  {
   "cell_type": "code",
   "execution_count": null,
   "metadata": {},
   "outputs": [],
   "source": [
    "final_input_reidx['new_avail_20']"
   ]
  },
  {
   "cell_type": "code",
   "execution_count": null,
   "metadata": {
    "scrolled": true
   },
   "outputs": [],
   "source": [
    "final_input_reidx.head(20)"
   ]
  },
  {
   "cell_type": "markdown",
   "metadata": {},
   "source": [
    "Create empty dataframe and plot"
   ]
  },
  {
   "cell_type": "code",
   "execution_count": null,
   "metadata": {},
   "outputs": [],
   "source": [
    "MudShare = pd.DataFrame()\n",
    "  \n",
    "print(MudShare)\n",
    "  \n",
    "# append columns to an empty DataFrame\n",
    "MudShare['Census Division'] = ['New England', 'Middle Atlantic', 'East North Central',\n",
    "                               'West North Central', 'South Atlantic', 'East South Central',\n",
    "                               'West South Central', 'Mountain', 'Pacific']\n",
    "MudShare['Cluster 1 (I20E20)'] = [0.374, 0.405, 0.409, 0.358, 0.346, 0.352, 0.372, 0.401, 0.394]\n",
    "MudShare['Cluster 2 (I20E20)'] = [0.273, 0.339, 0.4, 0.414, 0.385, 0.4, 0.396, 0.378, 0.352]\n",
    "MudShare['Cluster 3 (I20E20)'] = [0.297, 0.336, 0.319, 0.361, 0.308, 0.273, 0.305, 0.329, 0.326]\n",
    "\n",
    "MudShare['Cluster 1 (I20E80)'] = [0.505, 0.569, 0.587, 0.575, 0.524, 0.444, 0.576, 0.558, 0.589]\n",
    "MudShare['Cluster 2 (I20E80)'] = [0.545, 0.504, 0.667, 0.414, 0.489, 0.6, 0.569, 0.514, 0.548]\n",
    "MudShare['Cluster 3 (I20E80)'] = [0.468, 0.471, 0.47, 0.562, 0.473, 0.364, 0.491, 0.503, 0.495]\n",
    "\n",
    "MudShare['Cluster 1 (I50E20)'] = [0.176, 0.155, 0.166, 0.119, 0.197, 0.241, 0.198, 0.142, 0.139]\n",
    "MudShare['Cluster 2 (I50E20)'] = [0.182, 0.189, 0.156, 0.034, 0.222, 0.2, 0.229, 0.189, 0.129]\n",
    "MudShare['Cluster 3 (I50E20)'] = [0.255, 0.247, 0.258, 0.16, 0.256, 0.264, 0.254, 0.207, 0.218]\n",
    "\n",
    "MudShare['Cluster 1 (I50E80)'] = [0.813, 0.837, 0.822, 0.839, 0.837, 0.759, 0.839, 0.865, 0.829]\n",
    "MudShare['Cluster 2 (I50E80)'] = [0.909, 0.803, 0.822, 0.828, 0.819, 0.8, 0.833, 0.864, 0.848]\n",
    "MudShare['Cluster 3 (I50E80)'] = [0.755, 0.718, 0.705, 0.774, 0.72, 0.763, 0.739, 0.748, 0.733]\n",
    "\n",
    "MudShare"
   ]
  },
  {
   "cell_type": "code",
   "execution_count": null,
   "metadata": {},
   "outputs": [],
   "source": [
    "MudShare['Income 1 (I20E20)'] = [0.359, 0.38, 0.383, 0.333, 0.342, 0.433, 0.36, 0.411, 0.355]\n",
    "MudShare['Income 2 (I20E20)'] = [0.302, 0.338, 0.339, 0.378, 0.316, 0.28, 0.315, 0.33, 0.334]\n",
    "MudShare['Income 3 (I20E20)'] = [0.25, 0.308, 0.261, 0.308, 0.274, 0.143, 0.241, 0.333, 0.667]\n",
    "\n",
    "MudShare['Income 1 (I20E80)'] = [0.544, 0.555, 0.588, 0.519, 0.499, 0.467, 0.567, 0.545, 0.554]\n",
    "MudShare['Income 2 (I20E80)'] = [0.467, 0.465, 0.489, 0.58, 0.487, 0.394, 0.497, 0.511, 0.497]\n",
    "MudShare['Income 3 (I20E80)'] = [0.357, 0.308, 0.398, 0.5, 0.414, 0.143, 0.5, 0.444, 0.667]\n",
    "\n",
    "MudShare['Income 1 (I50E20)'] = [0.204, 0.161, 0.152, 0.132, 0.206, 0.167, 0.213, 0.138, 0.157]\n",
    "MudShare['Income 2 (I50E20)'] = [0.245, 0.253, 0.253, 0.145, 0.249, 0.265, 0.248, 0.203, 0.218]\n",
    "MudShare['Income 3 (I50E20)'] = [0.286, 0.615, 0.28, 0.192, 0.29, 0.429, 0.259, 0.333, 0.312]\n",
    "\n",
    "MudShare['Income 1 (I50E80)'] = [0.845, 0.811, 0.805, 0.783, 0.809, 0.733, 0.824, 0.822, 0.805]\n",
    "MudShare['Income 2 (I50E80)'] = [0.752, 0.718, 0.728, 0.801, 0.741, 0.787, 0.75, 0.775, 0.732]\n",
    "MudShare['Income 3 (I50E80)'] = [0.714, 0.462, 0.616, 0.731, 0.634, 0.428, 0.629, 0.667, 0.623]"
   ]
  },
  {
   "cell_type": "code",
   "execution_count": null,
   "metadata": {},
   "outputs": [],
   "source": [
    "MudShare"
   ]
  },
  {
   "cell_type": "code",
   "execution_count": null,
   "metadata": {},
   "outputs": [],
   "source": [
    "\n",
    "plt.style.use('fivethirtyeight')\n",
    "\n",
    "x1 = MudShare['Cluster 1 (I20E20)']*100\n",
    "x2 = MudShare['Cluster 2 (I20E20)']*100\n",
    "x3 = MudShare['Cluster 3 (I20E20)']*100\n",
    "x4 = MudShare['Cluster 1 (I20E80)']*100\n",
    "x5 = MudShare['Cluster 2 (I20E80)']*100\n",
    "x6 = MudShare['Cluster 3 (I20E80)']*100\n",
    "\n",
    "y = MudShare['Census Division']\n",
    "fig = plt.figure(figsize=(10, 8), dpi=200)\n",
    "# fig(figsize=(8, 6), dpi=80)\n",
    "ax1 = fig.add_subplot(111)\n",
    "\n",
    "ax1.scatter(x1, y, s=50, c='b', marker=\"^\", label='Cluster 1 (End Over 20 miles)')\n",
    "ax1.scatter(x2, y, s=50, c='r', marker=\"^\", label='Cluster 2 (End Over 20 miles)')\n",
    "ax1.scatter(x3, y, s=50, c='g', marker=\"^\", label='Cluster 3 (End Over 20 miles)')\n",
    "ax1.scatter(x4, y, s=50, c='b', marker=\"o\", label='Cluster 1 (End Over 80 miles)')\n",
    "ax1.scatter(x5, y, s=50, c='r', marker=\"o\", label='Cluster 2 (End Over 80 miles)')\n",
    "ax1.scatter(x6, y, s=50, c='g', marker=\"o\", label='Cluster 3 (End Over 80 miles)')\n",
    "plt.xlabel(\"Share (%)\")\n",
    "plt.title('Expected share of MUDs deployment (Initail 20 miles)')\n",
    "plt.legend(loc='best',prop={'size': 7.2});\n",
    "plt.show()"
   ]
  },
  {
   "cell_type": "code",
   "execution_count": null,
   "metadata": {},
   "outputs": [],
   "source": [
    "x1 = MudShare['Cluster 1 (I50E20)']*100\n",
    "x2 = MudShare['Cluster 2 (I50E20)']*100\n",
    "x3 = MudShare['Cluster 3 (I50E20)']*100\n",
    "x4 = MudShare['Cluster 1 (I50E80)']*100\n",
    "x5 = MudShare['Cluster 2 (I50E80)']*100\n",
    "x6 = MudShare['Cluster 3 (I50E80)']*100\n",
    "\n",
    "y = MudShare['Census Division']\n",
    "fig = plt.figure(figsize=(10, 8), dpi=200)\n",
    "# fig(figsize=(8, 6), dpi=80)\n",
    "ax1 = fig.add_subplot(111)\n",
    "\n",
    "ax1.scatter(x1, y, s=50, c='b', marker=\"^\", label='Cluster 1 (End Over 20 miles)')\n",
    "ax1.scatter(x2, y, s=50, c='r', marker=\"^\", label='Cluster 2 (End Over 20 miles)')\n",
    "ax1.scatter(x3, y, s=50, c='g', marker=\"^\", label='Cluster 3 (End Over 20 miles)')\n",
    "ax1.scatter(x4, y, s=50, c='b', marker=\"o\", label='Cluster 1 (End Over 80 miles)')\n",
    "ax1.scatter(x5, y, s=50, c='r', marker=\"o\", label='Cluster 2 (End Over 80 miles)')\n",
    "ax1.scatter(x6, y, s=50, c='g', marker=\"o\", label='Cluster 3 (End Over 80 miles)')\n",
    "plt.xlabel('Share (%)')\n",
    "plt.title('Expected share of MUDs deployment (Initail 50 miles)')\n",
    "plt.legend(loc='upper center',prop={'size': 7.5});\n",
    "plt.show()"
   ]
  },
  {
   "cell_type": "code",
   "execution_count": null,
   "metadata": {},
   "outputs": [],
   "source": []
  },
  {
   "cell_type": "code",
   "execution_count": null,
   "metadata": {},
   "outputs": [],
   "source": [
    "x1 = MudShare['Income 1 (I20E20)']*100\n",
    "x2 = MudShare['Income 2 (I20E20)']*100\n",
    "x3 = MudShare['Income 3 (I20E20)']*100\n",
    "x4 = MudShare['Income 1 (I20E80)']*100\n",
    "x5 = MudShare['Income 2 (I20E80)']*100\n",
    "x6 = MudShare['Income 3 (I20E80)']*100\n",
    "\n",
    "y = MudShare['Census Division']\n",
    "fig = plt.figure(figsize=(10, 8), dpi=200)\n",
    "# fig(figsize=(8, 6), dpi=80)\n",
    "ax1 = fig.add_subplot(111)\n",
    "\n",
    "ax1.scatter(x1, y, s=50, c='b', marker=\"^\", label='Lower-income class (End Over 20 miles)')\n",
    "ax1.scatter(x2, y, s=50, c='r', marker=\"^\", label='Middle-income class (End Over 20 miles)')\n",
    "ax1.scatter(x3, y, s=50, c='g', marker=\"^\", label='Upper-income class (End Over 20 miles)')\n",
    "ax1.scatter(x4, y, s=50, c='b', marker=\"o\", label='Lower-income class (End Over 80 miles)')\n",
    "ax1.scatter(x5, y, s=50, c='r', marker=\"o\", label='Middle-income class (End Over 80 miles)')\n",
    "ax1.scatter(x6, y, s=50, c='g', marker=\"o\", label='Upper-income class (End Over 80 miles)')\n",
    "plt.xlabel(\"Share (%)\")\n",
    "plt.title('Expected share of MUDs deployment (Initail 20 miles)')\n",
    "plt.legend(loc='best',prop={'size': 7.5});\n",
    "plt.show()"
   ]
  },
  {
   "cell_type": "code",
   "execution_count": null,
   "metadata": {},
   "outputs": [],
   "source": [
    "x1 = MudShare['Income 1 (I50E20)']*100\n",
    "x2 = MudShare['Income 2 (I50E20)']*100\n",
    "x3 = MudShare['Income 3 (I50E20)']*100\n",
    "x4 = MudShare['Income 1 (I50E80)']*100\n",
    "x5 = MudShare['Income 2 (I50E80)']*100\n",
    "x6 = MudShare['Income 3 (I50E80)']*100\n",
    "\n",
    "y = MudShare['Census Division']\n",
    "fig = plt.figure(figsize=(10, 8), dpi=600)\n",
    "# fig(figsize=(8, 6), dpi=80)\n",
    "ax1 = fig.add_subplot(111)\n",
    "\n",
    "ax1.scatter(x1, y, s=50, c='b', marker=\"^\", label='Lower-income class (End Over 20 miles)')\n",
    "ax1.scatter(x2, y, s=50, c='r', marker=\"^\", label='Middle-income class (End Over 20 miles)')\n",
    "ax1.scatter(x3, y, s=50, c='g', marker=\"^\", label='Upper-income class (End Over 20 miles)')\n",
    "ax1.scatter(x4, y, s=50, c='b', marker=\"o\", label='Lower-income class (End Over 80 miles)')\n",
    "ax1.scatter(x5, y, s=50, c='r', marker=\"o\", label='Middle-income class (End Over 80 miles)')\n",
    "ax1.scatter(x6, y, s=50, c='g', marker=\"o\", label='Upper-income class (End Over 80 miles)')\n",
    "plt.xlabel('Share (%)')\n",
    "plt.title('Expected share of MUDs deployment (Initail 50 miles)')\n",
    "plt.legend(loc='upper center',prop={'size': 7.5});\n",
    "plt.show()"
   ]
  },
  {
   "cell_type": "code",
   "execution_count": null,
   "metadata": {},
   "outputs": [],
   "source": []
  },
  {
   "cell_type": "code",
   "execution_count": null,
   "metadata": {},
   "outputs": [],
   "source": [
    "final_input_reidx.head()"
   ]
  },
  {
   "cell_type": "code",
   "execution_count": null,
   "metadata": {},
   "outputs": [],
   "source": [
    "final_input_reidx_energy = final_input_reidx.copy()"
   ]
  },
  {
   "cell_type": "markdown",
   "metadata": {},
   "source": [
    "INFEASIBLE SET SHARE"
   ]
  },
  {
   "cell_type": "code",
   "execution_count": null,
   "metadata": {},
   "outputs": [],
   "source": [
    "# cluster0_infeasible = final_input_reidx_energy[final_input_reidx_energy['income_classes'] == 0]\n",
    "# cluster1_infeasible = final_input_reidx_energy[final_input_reidx_energy['income_classes'] == 1]\n",
    "# cluster2_infeasible = final_input_reidx_energy[final_input_reidx_energy['income_classes'] == 2]\n",
    "\n",
    "cluster0 = final_input_reidx_energy[final_input_reidx_energy['Cluster_new_features'] == 0]\n",
    "cluster1 = final_input_reidx_energy[final_input_reidx_energy['Cluster_new_features'] == 1]\n",
    "cluster2 = final_input_reidx_energy[final_input_reidx_energy['Cluster_new_features'] == 2]\n",
    "\n",
    "cluster0A = cluster0[cluster0['CENSUS_D'] == 1]\n",
    "cluster0B = cluster0[cluster0['CENSUS_D'] == 2]\n",
    "cluster0C = cluster0[cluster0['CENSUS_D'] == 3]\n",
    "cluster0D = cluster0[cluster0['CENSUS_D'] == 4]\n",
    "cluster0E = cluster0[cluster0['CENSUS_D'] == 5]\n",
    "cluster0F = cluster0[cluster0['CENSUS_D'] == 6]\n",
    "cluster0G = cluster0[cluster0['CENSUS_D'] == 7]\n",
    "cluster0H = cluster0[cluster0['CENSUS_D'] == 8]\n",
    "cluster0I = cluster0[cluster0['CENSUS_D'] == 9]\n",
    "\n",
    "cluster1A = cluster1[cluster1['CENSUS_D'] == 1]\n",
    "cluster1B = cluster1[cluster1['CENSUS_D'] == 2]\n",
    "cluster1C = cluster1[cluster1['CENSUS_D'] == 3]\n",
    "cluster1D = cluster1[cluster1['CENSUS_D'] == 4]\n",
    "cluster1E = cluster1[cluster1['CENSUS_D'] == 5]\n",
    "cluster1F = cluster1[cluster1['CENSUS_D'] == 6]\n",
    "cluster1G = cluster1[cluster1['CENSUS_D'] == 7]\n",
    "cluster1H = cluster1[cluster1['CENSUS_D'] == 8]\n",
    "cluster1I = cluster1[cluster1['CENSUS_D'] == 9]\n",
    "\n",
    "cluster2A = cluster2[cluster2['CENSUS_D'] == 1]\n",
    "cluster2B = cluster2[cluster2['CENSUS_D'] == 2]\n",
    "cluster2C = cluster2[cluster2['CENSUS_D'] == 3]\n",
    "cluster2D = cluster2[cluster2['CENSUS_D'] == 4]\n",
    "cluster2E = cluster2[cluster2['CENSUS_D'] == 5]\n",
    "cluster2F = cluster2[cluster2['CENSUS_D'] == 6]\n",
    "cluster2G = cluster2[cluster2['CENSUS_D'] == 7]\n",
    "cluster2H = cluster2[cluster2['CENSUS_D'] == 8]\n",
    "cluster2I = cluster2[cluster2['CENSUS_D'] == 9]"
   ]
  },
  {
   "cell_type": "code",
   "execution_count": null,
   "metadata": {},
   "outputs": [],
   "source": [
    "print('Initial range miles with 20 miles')\n",
    "\n",
    "print('End over 20 miles:')\n",
    "print(np.mean(cluster0A['new_avail_20']=='infeasible'))\n",
    "print(np.mean(cluster1A['new_avail_20']=='infeasible'))\n",
    "print(np.mean(cluster2A['new_avail_20']=='infeasible'))\n",
    "print(np.mean(cluster0B['new_avail_20']=='infeasible'))\n",
    "print(np.mean(cluster1B['new_avail_20']=='infeasible'))\n",
    "print(np.mean(cluster2B['new_avail_20']=='infeasible'))\n",
    "print(np.mean(cluster0C['new_avail_20']=='infeasible'))\n",
    "print(np.mean(cluster1C['new_avail_20']=='infeasible'))\n",
    "print(np.mean(cluster2C['new_avail_20']=='infeasible'))\n",
    "print(np.mean(cluster0D['new_avail_20']=='infeasible'))\n",
    "print(np.mean(cluster1D['new_avail_20']=='infeasible'))\n",
    "print(np.mean(cluster2D['new_avail_20']=='infeasible'))\n",
    "print(np.mean(cluster0E['new_avail_20']=='infeasible'))\n",
    "print(np.mean(cluster1E['new_avail_20']=='infeasible'))\n",
    "print(np.mean(cluster2E['new_avail_20']=='infeasible'))\n",
    "print(np.mean(cluster0F['new_avail_20']=='infeasible'))\n",
    "print(np.mean(cluster1F['new_avail_20']=='infeasible'))\n",
    "print(np.mean(cluster2F['new_avail_20']=='infeasible'))\n",
    "print(np.mean(cluster0G['new_avail_20']=='infeasible'))\n",
    "print(np.mean(cluster1G['new_avail_20']=='infeasible'))\n",
    "print(np.mean(cluster2G['new_avail_20']=='infeasible'))\n",
    "print(np.mean(cluster0H['new_avail_20']=='infeasible'))\n",
    "print(np.mean(cluster1H['new_avail_20']=='infeasible'))\n",
    "print(np.mean(cluster2H['new_avail_20']=='infeasible'))\n",
    "print(np.mean(cluster0I['new_avail_20']=='infeasible'))\n",
    "print(np.mean(cluster1I['new_avail_20']=='infeasible'))\n",
    "print(np.mean(cluster2I['new_avail_20']=='infeasible'))\n",
    "\n",
    "print('End over 80 miles')\n",
    "print(np.mean(cluster0A['new_avail_20_end80']=='infeasible'))\n",
    "print(np.mean(cluster1A['new_avail_20_end80']=='infeasible'))\n",
    "print(np.mean(cluster2A['new_avail_20_end80']=='infeasible'))\n",
    "print(np.mean(cluster0B['new_avail_20_end80']=='infeasible'))\n",
    "print(np.mean(cluster1B['new_avail_20_end80']=='infeasible'))\n",
    "print(np.mean(cluster2B['new_avail_20_end80']=='infeasible'))\n",
    "print(np.mean(cluster0C['new_avail_20_end80']=='infeasible'))\n",
    "print(np.mean(cluster1C['new_avail_20_end80']=='infeasible'))\n",
    "print(np.mean(cluster2C['new_avail_20_end80']=='infeasible'))\n",
    "print(np.mean(cluster0D['new_avail_20_end80']=='infeasible'))\n",
    "print(np.mean(cluster1D['new_avail_20_end80']=='infeasible'))\n",
    "print(np.mean(cluster2D['new_avail_20_end80']=='infeasible'))\n",
    "print(np.mean(cluster0E['new_avail_20_end80']=='infeasible'))\n",
    "print(np.mean(cluster1E['new_avail_20_end80']=='infeasible'))\n",
    "print(np.mean(cluster2E['new_avail_20_end80']=='infeasible'))\n",
    "print(np.mean(cluster0F['new_avail_20_end80']=='infeasible'))\n",
    "print(np.mean(cluster1F['new_avail_20_end80']=='infeasible'))\n",
    "print(np.mean(cluster2F['new_avail_20_end80']=='infeasible'))\n",
    "print(np.mean(cluster0G['new_avail_20_end80']=='infeasible'))\n",
    "print(np.mean(cluster1G['new_avail_20_end80']=='infeasible'))\n",
    "print(np.mean(cluster2G['new_avail_20_end80']=='infeasible'))\n",
    "print(np.mean(cluster0H['new_avail_20_end80']=='infeasible'))\n",
    "print(np.mean(cluster1H['new_avail_20_end80']=='infeasible'))\n",
    "print(np.mean(cluster2H['new_avail_20_end80']=='infeasible'))\n",
    "print(np.mean(cluster0I['new_avail_20_end80']=='infeasible'))\n",
    "print(np.mean(cluster1I['new_avail_20_end80']=='infeasible'))\n",
    "print(np.mean(cluster2I['new_avail_20_end80']=='infeasible'))"
   ]
  },
  {
   "cell_type": "code",
   "execution_count": null,
   "metadata": {},
   "outputs": [],
   "source": [
    "print('Initial range miles with 50 miles')\n",
    "\n",
    "print('End over 20 miles:')\n",
    "print(np.mean(cluster0A['new_avail_50']=='infeasible'))\n",
    "print(np.mean(cluster1A['new_avail_50']=='infeasible'))\n",
    "print(np.mean(cluster2A['new_avail_50']=='infeasible'))\n",
    "print(np.mean(cluster0B['new_avail_50']=='infeasible'))\n",
    "print(np.mean(cluster1B['new_avail_50']=='infeasible'))\n",
    "print(np.mean(cluster2B['new_avail_50']=='infeasible'))\n",
    "print(np.mean(cluster0C['new_avail_50']=='infeasible'))\n",
    "print(np.mean(cluster1C['new_avail_50']=='infeasible'))\n",
    "print(np.mean(cluster2C['new_avail_50']=='infeasible'))\n",
    "print(np.mean(cluster0D['new_avail_50']=='infeasible'))\n",
    "print(np.mean(cluster1D['new_avail_50']=='infeasible'))\n",
    "print(np.mean(cluster2D['new_avail_50']=='infeasible'))\n",
    "print(np.mean(cluster0E['new_avail_50']=='infeasible'))\n",
    "print(np.mean(cluster1E['new_avail_50']=='infeasible'))\n",
    "print(np.mean(cluster2E['new_avail_50']=='infeasible'))\n",
    "print(np.mean(cluster0F['new_avail_50']=='infeasible'))\n",
    "print(np.mean(cluster1F['new_avail_50']=='infeasible'))\n",
    "print(np.mean(cluster2F['new_avail_50']=='infeasible'))\n",
    "print(np.mean(cluster0G['new_avail_50']=='infeasible'))\n",
    "print(np.mean(cluster1G['new_avail_50']=='infeasible'))\n",
    "print(np.mean(cluster2G['new_avail_50']=='infeasible'))\n",
    "print(np.mean(cluster0H['new_avail_50']=='infeasible'))\n",
    "print(np.mean(cluster1H['new_avail_50']=='infeasible'))\n",
    "print(np.mean(cluster2H['new_avail_50']=='infeasible'))\n",
    "print(np.mean(cluster0I['new_avail_50']=='infeasible'))\n",
    "print(np.mean(cluster1I['new_avail_50']=='infeasible'))\n",
    "print(np.mean(cluster2I['new_avail_50']=='infeasible'))\n",
    "\n",
    "print('End over 80 miles')\n",
    "print(np.mean(cluster0A['new_avail_50_end80']=='infeasible'))\n",
    "print(np.mean(cluster1A['new_avail_50_end80']=='infeasible'))\n",
    "print(np.mean(cluster2A['new_avail_50_end80']=='infeasible'))\n",
    "print(np.mean(cluster0B['new_avail_50_end80']=='infeasible'))\n",
    "print(np.mean(cluster1B['new_avail_50_end80']=='infeasible'))\n",
    "print(np.mean(cluster2B['new_avail_50_end80']=='infeasible'))\n",
    "print(np.mean(cluster0C['new_avail_50_end80']=='infeasible'))\n",
    "print(np.mean(cluster1C['new_avail_50_end80']=='infeasible'))\n",
    "print(np.mean(cluster2C['new_avail_50_end80']=='infeasible'))\n",
    "print(np.mean(cluster0D['new_avail_50_end80']=='infeasible'))\n",
    "print(np.mean(cluster1D['new_avail_50_end80']=='infeasible'))\n",
    "print(np.mean(cluster2D['new_avail_50_end80']=='infeasible'))\n",
    "print(np.mean(cluster0E['new_avail_50_end80']=='infeasible'))\n",
    "print(np.mean(cluster1E['new_avail_50_end80']=='infeasible'))\n",
    "print(np.mean(cluster2E['new_avail_50_end80']=='infeasible'))\n",
    "print(np.mean(cluster0F['new_avail_50_end80']=='infeasible'))\n",
    "print(np.mean(cluster1F['new_avail_50_end80']=='infeasible'))\n",
    "print(np.mean(cluster2F['new_avail_50_end80']=='infeasible'))\n",
    "print(np.mean(cluster0G['new_avail_50_end80']=='infeasible'))\n",
    "print(np.mean(cluster1G['new_avail_50_end80']=='infeasible'))\n",
    "print(np.mean(cluster2G['new_avail_50_end80']=='infeasible'))\n",
    "print(np.mean(cluster0H['new_avail_50_end80']=='infeasible'))\n",
    "print(np.mean(cluster1H['new_avail_50_end80']=='infeasible'))\n",
    "print(np.mean(cluster2H['new_avail_50_end80']=='infeasible'))\n",
    "print(np.mean(cluster0I['new_avail_50_end80']=='infeasible'))\n",
    "print(np.mean(cluster1I['new_avail_50_end80']=='infeasible'))\n",
    "print(np.mean(cluster2I['new_avail_50_end80']=='infeasible'))"
   ]
  },
  {
   "cell_type": "code",
   "execution_count": null,
   "metadata": {},
   "outputs": [],
   "source": [
    "income0 = final_input_reidx_energy[final_input_reidx_energy['income_classes'] == 0]\n",
    "income1 = final_input_reidx_energy[final_input_reidx_energy['income_classes'] == 1]\n",
    "income2 = final_input_reidx_energy[final_input_reidx_energy['income_classes'] == 2]\n",
    "\n",
    "income0A = income0[income0['CENSUS_D'] == 1]\n",
    "income0B = income0[income0['CENSUS_D'] == 2]\n",
    "income0C = income0[income0['CENSUS_D'] == 3]\n",
    "income0D = income0[income0['CENSUS_D'] == 4]\n",
    "income0E = income0[income0['CENSUS_D'] == 5]\n",
    "income0F = income0[income0['CENSUS_D'] == 6]\n",
    "income0G = income0[income0['CENSUS_D'] == 7]\n",
    "income0H = income0[income0['CENSUS_D'] == 8]\n",
    "income0I = income0[income0['CENSUS_D'] == 9]\n",
    "\n",
    "income1A = income1[income1['CENSUS_D'] == 1]\n",
    "income1B = income1[income1['CENSUS_D'] == 2]\n",
    "income1C = income1[income1['CENSUS_D'] == 3]\n",
    "income1D = income1[income1['CENSUS_D'] == 4]\n",
    "income1E = income1[income1['CENSUS_D'] == 5]\n",
    "income1F = income1[income1['CENSUS_D'] == 6]\n",
    "income1G = income1[income1['CENSUS_D'] == 7]\n",
    "income1H = income1[income1['CENSUS_D'] == 8]\n",
    "income1I = income1[income1['CENSUS_D'] == 9]\n",
    "\n",
    "income2A = income2[income2['CENSUS_D'] == 1]\n",
    "income2B = income2[income2['CENSUS_D'] == 2]\n",
    "income2C = income2[income2['CENSUS_D'] == 3]\n",
    "income2D = income2[income2['CENSUS_D'] == 4]\n",
    "income2E = income2[income2['CENSUS_D'] == 5]\n",
    "income2F = income2[income2['CENSUS_D'] == 6]\n",
    "income2G = income2[income2['CENSUS_D'] == 7]\n",
    "income2H = income2[income2['CENSUS_D'] == 8]\n",
    "income2I = income2[income2['CENSUS_D'] == 9]"
   ]
  },
  {
   "cell_type": "code",
   "execution_count": null,
   "metadata": {},
   "outputs": [],
   "source": [
    "print('Initial range miles with 50 miles')\n",
    "\n",
    "print('End over 20 miles:')\n",
    "print(np.mean(income0A['new_avail_50']=='infeasible'))\n",
    "print(np.mean(income1A['new_avail_50']=='infeasible'))\n",
    "print(np.mean(income2A['new_avail_50']=='infeasible'))\n",
    "print(np.mean(income0B['new_avail_50']=='infeasible'))\n",
    "print(np.mean(income1B['new_avail_50']=='infeasible'))\n",
    "print(np.mean(income2B['new_avail_50']=='infeasible'))\n",
    "print(np.mean(income0C['new_avail_50']=='infeasible'))\n",
    "print(np.mean(income1C['new_avail_50']=='infeasible'))\n",
    "print(np.mean(income2C['new_avail_50']=='infeasible'))\n",
    "print(np.mean(income0D['new_avail_50']=='infeasible'))\n",
    "print(np.mean(income1D['new_avail_50']=='infeasible'))\n",
    "print(np.mean(income2D['new_avail_50']=='infeasible'))\n",
    "print(np.mean(income0E['new_avail_50']=='infeasible'))\n",
    "print(np.mean(income1E['new_avail_50']=='infeasible'))\n",
    "print(np.mean(income2E['new_avail_50']=='infeasible'))\n",
    "print(np.mean(income0F['new_avail_50']=='infeasible'))\n",
    "print(np.mean(income1F['new_avail_50']=='infeasible'))\n",
    "print(np.mean(income2F['new_avail_50']=='infeasible'))\n",
    "print(np.mean(income0G['new_avail_50']=='infeasible'))\n",
    "print(np.mean(income1G['new_avail_50']=='infeasible'))\n",
    "print(np.mean(income2G['new_avail_50']=='infeasible'))\n",
    "print(np.mean(income0H['new_avail_50']=='infeasible'))\n",
    "print(np.mean(income1H['new_avail_50']=='infeasible'))\n",
    "print(np.mean(income2H['new_avail_50']=='infeasible'))\n",
    "print(np.mean(income0I['new_avail_50']=='infeasible'))\n",
    "print(np.mean(income1I['new_avail_50']=='infeasible'))\n",
    "print(np.mean(income2I['new_avail_50']=='infeasible'))\n",
    "\n",
    "print('End over 80 miles')\n",
    "print(np.mean(income0A['new_avail_50_end80']=='infeasible'))\n",
    "print(np.mean(income1A['new_avail_50_end80']=='infeasible'))\n",
    "print(np.mean(income2A['new_avail_50_end80']=='infeasible'))\n",
    "print(np.mean(income0B['new_avail_50_end80']=='infeasible'))\n",
    "print(np.mean(income1B['new_avail_50_end80']=='infeasible'))\n",
    "print(np.mean(income2B['new_avail_50_end80']=='infeasible'))\n",
    "print(np.mean(income0C['new_avail_50_end80']=='infeasible'))\n",
    "print(np.mean(income1C['new_avail_50_end80']=='infeasible'))\n",
    "print(np.mean(income2C['new_avail_50_end80']=='infeasible'))\n",
    "print(np.mean(income0D['new_avail_50_end80']=='infeasible'))\n",
    "print(np.mean(income1D['new_avail_50_end80']=='infeasible'))\n",
    "print(np.mean(income2D['new_avail_50_end80']=='infeasible'))\n",
    "print(np.mean(income0E['new_avail_50_end80']=='infeasible'))\n",
    "print(np.mean(income1E['new_avail_50_end80']=='infeasible'))\n",
    "print(np.mean(income2E['new_avail_50_end80']=='infeasible'))\n",
    "print(np.mean(income0F['new_avail_50_end80']=='infeasible'))\n",
    "print(np.mean(income1F['new_avail_50_end80']=='infeasible'))\n",
    "print(np.mean(income2F['new_avail_50_end80']=='infeasible'))\n",
    "print(np.mean(income0G['new_avail_50_end80']=='infeasible'))\n",
    "print(np.mean(income1G['new_avail_50_end80']=='infeasible'))\n",
    "print(np.mean(income2G['new_avail_50_end80']=='infeasible'))\n",
    "print(np.mean(income0H['new_avail_50_end80']=='infeasible'))\n",
    "print(np.mean(income1H['new_avail_50_end80']=='infeasible'))\n",
    "print(np.mean(income2H['new_avail_50_end80']=='infeasible'))\n",
    "print(np.mean(income0I['new_avail_50_end80']=='infeasible'))\n",
    "print(np.mean(income1I['new_avail_50_end80']=='infeasible'))\n",
    "print(np.mean(income2I['new_avail_50_end80']=='infeasible'))"
   ]
  },
  {
   "cell_type": "code",
   "execution_count": null,
   "metadata": {},
   "outputs": [],
   "source": [
    "final_input_reidx_energy = final_input_reidx[final_input_reidx['new_avail_50_end80'] != 'infeasible']"
   ]
  },
  {
   "cell_type": "code",
   "execution_count": null,
   "metadata": {},
   "outputs": [],
   "source": [
    "cluster0_energy = final_input_reidx_energy[final_input_reidx_energy['income_classes'] == 0]\n",
    "cluster1_energy = final_input_reidx_energy[final_input_reidx_energy['income_classes'] == 1]\n",
    "cluster2_energy = final_input_reidx_energy[final_input_reidx_energy['income_classes'] == 2]\n",
    "\n",
    "cluster0A_energy = cluster0_energy[cluster0_energy['CENSUS_D'] == 1]\n",
    "cluster0B_energy = cluster0_energy[cluster0_energy['CENSUS_D'] == 2]\n",
    "cluster0C_energy = cluster0_energy[cluster0_energy['CENSUS_D'] == 3]\n",
    "cluster0D_energy = cluster0_energy[cluster0_energy['CENSUS_D'] == 4]\n",
    "cluster0E_energy = cluster0_energy[cluster0_energy['CENSUS_D'] == 5]\n",
    "cluster0F_energy = cluster0_energy[cluster0_energy['CENSUS_D'] == 6]\n",
    "cluster0G_energy = cluster0_energy[cluster0_energy['CENSUS_D'] == 7]\n",
    "cluster0H_energy = cluster0_energy[cluster0_energy['CENSUS_D'] == 8]\n",
    "cluster0I_energy = cluster0_energy[cluster0_energy['CENSUS_D'] == 9]\n",
    "\n",
    "cluster1A_energy = cluster1_energy[cluster1_energy['CENSUS_D'] == 1]\n",
    "cluster1B_energy = cluster1_energy[cluster1_energy['CENSUS_D'] == 2]\n",
    "cluster1C_energy = cluster1_energy[cluster1_energy['CENSUS_D'] == 3]\n",
    "cluster1D_energy = cluster1_energy[cluster1_energy['CENSUS_D'] == 4]\n",
    "cluster1E_energy = cluster1_energy[cluster1_energy['CENSUS_D'] == 5]\n",
    "cluster1F_energy = cluster1_energy[cluster1_energy['CENSUS_D'] == 6]\n",
    "cluster1G_energy = cluster1_energy[cluster1_energy['CENSUS_D'] == 7]\n",
    "cluster1H_energy = cluster1_energy[cluster1_energy['CENSUS_D'] == 8]\n",
    "cluster1I_energy = cluster1_energy[cluster1_energy['CENSUS_D'] == 9]\n",
    "\n",
    "cluster2A_energy = cluster2_energy[cluster2_energy['CENSUS_D'] == 1]\n",
    "cluster2B_energy = cluster2_energy[cluster2_energy['CENSUS_D'] == 2]\n",
    "cluster2C_energy = cluster2_energy[cluster2_energy['CENSUS_D'] == 3]\n",
    "cluster2D_energy = cluster2_energy[cluster2_energy['CENSUS_D'] == 4]\n",
    "cluster2E_energy = cluster2_energy[cluster2_energy['CENSUS_D'] == 5]\n",
    "cluster2F_energy = cluster2_energy[cluster2_energy['CENSUS_D'] == 6]\n",
    "cluster2G_energy = cluster2_energy[cluster2_energy['CENSUS_D'] == 7]\n",
    "cluster2H_energy = cluster2_energy[cluster2_energy['CENSUS_D'] == 8]\n",
    "cluster2I_energy = cluster2_energy[cluster2_energy['CENSUS_D'] == 9]"
   ]
  },
  {
   "cell_type": "code",
   "execution_count": null,
   "metadata": {},
   "outputs": [],
   "source": []
  },
  {
   "cell_type": "code",
   "execution_count": null,
   "metadata": {
    "scrolled": true
   },
   "outputs": [],
   "source": [
    "cluster2I_energy['energy_new_avail_50'].mean()"
   ]
  },
  {
   "cell_type": "code",
   "execution_count": null,
   "metadata": {},
   "outputs": [],
   "source": [
    "EnergyUse = pd.DataFrame()\n",
    "EnergyUse['Census Division'] = ['New England', 'Middle Atlantic', 'East North Central',\n",
    "                               'West North Central', 'South Atlantic', 'East South Central',\n",
    "                               'West South Central', 'Mountain', 'Pacific']"
   ]
  },
  {
   "cell_type": "code",
   "execution_count": null,
   "metadata": {
    "scrolled": true
   },
   "outputs": [],
   "source": [
    "EnergyUse['Income 1 (I50E20)'] = [cluster0A_energy['energy_new_avail_50'].mean(),\n",
    "                                   cluster0B_energy['energy_new_avail_50'].mean(),\n",
    "                                   cluster0C_energy['energy_new_avail_50'].mean(),\n",
    "                                   cluster0D_energy['energy_new_avail_50'].mean(),\n",
    "                                   cluster0E_energy['energy_new_avail_50'].mean(),\n",
    "                                   cluster0F_energy['energy_new_avail_50'].mean(),\n",
    "                                   cluster0G_energy['energy_new_avail_50'].mean(),\n",
    "                                   cluster0H_energy['energy_new_avail_50'].mean(),\n",
    "                                   cluster0I_energy['energy_new_avail_50'].mean()]\n",
    "EnergyUse['Income 2 (I50E20)'] = [cluster1A_energy['energy_new_avail_50'].mean(),\n",
    "                                   cluster1B_energy['energy_new_avail_50'].mean(),\n",
    "                                   cluster1C_energy['energy_new_avail_50'].mean(),\n",
    "                                   cluster1D_energy['energy_new_avail_50'].mean(),\n",
    "                                   cluster1E_energy['energy_new_avail_50'].mean(),\n",
    "                                   cluster1F_energy['energy_new_avail_50'].mean(),\n",
    "                                   cluster1G_energy['energy_new_avail_50'].mean(),\n",
    "                                   cluster1H_energy['energy_new_avail_50'].mean(),\n",
    "                                   cluster1I_energy['energy_new_avail_50'].mean()]\n",
    "EnergyUse['Income 3 (I50E20)'] = [cluster2A_energy['energy_new_avail_50'].mean(),\n",
    "                                   cluster2B_energy['energy_new_avail_50'].mean(),\n",
    "                                   cluster2C_energy['energy_new_avail_50'].mean(),\n",
    "                                   cluster2D_energy['energy_new_avail_50'].mean(),\n",
    "                                   cluster2E_energy['energy_new_avail_50'].mean(),\n",
    "                                   cluster2F_energy['energy_new_avail_50'].mean(),\n",
    "                                   cluster2G_energy['energy_new_avail_50'].mean(),\n",
    "                                   cluster2H_energy['energy_new_avail_50'].mean(),\n",
    "                                   cluster2I_energy['energy_new_avail_50'].mean()]\n",
    "\n",
    "EnergyUse"
   ]
  },
  {
   "cell_type": "code",
   "execution_count": null,
   "metadata": {},
   "outputs": [],
   "source": []
  },
  {
   "cell_type": "code",
   "execution_count": null,
   "metadata": {},
   "outputs": [],
   "source": [
    "EnergyUse['Income 1 (I50E80)'] = [cluster0A_energy['energy_new_avail_50_end80'].mean(),\n",
    "                                   cluster0B_energy['energy_new_avail_50_end80'].mean(),\n",
    "                                   cluster0C_energy['energy_new_avail_50_end80'].mean(),\n",
    "                                   cluster0D_energy['energy_new_avail_50_end80'].mean(),\n",
    "                                   cluster0E_energy['energy_new_avail_50_end80'].mean(),\n",
    "                                   cluster0F_energy['energy_new_avail_50_end80'].mean(),\n",
    "                                   cluster0G_energy['energy_new_avail_50_end80'].mean(),\n",
    "                                   cluster0H_energy['energy_new_avail_50_end80'].mean(),\n",
    "                                   cluster0I_energy['energy_new_avail_50_end80'].mean()]\n",
    "EnergyUse['Income 2 (I50E80)'] = [cluster1A_energy['energy_new_avail_50_end80'].mean(),\n",
    "                                   cluster1B_energy['energy_new_avail_50_end80'].mean(),\n",
    "                                   cluster1C_energy['energy_new_avail_50_end80'].mean(),\n",
    "                                   cluster1D_energy['energy_new_avail_50_end80'].mean(),\n",
    "                                   cluster1E_energy['energy_new_avail_50_end80'].mean(),\n",
    "                                   cluster1F_energy['energy_new_avail_50_end80'].mean(),\n",
    "                                   cluster1G_energy['energy_new_avail_50_end80'].mean(),\n",
    "                                   cluster1H_energy['energy_new_avail_50_end80'].mean(),\n",
    "                                   cluster1I_energy['energy_new_avail_50_end80'].mean()]\n",
    "EnergyUse['Income 3 (I50E80)'] = [cluster2A_energy['energy_new_avail_50_end80'].mean(),\n",
    "                                   cluster2B_energy['energy_new_avail_50_end80'].mean(),\n",
    "                                   cluster2C_energy['energy_new_avail_50_end80'].mean(),\n",
    "                                   cluster2D_energy['energy_new_avail_50_end80'].mean(),\n",
    "                                   cluster2E_energy['energy_new_avail_50_end80'].mean(),\n",
    "                                   cluster2F_energy['energy_new_avail_50_end80'].mean(),\n",
    "                                   cluster2G_energy['energy_new_avail_50_end80'].mean(),\n",
    "                                   cluster2H_energy['energy_new_avail_50_end80'].mean(),\n",
    "                                   cluster2I_energy['energy_new_avail_50_end80'].mean()]\n",
    "\n",
    "EnergyUse"
   ]
  },
  {
   "cell_type": "code",
   "execution_count": null,
   "metadata": {
    "scrolled": false
   },
   "outputs": [],
   "source": [
    "x1 = EnergyUse['Cluster 1 (I20E20)']*7.2\n",
    "x2 = EnergyUse['Cluster 2 (I20E20)']*7.2\n",
    "x3 = EnergyUse['Cluster 3 (I20E20)']*7.2\n",
    "x4 = EnergyUse['Cluster 1 (I20E80)']*7.2\n",
    "x5 = EnergyUse['Cluster 2 (I20E80)']*7.2\n",
    "x6 = EnergyUse['Cluster 3 (I20E80)']*7.2\n",
    "\n",
    "y = EnergyUse['Census Division']\n",
    "fig = plt.figure(figsize=(10, 8), dpi=600)\n",
    "# fig(figsize=(8, 6), dpi=80)\n",
    "ax1 = fig.add_subplot(111)\n",
    "\n",
    "ax1.scatter(x1, y, s=50, c='b', marker=\"^\", label='Cluster 1 (End Over 20 miles)')\n",
    "ax1.scatter(x2, y, s=50, c='r', marker=\"^\", label='Cluster 2 (End Over 20 miles)')\n",
    "ax1.scatter(x3, y, s=50, c='g', marker=\"^\", label='Cluster 3 (End Over 20 miles)')\n",
    "ax1.scatter(x4, y, s=50, c='b', marker=\"o\", label='Cluster 1 (End Over 80 miles)')\n",
    "ax1.scatter(x5, y, s=50, c='r', marker=\"o\", label='Cluster 2 (End Over 80 miles)')\n",
    "ax1.scatter(x6, y, s=50, c='g', marker=\"o\", label='Cluster 3 (End Over 80 miles)')\n",
    "plt.xlabel(\"Electricity & Energy (KWh)\")\n",
    "# plt.ylabel(\"Y axis label\")\n",
    "plt.title('Expected energy in MUDs chargers (Initail 20 miles)')\n",
    "plt.legend(loc='upper center',prop={'size': 8});\n",
    "plt.show()"
   ]
  },
  {
   "cell_type": "code",
   "execution_count": null,
   "metadata": {
    "scrolled": false
   },
   "outputs": [],
   "source": [
    "x1 = EnergyUse['Cluster 1 (I50E20)']*7.2\n",
    "x2 = EnergyUse['Cluster 2 (I50E20)']*7.2\n",
    "x3 = EnergyUse['Cluster 3 (I50E20)']*7.2\n",
    "x4 = EnergyUse['Cluster 1 (I50E80)']*7.2\n",
    "x5 = EnergyUse['Cluster 2 (I50E80)']*7.2\n",
    "x6 = EnergyUse['Cluster 3 (I50E80)']*7.2\n",
    "\n",
    "y = EnergyUse['Census Division']\n",
    "fig = plt.figure(figsize=(10, 8), dpi=600)\n",
    "# fig(figsize=(8, 6), dpi=80)\n",
    "ax1 = fig.add_subplot(111)\n",
    "\n",
    "ax1.scatter(x1, y, s=50, c='b', marker=\"^\", label='Cluster 1 (End Over 20 miles)')\n",
    "ax1.scatter(x2, y, s=50, c='r', marker=\"^\", label='Cluster 2 (End Over 20 miles)')\n",
    "ax1.scatter(x3, y, s=50, c='g', marker=\"^\", label='Cluster 3 (End Over 20 miles)')\n",
    "ax1.scatter(x4, y, s=50, c='b', marker=\"o\", label='Cluster 1 (End Over 80 miles)')\n",
    "ax1.scatter(x5, y, s=50, c='r', marker=\"o\", label='Cluster 2 (End Over 80 miles)')\n",
    "ax1.scatter(x6, y, s=50, c='g', marker=\"o\", label='Cluster 3 (End Over 80 miles)')\n",
    "plt.xlabel(\"Electricity & Energy (KWh)\")\n",
    "# plt.ylabel(\"Y axis label\")\n",
    "plt.title('Expected energy in MUDs chargers (Initail 50 miles)')\n",
    "plt.legend(loc='upper center',prop={'size': 8});\n",
    "plt.show()"
   ]
  },
  {
   "cell_type": "code",
   "execution_count": null,
   "metadata": {},
   "outputs": [],
   "source": [
    "x1 = EnergyUse['Income 1 (I20E20)']*7.2\n",
    "x2 = EnergyUse['Income 2 (I20E20)']*7.2\n",
    "x3 = EnergyUse['Income 3 (I20E20)']*7.2\n",
    "x4 = EnergyUse['Income 1 (I20E80)']*7.2\n",
    "x5 = EnergyUse['Income 2 (I20E80)']*7.2\n",
    "x6 = EnergyUse['Income 3 (I20E80)']*7.2\n",
    "\n",
    "y = EnergyUse['Census Division']\n",
    "fig = plt.figure(figsize=(10, 8), dpi=600)\n",
    "# fig(figsize=(8, 6), dpi=80)\n",
    "ax1 = fig.add_subplot(111)\n",
    "\n",
    "ax1.scatter(x1, y, s=50, c='b', marker=\"^\", label='Lower-income class (End Over 20 miles)')\n",
    "ax1.scatter(x2, y, s=50, c='r', marker=\"^\", label='Middle-income class (End Over 20 miles)')\n",
    "ax1.scatter(x3, y, s=50, c='g', marker=\"^\", label='Upper-income class (End Over 20 miles)')\n",
    "ax1.scatter(x4, y, s=50, c='b', marker=\"o\", label='Lower-income class (End Over 80 miles)')\n",
    "ax1.scatter(x5, y, s=50, c='r', marker=\"o\", label='Middle-income class (End Over 80 miles)')\n",
    "ax1.scatter(x6, y, s=50, c='g', marker=\"o\", label='Upper-income class (End Over 80 miles)')\n",
    "plt.xlabel(\"Electricity & Energy (KWh)\")\n",
    "# plt.ylabel(\"Y axis label\")\n",
    "plt.title('Expected energy in MUDs chargers (Initail 20 miles)')\n",
    "plt.legend(loc='best',prop={'size': 8});\n",
    "plt.show()"
   ]
  },
  {
   "cell_type": "code",
   "execution_count": null,
   "metadata": {
    "scrolled": true
   },
   "outputs": [],
   "source": [
    "x1 = EnergyUse['Income 1 (I50E20)']*7.2\n",
    "x2 = EnergyUse['Income 2 (I50E20)']*7.2\n",
    "x3 = EnergyUse['Income 3 (I50E20)']*7.2\n",
    "x4 = EnergyUse['Income 1 (I50E80)']*7.2\n",
    "x5 = EnergyUse['Income 2 (I50E80)']*7.2\n",
    "x6 = EnergyUse['Income 3 (I50E80)']*7.2\n",
    "\n",
    "y = EnergyUse['Census Division']\n",
    "fig = plt.figure(figsize=(10, 8), dpi=600)\n",
    "# fig(figsize=(8, 6), dpi=80)\n",
    "ax1 = fig.add_subplot(111)\n",
    "\n",
    "ax1.scatter(x1, y, s=50, c='b', marker=\"^\", label='Lower-income class (End Over 20 miles)')\n",
    "ax1.scatter(x2, y, s=50, c='r', marker=\"^\", label='Middle-income class (End Over 20 miles)')\n",
    "ax1.scatter(x3, y, s=50, c='g', marker=\"^\", label='Upper-income class (End Over 20 miles)')\n",
    "ax1.scatter(x4, y, s=50, c='b', marker=\"o\", label='Lower-income class (End Over 80 miles)')\n",
    "ax1.scatter(x5, y, s=50, c='r', marker=\"o\", label='Middle-income class (End Over 80 miles)')\n",
    "ax1.scatter(x6, y, s=50, c='g', marker=\"o\", label='Upper-income class (End Over 80 miles)')\n",
    "plt.xlabel(\"Electricity & Energy (KWh)\")\n",
    "# plt.ylabel(\"Y axis label\")\n",
    "plt.title('Expected energy in MUDs chargers (Initail 50 miles)')\n",
    "plt.legend(loc='best',prop={'size': 8});\n",
    "plt.show()"
   ]
  },
  {
   "cell_type": "code",
   "execution_count": null,
   "metadata": {},
   "outputs": [],
   "source": [
    "for i in range(len(final_input_reidx)):\n",
    "    if final_input_reidx.loc[i,'new_avail_50_end80'] == 'infeasible':\n",
    "        continue\n",
    "    else:\n",
    "        final_input_reidx.loc[i,'energy_new_avail_50_end80'] = sum(final_input_reidx.loc[i,'new_avail_50_end80'][1:])"
   ]
  },
  {
   "cell_type": "code",
   "execution_count": null,
   "metadata": {},
   "outputs": [],
   "source": [
    "for i in range(len(final_input_reidx)):\n",
    "    if final_input_reidx.loc[i,'new_avail_20'] == 'infeasible':\n",
    "        continue\n",
    "    else:\n",
    "        final_input_reidx.loc[i,'energy_new_avail_20'] = sum(final_input_reidx.loc[i,'new_avail_20'][1:])"
   ]
  },
  {
   "cell_type": "code",
   "execution_count": null,
   "metadata": {},
   "outputs": [],
   "source": [
    "cluster_data.head()"
   ]
  },
  {
   "cell_type": "code",
   "execution_count": null,
   "metadata": {},
   "outputs": [],
   "source": [
    "for i in range(24):\n",
    "    cluster_data['Energy'+str(i+1)] = np.where((trip17_vmt_T['STRTTIME'] >= 100*i) & (trip17_vmt_T['STRTTIME']< 100*(i+1)), \n",
    "                                               trip17_vmt_T['VMT_MILE'],\n",
    "                                              np.where((trip17_vmt_T['STRTTIME'] >= 100*i) & (trip17_vmt_T['ENDTIME']< 100*(i+1)), \n",
    "                                               trip17_vmt_T['VMT_MILE'],\n",
    "                                                       np.where((trip17_vmt_T['STRTTIME'] >= 100*i) & (trip17_vmt_T['STRTTIME'] < 100*(i+1)) & (trip17_vmt_T['ENDTIME']> 100*(i+1)), \n",
    "                                               trip17_vmt_T['VMT_MILE'],0)))\n"
   ]
  },
  {
   "cell_type": "code",
   "execution_count": null,
   "metadata": {},
   "outputs": [],
   "source": [
    "new_cluster.head()"
   ]
  },
  {
   "cell_type": "code",
   "execution_count": null,
   "metadata": {},
   "outputs": [],
   "source": [
    "final_input['Cluster_new_features'] = new_cluster['Cluster']"
   ]
  },
  {
   "cell_type": "code",
   "execution_count": null,
   "metadata": {},
   "outputs": [],
   "source": [
    "final_input = pd.read_csv('data_get_ready.csv')"
   ]
  },
  {
   "cell_type": "code",
   "execution_count": null,
   "metadata": {},
   "outputs": [],
   "source": [
    "final_input['Cluster_new_features'] = hac_cluster['cluster_3']"
   ]
  },
  {
   "cell_type": "code",
   "execution_count": null,
   "metadata": {},
   "outputs": [],
   "source": [
    "final_input.insert(3, 'HHFAMINC', hac_cluster['HHFAMINC'])"
   ]
  },
  {
   "cell_type": "code",
   "execution_count": null,
   "metadata": {
    "scrolled": false
   },
   "outputs": [],
   "source": [
    "final_input = final_input.drop(columns=['HHFAMINC'])"
   ]
  },
  {
   "cell_type": "code",
   "execution_count": null,
   "metadata": {},
   "outputs": [],
   "source": [
    "final_input = final_input.drop(columns=['Unnamed: 0'])"
   ]
  },
  {
   "cell_type": "markdown",
   "metadata": {},
   "source": [
    "## New public and workplace charging availibility"
   ]
  },
  {
   "cell_type": "code",
   "execution_count": null,
   "metadata": {},
   "outputs": [],
   "source": [
    "public_work_charge = pd.read_excel('public_work_charge.xlsx')"
   ]
  },
  {
   "cell_type": "code",
   "execution_count": null,
   "metadata": {},
   "outputs": [],
   "source": [
    "public_work_charge"
   ]
  },
  {
   "cell_type": "code",
   "execution_count": null,
   "metadata": {},
   "outputs": [],
   "source": [
    "final_input.head(5)"
   ]
  },
  {
   "cell_type": "code",
   "execution_count": null,
   "metadata": {},
   "outputs": [],
   "source": [
    "final_input['public_avail_share'] = np.where(final_input['CENSUS_D']==1, 0.117769,\n",
    "                        np.where(final_input['CENSUS_D']==2, 0.093100,\n",
    "                            np.where(final_input['CENSUS_D']==3, 0.047394,\n",
    "                             np.where(final_input['CENSUS_D']==4, 0.046465,\n",
    "                               np.where(final_input['CENSUS_D']==5, 0.070090,\n",
    "                                np.where(final_input['CENSUS_D']==6, 0.022790,\n",
    "                                    np.where(final_input['CENSUS_D']==7, 0.036816,\n",
    "                                        np.where(final_input['CENSUS_D']==8, 0.125726, 0.330093))))))))"
   ]
  },
  {
   "cell_type": "code",
   "execution_count": null,
   "metadata": {},
   "outputs": [],
   "source": [
    "final_input['work_avail_share'] = np.where(final_input['CENSUS_D']==1, 0.019571,\n",
    "                        np.where(final_input['CENSUS_D']==2, 0.010122,\n",
    "                            np.where(final_input['CENSUS_D']==3, 0.007430,\n",
    "                             np.where(final_input['CENSUS_D']==4, 0.010155,\n",
    "                               np.where(final_input['CENSUS_D']==5, 0.013416,\n",
    "                                np.where(final_input['CENSUS_D']==6, 0.009080,\n",
    "                                    np.where(final_input['CENSUS_D']==7, 0.007882,\n",
    "                                        np.where(final_input['CENSUS_D']==8, 0.015276, 0.035370))))))))"
   ]
  },
  {
   "cell_type": "code",
   "execution_count": null,
   "metadata": {},
   "outputs": [],
   "source": [
    "# public and workplace charging availability\n",
    "final_input['public_charge_assign']=np.random.binomial(1, final_input['public_avail_share'])\n",
    "final_input['work_charge_assign']=np.random.binomial(1, final_input['work_avail_share'])\n",
    "# final_input['']"
   ]
  },
  {
   "cell_type": "code",
   "execution_count": null,
   "metadata": {},
   "outputs": [],
   "source": [
    "new_avail_80=final_input.agg(optimal_one_record,axis=1)"
   ]
  },
  {
   "cell_type": "code",
   "execution_count": null,
   "metadata": {},
   "outputs": [],
   "source": [
    "new_avail_80 = new_avail_20"
   ]
  },
  {
   "cell_type": "code",
   "execution_count": null,
   "metadata": {},
   "outputs": [],
   "source": [
    "new_avail_80_end80 = new_avail_20_end80"
   ]
  },
  {
   "cell_type": "code",
   "execution_count": null,
   "metadata": {},
   "outputs": [],
   "source": [
    "new_avail_80_end80=final_input.agg(optimal_one_record_end80,axis=1)"
   ]
  },
  {
   "cell_type": "code",
   "execution_count": null,
   "metadata": {},
   "outputs": [],
   "source": [
    "final_input['new_avail_80']=new_avail_80\n",
    "final_input['new_avail_home_80']=final_input['new_avail_80'].agg(check_end80)\n",
    "final_input['new_avail_80_end80']=new_avail_80_end80\n",
    "final_input['new_avail_home_80_end80']=final_input['new_avail_80_end80'].agg(check_end80)"
   ]
  },
  {
   "cell_type": "code",
   "execution_count": null,
   "metadata": {},
   "outputs": [],
   "source": [
    "r "
   ]
  },
  {
   "cell_type": "code",
   "execution_count": null,
   "metadata": {},
   "outputs": [],
   "source": [
    "new_avail_20=final_input.agg(optimal_one_record,axis=1)"
   ]
  },
  {
   "cell_type": "code",
   "execution_count": null,
   "metadata": {},
   "outputs": [],
   "source": [
    "new_avail_20_end80=final_input.agg(optimal_one_record_end80,axis=1)"
   ]
  },
  {
   "cell_type": "code",
   "execution_count": null,
   "metadata": {},
   "outputs": [],
   "source": [
    "final_input['new_avail_20']=new_avail_20\n",
    "final_input['new_avail_home_20']=final_input['new_avail_20'].agg(check_end80)\n",
    "final_input['new_avail_20_end80']=new_avail_20_end80\n",
    "final_input['new_avail_home_20_end80']=final_input['new_avail_20_end80'].agg(check_end80)"
   ]
  },
  {
   "cell_type": "code",
   "execution_count": null,
   "metadata": {},
   "outputs": [],
   "source": [
    "r = 50\n",
    "r"
   ]
  },
  {
   "cell_type": "code",
   "execution_count": null,
   "metadata": {},
   "outputs": [],
   "source": [
    "new_avail_50=final_input.agg(optimal_one_record,axis=1)"
   ]
  },
  {
   "cell_type": "code",
   "execution_count": null,
   "metadata": {},
   "outputs": [],
   "source": [
    "new_avail_50_end80=final_input.agg(optimal_one_record_end80,axis=1)"
   ]
  },
  {
   "cell_type": "code",
   "execution_count": null,
   "metadata": {},
   "outputs": [],
   "source": [
    "final_input['new_avail_50']=new_avail_50\n",
    "final_input['new_avail_home_50']=final_input['new_avail_50'].agg(check_end80)\n",
    "final_input['new_avail_50_end80']=new_avail_50_end80\n",
    "final_input['new_avail_home_50_end80']=final_input['new_avail_50_end80'].agg(check_end80)"
   ]
  },
  {
   "cell_type": "markdown",
   "metadata": {},
   "source": [
    "Results summary"
   ]
  },
  {
   "cell_type": "code",
   "execution_count": null,
   "metadata": {},
   "outputs": [],
   "source": [
    "cluster0 = final_input[final_input['Cluster_new_features'] == 0]\n",
    "cluster1 = final_input[final_input['Cluster_new_features'] == 1]\n",
    "cluster2 = final_input[final_input['Cluster_new_features'] == 2]\n",
    "\n",
    "cluster0A = cluster0[cluster0['CENSUS_D'] == 1]\n",
    "cluster0B = cluster0[cluster0['CENSUS_D'] == 2]\n",
    "cluster0C = cluster0[cluster0['CENSUS_D'] == 3]\n",
    "cluster0D = cluster0[cluster0['CENSUS_D'] == 4]\n",
    "cluster0E = cluster0[cluster0['CENSUS_D'] == 5]\n",
    "cluster0F = cluster0[cluster0['CENSUS_D'] == 6]\n",
    "cluster0G = cluster0[cluster0['CENSUS_D'] == 7]\n",
    "cluster0H = cluster0[cluster0['CENSUS_D'] == 8]\n",
    "cluster0I = cluster0[cluster0['CENSUS_D'] == 9]\n",
    "\n",
    "cluster1A = cluster1[cluster1['CENSUS_D'] == 1]\n",
    "cluster1B = cluster1[cluster1['CENSUS_D'] == 2]\n",
    "cluster1C = cluster1[cluster1['CENSUS_D'] == 3]\n",
    "cluster1D = cluster1[cluster1['CENSUS_D'] == 4]\n",
    "cluster1E = cluster1[cluster1['CENSUS_D'] == 5]\n",
    "cluster1F = cluster1[cluster1['CENSUS_D'] == 6]\n",
    "cluster1G = cluster1[cluster1['CENSUS_D'] == 7]\n",
    "cluster1H = cluster1[cluster1['CENSUS_D'] == 8]\n",
    "cluster1I = cluster1[cluster1['CENSUS_D'] == 9]\n",
    "\n",
    "cluster2A = cluster2[cluster2['CENSUS_D'] == 1]\n",
    "cluster2B = cluster2[cluster2['CENSUS_D'] == 2]\n",
    "cluster2C = cluster2[cluster2['CENSUS_D'] == 3]\n",
    "cluster2D = cluster2[cluster2['CENSUS_D'] == 4]\n",
    "cluster2E = cluster2[cluster2['CENSUS_D'] == 5]\n",
    "cluster2F = cluster2[cluster2['CENSUS_D'] == 6]\n",
    "cluster2G = cluster2[cluster2['CENSUS_D'] == 7]\n",
    "cluster2H = cluster2[cluster2['CENSUS_D'] == 8]\n",
    "cluster2I = cluster2[cluster2['CENSUS_D'] == 9]"
   ]
  },
  {
   "cell_type": "code",
   "execution_count": null,
   "metadata": {},
   "outputs": [],
   "source": [
    "print('Initial range miles with 20 miles')\n",
    "\n",
    "print('End over 20 miles:')\n",
    "print(np.mean(cluster0A['new_avail_home_50']==1))\n",
    "print(np.mean(cluster1A['new_avail_home_50']==1))\n",
    "print(np.mean(cluster2A['new_avail_home_50']==1))\n",
    "print(np.mean(cluster0B['new_avail_home_50']==1))\n",
    "print(np.mean(cluster1B['new_avail_home_50']==1))\n",
    "print(np.mean(cluster2B['new_avail_home_50']==1))\n",
    "print(np.mean(cluster0C['new_avail_home_50']==1))\n",
    "print(np.mean(cluster1C['new_avail_home_50']==1))\n",
    "print(np.mean(cluster2C['new_avail_home_50']==1))\n",
    "print(np.mean(cluster0D['new_avail_home_50']==1))\n",
    "print(np.mean(cluster1D['new_avail_home_50']==1))\n",
    "print(np.mean(cluster2D['new_avail_home_50']==1))\n",
    "print(np.mean(cluster0E['new_avail_home_50']==1))\n",
    "print(np.mean(cluster1E['new_avail_home_50']==1))\n",
    "print(np.mean(cluster2E['new_avail_home_50']==1))\n",
    "print(np.mean(cluster0F['new_avail_home_50']==1))\n",
    "print(np.mean(cluster1F['new_avail_home_50']==1))\n",
    "print(np.mean(cluster2F['new_avail_home_50']==1))\n",
    "print(np.mean(cluster0G['new_avail_home_50']==1))\n",
    "print(np.mean(cluster1G['new_avail_home_50']==1))\n",
    "print(np.mean(cluster2G['new_avail_home_50']==1))\n",
    "print(np.mean(cluster0H['new_avail_home_50']==1))\n",
    "print(np.mean(cluster1H['new_avail_home_50']==1))\n",
    "print(np.mean(cluster2H['new_avail_home_50']==1))\n",
    "print(np.mean(cluster0I['new_avail_home_50']==1))\n",
    "print(np.mean(cluster1I['new_avail_home_50']==1))\n",
    "print(np.mean(cluster2I['new_avail_home_50']==1))\n",
    "\n",
    "print('End over 80 miles')\n",
    "print(np.mean(cluster0A['new_avail_home_50_end80']==1))\n",
    "print(np.mean(cluster1A['new_avail_home_50_end80']==1))\n",
    "print(np.mean(cluster2A['new_avail_home_50_end80']==1))\n",
    "print(np.mean(cluster0B['new_avail_home_50_end80']==1))\n",
    "print(np.mean(cluster1B['new_avail_home_50_end80']==1))\n",
    "print(np.mean(cluster2B['new_avail_home_50_end80']==1))\n",
    "print(np.mean(cluster0C['new_avail_home_50_end80']==1))\n",
    "print(np.mean(cluster1C['new_avail_home_50_end80']==1))\n",
    "print(np.mean(cluster2C['new_avail_home_50_end80']==1))\n",
    "print(np.mean(cluster0D['new_avail_home_50_end80']==1))\n",
    "print(np.mean(cluster1D['new_avail_home_50_end80']==1))\n",
    "print(np.mean(cluster2D['new_avail_home_50_end80']==1))\n",
    "print(np.mean(cluster0E['new_avail_home_50_end80']==1))\n",
    "print(np.mean(cluster1E['new_avail_home_50_end80']==1))\n",
    "print(np.mean(cluster2E['new_avail_home_50_end80']==1))\n",
    "print(np.mean(cluster0F['new_avail_home_50_end80']==1))\n",
    "print(np.mean(cluster1F['new_avail_home_50_end80']==1))\n",
    "print(np.mean(cluster2F['new_avail_home_50_end80']==1))\n",
    "print(np.mean(cluster0G['new_avail_home_50_end80']==1))\n",
    "print(np.mean(cluster1G['new_avail_home_50_end80']==1))\n",
    "print(np.mean(cluster2G['new_avail_home_50_end80']==1))\n",
    "print(np.mean(cluster0H['new_avail_home_50_end80']==1))\n",
    "print(np.mean(cluster1H['new_avail_home_50_end80']==1))\n",
    "print(np.mean(cluster2H['new_avail_home_50_end80']==1))\n",
    "print(np.mean(cluster0I['new_avail_home_50_end80']==1))\n",
    "print(np.mean(cluster1I['new_avail_home_50_end80']==1))\n",
    "print(np.mean(cluster2I['new_avail_home_50_end80']==1))"
   ]
  },
  {
   "cell_type": "code",
   "execution_count": null,
   "metadata": {},
   "outputs": [],
   "source": [
    "print('Initial range miles with 50 miles')\n",
    "\n",
    "print('End over 20 miles:')\n",
    "print(np.mean(cluster0A['new_avail_home_50']==1))\n",
    "print(np.mean(cluster1A['new_avail_home_50']==1))\n",
    "print(np.mean(cluster2A['new_avail_home_50']==1))\n",
    "print(np.mean(cluster0B['new_avail_home_50']==1))\n",
    "print(np.mean(cluster1B['new_avail_home_50']==1))\n",
    "print(np.mean(cluster2B['new_avail_home_50']==1))\n",
    "print(np.mean(cluster0C['new_avail_home_50']==1))\n",
    "print(np.mean(cluster1C['new_avail_home_50']==1))\n",
    "print(np.mean(cluster2C['new_avail_home_50']==1))\n",
    "print(np.mean(cluster0D['new_avail_home_50']==1))\n",
    "print(np.mean(cluster1D['new_avail_home_50']==1))\n",
    "print(np.mean(cluster2D['new_avail_home_50']==1))\n",
    "print(np.mean(cluster0E['new_avail_home_50']==1))\n",
    "print(np.mean(cluster1E['new_avail_home_50']==1))\n",
    "print(np.mean(cluster2E['new_avail_home_50']==1))\n",
    "print(np.mean(cluster0F['new_avail_home_50']==1))\n",
    "print(np.mean(cluster1F['new_avail_home_50']==1))\n",
    "print(np.mean(cluster2F['new_avail_home_50']==1))\n",
    "print(np.mean(cluster0G['new_avail_home_50']==1))\n",
    "print(np.mean(cluster1G['new_avail_home_50']==1))\n",
    "print(np.mean(cluster2G['new_avail_home_50']==1))\n",
    "print(np.mean(cluster0H['new_avail_home_50']==1))\n",
    "print(np.mean(cluster1H['new_avail_home_50']==1))\n",
    "print(np.mean(cluster2H['new_avail_home_50']==1))\n",
    "print(np.mean(cluster0I['new_avail_home_50']==1))\n",
    "print(np.mean(cluster1I['new_avail_home_50']==1))\n",
    "print(np.mean(cluster2I['new_avail_home_50']==1))\n",
    "\n",
    "print('End over 80 miles')\n",
    "print(np.mean(cluster0A['new_avail_home_50_end80']==1))\n",
    "print(np.mean(cluster1A['new_avail_home_50_end80']==1))\n",
    "print(np.mean(cluster2A['new_avail_home_50_end80']==1))\n",
    "print(np.mean(cluster0B['new_avail_home_50_end80']==1))\n",
    "print(np.mean(cluster1B['new_avail_home_50_end80']==1))\n",
    "print(np.mean(cluster2B['new_avail_home_50_end80']==1))\n",
    "print(np.mean(cluster0C['new_avail_home_50_end80']==1))\n",
    "print(np.mean(cluster1C['new_avail_home_50_end80']==1))\n",
    "print(np.mean(cluster2C['new_avail_home_50_end80']==1))\n",
    "print(np.mean(cluster0D['new_avail_home_50_end80']==1))\n",
    "print(np.mean(cluster1D['new_avail_home_50_end80']==1))\n",
    "print(np.mean(cluster2D['new_avail_home_50_end80']==1))\n",
    "print(np.mean(cluster0E['new_avail_home_50_end80']==1))\n",
    "print(np.mean(cluster1E['new_avail_home_50_end80']==1))\n",
    "print(np.mean(cluster2E['new_avail_home_50_end80']==1))\n",
    "print(np.mean(cluster0F['new_avail_home_50_end80']==1))\n",
    "print(np.mean(cluster1F['new_avail_home_50_end80']==1))\n",
    "print(np.mean(cluster2F['new_avail_home_50_end80']==1))\n",
    "print(np.mean(cluster0G['new_avail_home_50_end80']==1))\n",
    "print(np.mean(cluster1G['new_avail_home_50_end80']==1))\n",
    "print(np.mean(cluster2G['new_avail_home_50_end80']==1))\n",
    "print(np.mean(cluster0H['new_avail_home_50_end80']==1))\n",
    "print(np.mean(cluster1H['new_avail_home_50_end80']==1))\n",
    "print(np.mean(cluster2H['new_avail_home_50_end80']==1))\n",
    "print(np.mean(cluster0I['new_avail_home_50_end80']==1))\n",
    "print(np.mean(cluster1I['new_avail_home_50_end80']==1))\n",
    "print(np.mean(cluster2I['new_avail_home_50_end80']==1))"
   ]
  },
  {
   "cell_type": "code",
   "execution_count": null,
   "metadata": {},
   "outputs": [],
   "source": [
    "income0 = final_input[final_input['income_classes'] == 0]\n",
    "income1 = final_input[final_input['income_classes'] == 1]\n",
    "income2 = final_input[final_input['income_classes'] == 2]\n",
    "\n",
    "income0A = income0[income0['CENSUS_D'] == 1]\n",
    "income0B = income0[income0['CENSUS_D'] == 2]\n",
    "income0C = income0[income0['CENSUS_D'] == 3]\n",
    "income0D = income0[income0['CENSUS_D'] == 4]\n",
    "income0E = income0[income0['CENSUS_D'] == 5]\n",
    "income0F = income0[income0['CENSUS_D'] == 6]\n",
    "income0G = income0[income0['CENSUS_D'] == 7]\n",
    "income0H = income0[income0['CENSUS_D'] == 8]\n",
    "income0I = income0[income0['CENSUS_D'] == 9]\n",
    "\n",
    "income1A = income1[income1['CENSUS_D'] == 1]\n",
    "income1B = income1[income1['CENSUS_D'] == 2]\n",
    "income1C = income1[income1['CENSUS_D'] == 3]\n",
    "income1D = income1[income1['CENSUS_D'] == 4]\n",
    "income1E = income1[income1['CENSUS_D'] == 5]\n",
    "income1F = income1[income1['CENSUS_D'] == 6]\n",
    "income1G = income1[income1['CENSUS_D'] == 7]\n",
    "income1H = income1[income1['CENSUS_D'] == 8]\n",
    "income1I = income1[income1['CENSUS_D'] == 9]\n",
    "\n",
    "income2A = income2[income2['CENSUS_D'] == 1]\n",
    "income2B = income2[income2['CENSUS_D'] == 2]\n",
    "income2C = income2[income2['CENSUS_D'] == 3]\n",
    "income2D = income2[income2['CENSUS_D'] == 4]\n",
    "income2E = income2[income2['CENSUS_D'] == 5]\n",
    "income2F = income2[income2['CENSUS_D'] == 6]\n",
    "income2G = income2[income2['CENSUS_D'] == 7]\n",
    "income2H = income2[income2['CENSUS_D'] == 8]\n",
    "income2I = income2[income2['CENSUS_D'] == 9]"
   ]
  },
  {
   "cell_type": "code",
   "execution_count": null,
   "metadata": {},
   "outputs": [],
   "source": [
    "print('Initial range miles with 50 miles')\n",
    "\n",
    "print('End over 20 miles:')\n",
    "print(np.mean(income0A['new_avail_home_50']==1))\n",
    "print(np.mean(income1A['new_avail_home_50']==1))\n",
    "print(np.mean(income2A['new_avail_home_50']==1))\n",
    "print(np.mean(income0B['new_avail_home_50']==1))\n",
    "print(np.mean(income1B['new_avail_home_50']==1))\n",
    "print(np.mean(income2B['new_avail_home_50']==1))\n",
    "print(np.mean(income0C['new_avail_home_50']==1))\n",
    "print(np.mean(income1C['new_avail_home_50']==1))\n",
    "print(np.mean(income2C['new_avail_home_50']==1))\n",
    "print(np.mean(income0D['new_avail_home_50']==1))\n",
    "print(np.mean(income1D['new_avail_home_50']==1))\n",
    "print(np.mean(income2D['new_avail_home_50']==1))\n",
    "print(np.mean(income0E['new_avail_home_50']==1))\n",
    "print(np.mean(income1E['new_avail_home_50']==1))\n",
    "print(np.mean(income2E['new_avail_home_50']==1))\n",
    "print(np.mean(income0F['new_avail_home_50']==1))\n",
    "print(np.mean(income1F['new_avail_home_50']==1))\n",
    "print(np.mean(income2F['new_avail_home_50']==1))\n",
    "print(np.mean(income0G['new_avail_home_50']==1))\n",
    "print(np.mean(income1G['new_avail_home_50']==1))\n",
    "print(np.mean(income2G['new_avail_home_50']==1))\n",
    "print(np.mean(income0H['new_avail_home_50']==1))\n",
    "print(np.mean(income1H['new_avail_home_50']==1))\n",
    "print(np.mean(income2H['new_avail_home_50']==1))\n",
    "print(np.mean(income0I['new_avail_home_50']==1))\n",
    "print(np.mean(income1I['new_avail_home_50']==1))\n",
    "print(np.mean(income2I['new_avail_home_50']==1))\n",
    "\n",
    "print('End over 80 miles')\n",
    "print(np.mean(income0A['new_avail_home_50_end80']==1))\n",
    "print(np.mean(income1A['new_avail_home_50_end80']==1))\n",
    "print(np.mean(income2A['new_avail_home_50_end80']==1))\n",
    "print(np.mean(income0B['new_avail_home_50_end80']==1))\n",
    "print(np.mean(income1B['new_avail_home_50_end80']==1))\n",
    "print(np.mean(income2B['new_avail_home_50_end80']==1))\n",
    "print(np.mean(income0C['new_avail_home_50_end80']==1))\n",
    "print(np.mean(income1C['new_avail_home_50_end80']==1))\n",
    "print(np.mean(income2C['new_avail_home_50_end80']==1))\n",
    "print(np.mean(income0D['new_avail_home_50_end80']==1))\n",
    "print(np.mean(income1D['new_avail_home_50_end80']==1))\n",
    "print(np.mean(income2D['new_avail_home_50_end80']==1))\n",
    "print(np.mean(income0E['new_avail_home_50_end80']==1))\n",
    "print(np.mean(income1E['new_avail_home_50_end80']==1))\n",
    "print(np.mean(income2E['new_avail_home_50_end80']==1))\n",
    "print(np.mean(income0F['new_avail_home_50_end80']==1))\n",
    "print(np.mean(income1F['new_avail_home_50_end80']==1))\n",
    "print(np.mean(income2F['new_avail_home_50_end80']==1))\n",
    "print(np.mean(income0G['new_avail_home_50_end80']==1))\n",
    "print(np.mean(income1G['new_avail_home_50_end80']==1))\n",
    "print(np.mean(income2G['new_avail_home_50_end80']==1))\n",
    "print(np.mean(income0H['new_avail_home_50_end80']==1))\n",
    "print(np.mean(income1H['new_avail_home_50_end80']==1))\n",
    "print(np.mean(income2H['new_avail_home_50_end80']==1))\n",
    "print(np.mean(income0I['new_avail_home_50_end80']==1))\n",
    "print(np.mean(income1I['new_avail_home_50_end80']==1))\n",
    "print(np.mean(income2I['new_avail_home_50_end80']==1))"
   ]
  },
  {
   "cell_type": "markdown",
   "metadata": {},
   "source": [
    "### End of New availbility"
   ]
  },
  {
   "cell_type": "code",
   "execution_count": null,
   "metadata": {},
   "outputs": [],
   "source": []
  },
  {
   "cell_type": "code",
   "execution_count": null,
   "metadata": {},
   "outputs": [],
   "source": []
  },
  {
   "cell_type": "code",
   "execution_count": null,
   "metadata": {},
   "outputs": [],
   "source": []
  },
  {
   "cell_type": "code",
   "execution_count": null,
   "metadata": {},
   "outputs": [],
   "source": []
  },
  {
   "cell_type": "code",
   "execution_count": null,
   "metadata": {},
   "outputs": [],
   "source": [
    "final_input['Line'] = np.where(final_input['CENSUS_D']==1,66450,\n",
    "                        np.where(final_input['CENSUS_D']==2,66450,\n",
    "                            np.where(final_input['CENSUS_D']==3,61136,\n",
    "                             np.where(final_input['CENSUS_D']==4,61136,\n",
    "                               np.where(final_input['CENSUS_D']==5,55709,\n",
    "                                np.where(final_input['CENSUS_D']==6,55709,\n",
    "                                    np.where(final_input['CENSUS_D']==7,55709,\n",
    "                                        np.where(final_input['CENSUS_D']==8,67517,67517))))))))\n",
    "                                  "
   ]
  },
  {
   "cell_type": "code",
   "execution_count": null,
   "metadata": {},
   "outputs": [],
   "source": [
    "final_input['income_classes'] = np.where(final_input['HHFAMINC']<final_input['Line'],0,1)"
   ]
  },
  {
   "cell_type": "code",
   "execution_count": null,
   "metadata": {},
   "outputs": [],
   "source": [
    "temp = final_input.loc[0,:]"
   ]
  },
  {
   "cell_type": "code",
   "execution_count": null,
   "metadata": {},
   "outputs": [],
   "source": [
    "print(type(temp['DWELTIME'][0]))\n",
    "print(type(temp['TRPMILES'][0]))"
   ]
  },
  {
   "cell_type": "code",
   "execution_count": null,
   "metadata": {},
   "outputs": [],
   "source": [
    "len(temp['DWELTIME'])"
   ]
  },
  {
   "cell_type": "code",
   "execution_count": null,
   "metadata": {
    "scrolled": true
   },
   "outputs": [],
   "source": [
    "len(temp['states'])"
   ]
  },
  {
   "cell_type": "code",
   "execution_count": null,
   "metadata": {},
   "outputs": [],
   "source": [
    "optimal_one_record(temp)"
   ]
  },
  {
   "cell_type": "code",
   "execution_count": null,
   "metadata": {},
   "outputs": [],
   "source": [
    "# full range miles of BEV\n",
    "r_full = 100\n",
    "# recharged range miles per unit time of MUDs household i at location j\n",
    "cr_ij = 12.5\n",
    "# Charging power rate of MUDs household i at location j (miles/kW)\n",
    "Pcr_ij = 3.3\n",
    "# fixed charge cost of MUDs household i at location j \n",
    "cf_ij = 5 #assume fixed charge cost\n",
    "# Discount Factor\n",
    "gamma_ij = 0.99\n",
    "# electricity price (unit: $/kWh)\n",
    "e_ij = 0.12\n",
    "# Charging Efficiency from grid to EV\n",
    "eta = 0.85\n",
    "# infracture cost\n",
    "infra = 756\n",
    "# installation cost\n",
    "install = 1000\n",
    "# small number\n",
    "epsilon = 0.000001\n",
    "#intial remaining miles\n",
    "r = 20\n",
    "\n",
    "value= cr_ij/Pcr_ij*e_ij"
   ]
  },
  {
   "cell_type": "code",
   "execution_count": null,
   "metadata": {},
   "outputs": [],
   "source": [
    "def optimal_one_record(test):\n",
    "    num=len(test['states'])\n",
    "    # Dwell time of MUDs household i at location j\n",
    "    DT = np.zeros((num-1))\n",
    "    for j in range(num-1):\n",
    "        DT[j] = test['DWELTIME'][j]\n",
    "\n",
    "    # distance of MUDs household i from location j to the next location\n",
    "    d = np.zeros(num-1)\n",
    "    for j in range(num-1):\n",
    "        d[j] = test['TRPMILES'][j]\n",
    "\n",
    "    # Create a new model\n",
    "    m = gp.Model(\"bilinear\")\n",
    "    m.params.NonConvex = 2\n",
    "    \n",
    "    # Create variables x_ni and y_ni\n",
    "    # charging availability at MUDs\n",
    "    #mud_or = [i for i in range(I)]\n",
    "    #mud_im = [j in range(num - 1)]\n",
    "    x = m.addVar(vtype=GRB.BINARY, name=\"charging availability at MUDs\")\n",
    "    # charging time of MUDs household i at location j\n",
    "    y = m.addVars(num-1,lb=0.0, ub=float('inf'), vtype=GRB.CONTINUOUS, name=\"recharge time\")\n",
    "\n",
    "    # # Set objective: \n",
    "#     obj = cf_ij*x + quicksum(value*y[j] for j in range(num - 1))\n",
    "    obj = quicksum(value*y[j] for j in range(num - 1))\n",
    "    m.setObjective(obj,GRB.MINIMIZE)\n",
    "\n",
    "\n",
    "    \n",
    "    for j in range(num - 2):\n",
    "#         m.addConstr((r[i,j+1] == r[i,j] - d[i,j] + 12.5*y[i,j]),'state transition function')\n",
    "#         m.addConstr((r[i,j+1] >= 0.2*r_full),'Battery storage capacity')\n",
    "        m.addConstr((r - quicksum(d[k] for k in range(j)) + 12.5*quicksum(y[k] for k in range(j)) >= 0.2*r_full),'state transition function')\n",
    "    for j in range(num - 1):\n",
    "        m.addConstr((y[j] <= DT[j]/60),'charging time less than dwell time')\n",
    "        m.addConstr((y[j]*cr_ij + r - quicksum(d[k] for k in range(j)) + 12.5*quicksum(y[k] for k in range(j)) <= r_full),'charging electricity less battery capacity')\n",
    "\n",
    "   \n",
    "    # First optimize() call will fail - need to set NonConvex to 2\n",
    "    try:\n",
    "        m.optimize()\n",
    "    except gp.GurobiError:\n",
    "        print(\"Optimize failed due to non-convexity\")\n",
    "    sol=[]\n",
    "    if m.status ==GRB.OPTIMAL:\n",
    "        for v in m.getVars():\n",
    "            sol.append(v.x)\n",
    "            print('%s %g' % (v.varName, v.x))\n",
    "    else: sol='infeasible'\n",
    "\n",
    "    return sol"
   ]
  },
  {
   "cell_type": "code",
   "execution_count": null,
   "metadata": {},
   "outputs": [],
   "source": [
    "def optimal_one_record_end80(test):\n",
    "    num=len(test['states'])\n",
    "    # Dwell time of MUDs household i at location j\n",
    "    DT = np.zeros((num-1))\n",
    "    for j in range(num-1):\n",
    "        DT[j] = test['DWELTIME'][j]\n",
    "\n",
    "    # distance of MUDs household i from location j to the next location\n",
    "    d = np.zeros(num-1)\n",
    "    for j in range(num-1):\n",
    "        d[j] = test['TRPMILES'][j]\n",
    "\n",
    "    # Create a new model\n",
    "    m = gp.Model(\"bilinear\")\n",
    "    m.params.NonConvex = 2\n",
    "    \n",
    "    # Create variables x_ni and y_ni\n",
    "    # charging availability at MUDs\n",
    "    #mud_or = [i for i in range(I)]\n",
    "    #mud_im = [j in range(num - 1)]\n",
    "    x = m.addVar(vtype=GRB.BINARY, name=\"charging availability at MUDs\")\n",
    "    # charging time of MUDs household i at location j\n",
    "    y = m.addVars(num-1,lb=0.0, ub=float('inf'), vtype=GRB.CONTINUOUS, name=\"recharge time\")\n",
    "\n",
    "    # # Set objective: \n",
    "#     obj = cf_ij*x + quicksum(value*y[j] for j in range(num - 1))\n",
    "    obj = quicksum(value*y[j] for j in range(num - 1))\n",
    "    m.setObjective(obj,GRB.MINIMIZE)\n",
    "\n",
    "\n",
    "    for j in range(num - 2):\n",
    "#         m.addConstr((r[i,j+1] == r[i,j] - d[i,j] + 12.5*y[i,j]),'state transition function')\n",
    "#         m.addConstr((r[i,j+1] >= 0.2*r_full),'Battery storage capacity')\n",
    "        m.addConstr((r - quicksum(d[k] for k in range(j)) + 12.5*quicksum(y[k] for k in range(j)) >= 0.8*r_full),'state transition function')\n",
    "    for j in range(num - 1):\n",
    "        m.addConstr((y[j] <= DT[j]/60),'charging time less than dwell time')\n",
    "        m.addConstr((y[j]*cr_ij + r - quicksum(d[k] for k in range(j)) + 12.5*quicksum(y[k] for k in range(j)) <= r_full),'charging electricity less battery capacity')\n",
    "\n",
    "   \n",
    "    # First optimize() call will fail - need to set NonConvex to 2\n",
    "    try:\n",
    "        m.optimize()\n",
    "    except gp.GurobiError:\n",
    "        print(\"Optimize failed due to non-convexity\")\n",
    "    sol=[]\n",
    "    if m.status ==GRB.OPTIMAL:\n",
    "        for v in m.getVars():\n",
    "            sol.append(v.x)\n",
    "            print('%s %g' % (v.varName, v.x))\n",
    "    else: sol='infeasible'\n",
    "\n",
    "    return sol"
   ]
  },
  {
   "cell_type": "code",
   "execution_count": null,
   "metadata": {},
   "outputs": [],
   "source": [
    "def check_end80(x):\n",
    "    if type(x)==list:\n",
    "        return x[0]\n",
    "    else:\n",
    "        return 0"
   ]
  },
  {
   "cell_type": "code",
   "execution_count": null,
   "metadata": {},
   "outputs": [],
   "source": [
    "input_temp_01 = final_input.head(1000)\n"
   ]
  },
  {
   "cell_type": "code",
   "execution_count": null,
   "metadata": {},
   "outputs": [],
   "source": [
    "result_1d_20=final_input.agg(optimal_one_record,axis=1)"
   ]
  },
  {
   "cell_type": "code",
   "execution_count": null,
   "metadata": {},
   "outputs": [],
   "source": [
    "# final_input['opt_result']=result_1d_20\n",
    "# input_temp_02['opt_result_end80']=result_1d_20_end80_02\n",
    "# final_input['opt_home']=final_input['opt_result'].agg(check_end80)\n",
    "# input_temp_02['opt_home_end80']=input_temp_02['opt_result_end80'].agg(check_end80)\n",
    "cluster0 = final_input[final_input['Cluster'] == 0]\n",
    "cluster1 = final_input[final_input['Cluster'] == 1]\n",
    "# print(5*len(cluster0))\n",
    "# print(5*len(cluster1))\n",
    "print('End at 20 miles:')\n",
    "print(np.mean(cluster0['opt_result']=='infeasible'))\n",
    "print(np.mean(cluster1['opt_result']=='infeasible'))\n",
    "print(np.mean(cluster0['opt_home']==1))\n",
    "print(np.mean(cluster1['opt_home']==1))\n",
    "\n",
    "# final_input.to_csv('data_get_ready_base_case.csv')\n",
    "print('End at 80 miles')\n",
    "print(np.mean(cluster0['opt_result_end80']=='infeasible'))\n",
    "print(np.mean(cluster1['opt_result_end80']=='infeasible'))\n",
    "print(np.mean(cluster0['opt_home_end80']==1))\n",
    "print(np.mean(cluster1['opt_home_end80']==1))"
   ]
  },
  {
   "cell_type": "code",
   "execution_count": null,
   "metadata": {},
   "outputs": [],
   "source": [
    "cluster0 = final_input[final_input['Cluster_new_features'] == 0]\n",
    "cluster1 = final_input[final_input['Cluster_new_features'] == 1]\n",
    "\n",
    "print('End at 20 miles:')\n",
    "print(np.mean(cluster0['opt_result']=='infeasible'))\n",
    "print(np.mean(cluster1['opt_result']=='infeasible'))\n",
    "print(np.mean(cluster0['opt_home']==1))\n",
    "print(np.mean(cluster1['opt_home']==1))\n",
    "\n",
    "final_input.to_csv('data_get_ready_base_case.csv')\n",
    "print('End at 80 miles')\n",
    "print(np.mean(cluster0['opt_result_end80']=='infeasible'))\n",
    "print(np.mean(cluster1['opt_result_end80']=='infeasible'))\n",
    "print(np.mean(cluster0['opt_home_end80']==1))\n",
    "print(np.mean(cluster1['opt_home_end80']==1))"
   ]
  },
  {
   "cell_type": "code",
   "execution_count": null,
   "metadata": {},
   "outputs": [],
   "source": [
    "final_input.Cluster_new_features.value_counts()"
   ]
  },
  {
   "cell_type": "code",
   "execution_count": null,
   "metadata": {},
   "outputs": [],
   "source": [
    "final_input.head()"
   ]
  },
  {
   "cell_type": "code",
   "execution_count": null,
   "metadata": {},
   "outputs": [],
   "source": [
    "final_input.to_csv('data_get_ready_base_case_result.csv')"
   ]
  },
  {
   "cell_type": "code",
   "execution_count": null,
   "metadata": {},
   "outputs": [],
   "source": [
    "final_input['Cluster'].value_counts()"
   ]
  },
  {
   "cell_type": "code",
   "execution_count": null,
   "metadata": {},
   "outputs": [],
   "source": [
    "\n",
    "result_1d_20_end80=final_input.agg(optimal_one_record_end80,axis=1)\n"
   ]
  },
  {
   "cell_type": "code",
   "execution_count": null,
   "metadata": {},
   "outputs": [],
   "source": [
    "final_input['opt_result_end80']=result_1d_20_end80\n",
    "final_input['opt_home_end80']=final_input['opt_result_end80'].agg(check_end80)\n",
    "\n",
    "cluster0 = final_input[final_input['Cluster'] == 0]\n",
    "cluster1 = final_input[final_input['Cluster'] == 1]\n",
    "\n",
    "print('End over 80 miles:')\n",
    "print(np.mean(cluster0['opt_result_end80']=='infeasible'))\n",
    "print(np.mean(cluster1['opt_result_end80']=='infeasible'))\n",
    "print(np.mean(cluster0['opt_home_end80']==1))\n",
    "print(np.mean(cluster1['opt_home_end80']==1))"
   ]
  },
  {
   "cell_type": "code",
   "execution_count": null,
   "metadata": {},
   "outputs": [],
   "source": [
    "final_input.to_csv('data_get_ready_two_scenario_result.csv')"
   ]
  },
  {
   "cell_type": "code",
   "execution_count": null,
   "metadata": {},
   "outputs": [],
   "source": []
  },
  {
   "cell_type": "markdown",
   "metadata": {},
   "source": [
    "ANALYSIS AROSS THE REGIONS"
   ]
  },
  {
   "cell_type": "code",
   "execution_count": null,
   "metadata": {},
   "outputs": [],
   "source": []
  },
  {
   "cell_type": "code",
   "execution_count": null,
   "metadata": {},
   "outputs": [],
   "source": [
    "final_input_01 = final_input[final_input['CENSUS_D'] == 1]\n",
    "final_input_02 = final_input[final_input['CENSUS_D'] == 2]\n",
    "final_input_03 = final_input[final_input['CENSUS_D'] == 3]\n",
    "final_input_04 = final_input[final_input['CENSUS_D'] == 4]\n",
    "final_input_05 = final_input[final_input['CENSUS_D'] == 5]\n",
    "final_input_06 = final_input[final_input['CENSUS_D'] == 6]\n",
    "final_input_07 = final_input[final_input['CENSUS_D'] == 7]\n",
    "final_input_08 = final_input[final_input['CENSUS_D'] == 8]\n",
    "final_input_09 = final_input[final_input['CENSUS_D'] == 9]"
   ]
  },
  {
   "cell_type": "code",
   "execution_count": null,
   "metadata": {},
   "outputs": [],
   "source": [
    "input_temp_01['DWELTIME'] = input_temp_01['DWELTIME'].str[1:-1].str.split(',').tolist()"
   ]
  },
  {
   "cell_type": "code",
   "execution_count": null,
   "metadata": {},
   "outputs": [],
   "source": [
    "result_1d_20_01=input_temp_01.agg(optimal_one_record,axis=1)\n"
   ]
  },
  {
   "cell_type": "markdown",
   "metadata": {},
   "source": [
    "5th 1000"
   ]
  },
  {
   "cell_type": "code",
   "execution_count": null,
   "metadata": {},
   "outputs": [],
   "source": []
  },
  {
   "cell_type": "code",
   "execution_count": null,
   "metadata": {},
   "outputs": [],
   "source": []
  },
  {
   "cell_type": "code",
   "execution_count": null,
   "metadata": {},
   "outputs": [],
   "source": [
    "result_1d_20=final_input.agg(optimal_one_record,axis=1)"
   ]
  },
  {
   "cell_type": "code",
   "execution_count": null,
   "metadata": {},
   "outputs": [],
   "source": [
    "result_1d_20_end80=final_input.agg(optimal_one_record_end80,axis=1)"
   ]
  },
  {
   "cell_type": "code",
   "execution_count": null,
   "metadata": {},
   "outputs": [],
   "source": [
    "final_input['hac_opt_result']=result_1d_20\n",
    "final_input['hac_opt_home']=final_input['hac_opt_result'].agg(check_end80)\n",
    "\n",
    "final_input['hac_opt_result_end80']=result_1d_20_end80\n",
    "final_input['hac_opt_home_end80']=final_input['hac_opt_result_end80'].agg(check_end80)\n",
    "\n",
    "\n",
    "cluster0 = final_input[final_input['Cluster_new_features'] == 0]\n",
    "cluster1 = final_input[final_input['Cluster_new_features'] == 1]\n",
    "cluster2 = final_input[final_input['Cluster_new_features'] == 2]\n",
    "\n",
    "print('End at 20 miles:')\n",
    "print(np.mean(cluster0['hac_opt_result']=='infeasible'))\n",
    "print(np.mean(cluster1['hac_opt_result']=='infeasible'))\n",
    "print(np.mean(cluster2['hac_opt_result']=='infeasible'))\n",
    "print(np.mean(cluster0['hac_opt_home']==1))\n",
    "print(np.mean(cluster1['hac_opt_home']==1))\n",
    "print(np.mean(cluster2['hac_opt_home']==1))\n",
    "\n",
    "print('End at 80 miles')\n",
    "print(np.mean(cluster0['hac_opt_result_end80']=='infeasible'))\n",
    "print(np.mean(cluster1['hac_opt_result_end80']=='infeasible'))\n",
    "print(np.mean(cluster2['hac_opt_result_end80']=='infeasible'))\n",
    "print(np.mean(cluster0['hac_opt_home_end80']==1))\n",
    "print(np.mean(cluster1['hac_opt_home_end80']==1))\n",
    "print(np.mean(cluster2['hac_opt_home_end80']==1))\n"
   ]
  },
  {
   "cell_type": "code",
   "execution_count": null,
   "metadata": {},
   "outputs": [],
   "source": [
    "final_input.to_csv('data_get_ready_result_hac.csv')"
   ]
  },
  {
   "cell_type": "markdown",
   "metadata": {},
   "source": [
    "### HAC without capital cost"
   ]
  },
  {
   "cell_type": "code",
   "execution_count": null,
   "metadata": {},
   "outputs": [],
   "source": [
    "result_1d_nocapital_20=final_input.agg(optimal_one_record,axis=1)"
   ]
  },
  {
   "cell_type": "code",
   "execution_count": null,
   "metadata": {},
   "outputs": [],
   "source": [
    "result_1d_nocapital_20_end80=final_input.agg(optimal_one_record_end80,axis=1)"
   ]
  },
  {
   "cell_type": "code",
   "execution_count": null,
   "metadata": {},
   "outputs": [],
   "source": [
    "final_input['hac_opt_result_nocapital_ini_20']=result_1d_nocapital_20\n",
    "final_input['hac_opt_home_nocapital_ini_20']=final_input['hac_opt_result_nocapital_ini_20'].agg(check_end80)\n",
    "\n",
    "final_input['hac_opt_result_nocapital_ini_20_end80']=result_1d_nocapital_20_end80\n",
    "final_input['hac_opt_home_nocapital_ini_20_end80']=final_input['hac_opt_result_nocapital_ini_20_end80'].agg(check_end80)\n"
   ]
  },
  {
   "cell_type": "code",
   "execution_count": null,
   "metadata": {},
   "outputs": [],
   "source": [
    "final_input.to_csv('data_get_ready_result_hac_nocapital.csv')"
   ]
  },
  {
   "cell_type": "code",
   "execution_count": null,
   "metadata": {},
   "outputs": [],
   "source": [
    "r = 40"
   ]
  },
  {
   "cell_type": "code",
   "execution_count": null,
   "metadata": {},
   "outputs": [],
   "source": [
    "r"
   ]
  },
  {
   "cell_type": "code",
   "execution_count": null,
   "metadata": {},
   "outputs": [],
   "source": [
    "result_1d_nocapital_40=final_input.agg(optimal_one_record,axis=1)"
   ]
  },
  {
   "cell_type": "code",
   "execution_count": null,
   "metadata": {},
   "outputs": [],
   "source": [
    "result_1d_nocapital_40_end80=final_input.agg(optimal_one_record_end80,axis=1)"
   ]
  },
  {
   "cell_type": "code",
   "execution_count": null,
   "metadata": {},
   "outputs": [],
   "source": [
    "final_input['hac_opt_result_nocapital_ini_40']=result_1d_nocapital_40\n",
    "final_input['hac_opt_home_nocapital_ini_40']=final_input['hac_opt_result_nocapital_ini_40'].agg(check_end80)\n",
    "\n",
    "final_input['hac_opt_result_nocapital_ini_40_end80']=result_1d_nocapital_40_end80\n",
    "final_input['hac_opt_home_nocapital_ini_40_end80']=final_input['hac_opt_result_nocapital_ini_40_end80'].agg(check_end80)\n",
    "\n"
   ]
  },
  {
   "cell_type": "code",
   "execution_count": null,
   "metadata": {},
   "outputs": [],
   "source": [
    "final_input.to_csv('data_get_ready_result_hac_nocapital.csv')"
   ]
  },
  {
   "cell_type": "code",
   "execution_count": null,
   "metadata": {},
   "outputs": [],
   "source": [
    "r = 50"
   ]
  },
  {
   "cell_type": "code",
   "execution_count": null,
   "metadata": {},
   "outputs": [],
   "source": [
    "r"
   ]
  },
  {
   "cell_type": "code",
   "execution_count": null,
   "metadata": {},
   "outputs": [],
   "source": [
    "result_1d_nocapital_50=final_input.agg(optimal_one_record,axis=1)"
   ]
  },
  {
   "cell_type": "code",
   "execution_count": null,
   "metadata": {},
   "outputs": [],
   "source": [
    "result_1d_nocapital_50_end80=final_input.agg(optimal_one_record_end80,axis=1)"
   ]
  },
  {
   "cell_type": "code",
   "execution_count": null,
   "metadata": {},
   "outputs": [],
   "source": [
    "final_input['hac_opt_result_nocapital_ini_50']=result_1d_nocapital_50\n",
    "final_input['hac_opt_home_nocapital_ini_50']=final_input['hac_opt_result_nocapital_ini_50'].agg(check_end80)\n",
    "\n",
    "final_input['hac_opt_result_nocapital_ini_50_end80']=result_1d_nocapital_50_end80\n",
    "final_input['hac_opt_home_nocapital_ini_50_end80']=final_input['hac_opt_result_nocapital_ini_50_end80'].agg(check_end80)\n",
    "\n"
   ]
  },
  {
   "cell_type": "code",
   "execution_count": null,
   "metadata": {},
   "outputs": [],
   "source": [
    "final_input.to_csv('data_get_ready_result_hac_nocapital.csv')"
   ]
  },
  {
   "cell_type": "code",
   "execution_count": null,
   "metadata": {},
   "outputs": [],
   "source": [
    "final_input.head()"
   ]
  },
  {
   "cell_type": "code",
   "execution_count": null,
   "metadata": {},
   "outputs": [],
   "source": [
    "middle_income = pd.read_excel('US Household Income by Tier.xlsx', sheet_name='middle_class')"
   ]
  },
  {
   "cell_type": "code",
   "execution_count": null,
   "metadata": {},
   "outputs": [],
   "source": [
    "middle_income.head()"
   ]
  },
  {
   "cell_type": "code",
   "execution_count": null,
   "metadata": {},
   "outputs": [],
   "source": [
    "result_1d_nocapital_60=final_input.agg(optimal_one_record,axis=1)"
   ]
  },
  {
   "cell_type": "code",
   "execution_count": null,
   "metadata": {},
   "outputs": [],
   "source": [
    "result_1d_nocapital_60_end80=final_input.agg(optimal_one_record_end80,axis=1)"
   ]
  },
  {
   "cell_type": "code",
   "execution_count": null,
   "metadata": {},
   "outputs": [],
   "source": [
    "final_input['hac_opt_result_nocapital_ini_60']=result_1d_nocapital_60\n",
    "final_input['hac_opt_home_nocapital_ini_60']=final_input['hac_opt_result_nocapital_ini_60'].agg(check_end80)\n",
    "\n",
    "final_input['hac_opt_result_nocapital_ini_60_end80']=result_1d_nocapital_60_end80\n",
    "final_input['hac_opt_home_nocapital_ini_60_end80']=final_input['hac_opt_result_nocapital_ini_60_end80'].agg(check_end80)\n"
   ]
  },
  {
   "cell_type": "code",
   "execution_count": null,
   "metadata": {},
   "outputs": [],
   "source": [
    "final_input.to_csv('data_get_ready_result_hac_nocapital.csv')"
   ]
  },
  {
   "cell_type": "code",
   "execution_count": null,
   "metadata": {},
   "outputs": [],
   "source": [
    "r = 30 "
   ]
  },
  {
   "cell_type": "code",
   "execution_count": null,
   "metadata": {},
   "outputs": [],
   "source": [
    "r"
   ]
  },
  {
   "cell_type": "code",
   "execution_count": null,
   "metadata": {},
   "outputs": [],
   "source": [
    "result_1d_nocapital_30=final_input.agg(optimal_one_record,axis=1)"
   ]
  },
  {
   "cell_type": "code",
   "execution_count": null,
   "metadata": {},
   "outputs": [],
   "source": [
    "result_1d_nocapital_30_end80=final_input.agg(optimal_one_record_end80,axis=1)"
   ]
  },
  {
   "cell_type": "code",
   "execution_count": null,
   "metadata": {},
   "outputs": [],
   "source": [
    "final_input['hac_opt_result_nocapital_ini_30']=result_1d_nocapital_30\n",
    "final_input['hac_opt_home_nocapital_ini_30']=final_input['hac_opt_result_nocapital_ini_30'].agg(check_end80)\n",
    "\n",
    "final_input['hac_opt_result_nocapital_ini_30_end80']=result_1d_nocapital_30_end80\n",
    "final_input['hac_opt_home_nocapital_ini_30_end80']=final_input['hac_opt_result_nocapital_ini_30_end80'].agg(check_end80)\n",
    "\n"
   ]
  },
  {
   "cell_type": "code",
   "execution_count": null,
   "metadata": {},
   "outputs": [],
   "source": [
    "final_input.to_csv('data_get_ready_result_hac_nocapital.csv')"
   ]
  },
  {
   "cell_type": "code",
   "execution_count": null,
   "metadata": {},
   "outputs": [],
   "source": [
    "r = 70"
   ]
  },
  {
   "cell_type": "code",
   "execution_count": null,
   "metadata": {},
   "outputs": [],
   "source": [
    "r"
   ]
  },
  {
   "cell_type": "code",
   "execution_count": null,
   "metadata": {},
   "outputs": [],
   "source": [
    "result_1d_nocapital_70=final_input.agg(optimal_one_record,axis=1)"
   ]
  },
  {
   "cell_type": "code",
   "execution_count": null,
   "metadata": {},
   "outputs": [],
   "source": [
    "result_1d_nocapital_80_end80=final_input.agg(optimal_one_record_end80,axis=1)"
   ]
  },
  {
   "cell_type": "code",
   "execution_count": null,
   "metadata": {},
   "outputs": [],
   "source": [
    "final_input['hac_opt_result_nocapital_ini_80']=result_1d_nocapital_70\n",
    "final_input['hac_opt_home_nocapital_ini_80']=final_input['hac_opt_result_nocapital_ini_80'].agg(check_end80)\n",
    "\n",
    "final_input['hac_opt_result_nocapital_ini_80_end80']=result_1d_nocapital_80_end80\n",
    "final_input['hac_opt_home_nocapital_ini_80_end80']=final_input['hac_opt_result_nocapital_ini_80_end80'].agg(check_end80)\n"
   ]
  },
  {
   "cell_type": "code",
   "execution_count": null,
   "metadata": {},
   "outputs": [],
   "source": [
    "final_input.to_csv('data_get_ready_result_hac_nocapital.csv')"
   ]
  },
  {
   "cell_type": "code",
   "execution_count": null,
   "metadata": {},
   "outputs": [],
   "source": [
    "r = 80"
   ]
  },
  {
   "cell_type": "code",
   "execution_count": null,
   "metadata": {},
   "outputs": [],
   "source": [
    "r"
   ]
  },
  {
   "cell_type": "code",
   "execution_count": null,
   "metadata": {},
   "outputs": [],
   "source": [
    "final_input.head()"
   ]
  },
  {
   "cell_type": "markdown",
   "metadata": {},
   "source": [
    "Result summary"
   ]
  },
  {
   "cell_type": "code",
   "execution_count": null,
   "metadata": {},
   "outputs": [],
   "source": [
    "final_input['Cluster_new_features'].value_counts()"
   ]
  },
  {
   "cell_type": "code",
   "execution_count": null,
   "metadata": {},
   "outputs": [],
   "source": [
    "final_input.loc[1,'CENSUS_D']"
   ]
  },
  {
   "cell_type": "code",
   "execution_count": null,
   "metadata": {},
   "outputs": [],
   "source": [
    "final_input.head()"
   ]
  },
  {
   "cell_type": "markdown",
   "metadata": {},
   "source": [
    "One more income classes category"
   ]
  },
  {
   "cell_type": "markdown",
   "metadata": {},
   "source": [
    "three-levels income categorites"
   ]
  },
  {
   "cell_type": "code",
   "execution_count": null,
   "metadata": {},
   "outputs": [],
   "source": [
    "final_input_lower = final_input[final_input['income_classes'] == 0]\n",
    "final_input_middle = final_input[final_input['income_classes'] == 1]\n",
    "final_input_upper = final_input[final_input['income_classes'] == 2]"
   ]
  },
  {
   "cell_type": "code",
   "execution_count": null,
   "metadata": {},
   "outputs": [],
   "source": [
    "print('Initial range miles with 20 miles')\n",
    "\n",
    "print('End over 20 miles:')\n",
    "print(np.mean(final_input_lower['hac_opt_home_nocapital_ini_20']==1))\n",
    "print(np.mean(final_input_middle['hac_opt_home_nocapital_ini_20']==1))\n",
    "print(np.mean(final_input_upper['hac_opt_home_nocapital_ini_20']==1))\n",
    "\n",
    "print('End over 80 miles')\n",
    "print(np.mean(final_input_lower['hac_opt_home_nocapital_ini_20_end80']==1))\n",
    "print(np.mean(final_input_middle['hac_opt_home_nocapital_ini_20_end80']==1))\n",
    "print(np.mean(final_input_upper['hac_opt_home_nocapital_ini_20_end80']==1))"
   ]
  },
  {
   "cell_type": "code",
   "execution_count": null,
   "metadata": {},
   "outputs": [],
   "source": [
    "print('Initial range miles with 30 miles')\n",
    "\n",
    "print('End over 20 miles:')\n",
    "print(np.mean(final_input_lower['hac_opt_home_nocapital_ini_30']==1))\n",
    "print(np.mean(final_input_middle['hac_opt_home_nocapital_ini_30']==1))\n",
    "print(np.mean(final_input_upper['hac_opt_home_nocapital_ini_30']==1))\n",
    "\n",
    "print('End over 80 miles')\n",
    "print(np.mean(final_input_lower['hac_opt_home_nocapital_ini_30_end80']==1))\n",
    "print(np.mean(final_input_middle['hac_opt_home_nocapital_ini_30_end80']==1))\n",
    "print(np.mean(final_input_upper['hac_opt_home_nocapital_ini_30_end80']==1))"
   ]
  },
  {
   "cell_type": "code",
   "execution_count": null,
   "metadata": {},
   "outputs": [],
   "source": [
    "print('Initial range miles with 40 miles')\n",
    "\n",
    "print('End over 20 miles:')\n",
    "print(np.mean(final_input_lower['hac_opt_home_nocapital_ini_40']==1))\n",
    "print(np.mean(final_input_middle['hac_opt_home_nocapital_ini_40']==1))\n",
    "print(np.mean(final_input_upper['hac_opt_home_nocapital_ini_40']==1))\n",
    "\n",
    "print('End over 80 miles')\n",
    "print(np.mean(final_input_lower['hac_opt_home_nocapital_ini_40_end80']==1))\n",
    "print(np.mean(final_input_middle['hac_opt_home_nocapital_ini_40_end80']==1))\n",
    "print(np.mean(final_input_upper['hac_opt_home_nocapital_ini_40_end80']==1))"
   ]
  },
  {
   "cell_type": "code",
   "execution_count": null,
   "metadata": {},
   "outputs": [],
   "source": [
    "print('Initial range miles with 50 miles')\n",
    "\n",
    "print('End over 20 miles:')\n",
    "print(np.mean(final_input_lower['hac_opt_home_nocapital_ini_50']==1))\n",
    "print(np.mean(final_input_middle['hac_opt_home_nocapital_ini_50']==1))\n",
    "print(np.mean(final_input_upper['hac_opt_home_nocapital_ini_50']==1))\n",
    "\n",
    "print('End over 80 miles')\n",
    "print(np.mean(final_input_lower['hac_opt_home_nocapital_ini_50_end80']==1))\n",
    "print(np.mean(final_input_middle['hac_opt_home_nocapital_ini_50_end80']==1))\n",
    "print(np.mean(final_input_upper['hac_opt_home_nocapital_ini_50_end80']==1))"
   ]
  },
  {
   "cell_type": "code",
   "execution_count": null,
   "metadata": {},
   "outputs": [],
   "source": [
    "print('Initial range miles with 60 miles')\n",
    "\n",
    "print('End over 20 miles:')\n",
    "print(np.mean(final_input_lower['hac_opt_home_nocapital_ini_60']==1))\n",
    "print(np.mean(final_input_middle['hac_opt_home_nocapital_ini_60']==1))\n",
    "print(np.mean(final_input_upper['hac_opt_home_nocapital_ini_60']==1))\n",
    "\n",
    "print('End over 80 miles')\n",
    "print(np.mean(final_input_lower['hac_opt_home_nocapital_ini_60_end80']==1))\n",
    "print(np.mean(final_input_middle['hac_opt_home_nocapital_ini_60_end80']==1))\n",
    "print(np.mean(final_input_upper['hac_opt_home_nocapital_ini_60_end80']==1))"
   ]
  },
  {
   "cell_type": "code",
   "execution_count": null,
   "metadata": {},
   "outputs": [],
   "source": [
    "print('Initial range miles with 70 miles')\n",
    "\n",
    "print('End over 20 miles:')\n",
    "print(np.mean(final_input_lower['hac_opt_home_nocapital_ini_70']==1))\n",
    "print(np.mean(final_input_middle['hac_opt_home_nocapital_ini_70']==1))\n",
    "print(np.mean(final_input_upper['hac_opt_home_nocapital_ini_70']==1))\n",
    "\n",
    "print('End over 80 miles')\n",
    "print(np.mean(final_input_lower['hac_opt_home_nocapital_ini_70_end80']==1))\n",
    "print(np.mean(final_input_middle['hac_opt_home_nocapital_ini_70_end80']==1))\n",
    "print(np.mean(final_input_upper['hac_opt_home_nocapital_ini_70_end80']==1))"
   ]
  },
  {
   "cell_type": "code",
   "execution_count": null,
   "metadata": {},
   "outputs": [],
   "source": [
    "print('Initial range miles with 80 miles')\n",
    "\n",
    "print('End over 20 miles:')\n",
    "print(np.mean(final_input_lower['hac_opt_home_nocapital_ini_80']==1))\n",
    "print(np.mean(final_input_middle['hac_opt_home_nocapital_ini_80']==1))\n",
    "print(np.mean(final_input_upper['hac_opt_home_nocapital_ini_80']==1))\n",
    "\n",
    "print('End over 80 miles')\n",
    "print(np.mean(final_input_lower['hac_opt_home_nocapital_ini_80_end80']==1))\n",
    "print(np.mean(final_input_middle['hac_opt_home_nocapital_ini_80_end80']==1))\n",
    "print(np.mean(final_input_upper['hac_opt_home_nocapital_ini_80_end80']==1))"
   ]
  },
  {
   "cell_type": "code",
   "execution_count": null,
   "metadata": {},
   "outputs": [],
   "source": [
    "cluster0 = final_input[final_input['Cluster_new_features'] == 0]\n",
    "cluster1 = final_input[final_input['Cluster_new_features'] == 1]\n",
    "cluster2 = final_input[final_input['Cluster_new_features'] == 2]"
   ]
  },
  {
   "cell_type": "code",
   "execution_count": null,
   "metadata": {},
   "outputs": [],
   "source": [
    "cluster0_r = final_input_rich[final_input_rich['Cluster_new_features'] == 0]\n",
    "cluster1_r = final_input_rich[final_input_rich['Cluster_new_features'] == 1]\n",
    "cluster2_r = final_input_rich[final_input_rich['Cluster_new_features'] == 2]\n",
    "\n",
    "cluster0_p = final_input_poor[final_input_poor['Cluster_new_features'] == 0]\n",
    "cluster1_p = final_input_poor[final_input_poor['Cluster_new_features'] == 1]\n",
    "cluster2_p = final_input_poor[final_input_poor['Cluster_new_features'] == 2]\n"
   ]
  },
  {
   "cell_type": "code",
   "execution_count": null,
   "metadata": {},
   "outputs": [],
   "source": [
    "cluster0 = final_input[final_input['Cluster_new_features'] == 0]\n",
    "cluster1 = final_input[final_input['Cluster_new_features'] == 1]\n",
    "cluster2 = final_input[final_input['Cluster_new_features'] == 2]\n",
    "\n",
    "cluster0A = cluster0[cluster0['CENSUS_D'] == 1]\n",
    "cluster0B = cluster0[cluster0['CENSUS_D'] == 2]\n",
    "cluster0C = cluster0[cluster0['CENSUS_D'] == 3]\n",
    "cluster0D = cluster0[cluster0['CENSUS_D'] == 4]\n",
    "cluster0E = cluster0[cluster0['CENSUS_D'] == 5]\n",
    "cluster0F = cluster0[cluster0['CENSUS_D'] == 6]\n",
    "cluster0G = cluster0[cluster0['CENSUS_D'] == 7]\n",
    "cluster0H = cluster0[cluster0['CENSUS_D'] == 8]\n",
    "cluster0I = cluster0[cluster0['CENSUS_D'] == 9]\n",
    "\n",
    "cluster1A = cluster1[cluster1['CENSUS_D'] == 1]\n",
    "cluster1B = cluster1[cluster1['CENSUS_D'] == 2]\n",
    "cluster1C = cluster1[cluster1['CENSUS_D'] == 3]\n",
    "cluster1D = cluster1[cluster1['CENSUS_D'] == 4]\n",
    "cluster1E = cluster1[cluster1['CENSUS_D'] == 5]\n",
    "cluster1F = cluster1[cluster1['CENSUS_D'] == 6]\n",
    "cluster1G = cluster1[cluster1['CENSUS_D'] == 7]\n",
    "cluster1H = cluster1[cluster1['CENSUS_D'] == 8]\n",
    "cluster1I = cluster1[cluster1['CENSUS_D'] == 9]\n",
    "\n",
    "cluster2A = cluster2[cluster2['CENSUS_D'] == 1]\n",
    "cluster2B = cluster2[cluster2['CENSUS_D'] == 2]\n",
    "cluster2C = cluster2[cluster2['CENSUS_D'] == 3]\n",
    "cluster2D = cluster2[cluster2['CENSUS_D'] == 4]\n",
    "cluster2E = cluster2[cluster2['CENSUS_D'] == 5]\n",
    "cluster2F = cluster2[cluster2['CENSUS_D'] == 6]\n",
    "cluster2G = cluster2[cluster2['CENSUS_D'] == 7]\n",
    "cluster2H = cluster2[cluster2['CENSUS_D'] == 8]\n",
    "cluster2I = cluster2[cluster2['CENSUS_D'] == 9]"
   ]
  },
  {
   "cell_type": "code",
   "execution_count": null,
   "metadata": {},
   "outputs": [],
   "source": [
    "cluster0A_r = cluster0_r[cluster0_r['CENSUS_D'] == 1]\n",
    "cluster0B_r = cluster0_r[cluster0_r['CENSUS_D'] == 2]\n",
    "cluster0C_r = cluster0_r[cluster0_r['CENSUS_D'] == 3]\n",
    "cluster0D_r = cluster0_r[cluster0_r['CENSUS_D'] == 4]\n",
    "cluster0E_r = cluster0_r[cluster0_r['CENSUS_D'] == 5]\n",
    "cluster0F_r = cluster0_r[cluster0_r['CENSUS_D'] == 6]\n",
    "cluster0G_r = cluster0_r[cluster0_r['CENSUS_D'] == 7]\n",
    "cluster0H_r = cluster0_r[cluster0_r['CENSUS_D'] == 8]\n",
    "cluster0I_r = cluster0_r[cluster0_r['CENSUS_D'] == 9]\n",
    "\n",
    "cluster0A_p = cluster0_p[cluster0_p['CENSUS_D'] == 1]\n",
    "cluster0B_p = cluster0_p[cluster0_p['CENSUS_D'] == 2]\n",
    "cluster0C_p = cluster0_p[cluster0_p['CENSUS_D'] == 3]\n",
    "cluster0D_p = cluster0_p[cluster0_p['CENSUS_D'] == 4]\n",
    "cluster0E_p = cluster0_p[cluster0_p['CENSUS_D'] == 5]\n",
    "cluster0F_p = cluster0_p[cluster0_p['CENSUS_D'] == 6]\n",
    "cluster0G_p = cluster0_p[cluster0_p['CENSUS_D'] == 7]\n",
    "cluster0H_p = cluster0_p[cluster0_p['CENSUS_D'] == 8]\n",
    "cluster0I_p = cluster0_p[cluster0_p['CENSUS_D'] == 9]"
   ]
  },
  {
   "cell_type": "code",
   "execution_count": null,
   "metadata": {},
   "outputs": [],
   "source": [
    "cluster1A = cluster1[cluster1['CENSUS_D'] == 1]\n",
    "cluster1B = cluster1[cluster1['CENSUS_D'] == 2]\n",
    "cluster1C = cluster1[cluster1['CENSUS_D'] == 3]\n",
    "cluster1D = cluster1[cluster1['CENSUS_D'] == 4]\n",
    "cluster1E = cluster1[cluster1['CENSUS_D'] == 5]\n",
    "cluster1F = cluster1[cluster1['CENSUS_D'] == 6]\n",
    "cluster1G = cluster1[cluster1['CENSUS_D'] == 7]\n",
    "cluster1H = cluster1[cluster1['CENSUS_D'] == 8]\n",
    "cluster1I = cluster1[cluster1['CENSUS_D'] == 9]\n"
   ]
  },
  {
   "cell_type": "code",
   "execution_count": null,
   "metadata": {},
   "outputs": [],
   "source": [
    "cluster1A_r = cluster1_r[cluster1_r['CENSUS_D'] == 1]\n",
    "cluster1B_r = cluster1_r[cluster1_r['CENSUS_D'] == 2]\n",
    "cluster1C_r = cluster1_r[cluster1_r['CENSUS_D'] == 3]\n",
    "cluster1D_r = cluster1_r[cluster1_r['CENSUS_D'] == 4]\n",
    "cluster1E_r = cluster1_r[cluster1_r['CENSUS_D'] == 5]\n",
    "cluster1F_r = cluster1_r[cluster1_r['CENSUS_D'] == 6]\n",
    "cluster1G_r = cluster1_r[cluster1_r['CENSUS_D'] == 7]\n",
    "cluster1H_r = cluster1_r[cluster1_r['CENSUS_D'] == 8]\n",
    "cluster1I_r = cluster1_r[cluster1_r['CENSUS_D'] == 9]\n",
    "\n",
    "cluster1A_p = cluster1_p[cluster1_p['CENSUS_D'] == 1]\n",
    "cluster1B_p = cluster1_p[cluster1_p['CENSUS_D'] == 2]\n",
    "cluster1C_p = cluster1_p[cluster1_p['CENSUS_D'] == 3]\n",
    "cluster1D_p = cluster1_p[cluster1_p['CENSUS_D'] == 4]\n",
    "cluster1E_p = cluster1_p[cluster1_p['CENSUS_D'] == 5]\n",
    "cluster1F_p = cluster1_p[cluster1_p['CENSUS_D'] == 6]\n",
    "cluster1G_p = cluster1_p[cluster1_p['CENSUS_D'] == 7]\n",
    "cluster1H_p = cluster1_p[cluster1_p['CENSUS_D'] == 8]\n",
    "cluster1I_p = cluster1_p[cluster1_p['CENSUS_D'] == 9]"
   ]
  },
  {
   "cell_type": "code",
   "execution_count": null,
   "metadata": {},
   "outputs": [],
   "source": [
    "cluster2A = cluster2[cluster2['CENSUS_D'] == 1]\n",
    "cluster2B = cluster2[cluster2['CENSUS_D'] == 2]\n",
    "cluster2C = cluster2[cluster2['CENSUS_D'] == 3]\n",
    "cluster2D = cluster2[cluster2['CENSUS_D'] == 4]\n",
    "cluster2E = cluster2[cluster2['CENSUS_D'] == 5]\n",
    "cluster2F = cluster2[cluster2['CENSUS_D'] == 6]\n",
    "cluster2G = cluster2[cluster2['CENSUS_D'] == 7]\n",
    "cluster2H = cluster2[cluster2['CENSUS_D'] == 8]\n",
    "cluster2I = cluster2[cluster2['CENSUS_D'] == 9]\n"
   ]
  },
  {
   "cell_type": "code",
   "execution_count": null,
   "metadata": {},
   "outputs": [],
   "source": [
    "cluster2A_r = cluster2_r[cluster2_r['CENSUS_D'] == 1]\n",
    "cluster2B_r = cluster2_r[cluster2_r['CENSUS_D'] == 2]\n",
    "cluster2C_r = cluster2_r[cluster2_r['CENSUS_D'] == 3]\n",
    "cluster2D_r = cluster2_r[cluster2_r['CENSUS_D'] == 4]\n",
    "cluster2E_r = cluster2_r[cluster2_r['CENSUS_D'] == 5]\n",
    "cluster2F_r = cluster2_r[cluster2_r['CENSUS_D'] == 6]\n",
    "cluster2G_r = cluster2_r[cluster2_r['CENSUS_D'] == 7]\n",
    "cluster2H_r = cluster2_r[cluster2_r['CENSUS_D'] == 8]\n",
    "cluster2I_r = cluster2_r[cluster2_r['CENSUS_D'] == 9]\n",
    "\n",
    "cluster2A_p = cluster2_p[cluster2_p['CENSUS_D'] == 1]\n",
    "cluster2B_p = cluster2_p[cluster2_p['CENSUS_D'] == 2]\n",
    "cluster2C_p = cluster2_p[cluster2_p['CENSUS_D'] == 3]\n",
    "cluster2D_p = cluster2_p[cluster2_p['CENSUS_D'] == 4]\n",
    "cluster2E_p = cluster2_p[cluster2_p['CENSUS_D'] == 5]\n",
    "cluster2F_p = cluster2_p[cluster2_p['CENSUS_D'] == 6]\n",
    "cluster2G_p = cluster2_p[cluster2_p['CENSUS_D'] == 7]\n",
    "cluster2H_p = cluster2_p[cluster2_p['CENSUS_D'] == 8]\n",
    "cluster2I_p = cluster2_p[cluster2_p['CENSUS_D'] == 9]"
   ]
  },
  {
   "cell_type": "code",
   "execution_count": null,
   "metadata": {},
   "outputs": [],
   "source": [
    "print('Initial range miles with 20 miles')\n",
    "\n",
    "print('End over 20 miles:')\n",
    "print(np.mean(cluster0A['hac_opt_home_nocapital_ini_20']==1))\n",
    "print(np.mean(cluster1A['hac_opt_home_nocapital_ini_20']==1))\n",
    "print(np.mean(cluster2A['hac_opt_home_nocapital_ini_20']==1))\n",
    "\n",
    "print(np.mean(cluster0B['hac_opt_home_nocapital_ini_20']==1))\n",
    "print(np.mean(cluster1B['hac_opt_home_nocapital_ini_20']==1))\n",
    "print(np.mean(cluster2B['hac_opt_home_nocapital_ini_20']==1))\n",
    "\n",
    "print(np.mean(cluster0C['hac_opt_home_nocapital_ini_20']==1))\n",
    "print(np.mean(cluster1C['hac_opt_home_nocapital_ini_20']==1))\n",
    "print(np.mean(cluster2C['hac_opt_home_nocapital_ini_20']==1))\n",
    "\n",
    "print(np.mean(cluster0D['hac_opt_home_nocapital_ini_20']==1))\n",
    "print(np.mean(cluster1D['hac_opt_home_nocapital_ini_20']==1))\n",
    "print(np.mean(cluster2D['hac_opt_home_nocapital_ini_20']==1))\n",
    "\n",
    "print(np.mean(cluster0E['hac_opt_home_nocapital_ini_20']==1))\n",
    "print(np.mean(cluster1E['hac_opt_home_nocapital_ini_20']==1))\n",
    "print(np.mean(cluster2E['hac_opt_home_nocapital_ini_20']==1))\n",
    "\n",
    "print(np.mean(cluster0F['hac_opt_home_nocapital_ini_20']==1))\n",
    "print(np.mean(cluster1F['hac_opt_home_nocapital_ini_20']==1))\n",
    "print(np.mean(cluster2F['hac_opt_home_nocapital_ini_20']==1))\n",
    "\n",
    "print(np.mean(cluster0G['hac_opt_home_nocapital_ini_20']==1))\n",
    "print(np.mean(cluster1G['hac_opt_home_nocapital_ini_20']==1))\n",
    "print(np.mean(cluster2G['hac_opt_home_nocapital_ini_20']==1))\n",
    "\n",
    "print(np.mean(cluster0H['hac_opt_home_nocapital_ini_20']==1))\n",
    "print(np.mean(cluster1H['hac_opt_home_nocapital_ini_20']==1))\n",
    "print(np.mean(cluster2H['hac_opt_home_nocapital_ini_20']==1))\n",
    "\n",
    "print(np.mean(cluster0I['hac_opt_home_nocapital_ini_20']==1))\n",
    "print(np.mean(cluster1I['hac_opt_home_nocapital_ini_20']==1))\n",
    "print(np.mean(cluster2I['hac_opt_home_nocapital_ini_20']==1))\n",
    "\n",
    "print('End over 80 miles')\n",
    "print(np.mean(cluster0A['hac_opt_home_nocapital_ini_20_end80']==1))\n",
    "print(np.mean(cluster1A['hac_opt_home_nocapital_ini_20_end80']==1))\n",
    "print(np.mean(cluster2A['hac_opt_home_nocapital_ini_20_end80']==1))\n",
    "\n",
    "print(np.mean(cluster0B['hac_opt_home_nocapital_ini_20_end80']==1))\n",
    "print(np.mean(cluster1B['hac_opt_home_nocapital_ini_20_end80']==1))\n",
    "print(np.mean(cluster2B['hac_opt_home_nocapital_ini_20_end80']==1))\n",
    "\n",
    "print(np.mean(cluster0C['hac_opt_home_nocapital_ini_20_end80']==1))\n",
    "print(np.mean(cluster1C['hac_opt_home_nocapital_ini_20_end80']==1))\n",
    "print(np.mean(cluster2C['hac_opt_home_nocapital_ini_20_end80']==1))\n",
    "\n",
    "print(np.mean(cluster0D['hac_opt_home_nocapital_ini_20_end80']==1))\n",
    "print(np.mean(cluster1D['hac_opt_home_nocapital_ini_20_end80']==1))\n",
    "print(np.mean(cluster2D['hac_opt_home_nocapital_ini_20_end80']==1))\n",
    "\n",
    "print(np.mean(cluster0E['hac_opt_home_nocapital_ini_20_end80']==1))\n",
    "print(np.mean(cluster1E['hac_opt_home_nocapital_ini_20_end80']==1))\n",
    "print(np.mean(cluster2E['hac_opt_home_nocapital_ini_20_end80']==1))\n",
    "\n",
    "print(np.mean(cluster0F['hac_opt_home_nocapital_ini_20_end80']==1))\n",
    "print(np.mean(cluster1F['hac_opt_home_nocapital_ini_20_end80']==1))\n",
    "print(np.mean(cluster2F['hac_opt_home_nocapital_ini_20_end80']==1))\n",
    "\n",
    "print(np.mean(cluster0G['hac_opt_home_nocapital_ini_20_end80']==1))\n",
    "print(np.mean(cluster1G['hac_opt_home_nocapital_ini_20_end80']==1))\n",
    "print(np.mean(cluster2G['hac_opt_home_nocapital_ini_20_end80']==1))\n",
    "\n",
    "print(np.mean(cluster0H['hac_opt_home_nocapital_ini_20_end80']==1))\n",
    "print(np.mean(cluster1H['hac_opt_home_nocapital_ini_20_end80']==1))\n",
    "print(np.mean(cluster2H['hac_opt_home_nocapital_ini_20_end80']==1))\n",
    "\n",
    "print(np.mean(cluster0I['hac_opt_home_nocapital_ini_20_end80']==1))\n",
    "print(np.mean(cluster1I['hac_opt_home_nocapital_ini_20_end80']==1))\n",
    "print(np.mean(cluster2I['hac_opt_home_nocapital_ini_20_end80']==1))"
   ]
  },
  {
   "cell_type": "code",
   "execution_count": null,
   "metadata": {},
   "outputs": [],
   "source": [
    "print('Initial range miles with 50 miles')\n",
    "\n",
    "print('End over 20 miles:')\n",
    "print(np.mean(cluster0A['hac_opt_home_nocapital_ini_50']==1))\n",
    "print(np.mean(cluster1A['hac_opt_home_nocapital_ini_50']==1))\n",
    "print(np.mean(cluster2A['hac_opt_home_nocapital_ini_50']==1))\n",
    "print(np.mean(cluster0B['hac_opt_home_nocapital_ini_50']==1))\n",
    "print(np.mean(cluster1B['hac_opt_home_nocapital_ini_50']==1))\n",
    "print(np.mean(cluster2B['hac_opt_home_nocapital_ini_50']==1))\n",
    "print(np.mean(cluster0C['hac_opt_home_nocapital_ini_50']==1))\n",
    "print(np.mean(cluster1C['hac_opt_home_nocapital_ini_50']==1))\n",
    "print(np.mean(cluster2C['hac_opt_home_nocapital_ini_50']==1))\n",
    "print(np.mean(cluster0D['hac_opt_home_nocapital_ini_50']==1))\n",
    "print(np.mean(cluster1D['hac_opt_home_nocapital_ini_50']==1))\n",
    "print(np.mean(cluster2D['hac_opt_home_nocapital_ini_50']==1))\n",
    "print(np.mean(cluster0E['hac_opt_home_nocapital_ini_50']==1))\n",
    "print(np.mean(cluster1E['hac_opt_home_nocapital_ini_50']==1))\n",
    "print(np.mean(cluster2E['hac_opt_home_nocapital_ini_50']==1))\n",
    "print(np.mean(cluster0F['hac_opt_home_nocapital_ini_50']==1))\n",
    "print(np.mean(cluster1F['hac_opt_home_nocapital_ini_50']==1))\n",
    "print(np.mean(cluster2F['hac_opt_home_nocapital_ini_50']==1))\n",
    "print(np.mean(cluster0G['hac_opt_home_nocapital_ini_50']==1))\n",
    "print(np.mean(cluster1G['hac_opt_home_nocapital_ini_50']==1))\n",
    "print(np.mean(cluster2G['hac_opt_home_nocapital_ini_50']==1))\n",
    "print(np.mean(cluster0H['hac_opt_home_nocapital_ini_50']==1))\n",
    "print(np.mean(cluster1H['hac_opt_home_nocapital_ini_50']==1))\n",
    "print(np.mean(cluster2H['hac_opt_home_nocapital_ini_50']==1))\n",
    "print(np.mean(cluster0I['hac_opt_home_nocapital_ini_50']==1))\n",
    "print(np.mean(cluster1I['hac_opt_home_nocapital_ini_50']==1))\n",
    "print(np.mean(cluster2I['hac_opt_home_nocapital_ini_50']==1))\n",
    "\n",
    "print('End over 80 miles')\n",
    "print(np.mean(cluster0A['hac_opt_home_nocapital_ini_50_end80']==1))\n",
    "print(np.mean(cluster1A['hac_opt_home_nocapital_ini_50_end80']==1))\n",
    "print(np.mean(cluster2A['hac_opt_home_nocapital_ini_50_end80']==1))\n",
    "\n",
    "print(np.mean(cluster0B['hac_opt_home_nocapital_ini_50_end80']==1))\n",
    "print(np.mean(cluster1B['hac_opt_home_nocapital_ini_50_end80']==1))\n",
    "print(np.mean(cluster2B['hac_opt_home_nocapital_ini_50_end80']==1))\n",
    "\n",
    "print(np.mean(cluster0C['hac_opt_home_nocapital_ini_50_end80']==1))\n",
    "print(np.mean(cluster1C['hac_opt_home_nocapital_ini_50_end80']==1))\n",
    "print(np.mean(cluster2C['hac_opt_home_nocapital_ini_50_end80']==1))\n",
    "\n",
    "print(np.mean(cluster0D['hac_opt_home_nocapital_ini_50_end80']==1))\n",
    "print(np.mean(cluster1D['hac_opt_home_nocapital_ini_50_end80']==1))\n",
    "print(np.mean(cluster2D['hac_opt_home_nocapital_ini_50_end80']==1))\n",
    "\n",
    "print(np.mean(cluster0E['hac_opt_home_nocapital_ini_50_end80']==1))\n",
    "print(np.mean(cluster1E['hac_opt_home_nocapital_ini_50_end80']==1))\n",
    "print(np.mean(cluster2E['hac_opt_home_nocapital_ini_50_end80']==1))\n",
    "\n",
    "print(np.mean(cluster0F['hac_opt_home_nocapital_ini_50_end80']==1))\n",
    "print(np.mean(cluster1F['hac_opt_home_nocapital_ini_50_end80']==1))\n",
    "print(np.mean(cluster2F['hac_opt_home_nocapital_ini_50_end80']==1))\n",
    "\n",
    "print(np.mean(cluster0G['hac_opt_home_nocapital_ini_50_end80']==1))\n",
    "print(np.mean(cluster1G['hac_opt_home_nocapital_ini_50_end80']==1))\n",
    "print(np.mean(cluster2G['hac_opt_home_nocapital_ini_50_end80']==1))\n",
    "\n",
    "print(np.mean(cluster0H['hac_opt_home_nocapital_ini_50_end80']==1))\n",
    "print(np.mean(cluster1H['hac_opt_home_nocapital_ini_50_end80']==1))\n",
    "print(np.mean(cluster2H['hac_opt_home_nocapital_ini_50_end80']==1))\n",
    "\n",
    "print(np.mean(cluster0I['hac_opt_home_nocapital_ini_50_end80']==1))\n",
    "print(np.mean(cluster1I['hac_opt_home_nocapital_ini_50_end80']==1))\n",
    "print(np.mean(cluster2I['hac_opt_home_nocapital_ini_50_end80']==1))"
   ]
  },
  {
   "cell_type": "code",
   "execution_count": null,
   "metadata": {},
   "outputs": [],
   "source": [
    "print('Initial range miles with 50 miles')\n",
    "\n",
    "print('End Over 20 miles of the Rich:')\n",
    "print(np.mean(cluster0A_r['hac_opt_home_nocapital_ini_50']==1))\n",
    "print(np.mean(cluster1A_r['hac_opt_home_nocapital_ini_50']==1))\n",
    "print(np.mean(cluster2A_r['hac_opt_home_nocapital_ini_50']==1))\n",
    "print(np.mean(cluster0B_r['hac_opt_home_nocapital_ini_50']==1))\n",
    "print(np.mean(cluster1B_r['hac_opt_home_nocapital_ini_50']==1))\n",
    "print(np.mean(cluster2B_r['hac_opt_home_nocapital_ini_50']==1))\n",
    "print(np.mean(cluster0C_r['hac_opt_home_nocapital_ini_50']==1))\n",
    "print(np.mean(cluster1C_r['hac_opt_home_nocapital_ini_50']==1))\n",
    "print(np.mean(cluster2C_r['hac_opt_home_nocapital_ini_50']==1))\n",
    "print(np.mean(cluster0D_r['hac_opt_home_nocapital_ini_50']==1))\n",
    "print(np.mean(cluster1D_r['hac_opt_home_nocapital_ini_50']==1))\n",
    "print(np.mean(cluster2D_r['hac_opt_home_nocapital_ini_50']==1))\n",
    "print(np.mean(cluster0E_r['hac_opt_home_nocapital_ini_50']==1))\n",
    "print(np.mean(cluster1E_r['hac_opt_home_nocapital_ini_50']==1))\n",
    "print(np.mean(cluster2E_r['hac_opt_home_nocapital_ini_50']==1))\n",
    "print(np.mean(cluster0F_r['hac_opt_home_nocapital_ini_50']==1))\n",
    "print(np.mean(cluster1F_r['hac_opt_home_nocapital_ini_50']==1))\n",
    "print(np.mean(cluster2F_r['hac_opt_home_nocapital_ini_50']==1))\n",
    "print(np.mean(cluster0G_r['hac_opt_home_nocapital_ini_50']==1))\n",
    "print(np.mean(cluster1G_r['hac_opt_home_nocapital_ini_50']==1))\n",
    "print(np.mean(cluster2G_r['hac_opt_home_nocapital_ini_50']==1))\n",
    "print(np.mean(cluster0H_r['hac_opt_home_nocapital_ini_50']==1))\n",
    "print(np.mean(cluster1H_r['hac_opt_home_nocapital_ini_50']==1))\n",
    "print(np.mean(cluster2H_r['hac_opt_home_nocapital_ini_50']==1))\n",
    "print(np.mean(cluster0I_r['hac_opt_home_nocapital_ini_50']==1))\n",
    "print(np.mean(cluster1I_r['hac_opt_home_nocapital_ini_50']==1))\n",
    "print(np.mean(cluster2I_r['hac_opt_home_nocapital_ini_50']==1))\n",
    "print('End Over 20 miles of the Poor:')\n",
    "print(np.mean(cluster0A_p['hac_opt_home_nocapital_ini_50']==1))\n",
    "print(np.mean(cluster1A_p['hac_opt_home_nocapital_ini_50']==1))\n",
    "print(np.mean(cluster2A_p['hac_opt_home_nocapital_ini_50']==1))\n",
    "print(np.mean(cluster0B_p['hac_opt_home_nocapital_ini_50']==1))\n",
    "print(np.mean(cluster1B_p['hac_opt_home_nocapital_ini_50']==1))\n",
    "print(np.mean(cluster2B_p['hac_opt_home_nocapital_ini_50']==1))\n",
    "print(np.mean(cluster0C_p['hac_opt_home_nocapital_ini_50']==1))\n",
    "print(np.mean(cluster1C_p['hac_opt_home_nocapital_ini_50']==1))\n",
    "print(np.mean(cluster2C_p['hac_opt_home_nocapital_ini_50']==1))\n",
    "print(np.mean(cluster0D_p['hac_opt_home_nocapital_ini_50']==1))\n",
    "print(np.mean(cluster1D_p['hac_opt_home_nocapital_ini_50']==1))\n",
    "print(np.mean(cluster2D_p['hac_opt_home_nocapital_ini_50']==1))\n",
    "print(np.mean(cluster0E_p['hac_opt_home_nocapital_ini_50']==1))\n",
    "print(np.mean(cluster1E_p['hac_opt_home_nocapital_ini_50']==1))\n",
    "print(np.mean(cluster2E_p['hac_opt_home_nocapital_ini_50']==1))\n",
    "print(np.mean(cluster0F_p['hac_opt_home_nocapital_ini_50']==1))\n",
    "print(np.mean(cluster1F_p['hac_opt_home_nocapital_ini_50']==1))\n",
    "print(np.mean(cluster2F_p['hac_opt_home_nocapital_ini_50']==1))\n",
    "print(np.mean(cluster0G_p['hac_opt_home_nocapital_ini_50']==1))\n",
    "print(np.mean(cluster1G_p['hac_opt_home_nocapital_ini_50']==1))\n",
    "print(np.mean(cluster2G_p['hac_opt_home_nocapital_ini_50']==1))\n",
    "print(np.mean(cluster0H_p['hac_opt_home_nocapital_ini_50']==1))\n",
    "print(np.mean(cluster1H_p['hac_opt_home_nocapital_ini_50']==1))\n",
    "print(np.mean(cluster2H_p['hac_opt_home_nocapital_ini_50']==1))\n",
    "print(np.mean(cluster0I_p['hac_opt_home_nocapital_ini_50']==1))\n",
    "print(np.mean(cluster1I_p['hac_opt_home_nocapital_ini_50']==1))\n",
    "print(np.mean(cluster2I_p['hac_opt_home_nocapital_ini_50']==1))\n",
    "\n",
    "print('End Over 80 miles of the Rich')\n",
    "print(np.mean(cluster0A_r['hac_opt_home_nocapital_ini_50_end80']==1))\n",
    "print(np.mean(cluster1A_r['hac_opt_home_nocapital_ini_50_end80']==1))\n",
    "print(np.mean(cluster2A_r['hac_opt_home_nocapital_ini_50_end80']==1))\n",
    "print(np.mean(cluster0B_r['hac_opt_home_nocapital_ini_50_end80']==1))\n",
    "print(np.mean(cluster1B_r['hac_opt_home_nocapital_ini_50_end80']==1))\n",
    "print(np.mean(cluster2B_r['hac_opt_home_nocapital_ini_50_end80']==1))\n",
    "print(np.mean(cluster0C_r['hac_opt_home_nocapital_ini_50_end80']==1))\n",
    "print(np.mean(cluster1C_r['hac_opt_home_nocapital_ini_50_end80']==1))\n",
    "print(np.mean(cluster2C_r['hac_opt_home_nocapital_ini_50_end80']==1))\n",
    "print(np.mean(cluster0D_r['hac_opt_home_nocapital_ini_50_end80']==1))\n",
    "print(np.mean(cluster1D_r['hac_opt_home_nocapital_ini_50_end80']==1))\n",
    "print(np.mean(cluster2D_r['hac_opt_home_nocapital_ini_50_end80']==1))\n",
    "print(np.mean(cluster0E_r['hac_opt_home_nocapital_ini_50_end80']==1))\n",
    "print(np.mean(cluster1E_r['hac_opt_home_nocapital_ini_50_end80']==1))\n",
    "print(np.mean(cluster2E_r['hac_opt_home_nocapital_ini_50_end80']==1))\n",
    "print(np.mean(cluster0F_r['hac_opt_home_nocapital_ini_50_end80']==1))\n",
    "print(np.mean(cluster1F_r['hac_opt_home_nocapital_ini_50_end80']==1))\n",
    "print(np.mean(cluster2F_r['hac_opt_home_nocapital_ini_50_end80']==1))\n",
    "print(np.mean(cluster0G_r['hac_opt_home_nocapital_ini_50_end80']==1))\n",
    "print(np.mean(cluster1G_r['hac_opt_home_nocapital_ini_50_end80']==1))\n",
    "print(np.mean(cluster2G_r['hac_opt_home_nocapital_ini_50_end80']==1))\n",
    "print(np.mean(cluster0H_r['hac_opt_home_nocapital_ini_50_end80']==1))\n",
    "print(np.mean(cluster1H_r['hac_opt_home_nocapital_ini_50_end80']==1))\n",
    "print(np.mean(cluster2H_r['hac_opt_home_nocapital_ini_50_end80']==1))\n",
    "print(np.mean(cluster0I_r['hac_opt_home_nocapital_ini_50_end80']==1))\n",
    "print(np.mean(cluster1I_r['hac_opt_home_nocapital_ini_50_end80']==1))\n",
    "print(np.mean(cluster2I_r['hac_opt_home_nocapital_ini_50_end80']==1))\n",
    "print('End Over 80 miles of the Poor')\n",
    "print(np.mean(cluster0A_p['hac_opt_home_nocapital_ini_50_end80']==1))\n",
    "print(np.mean(cluster1A_p['hac_opt_home_nocapital_ini_50_end80']==1))\n",
    "print(np.mean(cluster2A_p['hac_opt_home_nocapital_ini_50_end80']==1))\n",
    "print(np.mean(cluster0B_p['hac_opt_home_nocapital_ini_50_end80']==1))\n",
    "print(np.mean(cluster1B_p['hac_opt_home_nocapital_ini_50_end80']==1))\n",
    "print(np.mean(cluster2B_p['hac_opt_home_nocapital_ini_50_end80']==1))\n",
    "print(np.mean(cluster0C_p['hac_opt_home_nocapital_ini_50_end80']==1))\n",
    "print(np.mean(cluster1C_p['hac_opt_home_nocapital_ini_50_end80']==1))\n",
    "print(np.mean(cluster2C_p['hac_opt_home_nocapital_ini_50_end80']==1))\n",
    "print(np.mean(cluster0D_p['hac_opt_home_nocapital_ini_50_end80']==1))\n",
    "print(np.mean(cluster1D_p['hac_opt_home_nocapital_ini_50_end80']==1))\n",
    "print(np.mean(cluster2D_p['hac_opt_home_nocapital_ini_50_end80']==1))\n",
    "print(np.mean(cluster0E_p['hac_opt_home_nocapital_ini_50_end80']==1))\n",
    "print(np.mean(cluster1E_p['hac_opt_home_nocapital_ini_50_end80']==1))\n",
    "print(np.mean(cluster2E_p['hac_opt_home_nocapital_ini_50_end80']==1))\n",
    "print(np.mean(cluster0F_p['hac_opt_home_nocapital_ini_50_end80']==1))\n",
    "print(np.mean(cluster1F_p['hac_opt_home_nocapital_ini_50_end80']==1))\n",
    "print(np.mean(cluster2F_p['hac_opt_home_nocapital_ini_50_end80']==1))\n",
    "print(np.mean(cluster0G_p['hac_opt_home_nocapital_ini_50_end80']==1))\n",
    "print(np.mean(cluster1G_p['hac_opt_home_nocapital_ini_50_end80']==1))\n",
    "print(np.mean(cluster2G_p['hac_opt_home_nocapital_ini_50_end80']==1))\n",
    "print(np.mean(cluster0H_p['hac_opt_home_nocapital_ini_50_end80']==1))\n",
    "print(np.mean(cluster1H_p['hac_opt_home_nocapital_ini_50_end80']==1))\n",
    "print(np.mean(cluster2H_p['hac_opt_home_nocapital_ini_50_end80']==1))\n",
    "print(np.mean(cluster0I_p['hac_opt_home_nocapital_ini_50_end80']==1))\n",
    "print(np.mean(cluster1I_p['hac_opt_home_nocapital_ini_50_end80']==1))\n",
    "print(np.mean(cluster2I_p['hac_opt_home_nocapital_ini_50_end80']==1))"
   ]
  },
  {
   "cell_type": "code",
   "execution_count": null,
   "metadata": {},
   "outputs": [],
   "source": [
    "final_input['CENSUS_D'] = final_input['CENSUS_D'].str[1:-1].str.split(',').tolist()"
   ]
  },
  {
   "cell_type": "code",
   "execution_count": null,
   "metadata": {},
   "outputs": [],
   "source": [
    "final_input['HHSTATE'] = final_input['HHSTATE'].str[1:-1].str.split(',').tolist()"
   ]
  },
  {
   "cell_type": "code",
   "execution_count": null,
   "metadata": {},
   "outputs": [],
   "source": [
    "final_input[\"CENSUS_D\"] = final_input[\"CENSUS_D\"].agg(to_float)"
   ]
  },
  {
   "cell_type": "code",
   "execution_count": null,
   "metadata": {},
   "outputs": [],
   "source": [
    "final_input.loc[0,'CENSUS_D'][0] ==9"
   ]
  },
  {
   "cell_type": "code",
   "execution_count": null,
   "metadata": {},
   "outputs": [],
   "source": [
    "def to_ele(x):\n",
    "    for i in range(len(x)):\n",
    "        x[i] = float(x[i])\n",
    "    return x[0]"
   ]
  },
  {
   "cell_type": "code",
   "execution_count": null,
   "metadata": {},
   "outputs": [],
   "source": [
    "def to_ele_state(x):\n",
    "    return eval(x[0])"
   ]
  },
  {
   "cell_type": "code",
   "execution_count": null,
   "metadata": {},
   "outputs": [],
   "source": [
    "final_input[\"CENSUS_D\"] = final_input[\"CENSUS_D\"].agg(to_ele)"
   ]
  },
  {
   "cell_type": "code",
   "execution_count": null,
   "metadata": {},
   "outputs": [],
   "source": [
    "final_input = pd.read_csv('data_get_ready_result_hac_nocapital.csv')"
   ]
  },
  {
   "cell_type": "code",
   "execution_count": null,
   "metadata": {},
   "outputs": [],
   "source": []
  },
  {
   "cell_type": "code",
   "execution_count": null,
   "metadata": {},
   "outputs": [],
   "source": [
    "final_input[\"HHSTATE\"] = final_input[\"HHSTATE\"].agg(to_ele_state)"
   ]
  },
  {
   "cell_type": "code",
   "execution_count": null,
   "metadata": {},
   "outputs": [],
   "source": [
    "final_input.head()"
   ]
  },
  {
   "cell_type": "code",
   "execution_count": null,
   "metadata": {},
   "outputs": [],
   "source": [
    "final_input = final_input.drop(columns=['Unnamed: 0.1'])"
   ]
  },
  {
   "cell_type": "code",
   "execution_count": null,
   "metadata": {},
   "outputs": [],
   "source": [
    "final_input.insert(2, 'HHFAMINC', hac_cluster['HHFAMINC'])"
   ]
  },
  {
   "cell_type": "code",
   "execution_count": null,
   "metadata": {},
   "outputs": [],
   "source": [
    "final_input['income_classes'] = np.where(final_input['HHFAMINC']<final_input['LowerLine'],0,\n",
    "                                         np.where(final_input['HHFAMINC']>=final_input['UpperLine'],2,1))"
   ]
  },
  {
   "cell_type": "code",
   "execution_count": null,
   "metadata": {},
   "outputs": [],
   "source": [
    "final_input['income_classes'].value_counts()"
   ]
  },
  {
   "cell_type": "code",
   "execution_count": null,
   "metadata": {},
   "outputs": [],
   "source": [
    "middle_income.head()"
   ]
  },
  {
   "cell_type": "code",
   "execution_count": null,
   "metadata": {},
   "outputs": [],
   "source": [
    "type(Postal[0])"
   ]
  },
  {
   "cell_type": "code",
   "execution_count": null,
   "metadata": {},
   "outputs": [],
   "source": [
    "Postal = middle_income['Postal Code']"
   ]
  },
  {
   "cell_type": "code",
   "execution_count": null,
   "metadata": {},
   "outputs": [],
   "source": [
    "Lower = middle_income['Lower boundary of Middle Class']"
   ]
  },
  {
   "cell_type": "code",
   "execution_count": null,
   "metadata": {},
   "outputs": [],
   "source": [
    "Upper = middle_income['Upper boundary of Middle Class']"
   ]
  },
  {
   "cell_type": "code",
   "execution_count": null,
   "metadata": {},
   "outputs": [],
   "source": [
    "final_input['UpperLine'] = np.where(final_input['HHSTATE']==Postal[0],Upper[0],\n",
    "                        np.where(final_input['HHSTATE']==Postal[1],Upper[1],\n",
    "                        np.where(final_input['HHSTATE']==Postal[2],Upper[2],\n",
    "                        np.where(final_input['HHSTATE']==Postal[3],Upper[3],\n",
    "                        np.where(final_input['HHSTATE']==Postal[4],Upper[4],\n",
    "                        np.where(final_input['HHSTATE']==Postal[5],Upper[5],\n",
    "                        np.where(final_input['HHSTATE']==Postal[6],Upper[6],\n",
    "                        np.where(final_input['HHSTATE']==Postal[7],Upper[7],\n",
    "                        np.where(final_input['HHSTATE']==Postal[8],Upper[8],\n",
    "                        np.where(final_input['HHSTATE']==Postal[9],Upper[9],\n",
    "                        np.where(final_input['HHSTATE']==Postal[10],Upper[10],\n",
    "                        np.where(final_input['HHSTATE']==Postal[11],Upper[11],\n",
    "                        np.where(final_input['HHSTATE']==Postal[12],Upper[12],\n",
    "                        np.where(final_input['HHSTATE']==Postal[13],Upper[13],\n",
    "                        np.where(final_input['HHSTATE']==Postal[14],Upper[14],\n",
    "                        np.where(final_input['HHSTATE']==Postal[15],Upper[15],\n",
    "                        np.where(final_input['HHSTATE']==Postal[16],Upper[16],\n",
    "                        np.where(final_input['HHSTATE']==Postal[17],Upper[17],\n",
    "                        np.where(final_input['HHSTATE']==Postal[18],Upper[18],\n",
    "                        np.where(final_input['HHSTATE']==Postal[19],Upper[19],\n",
    "                        np.where(final_input['HHSTATE']==Postal[20],Upper[20],\n",
    "                        np.where(final_input['HHSTATE']==Postal[21],Upper[21],\n",
    "                        np.where(final_input['HHSTATE']==Postal[22],Upper[22],\n",
    "                        np.where(final_input['HHSTATE']==Postal[23],Upper[23],\n",
    "                        np.where(final_input['HHSTATE']==Postal[24],Upper[24],\n",
    "                        np.where(final_input['HHSTATE']==Postal[25],Upper[25],\n",
    "                        np.where(final_input['HHSTATE']==Postal[26],Upper[26],\n",
    "                        np.where(final_input['HHSTATE']==Postal[27],Upper[27],\n",
    "                        np.where(final_input['HHSTATE']==Postal[28],Upper[28],\n",
    "                        np.where(final_input['HHSTATE']==Postal[29],Upper[29],\n",
    "                        np.where(final_input['HHSTATE']==Postal[30],Upper[30],\n",
    "                        np.where(final_input['HHSTATE']==Postal[31],Upper[31],\n",
    "                        np.where(final_input['HHSTATE']==Postal[32],Upper[32],\n",
    "                        np.where(final_input['HHSTATE']==Postal[33],Upper[33],\n",
    "                        np.where(final_input['HHSTATE']==Postal[34],Upper[34],\n",
    "                        np.where(final_input['HHSTATE']==Postal[35],Upper[35],\n",
    "                        np.where(final_input['HHSTATE']==Postal[36],Upper[36],\n",
    "                        np.where(final_input['HHSTATE']==Postal[37],Upper[37],\n",
    "                        np.where(final_input['HHSTATE']==Postal[38],Upper[38],\n",
    "                        np.where(final_input['HHSTATE']==Postal[39],Upper[39],\n",
    "                        np.where(final_input['HHSTATE']==Postal[40],Upper[40],\n",
    "                        np.where(final_input['HHSTATE']==Postal[41],Upper[41],\n",
    "                        np.where(final_input['HHSTATE']==Postal[42],Upper[42],\n",
    "                        np.where(final_input['HHSTATE']==Postal[43],Upper[43],\n",
    "                        np.where(final_input['HHSTATE']==Postal[44],Upper[44],\n",
    "                        np.where(final_input['HHSTATE']==Postal[45],Upper[45],\n",
    "                        np.where(final_input['HHSTATE']==Postal[46],Upper[46],\n",
    "                        np.where(final_input['HHSTATE']==Postal[47],Upper[47],\n",
    "                        np.where(final_input['HHSTATE']==Postal[48],Upper[48],\n",
    "                        np.where(final_input['HHSTATE']==Postal[49],Upper[49],Upper[50])))))))))))))))))\n",
    "                                )))))))))))))))))))))))))))))))))"
   ]
  },
  {
   "cell_type": "code",
   "execution_count": null,
   "metadata": {},
   "outputs": [],
   "source": [
    "final_input['LowerLine'] = np.where(final_input['HHSTATE']==Postal[0],Lower[0],\n",
    "                        np.where(final_input['HHSTATE']==Postal[1],Lower[1],\n",
    "                        np.where(final_input['HHSTATE']==Postal[2],Lower[2],\n",
    "                        np.where(final_input['HHSTATE']==Postal[3],Lower[3],\n",
    "                        np.where(final_input['HHSTATE']==Postal[4],Lower[4],\n",
    "                        np.where(final_input['HHSTATE']==Postal[5],Lower[5],\n",
    "                        np.where(final_input['HHSTATE']==Postal[6],Lower[6],\n",
    "                        np.where(final_input['HHSTATE']==Postal[7],Lower[7],\n",
    "                        np.where(final_input['HHSTATE']==Postal[8],Lower[8],\n",
    "                        np.where(final_input['HHSTATE']==Postal[9],Lower[9],\n",
    "                        np.where(final_input['HHSTATE']==Postal[10],Lower[10],\n",
    "                        np.where(final_input['HHSTATE']==Postal[11],Lower[11],\n",
    "                        np.where(final_input['HHSTATE']==Postal[12],Lower[12],\n",
    "                        np.where(final_input['HHSTATE']==Postal[13],Lower[13],\n",
    "                        np.where(final_input['HHSTATE']==Postal[14],Lower[14],\n",
    "                        np.where(final_input['HHSTATE']==Postal[15],Lower[15],\n",
    "                        np.where(final_input['HHSTATE']==Postal[16],Lower[16],\n",
    "                        np.where(final_input['HHSTATE']==Postal[17],Lower[17],\n",
    "                        np.where(final_input['HHSTATE']==Postal[18],Lower[18],\n",
    "                        np.where(final_input['HHSTATE']==Postal[19],Lower[19],\n",
    "                        np.where(final_input['HHSTATE']==Postal[20],Lower[20],\n",
    "                        np.where(final_input['HHSTATE']==Postal[21],Lower[21],\n",
    "                        np.where(final_input['HHSTATE']==Postal[22],Lower[22],\n",
    "                        np.where(final_input['HHSTATE']==Postal[23],Lower[23],\n",
    "                        np.where(final_input['HHSTATE']==Postal[24],Lower[24],\n",
    "                        np.where(final_input['HHSTATE']==Postal[25],Lower[25],\n",
    "                        np.where(final_input['HHSTATE']==Postal[26],Lower[26],\n",
    "                        np.where(final_input['HHSTATE']==Postal[27],Lower[27],\n",
    "                        np.where(final_input['HHSTATE']==Postal[28],Lower[28],\n",
    "                        np.where(final_input['HHSTATE']==Postal[29],Lower[29],\n",
    "                        np.where(final_input['HHSTATE']==Postal[30],Lower[30],\n",
    "                        np.where(final_input['HHSTATE']==Postal[31],Lower[31],\n",
    "                        np.where(final_input['HHSTATE']==Postal[32],Lower[32],\n",
    "                        np.where(final_input['HHSTATE']==Postal[33],Lower[33],\n",
    "                        np.where(final_input['HHSTATE']==Postal[34],Lower[34],\n",
    "                        np.where(final_input['HHSTATE']==Postal[35],Lower[35],\n",
    "                        np.where(final_input['HHSTATE']==Postal[36],Lower[36],\n",
    "                        np.where(final_input['HHSTATE']==Postal[37],Lower[37],\n",
    "                        np.where(final_input['HHSTATE']==Postal[38],Lower[38],\n",
    "                        np.where(final_input['HHSTATE']==Postal[39],Lower[39],\n",
    "                        np.where(final_input['HHSTATE']==Postal[40],Lower[40],\n",
    "                        np.where(final_input['HHSTATE']==Postal[41],Lower[41],\n",
    "                        np.where(final_input['HHSTATE']==Postal[42],Lower[42],\n",
    "                        np.where(final_input['HHSTATE']==Postal[43],Lower[43],\n",
    "                        np.where(final_input['HHSTATE']==Postal[44],Lower[44],\n",
    "                        np.where(final_input['HHSTATE']==Postal[45],Lower[45],\n",
    "                        np.where(final_input['HHSTATE']==Postal[46],Lower[46],\n",
    "                        np.where(final_input['HHSTATE']==Postal[47],Lower[47],\n",
    "                        np.where(final_input['HHSTATE']==Postal[48],Lower[48],\n",
    "                        np.where(final_input['HHSTATE']==Postal[49],Lower[49],Lower[50])))))))))))))))))\n",
    "                                )))))))))))))))))))))))))))))))))"
   ]
  },
  {
   "cell_type": "code",
   "execution_count": null,
   "metadata": {},
   "outputs": [],
   "source": [
    "print('Initial range miles with 20 miles')\n",
    "\n",
    "print('End over 20 miles:')\n",
    "print(np.mean(cluster0['hac_opt_result_nocapital_ini_20']=='infeasible'))\n",
    "print(np.mean(cluster1['hac_opt_result_nocapital_ini_20']=='infeasible'))\n",
    "print(np.mean(cluster2['hac_opt_result_nocapital_ini_20']=='infeasible'))\n",
    "print(np.mean(cluster0['hac_opt_home_nocapital_ini_20']==1))\n",
    "print(np.mean(cluster1['hac_opt_home_nocapital_ini_20']==1))\n",
    "print(np.mean(cluster2['hac_opt_home_nocapital_ini_20']==1))\n",
    "\n",
    "print('End over 80 miles')\n",
    "print(np.mean(cluster0['hac_opt_result_nocapital_ini_20_end80']=='infeasible'))\n",
    "print(np.mean(cluster1['hac_opt_result_nocapital_ini_20_end80']=='infeasible'))\n",
    "print(np.mean(cluster2['hac_opt_result_nocapital_ini_20_end80']=='infeasible'))\n",
    "print(np.mean(cluster0['hac_opt_home_nocapital_ini_20_end80']==1))\n",
    "print(np.mean(cluster1['hac_opt_home_nocapital_ini_20_end80']==1))\n",
    "print(np.mean(cluster2['hac_opt_home_nocapital_ini_20_end80']==1))\n"
   ]
  },
  {
   "cell_type": "code",
   "execution_count": null,
   "metadata": {},
   "outputs": [],
   "source": [
    "print('Initial range miles with 30 miles')\n",
    "\n",
    "print('End over 20 miles:')\n",
    "print(np.mean(cluster0['hac_opt_result_nocapital_ini_30']=='infeasible'))\n",
    "print(np.mean(cluster1['hac_opt_result_nocapital_ini_30']=='infeasible'))\n",
    "print(np.mean(cluster2['hac_opt_result_nocapital_ini_30']=='infeasible'))\n",
    "print(np.mean(cluster0['hac_opt_home_nocapital_ini_30']==1))\n",
    "print(np.mean(cluster1['hac_opt_home_nocapital_ini_30']==1))\n",
    "print(np.mean(cluster2['hac_opt_home_nocapital_ini_30']==1))\n",
    "\n",
    "print('End over 80 miles')\n",
    "print(np.mean(cluster0['hac_opt_result_nocapital_ini_30_end80']=='infeasible'))\n",
    "print(np.mean(cluster1['hac_opt_result_nocapital_ini_30_end80']=='infeasible'))\n",
    "print(np.mean(cluster2['hac_opt_result_nocapital_ini_30_end80']=='infeasible'))\n",
    "print(np.mean(cluster0['hac_opt_home_nocapital_ini_30_end80']==1))\n",
    "print(np.mean(cluster1['hac_opt_home_nocapital_ini_30_end80']==1))\n",
    "print(np.mean(cluster2['hac_opt_home_nocapital_ini_30_end80']==1))\n"
   ]
  },
  {
   "cell_type": "code",
   "execution_count": null,
   "metadata": {},
   "outputs": [],
   "source": [
    "print('Initial range miles with 40 miles')\n",
    "\n",
    "print('End over 20 miles:')\n",
    "print(np.mean(cluster0['hac_opt_result_nocapital_ini_40']=='infeasible'))\n",
    "print(np.mean(cluster1['hac_opt_result_nocapital_ini_40']=='infeasible'))\n",
    "print(np.mean(cluster2['hac_opt_result_nocapital_ini_40']=='infeasible'))\n",
    "print(np.mean(cluster0['hac_opt_home_nocapital_ini_40']==1))\n",
    "print(np.mean(cluster1['hac_opt_home_nocapital_ini_40']==1))\n",
    "print(np.mean(cluster2['hac_opt_home_nocapital_ini_40']==1))\n",
    "\n",
    "print('End over 80 miles')\n",
    "print(np.mean(cluster0['hac_opt_result_nocapital_ini_40_end80']=='infeasible'))\n",
    "print(np.mean(cluster1['hac_opt_result_nocapital_ini_40_end80']=='infeasible'))\n",
    "print(np.mean(cluster2['hac_opt_result_nocapital_ini_40_end80']=='infeasible'))\n",
    "print(np.mean(cluster0['hac_opt_home_nocapital_ini_40_end80']==1))\n",
    "print(np.mean(cluster1['hac_opt_home_nocapital_ini_40_end80']==1))\n",
    "print(np.mean(cluster2['hac_opt_home_nocapital_ini_40_end80']==1))\n"
   ]
  },
  {
   "cell_type": "code",
   "execution_count": null,
   "metadata": {},
   "outputs": [],
   "source": [
    "print('Initial range miles with 50 miles')\n",
    "\n",
    "print('End over 20 miles:')\n",
    "print(np.mean(cluster0['hac_opt_result_nocapital_ini_50']=='infeasible'))\n",
    "print(np.mean(cluster1['hac_opt_result_nocapital_ini_50']=='infeasible'))\n",
    "print(np.mean(cluster2['hac_opt_result_nocapital_ini_50']=='infeasible'))\n",
    "print(np.mean(cluster0['hac_opt_home_nocapital_ini_50']==1))\n",
    "print(np.mean(cluster1['hac_opt_home_nocapital_ini_50']==1))\n",
    "print(np.mean(cluster2['hac_opt_home_nocapital_ini_50']==1))\n",
    "\n",
    "print('End over 80 miles')\n",
    "print(np.mean(cluster0['hac_opt_result_nocapital_ini_50_end80']=='infeasible'))\n",
    "print(np.mean(cluster1['hac_opt_result_nocapital_ini_50_end80']=='infeasible'))\n",
    "print(np.mean(cluster2['hac_opt_result_nocapital_ini_50_end80']=='infeasible'))\n",
    "print(np.mean(cluster0['hac_opt_home_nocapital_ini_50_end80']==1))\n",
    "print(np.mean(cluster1['hac_opt_home_nocapital_ini_50_end80']==1))\n",
    "print(np.mean(cluster2['hac_opt_home_nocapital_ini_50_end80']==1))\n"
   ]
  },
  {
   "cell_type": "code",
   "execution_count": null,
   "metadata": {},
   "outputs": [],
   "source": [
    "print('Initial range miles with 60 miles')\n",
    "\n",
    "print('End over 20 miles:')\n",
    "print(np.mean(cluster0['hac_opt_result_nocapital_ini_60']=='infeasible'))\n",
    "print(np.mean(cluster1['hac_opt_result_nocapital_ini_60']=='infeasible'))\n",
    "print(np.mean(cluster2['hac_opt_result_nocapital_ini_60']=='infeasible'))\n",
    "print(np.mean(cluster0['hac_opt_home_nocapital_ini_60']==1))\n",
    "print(np.mean(cluster1['hac_opt_home_nocapital_ini_60']==1))\n",
    "print(np.mean(cluster2['hac_opt_home_nocapital_ini_60']==1))\n",
    "\n",
    "print('End over 80 miles')\n",
    "print(np.mean(cluster0['hac_opt_result_nocapital_ini_60_end80']=='infeasible'))\n",
    "print(np.mean(cluster1['hac_opt_result_nocapital_ini_60_end80']=='infeasible'))\n",
    "print(np.mean(cluster2['hac_opt_result_nocapital_ini_60_end80']=='infeasible'))\n",
    "print(np.mean(cluster0['hac_opt_home_nocapital_ini_60_end80']==1))\n",
    "print(np.mean(cluster1['hac_opt_home_nocapital_ini_60_end80']==1))\n",
    "print(np.mean(cluster2['hac_opt_home_nocapital_ini_60_end80']==1))\n",
    "\n"
   ]
  },
  {
   "cell_type": "code",
   "execution_count": null,
   "metadata": {},
   "outputs": [],
   "source": [
    "print('Initial range miles with 70 miles')\n",
    "\n",
    "print('End over 20 miles:')\n",
    "print(np.mean(cluster0['hac_opt_result_nocapital_ini_70']=='infeasible'))\n",
    "print(np.mean(cluster1['hac_opt_result_nocapital_ini_70']=='infeasible'))\n",
    "print(np.mean(cluster2['hac_opt_result_nocapital_ini_70']=='infeasible'))\n",
    "print(np.mean(cluster0['hac_opt_home_nocapital_ini_70']==1))\n",
    "print(np.mean(cluster1['hac_opt_home_nocapital_ini_70']==1))\n",
    "print(np.mean(cluster2['hac_opt_home_nocapital_ini_70']==1))\n",
    "\n",
    "print('End over 80 miles')\n",
    "print(np.mean(cluster0['hac_opt_result_nocapital_ini_70_end80']=='infeasible'))\n",
    "print(np.mean(cluster1['hac_opt_result_nocapital_ini_70_end80']=='infeasible'))\n",
    "print(np.mean(cluster2['hac_opt_result_nocapital_ini_70_end80']=='infeasible'))\n",
    "print(np.mean(cluster0['hac_opt_home_nocapital_ini_70_end80']==1))\n",
    "print(np.mean(cluster1['hac_opt_home_nocapital_ini_70_end80']==1))\n",
    "print(np.mean(cluster2['hac_opt_home_nocapital_ini_70_end80']==1))\n"
   ]
  },
  {
   "cell_type": "code",
   "execution_count": null,
   "metadata": {},
   "outputs": [],
   "source": [
    "print('Initial range miles with 80 miles')\n",
    "\n",
    "print('End over 20 miles:')\n",
    "print(np.mean(cluster0['hac_opt_result_nocapital_ini_80']=='infeasible'))\n",
    "print(np.mean(cluster1['hac_opt_result_nocapital_ini_80']=='infeasible'))\n",
    "print(np.mean(cluster2['hac_opt_result_nocapital_ini_80']=='infeasible'))\n",
    "print(np.mean(cluster0['hac_opt_home_nocapital_ini_80']==1))\n",
    "print(np.mean(cluster1['hac_opt_home_nocapital_ini_80']==1))\n",
    "print(np.mean(cluster2['hac_opt_home_nocapital_ini_80']==1))\n",
    "\n",
    "print('End over 80 miles')\n",
    "print(np.mean(cluster0['hac_opt_result_nocapital_ini_80_end80']=='infeasible'))\n",
    "print(np.mean(cluster1['hac_opt_result_nocapital_ini_80_end80']=='infeasible'))\n",
    "print(np.mean(cluster2['hac_opt_result_nocapital_ini_80_end80']=='infeasible'))\n",
    "print(np.mean(cluster0['hac_opt_home_nocapital_ini_80_end80']==1))\n",
    "print(np.mean(cluster1['hac_opt_home_nocapital_ini_80_end80']==1))\n",
    "print(np.mean(cluster2['hac_opt_home_nocapital_ini_80_end80']==1))"
   ]
  },
  {
   "cell_type": "code",
   "execution_count": null,
   "metadata": {},
   "outputs": [],
   "source": []
  },
  {
   "cell_type": "code",
   "execution_count": null,
   "metadata": {},
   "outputs": [],
   "source": []
  },
  {
   "cell_type": "code",
   "execution_count": null,
   "metadata": {},
   "outputs": [],
   "source": []
  },
  {
   "cell_type": "code",
   "execution_count": null,
   "metadata": {},
   "outputs": [],
   "source": []
  }
 ],
 "metadata": {
  "interpreter": {
   "hash": "fbf1d383e2c8a3426d5f6009213b311a830d8c98299d6ab35cc481b624ea8969"
  },
  "kernelspec": {
   "display_name": "Python 3",
   "language": "python",
   "name": "python3"
  },
  "language_info": {
   "codemirror_mode": {
    "name": "ipython",
    "version": 3
   },
   "file_extension": ".py",
   "mimetype": "text/x-python",
   "name": "python",
   "nbconvert_exporter": "python",
   "pygments_lexer": "ipython3",
   "version": "3.7.7"
  }
 },
 "nbformat": 4,
 "nbformat_minor": 5
}
