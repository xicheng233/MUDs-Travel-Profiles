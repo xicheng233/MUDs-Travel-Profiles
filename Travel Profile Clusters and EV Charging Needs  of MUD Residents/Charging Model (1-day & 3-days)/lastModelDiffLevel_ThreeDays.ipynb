{
 "cells": [
  {
   "cell_type": "code",
   "execution_count": 1,
   "id": "e6c3e005",
   "metadata": {},
   "outputs": [],
   "source": [
    "import numpy as np\n",
    "import pandas as pd\n",
    "from ast import literal_eval\n",
    "import gurobipy as gp\n",
    "from gurobipy import quicksum\n",
    "from gurobipy import GRB\n",
    "import csv\n",
    "import matplotlib.pyplot as plt"
   ]
  },
  {
   "cell_type": "code",
   "execution_count": 2,
   "id": "899cbfa6",
   "metadata": {},
   "outputs": [],
   "source": [
    "pd.set_option('display.max_columns', 200)\n",
    "pd.set_option('display.max_rows', 200)"
   ]
  },
  {
   "cell_type": "code",
   "execution_count": 61,
   "id": "daf364ec",
   "metadata": {},
   "outputs": [],
   "source": [
    "# df = pd.read_csv('onLastModel.csv',converters={'TRPMILES': pd.eval})\n",
    "df = pd.read_csv('datasets/onLastModelweUse.csv')"
   ]
  },
  {
   "cell_type": "code",
   "execution_count": 62,
   "id": "64e36fe3",
   "metadata": {},
   "outputs": [],
   "source": [
    "# Convert entire column to a list\n",
    "df.loc[:,'TRPMILES'] = df.loc[:,'TRPMILES'].apply(lambda x: literal_eval(x))\n",
    "df.loc[:,'DWELTIME'] = df.loc[:,'DWELTIME'].apply(lambda x: literal_eval(x))\n",
    "df.loc[:,'states'] = df.loc[:,'states'].apply(lambda x: literal_eval(x))\n",
    "df.loc[:,'WHYFROM_GENERAL'] = df.loc[:,'WHYFROM_GENERAL'].apply(lambda x: literal_eval(x))\n",
    "df.loc[:,'WHYTRP1S_GENERAL'] = df.loc[:,'WHYTRP1S_GENERAL'].apply(lambda x: literal_eval(x))\n",
    "# df.loc['power'] = df.loc[:,'power'].apply(lambda x: literal_eval(x))\n",
    "# df.loc['ePrice'] = df.loc[:,'ePrice'].apply(lambda x: literal_eval(x))"
   ]
  },
  {
   "cell_type": "code",
   "execution_count": 63,
   "id": "5b5daaa2",
   "metadata": {},
   "outputs": [],
   "source": [
    "def to_float(x):\n",
    "    for i in range(len(x)):\n",
    "        x[i] = float(x[i])\n",
    "    return x"
   ]
  },
  {
   "cell_type": "code",
   "execution_count": 64,
   "id": "478b3d5c",
   "metadata": {},
   "outputs": [],
   "source": [
    "df.loc[:,\"DWELTIME\"] = df.loc[:,\"DWELTIME\"].agg(to_float)\n",
    "df.loc[:,\"TRPMILES\"] = df.loc[:,\"TRPMILES\"].agg(to_float)\n",
    "# df.loc[:,\"power\"] = df.loc[:,\"power\"].agg(to_float)\n",
    "# df.loc[:,\"ePrice\"] = df.loc[:,\"ePrice\"].agg(to_float)"
   ]
  },
  {
   "cell_type": "code",
   "execution_count": 42,
   "id": "17755c3e",
   "metadata": {},
   "outputs": [],
   "source": [
    "def to_extend(x):\n",
    "    return x*3\n",
    "\n",
    "def locations(x1,x2):\n",
    "    lst = []\n",
    "    lst.append(x1[0])\n",
    "    \n",
    "    return lst+x2*3"
   ]
  },
  {
   "cell_type": "code",
   "execution_count": 65,
   "id": "9087783e",
   "metadata": {},
   "outputs": [],
   "source": [
    "df['3d_locations'] = df.apply(lambda x: locations(x['WHYFROM_GENERAL'],x['WHYTRP1S_GENERAL']), axis=1)\n",
    "df['3d_vmt'] = df['TRPMILES'].agg(to_extend)\n",
    "df['3d_dwell'] = df['DWELTIME'].agg(to_extend)\n",
    "df['power'] = df[\"3d_locations\"].agg(powerInput)\n",
    "df['ePrice']=df.apply(lambda x: electricityPriceInput(x['CENSUS_D'],x['3d_locations']), axis=1)"
   ]
  },
  {
   "cell_type": "code",
   "execution_count": 50,
   "id": "5b75bc7a",
   "metadata": {},
   "outputs": [],
   "source": [
    "def powerInput(x):\n",
    "    powerList = []\n",
    "    for i in range(len(x)):\n",
    "        if x[i] == 'Home':\n",
    "            powerList.append(P[0])\n",
    "        elif x[i] == 'Work':\n",
    "            powerList.append(P[1])\n",
    "        else:\n",
    "            powerList.append(P[2])\n",
    "    return powerList\n",
    "\n",
    "def electricityPriceInput(x1,x2):\n",
    "    ePriceList = []\n",
    "    for i in range(len(x2)):\n",
    "        if x2[i] == 'Home':\n",
    "            ePriceList.append(e_level12.iloc[x1-1,2])\n",
    "        elif x2[i] == 'Work':\n",
    "            ePriceList.append(e_workplace)\n",
    "        else:\n",
    "            ePriceList.append(e_level3)\n",
    "            \n",
    "    return ePriceList"
   ]
  },
  {
   "cell_type": "markdown",
   "id": "3e7ffd04",
   "metadata": {},
   "source": [
    "parameters"
   ]
  },
  {
   "cell_type": "code",
   "execution_count": 49,
   "id": "3812f207",
   "metadata": {},
   "outputs": [],
   "source": [
    "# full range miles of BEV\n",
    "r_full = 100\n",
    "# Energy efficiency of the vehicle (miles/kWh)\n",
    "eta = 3.3\n",
    "# Charging power rate three levels (kW)\n",
    "P = [6, 6, 50]\n",
    "# electricity price of level 3 (unit: $/kWh)\n",
    "e_level3 = 0.35\n",
    "# electrcity price of level 2 at workplace (unit: $/kWh)\n",
    "e_workplace = 0.33\n",
    "# electricity price of two levels in different regions ($/kWh)\n",
    "e_level12 = pd.read_excel('datasets/parameter electricity fee and charging power.xlsx', \n",
    "                  sheet_name='electricityPriceLevel12 ')\n",
    "#intial remaining miles\n",
    "r = 30\n",
    "\n",
    "# value= cr_ij/Pcr_ij*e_ij"
   ]
  },
  {
   "cell_type": "markdown",
   "id": "d65554e3",
   "metadata": {},
   "source": [
    "add two columns illustrate the electricity price and charger power of different location"
   ]
  },
  {
   "cell_type": "code",
   "execution_count": 56,
   "id": "343b1fad",
   "metadata": {},
   "outputs": [],
   "source": [
    "# Notice this model is just for one household vehicle \n",
    "\n",
    "def chargeAvil(test):\n",
    "    num=len(test['3d_locations'])\n",
    "    # Dwell time of MUDs household i at location j\n",
    "    DT = np.zeros((num-1))\n",
    "#     rLst = np.zeros((num-1))\n",
    "    for j in range(num-1):\n",
    "        DT[j] = test['3d_dwell'][j]\n",
    "\n",
    "    # distance of MUDs household i from location j to the next location\n",
    "    d = np.zeros(num-1)\n",
    "    for j in range(num-1):\n",
    "        d[j] = test['3d_vmt'][j]\n",
    "\n",
    "    # Create a new model\n",
    "    m = gp.Model()\n",
    "    m.Params.LogToConsole = 0\n",
    "    #     m = gp.Model(\"bilinear\")\n",
    "    # m.params.NonConvex = 2\n",
    "\n",
    "    # Create variables x_ni and y_ni\n",
    "    # charging availability at MUDs\n",
    "    #mud_or = [i for i in range(I)]\n",
    "    #mud_im = [j in range(num - 1)]\n",
    "    x = m.addVar(vtype=GRB.BINARY, name=\"charging Decision at MUDs\")\n",
    "    # charging time of MUDs household i at location j\n",
    "    y = m.addVars(num-1,lb=0.0, ub=float('inf'), vtype=GRB.CONTINUOUS, name=\"charge time\")\n",
    "\n",
    "    # # Set objective: \n",
    "    obj = quicksum(test['ePrice'][j]*test['power'][j]*y[j] for j in range(num - 1))\n",
    "    m.setObjective(obj,GRB.MINIMIZE)\n",
    "\n",
    "    for j in range(num - 1):\n",
    "        if test['3d_locations'][j] == 'Home':\n",
    "            m.addConstr((1 - x)*y[j] == 0,'bilinear')\n",
    "        if (test['3d_locations'][j] == 'Public')& (test['public_charge_assign'] == '0'):\n",
    "            m.addConstr(y[j] == 0,'bilinear')\n",
    "        if (test['3d_locations'][j] == 'Work')& (test['work_charge_assign'] == '0'):\n",
    "            m.addConstr(y[j] == 0,'bilinear')\n",
    "\n",
    "        for j in range(num - 2):\n",
    "    #         m.addConstr((r[i,j+1] == r[i,j] - d[i,j] + 12.5*y[i,j]),'state transition function')\n",
    "    #         m.addConstr((r[i,j+1] >= 0.2*r_full),'Battery storage capacity')\n",
    "            m.addConstr((r - quicksum(d[k] for k in range(j)) \n",
    "                         + eta*test['power'][j]*quicksum(y[k] for k in range(j)) >= 0.2*r_full),'state transition function')\n",
    "        for j in range(num - 1):\n",
    "            m.addConstr((y[j] <= DT[j]/60),'charging time less than dwell time')\n",
    "            m.addConstr((r - quicksum(d[k] for k in range(j)) \n",
    "                         + eta*test['power'][j]*quicksum(y[k] for k in range(j)) <= r_full),'charging electricity less battery capacity')\n",
    "\n",
    "        m.addConstr((r - quicksum(d[k] for k in range(num-1)) \n",
    "                    + eta*test['power'][j]*quicksum(y[k] for k in range(num-1)) >= 20),'range miles end')\n",
    "    #     m.addConstr((r - quicksum(d[k] for k in range(num-1)) \n",
    "    #                  + eta*test['power'][j]*quicksum(y[k] for k in range(num-1)) >= 0.8*r_full),'range miles end')\n",
    "\n",
    "        # First optimize() call will fail - need to set NonConvex to 2\n",
    "\n",
    "\n",
    "    # rLst[0] = r\n",
    "    # for j in range(num - 2):\n",
    "    #     m.addConstr((rLst[j+1] == rLst[j] - d[j] + eta*test['power'][j]*y[j]),'state transition function')\n",
    "\n",
    "    # for j in range(num - 1):\n",
    "    #     m.addConstr((0.2*r_full <= rLst[j+1]),'Battery storage capacity safety')\n",
    "    #     m.addConstr((y[j] <= DT[j]/60),'charging time less than dwell time')\n",
    "    # m.addConstr((0.2*r_full <= rLst[num - 1]),'last stop battery')\n",
    "    # First optimize() call will fail - need to set NonConvex to 2\n",
    "    try:\n",
    "        m.optimize()\n",
    "    except gp.GurobiError:\n",
    "        print(\"Optimize failed due to non-convexity\")\n",
    "    sol=[]\n",
    "    if m.status ==GRB.OPTIMAL:\n",
    "        for v in m.getVars():\n",
    "            sol.append(v.x)\n",
    "#             print('%s %g' % (v.varName, v.x))\n",
    "    else: sol='infeasible'\n",
    "        \n",
    "    return sol"
   ]
  },
  {
   "cell_type": "code",
   "execution_count": 66,
   "id": "50fb2b65",
   "metadata": {},
   "outputs": [],
   "source": [
    "df['resultsS3E2'] = df.agg(chargeAvil,axis=1)"
   ]
  },
  {
   "cell_type": "code",
   "execution_count": 69,
   "id": "d05b5b82",
   "metadata": {},
   "outputs": [],
   "source": [
    "r = 30\n",
    "# resultsAllS3E2 = df.agg(chargeAvil,axis=1)\n",
    "# df['resultsS3E2'] = resultsAllS3E2\n",
    "resultsAllS3E8 = df.agg(chargeAvilE8,axis=1)\n",
    "df['resultsS3E8'] = resultsAllS3E8"
   ]
  },
  {
   "cell_type": "code",
   "execution_count": 68,
   "id": "9ca059f1",
   "metadata": {},
   "outputs": [],
   "source": [
    "# Notice this model is just for one household vehicle \n",
    "\n",
    "def chargeAvilE8(test):\n",
    "    num=len(test['3d_locations'])\n",
    "    # Dwell time of MUDs household i at location j\n",
    "    DT = np.zeros((num-1))\n",
    "#     rLst = np.zeros((num-1))\n",
    "    for j in range(num-1):\n",
    "        DT[j] = test['3d_dwell'][j]\n",
    "\n",
    "    # distance of MUDs household i from location j to the next location\n",
    "    d = np.zeros(num-1)\n",
    "    for j in range(num-1):\n",
    "        d[j] = test['3d_vmt'][j]\n",
    "\n",
    "    # Create a new model\n",
    "    m = gp.Model()\n",
    "    m.Params.LogToConsole = 0\n",
    "    #     m = gp.Model(\"bilinear\")\n",
    "    # m.params.NonConvex = 2\n",
    "\n",
    "    # Create variables x_ni and y_ni\n",
    "    # charging availability at MUDs\n",
    "    #mud_or = [i for i in range(I)]\n",
    "    #mud_im = [j in range(num - 1)]\n",
    "    x = m.addVar(vtype=GRB.BINARY, name=\"charging Decision at MUDs\")\n",
    "    # charging time of MUDs household i at location j\n",
    "    y = m.addVars(num-1,lb=0.0, ub=float('inf'), vtype=GRB.CONTINUOUS, name=\"charge time\")\n",
    "\n",
    "    # # Set objective: \n",
    "    obj = quicksum(test['ePrice'][j]*test['power'][j]*y[j] for j in range(num - 1))\n",
    "    m.setObjective(obj,GRB.MINIMIZE)\n",
    "\n",
    "    for j in range(num - 1):\n",
    "        if test['3d_locations'][j] == 'Home':\n",
    "            m.addConstr((1 - x)*y[j] == 0,'bilinear')\n",
    "        if (test['3d_locations'][j] == 'Public')& (test['public_charge_assign'] == '0'):\n",
    "            m.addConstr(y[j] == 0,'bilinear')\n",
    "        if (test['3d_locations'][j] == 'Work')& (test['work_charge_assign'] == '0'):\n",
    "            m.addConstr(y[j] == 0,'bilinear')\n",
    "\n",
    "        for j in range(num - 2):\n",
    "    #         m.addConstr((r[i,j+1] == r[i,j] - d[i,j] + 12.5*y[i,j]),'state transition function')\n",
    "    #         m.addConstr((r[i,j+1] >= 0.2*r_full),'Battery storage capacity')\n",
    "            m.addConstr((r - quicksum(d[k] for k in range(j)) \n",
    "                         + eta*test['power'][j]*quicksum(y[k] for k in range(j)) >= 0.2*r_full),'state transition function')\n",
    "        for j in range(num - 1):\n",
    "            m.addConstr((y[j] <= DT[j]/60),'charging time less than dwell time')\n",
    "            m.addConstr((r - quicksum(d[k] for k in range(j)) \n",
    "                         + eta*test['power'][j]*quicksum(y[k] for k in range(j)) <= r_full),'charging electricity less battery capacity')\n",
    "\n",
    "        m.addConstr((r - quicksum(d[k] for k in range(num-1)) \n",
    "                    + eta*test['power'][j]*quicksum(y[k] for k in range(num-1)) >= 80),'range miles end')\n",
    "    #     m.addConstr((r - quicksum(d[k] for k in range(num-1)) \n",
    "    #                  + eta*test['power'][j]*quicksum(y[k] for k in range(num-1)) >= 0.8*r_full),'range miles end')\n",
    "\n",
    "        # First optimize() call will fail - need to set NonConvex to 2\n",
    "\n",
    "\n",
    "    # rLst[0] = r\n",
    "    # for j in range(num - 2):\n",
    "    #     m.addConstr((rLst[j+1] == rLst[j] - d[j] + eta*test['power'][j]*y[j]),'state transition function')\n",
    "\n",
    "    # for j in range(num - 1):\n",
    "    #     m.addConstr((0.2*r_full <= rLst[j+1]),'Battery storage capacity safety')\n",
    "    #     m.addConstr((y[j] <= DT[j]/60),'charging time less than dwell time')\n",
    "    # m.addConstr((0.2*r_full <= rLst[num - 1]),'last stop battery')\n",
    "    # First optimize() call will fail - need to set NonConvex to 2\n",
    "    try:\n",
    "        m.optimize()\n",
    "    except gp.GurobiError:\n",
    "        print(\"Optimize failed due to non-convexity\")\n",
    "    sol=[]\n",
    "    if m.status ==GRB.OPTIMAL:\n",
    "        for v in m.getVars():\n",
    "            sol.append(v.x)\n",
    "#             print('%s %g' % (v.varName, v.x))\n",
    "    else: sol='infeasible'\n",
    "        \n",
    "    return sol"
   ]
  },
  {
   "cell_type": "code",
   "execution_count": null,
   "id": "5e2e84a8",
   "metadata": {},
   "outputs": [],
   "source": [
    "r"
   ]
  },
  {
   "cell_type": "code",
   "execution_count": 73,
   "id": "d7295717",
   "metadata": {
    "scrolled": true
   },
   "outputs": [],
   "source": [
    "r=50\n",
    "\n",
    "resultsAllS5E2 = df.agg(chargeAvil,axis=1)\n",
    "resultsAllS5E8 = df.agg(chargeAvilE8,axis=1)\n",
    "\n",
    "df['resultsS5E2'] = resultsAllS5E2\n",
    "df['resultsS5E8'] = resultsAllS5E8\n",
    "\n",
    "# df.to_csv('onLastModelweUseW033P035_3days.csv')"
   ]
  },
  {
   "cell_type": "code",
   "execution_count": 74,
   "id": "4808f595",
   "metadata": {},
   "outputs": [],
   "source": [
    "df.to_csv('onLastModelweUseW033P035_3days.csv')"
   ]
  },
  {
   "cell_type": "code",
   "execution_count": null,
   "id": "9da01ecf",
   "metadata": {},
   "outputs": [],
   "source": [
    "def check_end80(x):\n",
    "    if type(x)==list:\n",
    "        if x[-1] > 0:\n",
    "            return 1\n",
    "        return x[0]\n",
    "    else:\n",
    "        return 0"
   ]
  }
 ],
 "metadata": {
  "kernelspec": {
   "display_name": "Python 3 (ipykernel)",
   "language": "python",
   "name": "python3"
  },
  "language_info": {
   "codemirror_mode": {
    "name": "ipython",
    "version": 3
   },
   "file_extension": ".py",
   "mimetype": "text/x-python",
   "name": "python",
   "nbconvert_exporter": "python",
   "pygments_lexer": "ipython3",
   "version": "3.9.7"
  }
 },
 "nbformat": 4,
 "nbformat_minor": 5
}
