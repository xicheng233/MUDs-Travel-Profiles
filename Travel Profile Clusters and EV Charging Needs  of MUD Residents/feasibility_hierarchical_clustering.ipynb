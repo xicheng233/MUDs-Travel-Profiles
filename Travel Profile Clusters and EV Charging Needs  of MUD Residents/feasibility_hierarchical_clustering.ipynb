{
 "cells": [
  {
   "cell_type": "code",
   "execution_count": null,
   "metadata": {},
   "outputs": [],
   "source": [
    "import pandas as pd\n",
    "import numpy as np\n",
    "import matplotlib.pyplot as plt\n",
    "import seaborn as sns\n",
    "%matplotlib inline\n",
    "%config InlineBackend.figure_format = 'retina'"
   ]
  },
  {
   "cell_type": "code",
   "execution_count": null,
   "metadata": {},
   "outputs": [],
   "source": [
    "data = pd.read_csv('cluster_data_prepared.csv')"
   ]
  },
  {
   "cell_type": "code",
   "execution_count": null,
   "metadata": {},
   "outputs": [],
   "source": [
    "data.head()"
   ]
  },
  {
   "cell_type": "code",
   "execution_count": null,
   "metadata": {},
   "outputs": [],
   "source": [
    "data = data.drop(columns=['Unnamed: 0', 'HOUSEID','WHYFROM_GENERAL','WHYTRP1S_GENERAL'])"
   ]
  },
  {
   "cell_type": "code",
   "execution_count": null,
   "metadata": {},
   "outputs": [],
   "source": [
    "data = data.drop(columns=['STRTTIME','ENDTIME'])"
   ]
  },
  {
   "cell_type": "code",
   "execution_count": null,
   "metadata": {},
   "outputs": [],
   "source": [
    "data.head()"
   ]
  },
  {
   "cell_type": "code",
   "execution_count": null,
   "metadata": {},
   "outputs": [],
   "source": [
    "from sklearn.preprocessing import normalize\n",
    "# Standardize data\n",
    "scaler = StandardScaler() \n",
    "scaled_data = scaler.fit_transform(data) \n",
    "data_scaled = normalize(data)\n",
    "data_scaled = pd.DataFrame(data_scaled, columns=data.columns)\n",
    "data_scaled.head()"
   ]
  },
  {
   "cell_type": "code",
   "execution_count": null,
   "metadata": {
    "scrolled": false
   },
   "outputs": [],
   "source": [
    "import scipy.cluster.hierarchy as shc\n",
    "plt.figure(figsize=(30, 21))  \n",
    "plt.title(\"Dendrograms\")  \n",
    "dend = shc.dendrogram(shc.linkage(data_scaled, method='ward'))"
   ]
  },
  {
   "cell_type": "code",
   "execution_count": null,
   "metadata": {},
   "outputs": [],
   "source": [
    "plt.figure(figsize=(10, 7))  \n",
    "plt.title(\"Dendrograms\")  \n",
    "dend = shc.dendrogram(shc.linkage(data_scaled, method='ward'))\n",
    "plt.axhline(y=6, color='r', linestyle='--')"
   ]
  },
  {
   "cell_type": "code",
   "execution_count": null,
   "metadata": {},
   "outputs": [],
   "source": [
    "plt.figure(figsize=(10, 7))  \n",
    "plt.title(\"Dendrograms\")  \n",
    "dend = shc.dendrogram(shc.linkage(data_scaled, method='ward'))\n",
    "plt.axhline(y=4, color='r', linestyle='--')"
   ]
  },
  {
   "cell_type": "code",
   "execution_count": null,
   "metadata": {},
   "outputs": [],
   "source": [
    "from sklearn.cluster import AgglomerativeClustering\n",
    "cluster_2 = AgglomerativeClustering(n_clusters=2, affinity='euclidean', linkage='ward')  \n",
    "cluster_2.fit_predict(data_scaled)"
   ]
  },
  {
   "cell_type": "code",
   "execution_count": null,
   "metadata": {},
   "outputs": [],
   "source": [
    "data_scaled['cluster_2'] = cluster_2.fit_predict(data_scaled)"
   ]
  },
  {
   "cell_type": "code",
   "execution_count": null,
   "metadata": {},
   "outputs": [],
   "source": [
    "from sklearn.cluster import AgglomerativeClustering\n",
    "cluster_3 = AgglomerativeClustering(n_clusters=3, affinity='euclidean', linkage='ward')  \n",
    "cluster_3.fit_predict(data_scaled)"
   ]
  },
  {
   "cell_type": "code",
   "execution_count": null,
   "metadata": {},
   "outputs": [],
   "source": [
    "data_scaled['cluster_3'] = cluster_3.fit_predict(data_scaled)"
   ]
  },
  {
   "cell_type": "code",
   "execution_count": null,
   "metadata": {},
   "outputs": [],
   "source": [
    "data_scaled.head()"
   ]
  },
  {
   "cell_type": "code",
   "execution_count": null,
   "metadata": {},
   "outputs": [],
   "source": [
    "data['cluster_2'] = data_scaled['cluster_2']\n",
    "data['cluster_3'] = data_scaled['cluster_3']"
   ]
  },
  {
   "cell_type": "code",
   "execution_count": null,
   "metadata": {},
   "outputs": [],
   "source": [
    "data.head()"
   ]
  },
  {
   "cell_type": "code",
   "execution_count": null,
   "metadata": {},
   "outputs": [],
   "source": [
    "data.head()"
   ]
  },
  {
   "cell_type": "code",
   "execution_count": null,
   "metadata": {},
   "outputs": [],
   "source": [
    "data = data.drop(columns=['Unnamed: 0'])"
   ]
  },
  {
   "cell_type": "code",
   "execution_count": null,
   "metadata": {},
   "outputs": [],
   "source": [
    "X = data.drop(columns=['cluster_2','cluster_3'])\n",
    "X.head()"
   ]
  },
  {
   "cell_type": "code",
   "execution_count": null,
   "metadata": {},
   "outputs": [],
   "source": [
    "X = data.drop(columns=['cluster_2','cluster_3'])\n",
    "y_1 = data['cluster_2']\n",
    "y_2 = data['cluster_3']"
   ]
  },
  {
   "cell_type": "code",
   "execution_count": null,
   "metadata": {},
   "outputs": [],
   "source": [
    "# Splitting the dataset into the Training set and Test set\n",
    "from sklearn.model_selection import train_test_split\n",
    "\n",
    "X_train_1, X_test_1, y_train_1, y_test_1 = train_test_split(X, y_1, test_size=0.2, random_state=0)\n",
    "X_train_2, X_test_2, y_train_2, y_test_2 = train_test_split(X, y_2, test_size=0.2, random_state=0)"
   ]
  },
  {
   "cell_type": "code",
   "execution_count": null,
   "metadata": {},
   "outputs": [],
   "source": [
    "from sklearn.preprocessing import StandardScaler\n",
    "\n",
    "sc = StandardScaler()\n",
    "X_train_1 = sc.fit_transform(X_train_1)\n",
    "X_test_1 = sc.transform(X_test_1)\n"
   ]
  },
  {
   "cell_type": "code",
   "execution_count": null,
   "metadata": {},
   "outputs": [],
   "source": [
    "# normalize data\n",
    "from sklearn import preprocessing\n",
    "data_scaled = pd.DataFrame(preprocessing.scale(X),columns = X.columns) \n"
   ]
  },
  {
   "cell_type": "code",
   "execution_count": null,
   "metadata": {},
   "outputs": [],
   "source": [
    "# PCA\n",
    "pca = PCA()\n",
    "pca.fit_transform(data_scaled)\n"
   ]
  },
  {
   "cell_type": "code",
   "execution_count": null,
   "metadata": {},
   "outputs": [],
   "source": [
    "pca.explained_variance_ratio_"
   ]
  },
  {
   "cell_type": "code",
   "execution_count": null,
   "metadata": {},
   "outputs": [],
   "source": [
    "pca = PCA(n_components=2)\n",
    "pca.fit_transform(data_scaled)"
   ]
  },
  {
   "cell_type": "code",
   "execution_count": null,
   "metadata": {},
   "outputs": [],
   "source": [
    "from sklearn.decomposition import PCA\n",
    "\n",
    "pca = PCA()\n",
    "X_train_1 = pca.fit_transform(X_train_1)\n",
    "X_test_1 = pca.transform(X_test_1)\n"
   ]
  },
  {
   "cell_type": "code",
   "execution_count": null,
   "metadata": {},
   "outputs": [],
   "source": [
    "explained_variance = pca.explained_variance_ratio_"
   ]
  },
  {
   "cell_type": "code",
   "execution_count": null,
   "metadata": {},
   "outputs": [],
   "source": [
    "# Dump components relations with features:\n",
    "pd.DataFrame(pca.components_,columns=X.columns,index = ['PC-1','PC-2'])\n"
   ]
  },
  {
   "cell_type": "code",
   "execution_count": null,
   "metadata": {},
   "outputs": [],
   "source": [
    "explained_variance"
   ]
  },
  {
   "cell_type": "code",
   "execution_count": null,
   "metadata": {},
   "outputs": [],
   "source": [
    "(explained_variance[0] + explained_variance[1] + explained_variance[2] + explained_variance[3]\n",
    "+explained_variance[4] + explained_variance[5] + explained_variance[6] + explained_variance[7]\n",
    "+explained_variance[8] + explained_variance[9] + explained_variance[10] + explained_variance[11]\n",
    "+explained_variance[12] + explained_variance[13] + explained_variance[14] + explained_variance[15]\n",
    "+explained_variance[16] + explained_variance[17] + explained_variance[18] + explained_variance[19])/explained_variance.sum()"
   ]
  },
  {
   "cell_type": "code",
   "execution_count": null,
   "metadata": {},
   "outputs": [],
   "source": [
    "cluster_data = pd.read_csv('cluster_hac.csv')"
   ]
  },
  {
   "cell_type": "code",
   "execution_count": null,
   "metadata": {
    "scrolled": true
   },
   "outputs": [],
   "source": [
    "cluster_data.head()"
   ]
  },
  {
   "cell_type": "code",
   "execution_count": null,
   "metadata": {},
   "outputs": [],
   "source": [
    "fig = plt.figure(figsize = (16,8))\n",
    "p1=sns.kdeplot(cluster_data[cluster_data['cluster_3'] == 0]['dwell_home'], shade=True, label = 'Cluster 1',color = '#0000FF')\n",
    "p1=sns.kdeplot(cluster_data[cluster_data['cluster_3'] == 1]['dwell_home'], shade=True,label = 'Cluster 2',color = '#FF0000')\n",
    "p1=sns.kdeplot(cluster_data[cluster_data['cluster_3'] == 2]['dwell_home'], shade=True,label = 'Cluster 3',color ='#008000')\n",
    "# p1=sns.kdeplot(trip_inter_2_nor_3_home, shade=True,label = 'Cluster 4',color ='#000800')\n",
    "# p1=sns.kdeplot(trip_inter_2_nor_4_home, shade=True, label = 'Cluster 5',color = '#87CEFA')\n",
    "# p1=sns.kdeplot(trip_inter_2_nor_5_home, shade=True,label = 'Cluster 6',color = '#FFA07A')\n",
    "# p1=sns.kdeplot(trip_inter_2_nor_6_home, shade=True,label = 'Cluster 7',color ='#7CFC00')\n",
    "# p1=sns.kdeplot(trip_inter_2_nor_7_home, shade=True,label = 'Cluster 8',color ='#00FC7C')\n",
    "# p1=sns.kdeplot(dwell_process_other_home*0.6, shade=True,label = 'Home of others',color = '#87CEFA',linestyle=\"--\")\n",
    "# p1=sns.kdeplot(dwell_process_other_work*0.6, shade=True,label = 'Workplace of others',color ='#FFA07A',linestyle=\"--\")\n",
    "# p1=sns.kdeplot(dwell_process_other_public*0.6, shade=True, label = 'Public of Others',color = '#7CFC00',linestyle=\"--\")\n",
    "plt.title('Distribution of Dwell Time at Home', fontsize=28)\n",
    "plt.xlabel('Time (Minutes)',fontsize=18);\n",
    "plt.ylabel('Density',fontsize=18);\n",
    "plt.xticks(fontsize=12)\n",
    "plt.yticks(fontsize=12)\n",
    "plt.xlim(0, 1800) \n",
    "# plt.xticle()\n",
    "plt.legend(loc='best',fontsize=14)\n",
    "plt.show();\n",
    "\n",
    "fig.savefig('hac_dwell_home.png', dpi=600)\n",
    "\n",
    "# fig.savefig('dist_dwell.png',dpi=1200)"
   ]
  },
  {
   "cell_type": "code",
   "execution_count": null,
   "metadata": {},
   "outputs": [],
   "source": [
    "fig = plt.figure(figsize = (16,8))\n",
    "p1=sns.kdeplot(cluster_data[cluster_data['cluster_3'] == 0]['dwell_work'], shade=True, label = 'Cluster 1',color = '#0000FF')\n",
    "p1=sns.kdeplot(cluster_data[cluster_data['cluster_3'] == 1]['dwell_work'], shade=True,label = 'Cluster 2',color = '#FF0000')\n",
    "p1=sns.kdeplot(cluster_data[cluster_data['cluster_3'] == 2]['dwell_work'], shade=True,label = 'Cluster 3',color ='#008000')\n",
    "# p1=sns.kdeplot(trip_inter_2_nor_3['dwell_work'].astype('float64'), shade=True,label = 'Cluster 4',color ='#000800')\n",
    "# p1=sns.kdeplot(trip_inter_2_nor_4['dwell_work'].astype('float64'), shade=True, label = 'Cluster 5',color = '#87CEFA')\n",
    "# p1=sns.kdeplot(trip_inter_2_nor_5['dwell_work'].astype('float64'), shade=True,label = 'Cluster 6',color = '#FFA07A')\n",
    "# p1=sns.kdeplot(trip_inter_2_nor_6['dwell_work'].astype('float64'), shade=True,label = 'Cluster 7',color ='#7CFC00')\n",
    "# p1=sns.kdeplot(trip_inter_2_nor_7['dwell_work'].astype('float64'), shade=True,label = 'Cluster 8',color ='#00FC7C')\n",
    "# p1=sns.kdeplot(trip_inter_2_nor_3['dwell_work'], shade=True,label = 'Cluster 4',color ='#000800')\n",
    "# p1=sns.kdeplot(dwell_process_other_home*0.6, shade=True,label = 'Home of others',color = '#87CEFA',linestyle=\"--\")\n",
    "# p1=sns.kdeplot(dwell_process_other_work*0.6, shade=True,label = 'Workplace of others',color ='#FFA07A',linestyle=\"--\")\n",
    "# p1=sns.kdeplot(dwell_process_other_public*0.6, shade=True, label = 'Public of Others',color = '#7CFC00',linestyle=\"--\")\n",
    "plt.title('Distribution of Dwell Time at Workplace', fontsize=28)\n",
    "plt.xlabel('Time (Minutes)',fontsize=18);\n",
    "plt.ylabel('Density',fontsize=18);\n",
    "plt.xticks(fontsize=12)\n",
    "plt.yticks(fontsize=12)\n",
    "plt.xlim(0, 800) \n",
    "# plt.xticle()\n",
    "plt.legend(loc='best',fontsize=14);\n",
    "plt.show();\n",
    "\n",
    "fig.savefig('hac_dwell_work.png', dpi=600)\n",
    "# fig.savefig('dist_dwell.png',dpi=1200)"
   ]
  },
  {
   "cell_type": "code",
   "execution_count": null,
   "metadata": {},
   "outputs": [],
   "source": [
    "fig = plt.figure(figsize = (16,8))\n",
    "p1=sns.kdeplot(cluster_data[cluster_data['cluster_3'] == 0]['dwell_public'], shade=True, label = 'Cluster 1',color = '#0000FF')\n",
    "p1=sns.kdeplot(cluster_data[cluster_data['cluster_3'] == 1]['dwell_public'], shade=True,label = 'Cluster 2',color = '#FF0000')\n",
    "p1=sns.kdeplot(cluster_data[cluster_data['cluster_3'] == 2]['dwell_public'], shade=True,label = 'Cluster 3',color ='#008000')\n",
    "# p1=sns.kdeplot(trip_inter_2_nor_3['dwell_public'].astype('float64'), shade=True,label = 'Cluster 4',color ='#000800')\n",
    "# p1=sns.kdeplot(trip_inter_2_nor_4['dwell_public'].astype('float64'), shade=True, label = 'Cluster 5',color = '#87CEFA')\n",
    "# p1=sns.kdeplot(trip_inter_2_nor_5['dwell_public'].astype('float64'), shade=True,label = 'Cluster 6',color = '#FFA07A')\n",
    "# p1=sns.kdeplot(trip_inter_2_nor_6['dwell_public'].astype('float64'), shade=True,label = 'Cluster 7',color ='#7CFC00')\n",
    "# p1=sns.kdeplot(trip_inter_2_nor_7['dwell_public'].astype('float64'), shade=True,label = 'Cluster 8',color ='#00FC7C')\n",
    "# p1=sns.kdeplot(trip_inter_2_nor_3['dwell_public'].astype('float64'), shade=True,label = 'Cluster 4',color ='#000800')\n",
    "# p1=sns.kdeplot(dwell_process_other_home*0.6, shade=True,label = 'Home of others',color = '#87CEFA',linestyle=\"--\")\n",
    "# p1=sns.kdeplot(dwell_process_other_work*0.6, shade=True,label = 'Workplace of others',color ='#FFA07A',linestyle=\"--\")\n",
    "# p1=sns.kdeplot(dwell_process_other_public*0.6, shade=True, label = 'Public of Others',color = '#7CFC00',linestyle=\"--\")\n",
    "plt.title('Distribution of Dwell Time at Public locations', fontsize=28)\n",
    "plt.xlabel('Time (Minutes)',fontsize=18);\n",
    "plt.ylabel('Density',fontsize=18);\n",
    "plt.xticks(fontsize=12)\n",
    "plt.yticks(fontsize=12)\n",
    "plt.xlim(0, 1200) \n",
    "# plt.xticle()\n",
    "plt.legend(loc='best',fontsize=14)\n",
    "plt.show();\n",
    "\n",
    "fig.savefig('hac_dwell_public.png', dpi=600)\n",
    "# fig.savefig('dist_dwell.png',dpi=1200)"
   ]
  },
  {
   "cell_type": "code",
   "execution_count": null,
   "metadata": {},
   "outputs": [],
   "source": [
    "fig = plt.figure(figsize = (16,8))\n",
    "p1=sns.kdeplot(cluster_data[cluster_data['cluster_3'] == 0]['TRVLCMIN'], shade=True, label = 'Cluster 1',color = '#0000FF')\n",
    "p1=sns.kdeplot(cluster_data[cluster_data['cluster_3'] == 1]['TRVLCMIN'], shade=True,label = 'Cluster 2',color = '#FF0000')\n",
    "p1=sns.kdeplot(cluster_data[cluster_data['cluster_3'] == 2]['TRVLCMIN'], shade=True,label = 'Cluster 3',color ='#008000')\n",
    "# p1=sns.kdeplot(trip_inter_2_nor_3['TRVLCMIN'].astype('float64'), shade=True,label = 'Cluster 4',color ='#000800')\n",
    "# p1=sns.kdeplot(trip_inter_2_nor_4['TRVLCMIN'].astype('float64'), shade=True, label = 'Cluster 5',color = '#87CEFA')\n",
    "# p1=sns.kdeplot(trip_inter_2_nor_5['TRVLCMIN'].astype('float64'), shade=True,label = 'Cluster 6',color = '#FFA07A')\n",
    "# p1=sns.kdeplot(trip_inter_2_nor_6['TRVLCMIN'].astype('float64'), shade=True,label = 'Cluster 7',color ='#7CFC00')\n",
    "# p1=sns.kdeplot(trip_inter_2_nor_7['TRVLCMIN'].astype('float64'), shade=True,label = 'Cluster 8',color ='#00FC7C')\n",
    "# p1=sns.kdeplot(trip_inter_2_nor_3['TRVLCMIN'].astype('float64'), shade=True,label = 'Cluster 4',color ='#000800')\n",
    "# p1=sns.kdeplot(dwell_process_other_home*0.6, shade=True,label = 'Home of others',color = '#87CEFA',linestyle=\"--\")\n",
    "# p1=sns.kdeplot(dwell_process_other_work*0.6, shade=True,label = 'Workplace of others',color ='#FFA07A',linestyle=\"--\")\n",
    "# p1=sns.kdeplot(dwell_process_other_public*0.6, shade=True, label = 'Public of Others',color = '#7CFC00',linestyle=\"--\")\n",
    "plt.title('Distribution of Trip Time', fontsize=28)\n",
    "plt.xlabel('Time (Minutes)');\n",
    "plt.ylabel('Density');\n",
    "plt.xlim(0, 800) \n",
    "# plt.xticle()\n",
    "plt.legend(loc='best')\n",
    "plt.show();\n",
    "\n",
    "# fig.savefig('dist_dwell.png',dpi=1200)"
   ]
  },
  {
   "cell_type": "code",
   "execution_count": null,
   "metadata": {},
   "outputs": [],
   "source": [
    "from scipy import stats\n",
    "tod = []\n",
    "for i in range(24):\n",
    "    tod.append(str(i) + ':00 to ' + str(i+1) + ':00')\n",
    "    \n",
    "avg_vmt_0 = [0 for i in range(24)]\n",
    "std_vmt_0 = [0 for i in range(24)]\n",
    "avg_vmt_1 = [0 for i in range(24)]\n",
    "std_vmt_1 = [0 for i in range(24)]\n",
    "avg_vmt_2 = [0 for i in range(24)]\n",
    "std_vmt_2 = [0 for i in range(24)]\n",
    "\n",
    "avg_loc_0 = [0 for i in range(24)]\n",
    "std_loc_0 = [0 for i in range(24)]\n",
    "avg_loc_1 = [0 for i in range(24)]\n",
    "std_loc_1 = [0 for i in range(24)]\n",
    "avg_loc_2 = [0 for i in range(24)]\n",
    "std_loc_2 = [0 for i in range(24)]\n",
    "\n",
    "mode_loc_0 = [0 for i in range(24)]\n",
    "mode_loc_1 = [0 for i in range(24)]\n",
    "mode_loc_2 = [0 for i in range(24)]\n",
    "\n",
    "for j in range(24):\n",
    "        avg_vmt_0[j] = cluster_data[cluster_data['cluster_3'] == 0]['VMT_Hr'+str(j+1)].mean()\n",
    "        std_vmt_0[j] = cluster_data[cluster_data['cluster_3'] == 0]['VMT_Hr'+str(j+1)].std()\n",
    "        avg_vmt_1[j] = cluster_data[cluster_data['cluster_3'] == 1]['VMT_Hr'+str(j+1)].mean()\n",
    "        std_vmt_1[j] = cluster_data[cluster_data['cluster_3'] == 1]['VMT_Hr'+str(j+1)].std()\n",
    "        avg_vmt_2[j] = cluster_data[cluster_data['cluster_3'] == 2]['VMT_Hr'+str(j+1)].mean()\n",
    "        std_vmt_2[j] = cluster_data[cluster_data['cluster_3'] == 2]['VMT_Hr'+str(j+1)].std()\n",
    "        avg_loc_0[j] = cluster_data[cluster_data['cluster_3'] == 0]['location_hr_'+str(j+1)].mean()\n",
    "        std_loc_0[j] = cluster_data[cluster_data['cluster_3'] == 0]['location_hr_'+str(j+1)].std()\n",
    "        avg_loc_1[j] = cluster_data[cluster_data['cluster_3'] == 1]['location_hr_'+str(j+1)].mean()\n",
    "        std_loc_1[j] = cluster_data[cluster_data['cluster_3'] == 1]['location_hr_'+str(j+1)].std() \n",
    "        avg_loc_2[j] = cluster_data[cluster_data['cluster_3'] == 2]['location_hr_'+str(j+1)].mean()\n",
    "        std_loc_2[j] = cluster_data[cluster_data['cluster_3'] == 2]['location_hr_'+str(j+1)].std() \n",
    "        \n",
    "#         mode_loc_0[j] = stats.mode(cluster_data[cluster_data['cluster_3'] == 0]['location_hr_'+str(j+1)])[0][0]\n",
    "#         mode_loc_1[j] = stats.mode(cluster_data[cluster_data['cluster_3'] == 1]['location_hr_'+str(j+1)])[0][0]\n",
    "#         mode_loc_2[j] = stats.mode(cluster_data[cluster_data['cluster_3'] == 2]['location_hr_'+str(j+1)])[0][0]\n",
    "        \n"
   ]
  },
  {
   "cell_type": "code",
   "execution_count": null,
   "metadata": {},
   "outputs": [],
   "source": [
    "fig = plt.figure(figsize=(20,10))\n",
    "plt.plot(tod, avg_vmt_0, 'k-', label = 'Cluster 1')\n",
    "plt.plot(tod, avg_vmt_1, 'c--', label = 'Cluster 2')\n",
    "plt.plot(tod, avg_vmt_2, 'r-.', label = 'Cluster 3')\n",
    "# plt.plot(tod, avg_vmt_3, 'm:', label = 'Cluster 4')\n",
    "plt.fill_between(tod, avg_vmt_0-0.05*std_vmt_0, avg_vmt_0+0.05*std_vmt_0,alpha=0.1, edgecolor='#1B2ACC', facecolor='#0000FF',\n",
    "    linewidth=4, linestyle='dashdot', antialiased=True)\n",
    "plt.fill_between(tod, avg_vmt_1-0.05*std_vmt_1, avg_vmt_1+0.05*std_vmt_1,alpha=0.1, edgecolor='#3F7F4C', facecolor='#FF0000',\n",
    "    linewidth=0)\n",
    "plt.fill_between(tod, avg_vmt_2-0.05*std_vmt_2, avg_vmt_2+0.05*std_vmt_2,alpha=0.1, edgecolor='#1D2C3C', facecolor='#008000',\n",
    "    linewidth=4, linestyle='dashdot', antialiased=True)\n",
    "# plt.fill_between(tod, avg_vmt_3-0.05*std_vmt_3, avg_vmt_3+0.05*std_vmt_3,alpha=0.1, edgecolor='#2F4FCC', facecolor='#7EFF99',\n",
    "#     linewidth=0)\n",
    "plt.xticks(rotation=45)\n",
    "plt.xlabel('Time of Day',fontsize=18)\n",
    "plt.ylabel('VMT (Miles)',fontsize=18)\n",
    "plt.xticks(fontsize=12)\n",
    "plt.yticks(fontsize=12)\n",
    "plt.title('MUDs residents VMT during time of day',fontsize=28)\n",
    "plt.legend(fontsize=14)\n",
    "\n",
    "plt.show()\n",
    "\n",
    "fig.savefig('hac_vmt.png', dpi=600)"
   ]
  },
  {
   "cell_type": "code",
   "execution_count": null,
   "metadata": {
    "scrolled": false
   },
   "outputs": [],
   "source": [
    "fig = plt.figure(figsize=(20,10))\n",
    "plt.plot(tod, avg_vmt_0, 'k-', label = 'Cluster 1')\n",
    "plt.plot(tod, avg_vmt_1, 'c--', label = 'Cluster 2')\n",
    "plt.plot(tod, avg_vmt_2, 'r-.', label = 'Cluster 3')\n",
    "# plt.plot(tod, avg_vmt_3, 'm:', label = 'Cluster 4')\n",
    "plt.fill_between(tod, avg_vmt_0-0.05*std_vmt_0, avg_vmt_0+0.05*std_vmt_0,alpha=0.1, edgecolor='#1B2ACC', facecolor='#0000FF',\n",
    "    linewidth=4, linestyle='dashdot', antialiased=True)\n",
    "plt.fill_between(tod, avg_vmt_1-0.05*std_vmt_1, avg_vmt_1+0.05*std_vmt_1,alpha=0.1, edgecolor='#3F7F4C', facecolor='#FF0000',\n",
    "    linewidth=0)\n",
    "plt.fill_between(tod, avg_vmt_2-0.05*std_vmt_2, avg_vmt_2+0.05*std_vmt_2,alpha=0.1, edgecolor='#1D2C3C', facecolor='#008000',\n",
    "    linewidth=4, linestyle='dashdot', antialiased=True)\n",
    "# plt.fill_between(tod, avg_vmt_3-0.05*std_vmt_3, avg_vmt_3+0.05*std_vmt_3,alpha=0.1, edgecolor='#2F4FCC', facecolor='#7EFF99',\n",
    "#     linewidth=0)\n",
    "plt.xticks(rotation=45)\n",
    "plt.xlabel('Time of Day')\n",
    "plt.ylabel('VMT (Miles)')\n",
    "plt.title('MUDs residents VMT during time of day',fontsize=28)\n",
    "plt.legend()\n",
    "\n",
    "plt.show()"
   ]
  },
  {
   "cell_type": "code",
   "execution_count": null,
   "metadata": {},
   "outputs": [],
   "source": [
    "2+2"
   ]
  },
  {
   "cell_type": "code",
   "execution_count": null,
   "metadata": {},
   "outputs": [],
   "source": [
    "fig = plt.figure(figsize=(20,10))\n",
    "plt.plot(tod, avg_loc_0, 'k-', label = 'Cluster 1')\n",
    "plt.plot(tod, avg_loc_1, 'c--', label = 'Cluster 2')\n",
    "plt.plot(tod, avg_loc_2, 'r-.', label = 'Cluster 3')\n",
    "# plt.plot(tod, mode_loc_3, 'm:', label = 'Cluster 4')\n",
    "plt.fill_between(tod, mode_loc_0-0.05*std_loc_0, avg_loc_0+0.05*std_loc_0,alpha=0.1, edgecolor='#1B2ACC', facecolor='#089FFF',\n",
    "    linewidth=4, linestyle='dashdot', antialiased=True)\n",
    "plt.fill_between(tod, avg_loc_1-0.05*std_loc_1, avg_loc_1+0.05*std_loc_1,alpha=0.1, edgecolor='#3F7F4C', facecolor='#7EFF99',\n",
    "    linewidth=0)\n",
    "plt.fill_between(tod, avg_loc_2-0.05*std_loc_2, avg_loc_2+0.05*std_loc_2,alpha=0.1, edgecolor='#1D2C3C', facecolor='#089FFF',\n",
    "    linewidth=4, linestyle='dashdot', antialiased=True)\n",
    "# plt.fill_between(tod, avg_loc_3-0.05*std_loc_3, avg_loc_3+0.05*std_loc_3,alpha=0.1, edgecolor='#2F4FCC', facecolor='#7EFF99',\n",
    "#     linewidth=0)\n",
    "plt.xticks(rotation=45)\n",
    "plt.xlabel('Time of Day')\n",
    "plt.ylabel(\"Locations' mode\")\n",
    "plt.title('Clustering of MUDs residents over location during time of day')\n",
    "plt.legend()\n",
    "\n",
    "plt.show()"
   ]
  }
 ],
 "metadata": {
  "kernelspec": {
   "display_name": "Python 3",
   "language": "python",
   "name": "python3"
  },
  "language_info": {
   "codemirror_mode": {
    "name": "ipython",
    "version": 3
   },
   "file_extension": ".py",
   "mimetype": "text/x-python",
   "name": "python",
   "nbconvert_exporter": "python",
   "pygments_lexer": "ipython3",
   "version": "3.7.7"
  }
 },
 "nbformat": 4,
 "nbformat_minor": 5
}
