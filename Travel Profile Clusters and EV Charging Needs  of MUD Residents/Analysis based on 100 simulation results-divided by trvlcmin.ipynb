{
 "cells": [
  {
   "cell_type": "code",
   "execution_count": null,
   "metadata": {},
   "outputs": [],
   "source": [
    "%matplotlib inline\n",
    "%config InlineBackend.figure_format = 'retina'\n",
    "\n",
    "import pandas as pd\n",
    "import numpy as np\n",
    "from matplotlib import pyplot as plt\n",
    "from matplotlib.ticker import FuncFormatter\n",
    "from os.path import abspath\n",
    "import re\n",
    "import os\n",
    "import matplotlib.image\n",
    "from functools import partial\n",
    "from IPython.display import Image\n",
    "from sklearn import linear_model\n",
    "from statistics import median \n",
    "# import plotly.offline as py\n",
    "import seaborn as sns\n",
    "# import plotly.figure_factory as ff\n",
    "# import pingouin as pg\n",
    "import itertools\n",
    "from tqdm import tqdm \n",
    "import time \n"
   ]
  },
  {
   "cell_type": "code",
   "execution_count": null,
   "metadata": {},
   "outputs": [],
   "source": [
    "trip17 = pd.read_csv('trippub.csv')\n",
    "trip17.head()\n"
   ]
  },
  {
   "cell_type": "code",
   "execution_count": null,
   "metadata": {},
   "outputs": [],
   "source": [
    "# Drop all zero values of trip dataset\n",
    "trip17 = trip17.loc[trip17.WTTRDFIN > 0]\n",
    "\n",
    "# Remove outliers which are not within 3 standard deviations from mean of trip dataset\n",
    "trip17 = trip17[\n",
    "    np.abs(trip17.WTTRDFIN - trip17.WTTRDFIN.mean()) <= (3*trip17.WTTRDFIN.std())\n",
    "]"
   ]
  },
  {
   "cell_type": "code",
   "execution_count": null,
   "metadata": {},
   "outputs": [],
   "source": [
    "trip17_1pv = trip17.groupby(['HOUSEID','VEHID'], as_index=False)['VMT_MILE'].sum()"
   ]
  },
  {
   "cell_type": "code",
   "execution_count": null,
   "metadata": {},
   "outputs": [],
   "source": [
    "trip17_process=trip17_1pv.groupby(['HOUSEID']).agg(list)"
   ]
  },
  {
   "cell_type": "code",
   "execution_count": null,
   "metadata": {},
   "outputs": [],
   "source": [
    "trip17_process['freq_car_index']=trip17_process.agg(lambda x: x['VEHID'][np.argmax(x['VMT_MILE'])],axis=1)"
   ]
  },
  {
   "cell_type": "code",
   "execution_count": null,
   "metadata": {},
   "outputs": [],
   "source": [
    "trip17_process=trip17_process.reset_index()"
   ]
  },
  {
   "cell_type": "code",
   "execution_count": null,
   "metadata": {},
   "outputs": [],
   "source": [
    "trip17_process.head()"
   ]
  },
  {
   "cell_type": "code",
   "execution_count": null,
   "metadata": {},
   "outputs": [],
   "source": [
    "trip17.head()"
   ]
  },
  {
   "cell_type": "code",
   "execution_count": null,
   "metadata": {},
   "outputs": [],
   "source": [
    "trip17_final=trip17.merge(trip17_process[['HOUSEID','freq_car_index']],on=['HOUSEID'],how='left')"
   ]
  },
  {
   "cell_type": "code",
   "execution_count": null,
   "metadata": {},
   "outputs": [],
   "source": [
    "trip17_final['selected_car']=trip17_final['freq_car_index']==trip17_final['VEHID']"
   ]
  },
  {
   "cell_type": "code",
   "execution_count": null,
   "metadata": {},
   "outputs": [],
   "source": [
    "trip17_final[['freq_car_index','VEHID','selected_car']].head()"
   ]
  },
  {
   "cell_type": "code",
   "execution_count": null,
   "metadata": {},
   "outputs": [],
   "source": [
    "trip17_final = trip17_final[trip17_final['selected_car'] == True]"
   ]
  },
  {
   "cell_type": "code",
   "execution_count": null,
   "metadata": {},
   "outputs": [],
   "source": [
    "trip17_final.head()"
   ]
  },
  {
   "cell_type": "code",
   "execution_count": null,
   "metadata": {},
   "outputs": [],
   "source": [
    "simu = pd.read_csv('new_simulation_result_income_162500.csv')"
   ]
  },
  {
   "cell_type": "code",
   "execution_count": null,
   "metadata": {},
   "outputs": [],
   "source": [
    "simu.head()"
   ]
  },
  {
   "cell_type": "code",
   "execution_count": null,
   "metadata": {},
   "outputs": [],
   "source": [
    "trip17_pred=trip17_final.merge(simu,on=['HOUSEID'],how='left')"
   ]
  },
  {
   "cell_type": "code",
   "execution_count": null,
   "metadata": {},
   "outputs": [],
   "source": [
    "trip17_pred.head()"
   ]
  },
  {
   "cell_type": "code",
   "execution_count": null,
   "metadata": {},
   "outputs": [],
   "source": [
    "### Trip distance in miles for personally driven vehicle trips\n",
    "### new Trip Distance Distribution with new categrarical CENSUS DIVISIONS using Dummy Variables\n",
    "plt.style.use(\"seaborn\")\n",
    "font = {'family': 'serif',\n",
    "        'color':  'black',\n",
    "        'weight': 'normal',\n",
    "        'size': 16,\n",
    "        }"
   ]
  },
  {
   "cell_type": "markdown",
   "metadata": {},
   "source": [
    "### MUDs share acrsso the region from AHS"
   ]
  },
  {
   "cell_type": "code",
   "execution_count": null,
   "metadata": {},
   "outputs": [],
   "source": [
    "# 32.6%\t34.1%\t21.1%\t18.6%\t21.3%\t15.4%\t20.6%\t19.7%\t28.6%\n",
    "data_share_mud = [.326,.341,.211,.186,.213,.154,.206,.197,.286]"
   ]
  },
  {
   "cell_type": "code",
   "execution_count": null,
   "metadata": {},
   "outputs": [],
   "source": [
    "division_list = ['New England','Middle Atlantic','East North Central','West North Central',\n",
    "                 'South Atlantic','East South Central','West South Central','Mountain','Pacific']"
   ]
  },
  {
   "cell_type": "code",
   "execution_count": null,
   "metadata": {},
   "outputs": [],
   "source": [
    "ind = np.arange(len(division_list))\n",
    "plt.figure(figsize =(12,8))\n",
    "\n",
    "plt.bar(ind,data_share_mud)\n",
    "\n",
    "plt.xlabel('Census Divisions',fontdict = font)\n",
    "plt.ylabel(\"Share\",fontdict= font)\n",
    "plt.xticks(ind,division_list)\n",
    "plt.title('Multi-Unit Dwellings Share per Census Division', fontsize=24)\n",
    "#.legend(loc='upper right');\n",
    "plt.xticks(rotation=45)\n",
    "#plt.legend(loc='best');\n",
    "s=data_share_mud \n",
    "for i in range(len(s)):\n",
    "    plt.annotate(str(s[i]), xy=(ind[i],s[i]), ha='center', va='bottom')\n",
    "    \n",
    "\n",
    "\n",
    "plt.savefig(\"MUD_Share.png\", dpi=300)\n",
    "plt.show()"
   ]
  },
  {
   "cell_type": "code",
   "execution_count": null,
   "metadata": {
    "scrolled": false
   },
   "outputs": [],
   "source": [
    "data_mud_division_income = pd.read_excel('UnitInStructure-v2.xlsx',sheet_name='MUD per DIVISION and INCOME')\n"
   ]
  },
  {
   "cell_type": "code",
   "execution_count": null,
   "metadata": {
    "scrolled": true
   },
   "outputs": [],
   "source": [
    "data_mud_division_income.head()"
   ]
  },
  {
   "cell_type": "code",
   "execution_count": null,
   "metadata": {},
   "outputs": [],
   "source": [
    "income_list = data_mud_division_income['Income($)']"
   ]
  },
  {
   "cell_type": "code",
   "execution_count": null,
   "metadata": {},
   "outputs": [],
   "source": [
    "#plt.figure(figsize =(12,8))\n",
    "pd.concat({\n",
    "    division_list[i]: data_mud_division_income[division_list[i]] for i in range(9)\n",
    "}, axis=1).plot.bar(width=0.9,figsize =(16,12))\n",
    "plt.xticks(np.arange(len(income_list)),income_list)\n",
    "plt.xlabel('Income Categories ($)',fontdict = font)\n",
    "plt.xticks(rotation=45)\n",
    "plt.ylabel(\"Share\",fontdict= font)\n",
    "plt.legend(loc='best');\n",
    "plt.title('Share of MUDs per Census Division and Income Level', fontsize=24)\n",
    "\n",
    "plt.show();"
   ]
  },
  {
   "cell_type": "markdown",
   "metadata": {},
   "source": [
    "### Location classifications: (Home, Workplace, Public, Driving) Distribution during time of day"
   ]
  },
  {
   "cell_type": "markdown",
   "metadata": {},
   "source": [
    "By two categaries: MUDs and Other"
   ]
  },
  {
   "cell_type": "code",
   "execution_count": null,
   "metadata": {},
   "outputs": [],
   "source": [
    "### Drop arrows where \"VEHID\" == \"-9\"&\"-1\", which means \"Not ascertained\" and \"Appropriate skip\" respectively\n",
    "trip17_pred_veh_determined = trip17_pred[trip17_pred['VEHID'] != -1]\n",
    "trip17_pred_veh_determined = trip17_pred_veh_determined[trip17_pred_veh_determined['VEHID'] != -9]\n"
   ]
  },
  {
   "cell_type": "code",
   "execution_count": null,
   "metadata": {},
   "outputs": [],
   "source": [
    "trip17_pred_veh_determined = trip17_pred_veh_determined[trip17_pred_veh_determined['TRVLCMIN'] > 0]\n",
    "trip17_pred_veh_determined = trip17_pred_veh_determined[trip17_pred_veh_determined['DWELTIME'] > 0]"
   ]
  },
  {
   "cell_type": "code",
   "execution_count": null,
   "metadata": {},
   "outputs": [],
   "source": [
    "trip17_pred_veh_determined['DWELTIME'] = trip17_pred_veh_determined['DWELTIME']/60"
   ]
  },
  {
   "cell_type": "code",
   "execution_count": null,
   "metadata": {},
   "outputs": [],
   "source": [
    "trip17_pred_veh_determined[['HOUSEID','VEHID']].head()"
   ]
  },
  {
   "cell_type": "code",
   "execution_count": null,
   "metadata": {},
   "outputs": [],
   "source": [
    "type(trip17_pred_veh_determined['WHYTRP1S'])"
   ]
  },
  {
   "cell_type": "code",
   "execution_count": null,
   "metadata": {},
   "outputs": [],
   "source": [
    "### classification of \"WHYTRP1S\", which is \"Trip purpose summary\"\n",
    "trip17_pred_veh_determined['WHYTRP1S_GENERAL'] = np.where(trip17_pred_veh_determined['WHYTRP1S']== 1, 'Home', \n",
    "                                             np.where(trip17_pred_veh_determined['WHYTRP1S']== 10, 'Work','Public'))\n"
   ]
  },
  {
   "cell_type": "code",
   "execution_count": null,
   "metadata": {},
   "outputs": [],
   "source": [
    "### analyze time before the starttime of the first trip, use \n",
    "### \"WHYFROM\", which is \"Trip Origin Purpose\"\n",
    "trip17_pred_veh_determined['WHYFROM_GENERAL'] = np.where((trip17_pred_veh_determined['WHYFROM']== 1) | (trip17_pred_veh_determined['WHYFROM']== 2), 'Home', \n",
    "                                             np.where((trip17_pred_veh_determined['WHYFROM']== 3) | (trip17_pred_veh_determined['WHYFROM']== 4), 'Work','Public'))\n",
    "\n"
   ]
  },
  {
   "cell_type": "code",
   "execution_count": null,
   "metadata": {},
   "outputs": [],
   "source": [
    "trip17_pred_veh_determined[['HOUSEID','VEHID','WHYTRP1S_GENERAL','WHYFROM_GENERAL']].head()"
   ]
  },
  {
   "cell_type": "code",
   "execution_count": null,
   "metadata": {},
   "outputs": [],
   "source": [
    "trip17_pred_veh_determined.drop(columns='PERSONID',inplace=True)"
   ]
  },
  {
   "cell_type": "code",
   "execution_count": null,
   "metadata": {},
   "outputs": [],
   "source": [
    "trip17_pred_veh_determined.head()"
   ]
  },
  {
   "cell_type": "code",
   "execution_count": null,
   "metadata": {},
   "outputs": [],
   "source": [
    "trip17_pred_veh_determined.drop_duplicates(subset=['HOUSEID','TDTRPNUM','STRTTIME','ENDTIME',\n",
    "                                                  ],inplace = True)"
   ]
  },
  {
   "cell_type": "code",
   "execution_count": null,
   "metadata": {},
   "outputs": [],
   "source": [
    "trip17_pred_veh_determined.head(20)"
   ]
  },
  {
   "cell_type": "code",
   "execution_count": null,
   "metadata": {},
   "outputs": [],
   "source": [
    "trip17_pred_veh_determined = trip17_pred_veh_determined[trip17_pred_veh_determined.DWELTIME != -9]"
   ]
  },
  {
   "cell_type": "code",
   "execution_count": null,
   "metadata": {},
   "outputs": [],
   "source": [
    "### pick out the columns needed for location classification during time of day \n",
    "### from the whole \"trip17_pred_veh_determined\" dataframe\n",
    "trip17_pred_veh_determined_part = trip17_pred_veh_determined[['HOUSEID','VEHID','STRTTIME','ENDTIME','TRVLCMIN','DWELTIME','WHYFROM_GENERAL','WHYTRP1S_GENERAL','MUDs_Predict_OW','CENSUS_D']]\n",
    "trip17_pred_veh_determined_part = trip17_pred_veh_determined_part.groupby(['HOUSEID','VEHID'], as_index=False).agg(lambda x: list(x))"
   ]
  },
  {
   "cell_type": "code",
   "execution_count": null,
   "metadata": {},
   "outputs": [],
   "source": [
    "type(trip17_pred_veh_determined_part)"
   ]
  },
  {
   "cell_type": "code",
   "execution_count": null,
   "metadata": {},
   "outputs": [],
   "source": [
    "temp = trip17_pred_veh_determined[trip17_pred_veh_determined['HOUSEID'] \n",
    "                                      == trip17_pred_veh_determined_part.loc[4,'HOUSEID']]\n",
    "temp.reset_index(inplace=True)\n",
    "temp"
   ]
  },
  {
   "cell_type": "code",
   "execution_count": null,
   "metadata": {},
   "outputs": [],
   "source": [
    "(1*100 >= temp.loc[0,'ENDTIME'])"
   ]
  },
  {
   "cell_type": "code",
   "execution_count": null,
   "metadata": {},
   "outputs": [],
   "source": [
    "df = df[df['Col2'].notnull()]"
   ]
  },
  {
   "cell_type": "code",
   "execution_count": null,
   "metadata": {},
   "outputs": [],
   "source": [
    "trip17_pred_veh_determined_part_noNAN = trip17_pred_veh_determined_part_1[trip17_pred_veh_determined_part_1['location_hr_22'].notnull()]\n"
   ]
  },
  {
   "cell_type": "code",
   "execution_count": null,
   "metadata": {},
   "outputs": [],
   "source": [
    "trip17_pred_veh_determined_part.tail()"
   ]
  },
  {
   "cell_type": "code",
   "execution_count": null,
   "metadata": {},
   "outputs": [],
   "source": [
    " trip17_pred_veh_determined_part_1.head()"
   ]
  },
  {
   "cell_type": "code",
   "execution_count": null,
   "metadata": {
    "scrolled": true
   },
   "outputs": [],
   "source": [
    "#aks =['Home']*24\n",
    "\n",
    "trip17_pred_veh_determined_part_1 = trip17_pred_veh_determined_part.copy()\n",
    "trip17_pred_veh_determined_part_1.reset_index(inplace=True)\n",
    "\n",
    "for k in range(len(trip17_pred_veh_determined_part_1)):\n",
    "    temp = trip17_pred_veh_determined[trip17_pred_veh_determined['HOUSEID'] \n",
    "                                      == trip17_pred_veh_determined_part_1.loc[k,'HOUSEID']]\n",
    "    temp.reset_index(inplace=True)\n",
    "    for i in range(24):\n",
    "        for count in range(len(temp)):\n",
    "            ### trip time in a hour\n",
    "            if ((temp.loc[count,'STRTTIME']>=i*100) & (temp.loc[count,'ENDTIME']<=(i+1)*100)):\n",
    "                trip17_pred_veh_determined_part_1.loc[k,'location_hr_'+str(i+1)] = 'Driving'\n",
    "                #aks[i]='Driving'\n",
    "            ### trip time over a hour\n",
    "            if (temp.loc[count,'STRTTIME']<=i*100):\n",
    "                trip17_pred_veh_determined_part_1.loc[k,'location_hr_'+str(i+1)] = temp.loc[0,'WHYFROM_GENERAL']\n",
    "            & (temp.loc[count,'ENDTIME']>=(i+0)*100)\n",
    "                #aks[i]='Driving'\n",
    "            if count+2<=len(temp):\n",
    "                if ((i*100 >= temp.loc[count,'ENDTIME']) & (i*100 <= temp.loc[count+1,'STRTTIME'])):\n",
    "                    trip17_pred_veh_determined_part_1.loc[k,'location_hr_'+str(i+1)] = temp.loc[count,'WHYTRP1S_GENERAL']\n",
    "                    #aks[i]=temp.loc[count,'WHYTRP1S_GENERAL']\n",
    "        if (temp.loc[0,'STRTTIME']>i*100):\n",
    "            trip17_pred_veh_determined_part_1.loc[k,'location_hr_'+str(i+1)] = temp.loc[0,'WHYFROM_GENERAL']\n",
    "            #aks[i]=temp.loc[0,'WHYFROM_GENERAL']\n",
    "        if (temp.tail(1)['ENDTIME'].to_list()[0] < i*100):\n",
    "            trip17_pred_veh_determined_part_1.loc[k,'location_hr_'+str(i+1)] = temp.loc[len(temp)-1,'WHYTRP1S_GENERAL']\n",
    "            #aks[i]=temp.tail(1)['WHYTRP1S_GENERAL'].to_list()[0]\n",
    "    \n",
    "for i in tqdm (range (101),  \n",
    "               desc=\"Loading…\",  \n",
    "               ascii=False, ncols=75): \n",
    "    time.sleep(0.01) \n",
    "print(\"Complete.\") \n",
    "    \n"
   ]
  },
  {
   "cell_type": "code",
   "execution_count": null,
   "metadata": {},
   "outputs": [],
   "source": [
    "trip17_pred_veh_determined_part.head()"
   ]
  },
  {
   "cell_type": "code",
   "execution_count": null,
   "metadata": {},
   "outputs": [],
   "source": [
    "trip17_pred_veh_determined_part.head(20)"
   ]
  },
  {
   "cell_type": "code",
   "execution_count": null,
   "metadata": {},
   "outputs": [],
   "source": [
    "100/60*0.6"
   ]
  },
  {
   "cell_type": "code",
   "execution_count": null,
   "metadata": {
    "scrolled": true
   },
   "outputs": [],
   "source": [
    "#aks =['Home']*24\n",
    "\n",
    "\n",
    "for k in range(len(trip17_pred_veh_determined_part)):\n",
    "    temp = trip17_pred_veh_determined[trip17_pred_veh_determined['HOUSEID'] \n",
    "                                      == trip17_pred_veh_determined_part.loc[k,'HOUSEID']]\n",
    "    temp.reset_index(inplace=True)\n",
    "    \n",
    "    work = 0\n",
    "    home = 0\n",
    "    public = 0\n",
    "    \n",
    "    for count in range(len(temp)-1):\n",
    "        ### trip time in a hour\n",
    "        if (temp.loc[count,'WHYTRP1S_GENERAL'] == 'Work'):\n",
    "            #trip17_pred_veh_determined_part.loc[k,'dwell_home'] = 'Driving'\n",
    "            work += temp.loc[count,'DWELTIME'] # - temp.loc[count,'ENDTIME']\n",
    "            #work += temp.loc[count+1,'STRTTIME'] - temp.loc[count,'ENDTIME']\n",
    "            #aks[i]='Driving'\n",
    "        ### trip time over a hour\n",
    "        if (temp.loc[count,'WHYTRP1S_GENERAL'] == 'Home'):\n",
    "            #trip17_pred_veh_determined_part.loc[k,'dwell_home'] = 'Driving'\n",
    "            home += temp.loc[count,'DWELTIME']\n",
    "            #home += temp.loc[count+1,'STRTTIME'] - temp.loc[count,'ENDTIME']\n",
    "        if (temp.loc[count,'WHYTRP1S_GENERAL'] == 'Public'):\n",
    "            #trip17_pred_veh_determined_part.loc[k,'dwell_home'] = 'Driving'\n",
    "            public += temp.loc[count,'DWELTIME']\n",
    "            #public += temp.loc[count+1,'STRTTIME'] - temp.loc[count,'ENDTIME']\n",
    "#         if ((temp.loc[count,'STRTTIME']<=i*100) & (temp.loc[count,'ENDTIME']>=(i+0)*100)):\n",
    "#             trip17_pred_veh_determined_part.loc[k,'dwell_work'] = 'Driving'\n",
    "#             #aks[i]='Driving'\n",
    "#         if count+2<=len(temp):\n",
    "#             if ((i*100 >= temp.loc[count,'ENDTIME']) & (i*100 <= temp.loc[count+1,'STRTTIME'])):\n",
    "#                 trip17_pred_veh_determined_part.loc[k,'dwell_public'] = temp.loc[count,'WHYTRP1S_GENERAL']\n",
    "#                 #aks[i]=temp.loc[count,'WHYTRP1S_GENERAL']\n",
    "    if (temp.loc[0,'WHYFROM_GENERAL'] == 'Work'):\n",
    "        work += temp.loc[0,'STRTTIME']/60*0.6\n",
    "    if (temp.loc[0,'WHYFROM_GENERAL'] == 'Home'):\n",
    "        home += temp.loc[0,'STRTTIME']/60*0.6\n",
    "    if (temp.loc[0,'WHYFROM_GENERAL'] == 'Public'):\n",
    "        public += temp.loc[0,'STRTTIME']/60*0.6\n",
    "    \n",
    "        #trip17_pred_veh_determined_part_1.loc[k,'location_hr_'+str(i+1)] = temp.loc[0,'WHYFROM_GENERAL']\n",
    "        #aks[i]=temp.loc[0,'WHYFROM_GENERAL']\n",
    "    if temp.tail(1)['ENDTIME'].to_list()[0] < 2400:\n",
    "        if (temp.tail(1)['WHYTRP1S_GENERAL'].to_list()[0] == 'Work'):\n",
    "            work += temp.tail(1)['DWELTIME'].to_list()[0]#2400 - temp.tail(1)['STRTTIME'].to_list()[0] - temp.tail(1)['TRVLCMIN'].to_list()[0]\n",
    "        if (temp.tail(1)['WHYTRP1S_GENERAL'].to_list()[0] == 'Home'):\n",
    "            home += temp.tail(1)['DWELTIME'].to_list()[0]#2400 - temp.tail(1)['STRTTIME'].to_list()[0] - temp.tail(1)['TRVLCMIN'].to_list()[0]\n",
    "        if (temp.tail(1)['WHYTRP1S_GENERAL'].to_list()[0] == 'Public'):\n",
    "            public += temp.tail(1)['DWELTIME'].to_list()[0]#2400 - temp.tail(1)['STRTTIME'].to_list()[0] - temp.tail(1)['TRVLCMIN'].to_list()[0]\n",
    "#         trip17_pred_veh_determined_part_1.loc[k,'location_hr_'+str(i+1)] = temp.loc[len(temp)-1,'WHYTRP1S_GENERAL']\n",
    "        #aks[i]=temp.tail(1)['WHYTRP1S_GENERAL'].to_list()[0]\n",
    "    trip17_pred_veh_determined_part.loc[k,'dwell_home'] = home\n",
    "    trip17_pred_veh_determined_part.loc[k,'dwell_work'] = work\n",
    "    trip17_pred_veh_determined_part.loc[k,'dwell_public'] = public\n",
    "    \n",
    "for i in tqdm (range (101),  \n",
    "               desc=\"Loading…\",  \n",
    "               ascii=False, ncols=75): \n",
    "    time.sleep(0.01) \n",
    "print(\"Complete.\") \n",
    "    \n",
    "\n"
   ]
  },
  {
   "cell_type": "code",
   "execution_count": null,
   "metadata": {},
   "outputs": [],
   "source": [
    "trip17_pred_veh_determined.head(10)"
   ]
  },
  {
   "cell_type": "code",
   "execution_count": null,
   "metadata": {},
   "outputs": [],
   "source": [
    "temp = trip17_pred_veh_determined[trip17_pred_veh_determined['HOUSEID'] \n",
    "                                      == trip17_pred_veh_determined_part.loc[2,'HOUSEID']]"
   ]
  },
  {
   "cell_type": "code",
   "execution_count": null,
   "metadata": {},
   "outputs": [],
   "source": [
    "temp"
   ]
  },
  {
   "cell_type": "code",
   "execution_count": null,
   "metadata": {},
   "outputs": [],
   "source": [
    "#aks =['Home']*24\n",
    "\n",
    "\n",
    "for k in range(len(trip17_pred_veh_determined_part)):\n",
    "    temp = trip17_pred_veh_determined[trip17_pred_veh_determined['HOUSEID'] \n",
    "                                      == trip17_pred_veh_determined_part.loc[k,'HOUSEID']]\n",
    "    temp.reset_index(inplace=True)\n",
    "    \n",
    "    work = 0\n",
    "    home = 0\n",
    "    public = 0\n",
    "    \n",
    "    for count in range(len(temp)-1):\n",
    "        ### trip time in a hour\n",
    "        if (temp.loc[count,'WHYTRP1S_GENERAL'] == 'Work'):\n",
    "            #trip17_pred_veh_determined_part.loc[k,'dwell_home'] = 'Driving'\n",
    "            work += temp.loc[count+1,'STRTTIME'] - temp.loc[count,'ENDTIME']\n",
    "            #aks[i]='Driving'\n",
    "        ### trip time over a hour\n",
    "        if (temp.loc[count,'WHYTRP1S_GENERAL'] == 'Home'):\n",
    "            #trip17_pred_veh_determined_part.loc[k,'dwell_home'] = 'Driving'\n",
    "            home += temp.loc[count+1,'STRTTIME'] - temp.loc[count,'ENDTIME']\n",
    "        if (temp.loc[count,'WHYTRP1S_GENERAL'] == 'Public'):\n",
    "            #trip17_pred_veh_determined_part.loc[k,'dwell_home'] = 'Driving'\n",
    "            public += temp.loc[count+1,'STRTTIME'] - temp.loc[count,'ENDTIME']\n",
    "#         if ((temp.loc[count,'STRTTIME']<=i*100) & (temp.loc[count,'ENDTIME']>=(i+0)*100)):\n",
    "#             trip17_pred_veh_determined_part.loc[k,'dwell_work'] = 'Driving'\n",
    "#             #aks[i]='Driving'\n",
    "#         if count+2<=len(temp):\n",
    "#             if ((i*100 >= temp.loc[count,'ENDTIME']) & (i*100 <= temp.loc[count+1,'STRTTIME'])):\n",
    "#                 trip17_pred_veh_determined_part.loc[k,'dwell_public'] = temp.loc[count,'WHYTRP1S_GENERAL']\n",
    "#                 #aks[i]=temp.loc[count,'WHYTRP1S_GENERAL']\n",
    "    if (temp.loc[0,'WHYFROM_GENERAL'] == 'Work'):\n",
    "        work += temp.loc[0,'STRTTIME']\n",
    "    if (temp.loc[0,'WHYFROM_GENERAL'] == 'Home'):\n",
    "        home += temp.loc[0,'STRTTIME']\n",
    "    if (temp.loc[0,'WHYFROM_GENERAL'] == 'Public'):\n",
    "        public += temp.loc[0,'STRTTIME']\n",
    "    \n",
    "        #trip17_pred_veh_determined_part_1.loc[k,'location_hr_'+str(i+1)] = temp.loc[0,'WHYFROM_GENERAL']\n",
    "        #aks[i]=temp.loc[0,'WHYFROM_GENERAL']\n",
    "    if temp.tail(1)['ENDTIME'].to_list()[0] < 2400:\n",
    "        if (temp.tail(1)['WHYTRP1S_GENERAL'].to_list()[0] == 'Work'):\n",
    "            work += 2400 - temp.tail(1)['STRTTIME'].to_list()[0] - temp.tail(1)['TRVLCMIN'].to_list()[0]\n",
    "        if (temp.tail(1)['WHYTRP1S_GENERAL'].to_list()[0] == 'Home'):\n",
    "            home += 2400 - temp.tail(1)['STRTTIME'].to_list()[0] - temp.tail(1)['TRVLCMIN'].to_list()[0]\n",
    "        if (temp.tail(1)['WHYTRP1S_GENERAL'].to_list()[0] == 'Public'):\n",
    "            public += 2400 - temp.tail(1)['STRTTIME'].to_list()[0] - temp.tail(1)['TRVLCMIN'].to_list()[0]\n",
    "#         trip17_pred_veh_determined_part_1.loc[k,'location_hr_'+str(i+1)] = temp.loc[len(temp)-1,'WHYTRP1S_GENERAL']\n",
    "        #aks[i]=temp.tail(1)['WHYTRP1S_GENERAL'].to_list()[0]\n",
    "    trip17_pred_veh_determined_part.loc[k,'dwell_home'] = home\n",
    "    trip17_pred_veh_determined_part.loc[k,'dwell_work'] = work\n",
    "    trip17_pred_veh_determined_part.loc[k,'dwell_public'] = public\n",
    "    \n",
    "for i in tqdm (range (101),  \n",
    "               desc=\"Loading…\",  \n",
    "               ascii=False, ncols=75): \n",
    "    time.sleep(0.01) \n",
    "print(\"Complete.\") \n",
    "    \n",
    "\n",
    "\n"
   ]
  },
  {
   "cell_type": "code",
   "execution_count": null,
   "metadata": {
    "scrolled": true
   },
   "outputs": [],
   "source": [
    "dwell_process = trip17_pred_veh_determined_part\n",
    "#dwell_process = trip17_pred_veh_determined[trip17_pred_veh_determined['DWELTIME'] != -9]\n",
    "dwell_process.head()"
   ]
  },
  {
   "cell_type": "code",
   "execution_count": null,
   "metadata": {},
   "outputs": [],
   "source": [
    "mask = dwell_process.MUDs_Predict_OW.apply(lambda x: 1.0 in x)\n",
    "dwell_process_mud = dwell_process[mask]"
   ]
  },
  {
   "cell_type": "code",
   "execution_count": null,
   "metadata": {},
   "outputs": [],
   "source": [
    "mask = dwell_process.MUDs_Predict_OW.apply(lambda x: 0.0 in x)\n",
    "dwell_process_other = dwell_process[mask]"
   ]
  },
  {
   "cell_type": "code",
   "execution_count": null,
   "metadata": {},
   "outputs": [],
   "source": [
    "dwell_process[dwell_process['dwell_home'] > 0].head(2)"
   ]
  },
  {
   "cell_type": "code",
   "execution_count": null,
   "metadata": {},
   "outputs": [],
   "source": [
    "dwell_process = dwell_process[dwell_process['dwell_home'] > 0]\n",
    "dwell_process = dwell_process[dwell_process['dwell_work'] > 0]\n",
    "dwell_process = dwell_process[dwell_process['dwell_public'] > 0]"
   ]
  },
  {
   "cell_type": "code",
   "execution_count": null,
   "metadata": {},
   "outputs": [],
   "source": [
    "dwell_process_home = dwell_process['dwell_home']\n",
    "dwell_process_work = dwell_process['dwell_work']\n",
    "dwell_process_public = dwell_process['dwell_public']"
   ]
  },
  {
   "cell_type": "code",
   "execution_count": null,
   "metadata": {},
   "outputs": [],
   "source": [
    "dwell_process_mud_home = dwell_process_mud['dwell_home']\n",
    "dwell_process_mud_work = dwell_process_mud['dwell_work']\n",
    "dwell_process_mud_public = dwell_process_mud['dwell_public']\n",
    "\n",
    "dwell_process_other_home = dwell_process_other['dwell_home']\n",
    "dwell_process_other_work = dwell_process_other['dwell_work']\n",
    "dwell_process_other_public = dwell_process_other['dwell_public']"
   ]
  },
  {
   "cell_type": "code",
   "execution_count": null,
   "metadata": {},
   "outputs": [],
   "source": [
    "# dwell_process_mud_home = dwell_process_mud[dwell_process_mud['WHYTRP1S_GENERAL'] == 'Home']\n",
    "# dwell_process_mud_work = dwell_process_mud[dwell_process_mud['WHYTRP1S_GENERAL'] == 'Work']\n",
    "# dwell_process_mud_public = dwell_process_mud[dwell_process_mud['WHYTRP1S_GENERAL'] == 'Public']\n",
    "\n",
    "# dwell_process_other_home = dwell_process_other[dwell_process_other['WHYTRP1S_GENERAL'] == 'Home']\n",
    "# dwell_process_other_work = dwell_process_other[dwell_process_other['WHYTRP1S_GENERAL'] == 'Work']\n",
    "# dwell_process_other_public = dwell_process_other[dwell_process_other['WHYTRP1S_GENERAL'] == 'Public']"
   ]
  },
  {
   "cell_type": "code",
   "execution_count": null,
   "metadata": {},
   "outputs": [],
   "source": [
    "fig = plt.figure(figsize = (16,8))\n",
    "p1=sns.kdeplot(dwell_process_home, shade=True, label = 'Home',color = '#0000FF')\n",
    "p1=sns.kdeplot(dwell_process_work, shade=True,label = 'Workplace',color = '#FF0000')\n",
    "p1=sns.kdeplot(dwell_process_public, shade=True,label = 'Public',color ='#008000')\n",
    "p1=sns.kdeplot(dwell_process_other_home*0.6, shade=True,label = 'Home of others',color = '#87CEFA',linestyle=\"--\")\n",
    "p1=sns.kdeplot(dwell_process_other_work*0.6, shade=True,label = 'Workplace of others',color ='#FFA07A',linestyle=\"--\")\n",
    "p1=sns.kdeplot(dwell_process_other_public*0.6, shade=True, label = 'Public of Others',color = '#7CFC00',linestyle=\"--\")\n",
    "plt.title('Distribution of Dwell Time', fontsize=28)\n",
    "plt.xlabel('Hours (Hrs)',fontdict=font);\n",
    "plt.ylabel('Density',fontdict=font);\n",
    "plt.xlim(-300/60, 2400/60) \n",
    "# plt.xticle()\n",
    "plt.legend(loc='best')\n",
    "plt.show();\n",
    "\n",
    "fig.savefig('dist_dwell.png',dpi=1200)"
   ]
  },
  {
   "cell_type": "code",
   "execution_count": null,
   "metadata": {
    "scrolled": false
   },
   "outputs": [],
   "source": [
    "fig = plt.figure(figsize = (16,8))\n",
    "p1=sns.kdeplot(dwell_process_home, shade=True, label = 'Home',color = '#0000FF')\n",
    "p1=sns.kdeplot(dwell_process_work, shade=True,label = 'Workplace',color = '#FF0000')\n",
    "p1=sns.kdeplot(dwell_process_public, shade=True,label = 'Public',color ='#008000')\n",
    "# p1=sns.kdeplot(dwell_process_other_home*0.6, shade=True,label = 'Home of others',color = '#87CEFA',linestyle=\"--\")\n",
    "# p1=sns.kdeplot(dwell_process_other_work*0.6, shade=True,label = 'Workplace of others',color ='#FFA07A',linestyle=\"--\")\n",
    "# p1=sns.kdeplot(dwell_process_other_public*0.6, shade=True, label = 'Public of Others',color = '#7CFC00',linestyle=\"--\")\n",
    "plt.title('Distribution of Dwell Time', fontsize=28)\n",
    "plt.xlabel('Hours (Hrs)',fontdict=font);\n",
    "plt.ylabel('Density',fontdict=font);\n",
    "plt.xlim(-300/60, 2400/60) \n",
    "# plt.xticle()\n",
    "plt.legend(loc='best')\n",
    "plt.show();\n",
    "\n",
    "fig.savefig('dist_dwell.png',dpi=1200)"
   ]
  },
  {
   "cell_type": "code",
   "execution_count": null,
   "metadata": {},
   "outputs": [],
   "source": []
  },
  {
   "cell_type": "code",
   "execution_count": null,
   "metadata": {},
   "outputs": [],
   "source": []
  },
  {
   "cell_type": "markdown",
   "metadata": {},
   "source": [
    "Smooth density plot"
   ]
  },
  {
   "cell_type": "code",
   "execution_count": null,
   "metadata": {},
   "outputs": [],
   "source": [
    "\n",
    "dwell_process = trip17_pred_veh_determined_part_noNAN[['HOUSEID','VEHID','MUDs_Predict_OW',\n",
    "                                                  'location_hr_1','location_hr_2','location_hr_3','location_hr_4',\n",
    "                                                  'location_hr_5','location_hr_6','location_hr_7','location_hr_8',\n",
    "                                                  'location_hr_9','location_hr_10','location_hr_11','location_hr_12',\n",
    "                                                  'location_hr_13','location_hr_14','location_hr_15',\n",
    "                                                  'location_hr_16','location_hr_17','location_hr_18',\n",
    "                                                  'location_hr_19','location_hr_20','location_hr_21',\n",
    "                                                  'location_hr_22','location_hr_23','location_hr_24']]"
   ]
  },
  {
   "cell_type": "code",
   "execution_count": null,
   "metadata": {},
   "outputs": [],
   "source": [
    "for i in range(len(dwell_process)):\n",
    "    dwell_process.loc[i,'DWELL_HOME'] = sum(dwell_process.iloc[i,:]=='Home')"
   ]
  },
  {
   "cell_type": "code",
   "execution_count": null,
   "metadata": {},
   "outputs": [],
   "source": [
    "for i in range(len(dwell_process)):\n",
    "    dwell_process.loc[i,'DWELL_WORK'] = sum(dwell_process.iloc[i,:]=='Work')"
   ]
  },
  {
   "cell_type": "code",
   "execution_count": null,
   "metadata": {},
   "outputs": [],
   "source": [
    "for i in range(len(dwell_process)):\n",
    "    dwell_process.loc[i,'DWELL_PUBLIC'] = sum(dwell_process.iloc[i,:]=='Public')"
   ]
  },
  {
   "cell_type": "code",
   "execution_count": null,
   "metadata": {},
   "outputs": [],
   "source": [
    "dwell_process.head()"
   ]
  },
  {
   "cell_type": "code",
   "execution_count": null,
   "metadata": {},
   "outputs": [],
   "source": [
    "import random"
   ]
  },
  {
   "cell_type": "code",
   "execution_count": null,
   "metadata": {},
   "outputs": [],
   "source": [
    "for i in range(len(dwell_process)):\n",
    "    dwell_process.loc[i,'DWELL_WORK'] = dwell_process.loc[i,'DWELL_WORK']  random.uniform(0, 0.5)"
   ]
  },
  {
   "cell_type": "code",
   "execution_count": null,
   "metadata": {},
   "outputs": [],
   "source": [
    "mask = dwell_process.MUDs_Predict_OW.apply(lambda x: 1.0 in x)\n",
    "dwell_process_mud = dwell_process[mask]\n",
    "\n",
    "mask = dwell_process.MUDs_Predict_OW.apply(lambda x: 0.0 in x)\n",
    "dwell_process_other = dwell_process[mask]"
   ]
  },
  {
   "cell_type": "code",
   "execution_count": null,
   "metadata": {},
   "outputs": [],
   "source": [
    "dwell_process_mud_home = dwell_process_mud['DWELL_HOME']\n",
    "dwell_process_mud_work = dwell_process_mud['DWELL_WORK']\n",
    "dwell_process_mud_public = dwell_process_mud['DWELL_PUBLIC']\n",
    "\n",
    "dwell_process_other_home = dwell_process_other['DWELL_HOME']\n",
    "dwell_process_other_work = dwell_process_other['DWELL_WORK']\n",
    "dwell_process_other_public = dwell_process_other['DWELL_PUBLIC']"
   ]
  },
  {
   "cell_type": "code",
   "execution_count": null,
   "metadata": {},
   "outputs": [],
   "source": [
    "fig = plt.figure(figsize = (16,8), dpi=300)\n",
    "p1=sns.kdeplot(dwell_process_mud_home, shade=True, label = 'Home of MUDs',color = '#0000FF')\n",
    "p1=sns.kdeplot(dwell_process_mud_work, shade=True,label = 'Workplace of MUDs',color = '#FF0000')\n",
    "p1=sns.kdeplot(dwell_process_mud_public, shade=True,label = 'Public of MUDs',color ='#008000')\n",
    "p1=sns.kdeplot(dwell_process_other_home, shade=True,label = 'Home of others',color = '#87CEFA',linestyle=\"--\")\n",
    "p1=sns.kdeplot(dwell_process_other_work, shade=True,label = 'Workplace of others',color ='#FFA07A',linestyle=\"--\")\n",
    "p1=sns.kdeplot(dwell_process_other_public, shade=True, label = 'Public of Others',color = '#7CFC00',linestyle=\"--\")\n",
    "plt.title('Distribution of Dwell Time', fontsize=28)\n",
    "plt.xlabel('Times (hrs)',fontdict=font);\n",
    "plt.ylabel('Density',fontdict=font);\n",
    "plt.legend(loc='best')\n",
    "plt.show();"
   ]
  },
  {
   "cell_type": "code",
   "execution_count": null,
   "metadata": {},
   "outputs": [],
   "source": [
    "dwell_process = trip17_pred_veh_determined_part_1[['HOUSEID','VEHID','MUDs_Predict_OW',\n",
    "                                                  'location_hr_1','location_hr_2','location_hr_3','location_hr_4',\n",
    "                                                  'location_hr_5','location_hr_6','location_hr_7','location_hr_8',\n",
    "                                                  'location_hr_9','location_hr_10','location_hr_11','location_hr_12',\n",
    "                                                  'location_hr_13','location_hr_14','location_hr_15',\n",
    "                                                  'location_hr_16','location_hr_17','location_hr_18',\n",
    "                                                  'location_hr_19','location_hr_20','location_hr_21',\n",
    "                                                  'location_hr_22','location_hr_23','location_hr_24']]"
   ]
  },
  {
   "cell_type": "code",
   "execution_count": null,
   "metadata": {},
   "outputs": [],
   "source": [
    "dwell_process.head()"
   ]
  },
  {
   "cell_type": "code",
   "execution_count": null,
   "metadata": {
    "scrolled": true
   },
   "outputs": [],
   "source": [
    "dwell_process.iloc[0,:]=='Home'"
   ]
  },
  {
   "cell_type": "code",
   "execution_count": null,
   "metadata": {},
   "outputs": [],
   "source": [
    "for i in range(len(dwell_process)):\n",
    "    dwell_process.loc[i,'DWELL_HOME'] = sum(dwell_process.iloc[i,:]=='Home')"
   ]
  },
  {
   "cell_type": "code",
   "execution_count": null,
   "metadata": {},
   "outputs": [],
   "source": [
    "for i in range(len(dwell_process)):\n",
    "    dwell_process.loc[i,'DWELL_WORK'] = sum(dwell_process.iloc[i,:]=='Work')"
   ]
  },
  {
   "cell_type": "code",
   "execution_count": null,
   "metadata": {},
   "outputs": [],
   "source": [
    "for i in range(len(dwell_process)):\n",
    "    dwell_process.loc[i,'DWELL_PUBLIC'] = sum(dwell_process.iloc[i,:]=='Public')"
   ]
  },
  {
   "cell_type": "code",
   "execution_count": null,
   "metadata": {},
   "outputs": [],
   "source": [
    "dwell_process.head(10)"
   ]
  },
  {
   "cell_type": "code",
   "execution_count": null,
   "metadata": {},
   "outputs": [],
   "source": [
    "# dwell_process['DWELL_HOME'] = dwell_process[\n",
    "# dwell_process['DWELL_WORK'] = \n",
    "# dwell_process['DWELL_PUBLIC'] = "
   ]
  },
  {
   "cell_type": "code",
   "execution_count": null,
   "metadata": {},
   "outputs": [],
   "source": [
    "dwell_process = trip17_pred_veh_determined[trip17_pred_veh_determined['DWELTIME'] != -9]\n",
    "dwell_process = dwell_process[['HOUSEID','VEHID','DWELTIME','WHYFROM_GENERAL','WHYTRP1S_GENERAL','MUDs_Predict_OW']]"
   ]
  },
  {
   "cell_type": "code",
   "execution_count": null,
   "metadata": {},
   "outputs": [],
   "source": [
    "dwell_process.head()"
   ]
  },
  {
   "cell_type": "code",
   "execution_count": null,
   "metadata": {},
   "outputs": [],
   "source": [
    "mask = dwell_process.MUDs_Predict_OW.apply(lambda x: 1.0 in x)\n",
    "dwell_process_mud = dwell_process[mask]"
   ]
  },
  {
   "cell_type": "code",
   "execution_count": null,
   "metadata": {},
   "outputs": [],
   "source": [
    "mask = dwell_process.MUDs_Predict_OW.apply(lambda x: 0.0 in x)\n",
    "dwell_process_other = dwell_process[mask]"
   ]
  },
  {
   "cell_type": "code",
   "execution_count": null,
   "metadata": {},
   "outputs": [],
   "source": [
    "dwell_process_other.head()"
   ]
  },
  {
   "cell_type": "code",
   "execution_count": null,
   "metadata": {},
   "outputs": [],
   "source": [
    "dwell_process_mud_home = dwell_process_mud['DWELL_HOME']\n",
    "dwell_process_mud_work = dwell_process_mud['DWELL_WORK']\n",
    "dwell_process_mud_public = dwell_process_mud['DWELL_PUBLIC']\n",
    "\n",
    "dwell_process_other_home = dwell_process_other['DWELL_HOME']\n",
    "dwell_process_other_work = dwell_process_other['DWELL_WORK']\n",
    "dwell_process_other_public = dwell_process_other['DWELL_PUBLIC']"
   ]
  },
  {
   "cell_type": "code",
   "execution_count": null,
   "metadata": {},
   "outputs": [],
   "source": [
    "dwell_process_mud_home = dwell_process_mud[dwell_process_mud['WHYTRP1S_GENERAL'] == 'Home']\n",
    "dwell_process_mud_work = dwell_process_mud[dwell_process_mud['WHYTRP1S_GENERAL'] == 'Work']\n",
    "dwell_process_mud_public = dwell_process_mud[dwell_process_mud['WHYTRP1S_GENERAL'] == 'Public']\n",
    "\n",
    "dwell_process_other_home = dwell_process_other[dwell_process_other['WHYTRP1S_GENERAL'] == 'Home']\n",
    "dwell_process_other_work = dwell_process_other[dwell_process_other['WHYTRP1S_GENERAL'] == 'Work']\n",
    "dwell_process_other_public = dwell_process_other[dwell_process_other['WHYTRP1S_GENERAL'] == 'Public']"
   ]
  },
  {
   "cell_type": "code",
   "execution_count": null,
   "metadata": {},
   "outputs": [],
   "source": [
    "dwell_process_mud_home.head()"
   ]
  },
  {
   "cell_type": "code",
   "execution_count": null,
   "metadata": {},
   "outputs": [],
   "source": [
    "dwell_process_other_public"
   ]
  },
  {
   "cell_type": "code",
   "execution_count": null,
   "metadata": {},
   "outputs": [],
   "source": [
    "fig = plt.figure(figsize = (16,8))\n",
    "p1=sns.kdeplot(dwell_process_mud_home, shade=True, label = 'Home of MUDs',color = '#0000FF')\n",
    "p1=sns.kdeplot(dwell_process_mud_work, shade=True,label = 'Workplace of MUDs',color = '#FF0000')\n",
    "p1=sns.kdeplot(dwell_process_mud_public, shade=True,label = 'Public of MUDs',color ='#008000')\n",
    "p1=sns.kdeplot(dwell_process_other_home, shade=True,label = 'Home of others',color = '#87CEFA',linestyle=\"--\")\n",
    "p1=sns.kdeplot(dwell_process_other_work, shade=True,label = 'Workplace of others',color ='#FFA07A',linestyle=\"--\")\n",
    "p1=sns.kdeplot(dwell_process_other_public, shade=True, label = 'Public of Others',color = '#7CFC00',linestyle=\"--\")\n",
    "plt.title('Distribution of Dwell Time', fontsize=28)\n",
    "plt.xlabel('Times (hrs)',fontdict=font);\n",
    "plt.ylabel('Density',fontdict=font);\n",
    "plt.legend(loc='best')\n",
    "plt.show();"
   ]
  },
  {
   "cell_type": "code",
   "execution_count": null,
   "metadata": {},
   "outputs": [],
   "source": []
  },
  {
   "cell_type": "code",
   "execution_count": null,
   "metadata": {},
   "outputs": [],
   "source": []
  },
  {
   "cell_type": "code",
   "execution_count": null,
   "metadata": {},
   "outputs": [],
   "source": []
  },
  {
   "cell_type": "code",
   "execution_count": null,
   "metadata": {},
   "outputs": [],
   "source": [
    "trip17_pred_veh_determined_part_1"
   ]
  },
  {
   "cell_type": "code",
   "execution_count": null,
   "metadata": {},
   "outputs": [],
   "source": [
    "temp = trip17_pred_veh_determined[trip17_pred_veh_determined['HOUSEID'] == trip17_pred_veh_determined_part.loc[0,'HOUSEID']]\n",
    "#trip17_pred_veh_determined_part.loc[0,'location_hr_1'] == 'Home'\n",
    "temp\n",
    "i=0\n",
    "while(temp.loc[0,'STRTTIME']>i*100):\n",
    "    trip17_pred_veh_determined_part.loc[0,'location_hr_'+str(i+1)] = temp.loc[0,'WHYFROM_GENERAL']\n",
    "    i+=1\n",
    "\n",
    "j=23\n",
    "while(temp.tail(1)['ENDTIME'].to_list()[0] < j*100):\n",
    "    trip17_pred_veh_determined_part.loc[0,'location_hr_'+str(j-1)] = temp.loc[0,'WHYTRP1S_GENERAL']\n",
    "    j-=1\n",
    "\n",
    "k=i\n",
    "while((temp.loc[0,'STRTTIME']>k*100) & (temp.loc[0,'ENDTIME']<k*100)):\n",
    "    trip17_pred_veh_determined_part.loc[0,'location_hr_'+str(k+1)] = 'Driving'\n",
    "    k+=1\n"
   ]
  },
  {
   "cell_type": "code",
   "execution_count": null,
   "metadata": {},
   "outputs": [],
   "source": [
    "temp.tail(1)['ENDTIME'].to_list()[0]"
   ]
  },
  {
   "cell_type": "code",
   "execution_count": null,
   "metadata": {},
   "outputs": [],
   "source": [
    "lst = trip17_pred_veh_determined_part['STRTTIME']"
   ]
  },
  {
   "cell_type": "code",
   "execution_count": null,
   "metadata": {},
   "outputs": [],
   "source": [
    "### assign 24 hrs location classification for each household to 24 columns\n",
    "trip17_pred_veh_determined_part['location_hr_1'] = np.where(pd.Series(list(list(itertools.zip_longest(*trip17_pred_veh_determined_part['STRTTIME']))[0])) > 100,\n",
    "                                                            pd.Series(list(list(itertools.zip_longest(*trip17_pred_veh_determined_part['WHYFROM_GENERAL']))[0])),\n",
    "                                                            np.where(pd.Series(list(list(itertools.zip_longest(*trip17_pred_veh_determined_part['STRTTIME']))[0])) > 0,'Driving',\n",
    "                                                                     np.where(pd.Series(list(list(itertools.zip_longest(*trip17_pred_veh_determined_part['ENDTIME']))[0])) > 100,'Driving',\n",
    "                                                                              pd.Series(list(list(itertools.zip_longest(*trip17_pred_veh_determined_part['WHYTRP1S_GENERAL']))[0])))))\n"
   ]
  },
  {
   "cell_type": "code",
   "execution_count": null,
   "metadata": {},
   "outputs": [],
   "source": [
    "trip17_pred_veh_determined_part['location_hr_2'] = np.where(pd.Series(list(list(itertools.zip_longest(*trip17_pred_veh_determined_part['STRTTIME']))[0])) > 200,\n",
    "                                                            pd.Series(list(list(itertools.zip_longest(*trip17_pred_veh_determined_part['WHYFROM_GENERAL']))[0])),\n",
    "                                                            np.where(pd.Series(list(list(itertools.zip_longest(*trip17_pred_veh_determined_part['STRTTIME']))[0])) > 100,'Driving',\n",
    "                                                                     np.where(pd.Series(list(list(itertools.zip_longest(*trip17_pred_veh_determined_part['ENDTIME']))[0])) > 200,'Driving',\n",
    "                                                                              pd.Series(list(list(itertools.zip_longest(*trip17_pred_veh_determined_part['WHYTRP1S_GENERAL']))[0])))))\n",
    "\n"
   ]
  },
  {
   "cell_type": "code",
   "execution_count": null,
   "metadata": {},
   "outputs": [],
   "source": [
    "trip17_pred_veh_determined_part['location_hr_3'] = np.where(pd.Series(list(list(itertools.zip_longest(*trip17_pred_veh_determined_part['STRTTIME']))[0])) > 300,\n",
    "                                                            pd.Series(list(list(itertools.zip_longest(*trip17_pred_veh_determined_part['WHYFROM_GENERAL']))[0])),\n",
    "                                                            np.where(pd.Series(list(list(itertools.zip_longest(*trip17_pred_veh_determined_part['STRTTIME']))[0])) > 200,'Driving',\n",
    "                                                                     np.where(pd.Series(list(list(itertools.zip_longest(*trip17_pred_veh_determined_part['ENDTIME']))[0])) > 300,'Driving',\n",
    "                                                                              pd.Series(list(list(itertools.zip_longest(*trip17_pred_veh_determined_part['WHYTRP1S_GENERAL']))[0])))))\n",
    "\n"
   ]
  },
  {
   "cell_type": "code",
   "execution_count": null,
   "metadata": {},
   "outputs": [],
   "source": [
    "trip17_pred_veh_determined_part['location_hr_4'] = np.where(pd.Series(list(list(itertools.zip_longest(*trip17_pred_veh_determined_part['STRTTIME']))[0])) > 400,\n",
    "                                                            pd.Series(list(list(itertools.zip_longest(*trip17_pred_veh_determined_part['WHYFROM_GENERAL']))[0])),\n",
    "                                                            np.where(pd.Series(list(list(itertools.zip_longest(*trip17_pred_veh_determined_part['STRTTIME']))[0])) > 300,'Driving',\n",
    "                                                                     np.where(pd.Series(list(list(itertools.zip_longest(*trip17_pred_veh_determined_part['ENDTIME']))[0])) > 400,'Driving',\n",
    "                                                                              pd.Series(list(list(itertools.zip_longest(*trip17_pred_veh_determined_part['WHYTRP1S_GENERAL']))[0])))))\n",
    "\n"
   ]
  },
  {
   "cell_type": "code",
   "execution_count": null,
   "metadata": {},
   "outputs": [],
   "source": [
    "trip17_pred_veh_determined_part['location_hr_5'] = np.where(pd.Series(list(list(itertools.zip_longest(*trip17_pred_veh_determined_part['STRTTIME']))[0])) > 500,\n",
    "                                                            pd.Series(list(list(itertools.zip_longest(*trip17_pred_veh_determined_part['WHYFROM_GENERAL']))[0])),\n",
    "                                                            np.where(pd.Series(list(list(itertools.zip_longest(*trip17_pred_veh_determined_part['STRTTIME']))[0])) > 400,'Driving',\n",
    "                                                                     np.where(pd.Series(list(list(itertools.zip_longest(*trip17_pred_veh_determined_part['ENDTIME']))[0])) > 500,'Driving',\n",
    "                                                                              pd.Series(list(list(itertools.zip_longest(*trip17_pred_veh_determined_part['WHYTRP1S_GENERAL']))[0])))))\n",
    "\n"
   ]
  },
  {
   "cell_type": "code",
   "execution_count": null,
   "metadata": {},
   "outputs": [],
   "source": [
    "trip17_pred_veh_determined_part['location_hr_6'] = np.where(pd.Series(list(list(itertools.zip_longest(*trip17_pred_veh_determined_part['STRTTIME']))[0])) > 600,\n",
    "                                                            pd.Series(list(list(itertools.zip_longest(*trip17_pred_veh_determined_part['WHYFROM_GENERAL']))[0])),\n",
    "                                                            np.where(pd.Series(list(list(itertools.zip_longest(*trip17_pred_veh_determined_part['STRTTIME']))[0])) > 500,'Driving',\n",
    "                                                                     np.where(pd.Series(list(list(itertools.zip_longest(*trip17_pred_veh_determined_part['ENDTIME']))[0])) > 600,'Driving',\n",
    "                                                                              pd.Series(list(list(itertools.zip_longest(*trip17_pred_veh_determined_part['WHYTRP1S_GENERAL']))[0])))))\n",
    "\n",
    "\n",
    "\n",
    "\n",
    "\n"
   ]
  },
  {
   "cell_type": "code",
   "execution_count": null,
   "metadata": {},
   "outputs": [],
   "source": [
    "trip17_pred_veh_determined_part['location_hr_7'] = np.where(pd.Series(list(list(itertools.zip_longest(*trip17_pred_veh_determined_part['STRTTIME']))[0])) > 700,\n",
    "                                                            pd.Series(list(list(itertools.zip_longest(*trip17_pred_veh_determined_part['WHYFROM_GENERAL']))[0])),\n",
    "                                                            np.where(pd.Series(list(list(itertools.zip_longest(*trip17_pred_veh_determined_part['STRTTIME']))[0])) > 600,'Driving',\n",
    "                                                                     np.where(pd.Series(list(list(itertools.zip_longest(*trip17_pred_veh_determined_part['ENDTIME']))[0])) > 700,'Driving',\n",
    "                                                                              pd.Series(list(list(itertools.zip_longest(*trip17_pred_veh_determined_part['WHYTRP1S_GENERAL']))[0])))))\n",
    "\n",
    "\n",
    "\n",
    "\n"
   ]
  },
  {
   "cell_type": "code",
   "execution_count": null,
   "metadata": {},
   "outputs": [],
   "source": [
    "trip17_pred_veh_determined_part['location_hr_8'] = np.where(pd.Series(list(list(itertools.zip_longest(*trip17_pred_veh_determined_part['STRTTIME']))[0])) > 800,\n",
    "                                                            pd.Series(list(list(itertools.zip_longest(*trip17_pred_veh_determined_part['WHYFROM_GENERAL']))[0])),\n",
    "                                                            np.where(pd.Series(list(list(itertools.zip_longest(*trip17_pred_veh_determined_part['STRTTIME']))[0])) > 700,'Driving',\n",
    "                                                                     np.where(pd.Series(list(list(itertools.zip_longest(*trip17_pred_veh_determined_part['ENDTIME']))[0])) > 800,'Driving',\n",
    "                                                                              pd.Series(list(list(itertools.zip_longest(*trip17_pred_veh_determined_part['WHYTRP1S_GENERAL']))[0])))))\n",
    "\n",
    "\n",
    "\n"
   ]
  },
  {
   "cell_type": "code",
   "execution_count": null,
   "metadata": {},
   "outputs": [],
   "source": [
    "trip17_pred_veh_determined_part['location_hr_9'] = np.where(pd.Series(list(list(itertools.zip_longest(*trip17_pred_veh_determined_part['STRTTIME']))[0])) > 900,\n",
    "                                                            pd.Series(list(list(itertools.zip_longest(*trip17_pred_veh_determined_part['WHYFROM_GENERAL']))[0])),\n",
    "                                                            np.where(pd.Series(list(list(itertools.zip_longest(*trip17_pred_veh_determined_part['STRTTIME']))[0])) > 800,'Driving',\n",
    "                                                                     np.where(pd.Series(list(list(itertools.zip_longest(*trip17_pred_veh_determined_part['ENDTIME']))[0])) > 900,'Driving',\n",
    "                                                                              pd.Series(list(list(itertools.zip_longest(*trip17_pred_veh_determined_part['WHYTRP1S_GENERAL']))[0])))))\n",
    "\n",
    "\n"
   ]
  },
  {
   "cell_type": "code",
   "execution_count": null,
   "metadata": {},
   "outputs": [],
   "source": [
    "trip17_pred_veh_determined_part['location_hr_10'] = np.where(pd.Series(list(list(itertools.zip_longest(*trip17_pred_veh_determined_part['STRTTIME']))[0])) > 1000,\n",
    "                                                            pd.Series(list(list(itertools.zip_longest(*trip17_pred_veh_determined_part['WHYFROM_GENERAL']))[0])),\n",
    "                                                            np.where(pd.Series(list(list(itertools.zip_longest(*trip17_pred_veh_determined_part['STRTTIME']))[0])) > 900,'Driving',\n",
    "                                                                     np.where(pd.Series(list(list(itertools.zip_longest(*trip17_pred_veh_determined_part['ENDTIME']))[0])) > 1000,'Driving',\n",
    "                                                                              pd.Series(list(list(itertools.zip_longest(*trip17_pred_veh_determined_part['WHYTRP1S_GENERAL']))[0])))))\n",
    "\n"
   ]
  },
  {
   "cell_type": "code",
   "execution_count": null,
   "metadata": {},
   "outputs": [],
   "source": [
    "trip17_pred_veh_determined_part['location_hr_11'] = np.where(pd.Series(list(list(itertools.zip_longest(*trip17_pred_veh_determined_part['STRTTIME']))[0])) > 1100,\n",
    "                                                            pd.Series(list(list(itertools.zip_longest(*trip17_pred_veh_determined_part['WHYFROM_GENERAL']))[0])),\n",
    "                                                            np.where(pd.Series(list(list(itertools.zip_longest(*trip17_pred_veh_determined_part['STRTTIME']))[0])) > 1000,'Driving',\n",
    "                                                                     np.where(pd.Series(list(list(itertools.zip_longest(*trip17_pred_veh_determined_part['ENDTIME']))[0])) > 1100,'Driving',\n",
    "                                                                              pd.Series(list(list(itertools.zip_longest(*trip17_pred_veh_determined_part['WHYTRP1S_GENERAL']))[0])))))\n"
   ]
  },
  {
   "cell_type": "code",
   "execution_count": null,
   "metadata": {},
   "outputs": [],
   "source": [
    "trip17_pred_veh_determined_part['location_hr_12'] = np.where(pd.Series(list(list(itertools.zip_longest(*trip17_pred_veh_determined_part['STRTTIME']))[0])) > 1200,\n",
    "                                                            pd.Series(list(list(itertools.zip_longest(*trip17_pred_veh_determined_part['WHYFROM_GENERAL']))[0])),\n",
    "                                                            np.where(pd.Series(list(list(itertools.zip_longest(*trip17_pred_veh_determined_part['STRTTIME']))[0])) > 1100,'Driving',\n",
    "                                                                     np.where(pd.Series(list(list(itertools.zip_longest(*trip17_pred_veh_determined_part['ENDTIME']))[0])) > 1200,'Driving',\n",
    "                                                                              pd.Series(list(list(itertools.zip_longest(*trip17_pred_veh_determined_part['WHYTRP1S_GENERAL']))[0])))))\n",
    "\n"
   ]
  },
  {
   "cell_type": "code",
   "execution_count": null,
   "metadata": {},
   "outputs": [],
   "source": [
    "trip17_pred_veh_determined_part['location_hr_13'] = np.where(pd.Series(list(list(itertools.zip_longest(*trip17_pred_veh_determined_part['STRTTIME']))[0])) > 1300,\n",
    "                                                            pd.Series(list(list(itertools.zip_longest(*trip17_pred_veh_determined_part['WHYFROM_GENERAL']))[0])),\n",
    "                                                            np.where(pd.Series(list(list(itertools.zip_longest(*trip17_pred_veh_determined_part['STRTTIME']))[0])) > 1200,'Driving',\n",
    "                                                                     np.where(pd.Series(list(list(itertools.zip_longest(*trip17_pred_veh_determined_part['ENDTIME']))[0])) > 1300,'Driving',\n",
    "                                                                              pd.Series(list(list(itertools.zip_longest(*trip17_pred_veh_determined_part['WHYTRP1S_GENERAL']))[0])))))\n"
   ]
  },
  {
   "cell_type": "code",
   "execution_count": null,
   "metadata": {},
   "outputs": [],
   "source": [
    "trip17_pred_veh_determined_part['location_hr_14'] = np.where(pd.Series(list(list(itertools.zip_longest(*trip17_pred_veh_determined_part['STRTTIME']))[0])) > 1400,\n",
    "                                                            pd.Series(list(list(itertools.zip_longest(*trip17_pred_veh_determined_part['WHYFROM_GENERAL']))[0])),\n",
    "                                                            np.where(pd.Series(list(list(itertools.zip_longest(*trip17_pred_veh_determined_part['STRTTIME']))[0])) > 1300,'Driving',\n",
    "                                                                     np.where(pd.Series(list(list(itertools.zip_longest(*trip17_pred_veh_determined_part['ENDTIME']))[0])) > 1400,'Driving',\n",
    "                                                                              pd.Series(list(list(itertools.zip_longest(*trip17_pred_veh_determined_part['WHYTRP1S_GENERAL']))[0])))))\n"
   ]
  },
  {
   "cell_type": "code",
   "execution_count": null,
   "metadata": {},
   "outputs": [],
   "source": [
    "trip17_pred_veh_determined_part['location_hr_15'] = np.where(pd.Series(list(list(itertools.zip_longest(*trip17_pred_veh_determined_part['STRTTIME']))[0])) > 1500,\n",
    "                                                            pd.Series(list(list(itertools.zip_longest(*trip17_pred_veh_determined_part['WHYFROM_GENERAL']))[0])),\n",
    "                                                            np.where(pd.Series(list(list(itertools.zip_longest(*trip17_pred_veh_determined_part['STRTTIME']))[0])) > 1400,'Driving',\n",
    "                                                                     np.where(pd.Series(list(list(itertools.zip_longest(*trip17_pred_veh_determined_part['ENDTIME']))[0])) > 1500,'Driving',\n",
    "                                                                              pd.Series(list(list(itertools.zip_longest(*trip17_pred_veh_determined_part['WHYTRP1S_GENERAL']))[0])))))\n"
   ]
  },
  {
   "cell_type": "code",
   "execution_count": null,
   "metadata": {},
   "outputs": [],
   "source": [
    "trip17_pred_veh_determined_part['location_hr_16'] = np.where(pd.Series(list(list(itertools.zip_longest(*trip17_pred_veh_determined_part['STRTTIME']))[0])) > 1600,\n",
    "                                                            pd.Series(list(list(itertools.zip_longest(*trip17_pred_veh_determined_part['WHYFROM_GENERAL']))[0])),\n",
    "                                                            np.where(pd.Series(list(list(itertools.zip_longest(*trip17_pred_veh_determined_part['STRTTIME']))[0])) > 1500,'Driving',\n",
    "                                                                     np.where(pd.Series(list(list(itertools.zip_longest(*trip17_pred_veh_determined_part['ENDTIME']))[0])) > 1600,'Driving',\n",
    "                                                                              pd.Series(list(list(itertools.zip_longest(*trip17_pred_veh_determined_part['WHYTRP1S_GENERAL']))[0])))))\n"
   ]
  },
  {
   "cell_type": "code",
   "execution_count": null,
   "metadata": {},
   "outputs": [],
   "source": [
    "trip17_pred_veh_determined_part['location_hr_17'] = np.where(pd.Series(list(list(itertools.zip_longest(*trip17_pred_veh_determined_part['STRTTIME']))[0])) > 1700,\n",
    "                                                            pd.Series(list(list(itertools.zip_longest(*trip17_pred_veh_determined_part['WHYFROM_GENERAL']))[0])),\n",
    "                                                            np.where(pd.Series(list(list(itertools.zip_longest(*trip17_pred_veh_determined_part['STRTTIME']))[0])) > 1600,'Driving',\n",
    "                                                                     np.where(pd.Series(list(list(itertools.zip_longest(*trip17_pred_veh_determined_part['ENDTIME']))[0])) > 1700,'Driving',\n",
    "                                                                              pd.Series(list(list(itertools.zip_longest(*trip17_pred_veh_determined_part['WHYTRP1S_GENERAL']))[0])))))\n"
   ]
  },
  {
   "cell_type": "code",
   "execution_count": null,
   "metadata": {},
   "outputs": [],
   "source": [
    "trip17_pred_veh_determined_part['location_hr_18'] = np.where(pd.Series(list(list(itertools.zip_longest(*trip17_pred_veh_determined_part['STRTTIME']))[0])) > 1800,\n",
    "                                                            pd.Series(list(list(itertools.zip_longest(*trip17_pred_veh_determined_part['WHYFROM_GENERAL']))[0])),\n",
    "                                                            np.where(pd.Series(list(list(itertools.zip_longest(*trip17_pred_veh_determined_part['STRTTIME']))[0])) > 1700,'Driving',\n",
    "                                                                     np.where(pd.Series(list(list(itertools.zip_longest(*trip17_pred_veh_determined_part['ENDTIME']))[0])) > 1800,'Driving',\n",
    "                                                                              pd.Series(list(list(itertools.zip_longest(*trip17_pred_veh_determined_part['WHYTRP1S_GENERAL']))[0])))))\n"
   ]
  },
  {
   "cell_type": "code",
   "execution_count": null,
   "metadata": {},
   "outputs": [],
   "source": [
    "trip17_pred_veh_determined_part['location_hr_19'] = np.where(pd.Series(list(list(itertools.zip_longest(*trip17_pred_veh_determined_part['STRTTIME']))[0])) > 1900,\n",
    "                                                            pd.Series(list(list(itertools.zip_longest(*trip17_pred_veh_determined_part['WHYFROM_GENERAL']))[0])),\n",
    "                                                            np.where(pd.Series(list(list(itertools.zip_longest(*trip17_pred_veh_determined_part['STRTTIME']))[0])) > 1800,'Driving',\n",
    "                                                                     np.where(pd.Series(list(list(itertools.zip_longest(*trip17_pred_veh_determined_part['ENDTIME']))[0])) > 1900,'Driving',\n",
    "                                                                              pd.Series(list(list(itertools.zip_longest(*trip17_pred_veh_determined_part['WHYTRP1S_GENERAL']))[0])))))\n"
   ]
  },
  {
   "cell_type": "code",
   "execution_count": null,
   "metadata": {},
   "outputs": [],
   "source": [
    "trip17_pred_veh_determined_part['location_hr_20'] = np.where(pd.Series(list(list(itertools.zip_longest(*trip17_pred_veh_determined_part['STRTTIME']))[0])) > 2000,\n",
    "                                                            pd.Series(list(list(itertools.zip_longest(*trip17_pred_veh_determined_part['WHYFROM_GENERAL']))[0])),\n",
    "                                                            np.where(pd.Series(list(list(itertools.zip_longest(*trip17_pred_veh_determined_part['STRTTIME']))[0])) > 1900,'Driving',\n",
    "                                                                     np.where(pd.Series(list(list(itertools.zip_longest(*trip17_pred_veh_determined_part['ENDTIME']))[0])) > 2000,'Driving',\n",
    "                                                                              pd.Series(list(list(itertools.zip_longest(*trip17_pred_veh_determined_part['WHYTRP1S_GENERAL']))[0])))))\n",
    "\n"
   ]
  },
  {
   "cell_type": "code",
   "execution_count": null,
   "metadata": {},
   "outputs": [],
   "source": [
    "trip17_pred_veh_determined_part['location_hr_21'] = np.where(pd.Series(list(list(itertools.zip_longest(*trip17_pred_veh_determined_part['STRTTIME']))[0])) > 2100,\n",
    "                                                            pd.Series(list(list(itertools.zip_longest(*trip17_pred_veh_determined_part['WHYFROM_GENERAL']))[0])),\n",
    "                                                            np.where(pd.Series(list(list(itertools.zip_longest(*trip17_pred_veh_determined_part['STRTTIME']))[0])) > 2000,'Driving',\n",
    "                                                                     np.where(pd.Series(list(list(itertools.zip_longest(*trip17_pred_veh_determined_part['ENDTIME']))[0])) > 2100,'Driving',\n",
    "                                                                              pd.Series(list(list(itertools.zip_longest(*trip17_pred_veh_determined_part['WHYTRP1S_GENERAL']))[0])))))\n"
   ]
  },
  {
   "cell_type": "code",
   "execution_count": null,
   "metadata": {},
   "outputs": [],
   "source": [
    "trip17_pred_veh_determined_part['location_hr_22'] = np.where(pd.Series(list(list(itertools.zip_longest(*trip17_pred_veh_determined_part['STRTTIME']))[0])) > 2200,\n",
    "                                                            pd.Series(list(list(itertools.zip_longest(*trip17_pred_veh_determined_part['WHYFROM_GENERAL']))[0])),\n",
    "                                                            np.where(pd.Series(list(list(itertools.zip_longest(*trip17_pred_veh_determined_part['STRTTIME']))[0])) > 2100,'Driving',\n",
    "                                                                     np.where(pd.Series(list(list(itertools.zip_longest(*trip17_pred_veh_determined_part['ENDTIME']))[0])) > 2200,'Driving',\n",
    "                                                                              pd.Series(list(list(itertools.zip_longest(*trip17_pred_veh_determined_part['WHYTRP1S_GENERAL']))[0])))))\n",
    "\n",
    "\n"
   ]
  },
  {
   "cell_type": "code",
   "execution_count": null,
   "metadata": {},
   "outputs": [],
   "source": [
    "trip17_pred_veh_determined_part['location_hr_23'] = np.where(pd.Series(list(list(itertools.zip_longest(*trip17_pred_veh_determined_part['STRTTIME']))[0])) > 2300,\n",
    "                                                            pd.Series(list(list(itertools.zip_longest(*trip17_pred_veh_determined_part['WHYFROM_GENERAL']))[0])),\n",
    "                                                            np.where(pd.Series(list(list(itertools.zip_longest(*trip17_pred_veh_determined_part['STRTTIME']))[0])) > 2200,'Driving',\n",
    "                                                                     np.where(pd.Series(list(list(itertools.zip_longest(*trip17_pred_veh_determined_part['ENDTIME']))[0])) > 2300,'Driving',\n",
    "                                                                              pd.Series(list(list(itertools.zip_longest(*trip17_pred_veh_determined_part['WHYTRP1S_GENERAL']))[0])))))\n"
   ]
  },
  {
   "cell_type": "code",
   "execution_count": null,
   "metadata": {},
   "outputs": [],
   "source": [
    "trip17_pred_veh_determined_part['location_hr_24'] = np.where(pd.Series(list(list(itertools.zip_longest(*trip17_pred_veh_determined_part['STRTTIME']))[0])) > 2400,\n",
    "                                                            pd.Series(list(list(itertools.zip_longest(*trip17_pred_veh_determined_part['WHYFROM_GENERAL']))[0])),\n",
    "                                                            np.where(pd.Series(list(list(itertools.zip_longest(*trip17_pred_veh_determined_part['STRTTIME']))[0])) > 2300,'Driving',\n",
    "                                                                     np.where(pd.Series(list(list(itertools.zip_longest(*trip17_pred_veh_determined_part['ENDTIME']))[0])) > 2400,'Driving',\n",
    "                                                                              pd.Series(list(list(itertools.zip_longest(*trip17_pred_veh_determined_part['WHYTRP1S_GENERAL']))[0])))))\n"
   ]
  },
  {
   "cell_type": "code",
   "execution_count": null,
   "metadata": {},
   "outputs": [],
   "source": []
  },
  {
   "cell_type": "code",
   "execution_count": null,
   "metadata": {},
   "outputs": [],
   "source": [
    "trip17_pred_veh_determined_part['location_hr_10'] = np.where(pd.Series(list(list(itertools.zip_longest(*trip17_pred_veh_determined_part['ENDTIME']))[0])) < 900,\n",
    "                                                            pd.Series(list(list(itertools.zip_longest(*trip17_pred_veh_determined_part['WHYTRP1S_GENERAL']))[0])), \n",
    "                                                            np.where(pd.Series(list(list(itertools.zip_longest(*trip17_pred_veh_determined_part['STRTTIME']))[1])) > 1000,\n",
    "                                                            pd.Series(list(list(itertools.zip_longest(*trip17_pred_veh_determined_part['WHYFROM_GENERAL']))[1])),\n",
    "                                                            np.where(pd.Series(list(list(itertools.zip_longest(*trip17_pred_veh_determined_part['STRTTIME']))[1])) > 900,'Driving',\n",
    "                                                                     np.where(pd.Series(list(list(itertools.zip_longest(*trip17_pred_veh_determined_part['ENDTIME']))[1])) > 1000,'Driving',\n",
    "                                                                              pd.Series(list(list(itertools.zip_longest(*trip17_pred_veh_determined_part['WHYTRP1S_GENERAL']))[1]))))))\n",
    "\n"
   ]
  },
  {
   "cell_type": "code",
   "execution_count": null,
   "metadata": {},
   "outputs": [],
   "source": [
    "trip17_pred_veh_determined_part.head(4)"
   ]
  },
  {
   "cell_type": "code",
   "execution_count": null,
   "metadata": {},
   "outputs": [],
   "source": [
    "len(trip17_pred_veh_determined_part)"
   ]
  },
  {
   "cell_type": "code",
   "execution_count": null,
   "metadata": {},
   "outputs": [],
   "source": [
    "trip17_pred_veh_determined_part_mud = trip17_pred_veh_determined_part[pd.Series(list(list(\n",
    "    itertools.zip_longest(*trip17_pred_veh_determined_part['MUDs_Predict_OW']))[0])) == 1.0]\n",
    "trip17_pred_veh_determined_part_other = trip17_pred_veh_determined_part[pd.Series(list(list(\n",
    "    itertools.zip_longest(*trip17_pred_veh_determined_part['MUDs_Predict_OW']))[0])) == 0.0]"
   ]
  },
  {
   "cell_type": "code",
   "execution_count": null,
   "metadata": {},
   "outputs": [],
   "source": [
    "len(trip17_pred_veh_determined_part_other)+len(trip17_pred_veh_determined_part_mud)"
   ]
  },
  {
   "cell_type": "code",
   "execution_count": null,
   "metadata": {},
   "outputs": [],
   "source": [
    "home_share_mud = []\n",
    "for i in range(24):\n",
    "    home_mud = len(trip17_pred_veh_determined_part_mud[trip17_pred_veh_determined_part_mud['location_hr_'+str(i+1)]\n",
    "                                                       == 'Work'])/len(trip17_pred_veh_determined_part_mud)\n",
    "    home_share_mud.append(home_mud)"
   ]
  },
  {
   "cell_type": "code",
   "execution_count": null,
   "metadata": {},
   "outputs": [],
   "source": [
    "trip17_pred_veh_determined_part_mud['location_hr_1'].value_counts()"
   ]
  },
  {
   "cell_type": "code",
   "execution_count": null,
   "metadata": {},
   "outputs": [],
   "source": [
    "len(trip17_pred_veh_determined_part_mud[trip17_pred_veh_determined_part_mud['location_hr_'+str(0+1)]\n",
    "                                                       == 'Home'])"
   ]
  },
  {
   "cell_type": "code",
   "execution_count": null,
   "metadata": {},
   "outputs": [],
   "source": [
    "df.head()"
   ]
  },
  {
   "cell_type": "code",
   "execution_count": null,
   "metadata": {},
   "outputs": [],
   "source": [
    "df = pd.DataFrame(columns=['home_share_mud', 'work_share_mud', 'public_share_mud', 'driving_share_mud'])\n",
    "df['home_share_mud'] = home_share_mud\n",
    "df['work_share_mud'] = work_share_mud\n",
    "df['public_share_mud'] = public_share_mud\n",
    "df['driving_share_mud'] = driving_share_mud\n",
    "df.head()"
   ]
  },
  {
   "cell_type": "code",
   "execution_count": null,
   "metadata": {},
   "outputs": [],
   "source": [
    "trip17_pred_veh_determined_part_1.head(20)"
   ]
  },
  {
   "cell_type": "code",
   "execution_count": null,
   "metadata": {},
   "outputs": [],
   "source": [
    "trip17_pred_veh_determined_part_mud = trip17_pred_veh_determined_part_1[pd.Series(list(list(\n",
    "    itertools.zip_longest(*trip17_pred_veh_determined_part_1['MUDs_Predict_OW']))[0])) == 1.0]\n",
    "trip17_pred_veh_determined_part_other = trip17_pred_veh_determined_part_1[pd.Series(list(list(\n",
    "    itertools.zip_longest(*trip17_pred_veh_determined_part_1['MUDs_Predict_OW']))[0])) == 0.0]"
   ]
  },
  {
   "cell_type": "code",
   "execution_count": null,
   "metadata": {},
   "outputs": [],
   "source": [
    "labels = []\n",
    "for i in range(24):\n",
    "    labels.append(str(i) + ':00 to ' + str(i+1) + ':00')\n",
    "home_share_mud = []\n",
    "work_share_mud = []\n",
    "public_share_mud = []\n",
    "driving_share_mud = []\n",
    "home_share_other = []\n",
    "work_share_other = []\n",
    "public_share_other = []\n",
    "driving_share_other = []\n",
    "for i in range(24):\n",
    "    home_mud = len(trip17_pred_veh_determined_part_mud[trip17_pred_veh_determined_part_mud['location_hr_'+str(i+1)]\n",
    "                                                       == 'Home'])/len(trip17_pred_veh_determined_part_mud)\n",
    "    home_share_mud.append(home_mud)\n",
    "    work_mud = len(trip17_pred_veh_determined_part_mud[trip17_pred_veh_determined_part_mud['location_hr_'+str(i+1)]\n",
    "                                                       == 'Work'])/len(trip17_pred_veh_determined_part_mud)\n",
    "    work_share_mud.append(work_mud)\n",
    "    public_mud = len(trip17_pred_veh_determined_part_mud[trip17_pred_veh_determined_part_mud['location_hr_'+str(i+1)]\n",
    "                                                       == 'Public'])/len(trip17_pred_veh_determined_part_mud)\n",
    "    public_share_mud.append(public_mud)\n",
    "    driving_mud = len(trip17_pred_veh_determined_part_mud[trip17_pred_veh_determined_part_mud['location_hr_'+str(i+1)]\n",
    "                                                       == 'Driving'])/len(trip17_pred_veh_determined_part_mud)\n",
    "    driving_share_mud.append(driving_mud)\n",
    "    \n",
    "#     home_other = len(trip17_pred_veh_determined_part_other[trip17_pred_veh_determined_part_other['location_hr_'+str(i+1)]\n",
    "#                                                        == 'Home'])/len(trip17_pred_veh_determined_part_other)\n",
    "#     home_share_other.append(home_other)\n",
    "    work_other = len(trip17_pred_veh_determined_part_other[trip17_pred_veh_determined_part_other['location_hr_'+str(i+1)]\n",
    "                                                       == 'Work'])/len(trip17_pred_veh_determined_part_other)\n",
    "    work_share_other.append(work_other)\n",
    "    public_other = len(trip17_pred_veh_determined_part_other[trip17_pred_veh_determined_part_other['location_hr_'+str(i+1)]\n",
    "                                                       == 'Public'])/len(trip17_pred_veh_determined_part_other)\n",
    "    public_share_other.append(public_other)\n",
    "    driving_other = len(trip17_pred_veh_determined_part_other[trip17_pred_veh_determined_part_other['location_hr_'+str(i+1)]\n",
    "                                                       == 'Driving'])/len(trip17_pred_veh_determined_part_other)\n",
    "    driving_share_other.append(driving_other)\n",
    "    home_other = 1-work_other-public_other-driving_other\n",
    "    home_share_other.append(home_other)\n",
    "    \n",
    "bar12 = np.add(home_share_mud, driving_share_mud).tolist()\n",
    "bar123 = np.add(bar12, work_share_mud).tolist()\n",
    "\n",
    "bar12other = np.add(home_share_other, driving_share_other).tolist()\n",
    "bar123other = np.add(bar12other, work_share_other).tolist()\n",
    "    \n",
    "x = np.arange(len(labels))  # the label locations\n",
    "width = 0.35       # the width of the bars: can also be len(x) sequence\n",
    "\n",
    "\n",
    "fig = plt.figure(figsize=(16, 8))\n",
    "\n",
    "plt.bar(x-width/2, home_share_mud, width, label='Home of MUDs',color='#00008B')\n",
    "plt.bar(x-width/2, driving_share_mud, width, bottom=home_share_mud, label='Driving of MUDs',color='#0000FF')\n",
    "plt.bar(x-width/2, work_share_mud, width, bottom=bar12, label='Work of MUDs',color='#00BFFF')\n",
    "plt.bar(x-width/2, public_share_mud, width, bottom=bar123, label='Public of MUDs',color='#B0E0E6')\n",
    "\n",
    "plt.bar(x+width/2, home_share_other, width, label='Home of others',color='#8B0000')\n",
    "plt.bar(x+width/2, driving_share_other, width, bottom=home_share_other, label='Driving of others',color='#FF0000')\n",
    "plt.bar(x+width/2, work_share_other, width, bottom=bar12other, label='Work of others',color='#F08080')\n",
    "plt.bar(x+width/2, public_share_other, width, bottom=bar123other, label='Public of others',color='#FFA07A')\n",
    "\n",
    "\n",
    "#df.plot.bar(ax=axes[1], stacked=True)\n",
    "\n",
    "plt.xticks(Rotation=45) \n",
    "plt.xlabel('Time of Day (hrs)',fontdict=font)\n",
    "plt.ylabel('% of Vehicles',fontdict=font)\n",
    "plt.title('Percentage of vehicles per time of day',fontsize=24)\n",
    "plt.legend(loc='upper left', bbox_to_anchor=(0.95, 1.025))\n",
    "\n",
    "plt.show()"
   ]
  },
  {
   "cell_type": "code",
   "execution_count": null,
   "metadata": {},
   "outputs": [],
   "source": [
    "labels = ['G1', 'G2', 'G3', 'G4', 'G5']\n",
    "men_means = [20, 34, 30, 35, 27]\n",
    "women_means = [25, 32, 34, 20, 25]\n",
    "\n",
    "x = np.arange(len(labels))  # the label locations\n",
    "width = 0.35  # the width of the bars\n",
    "\n",
    "fig, ax = plt.subplots(figsize=(16,10))\n",
    "rects1 = ax.bar(x - width/2, men_means, width, label='Men')\n",
    "rects2 = ax.bar(x + width/2, women_means, width, label='Women')\n",
    "\n",
    "# Add some text for labels, title and custom x-axis tick labels, etc.\n",
    "ax.set_ylabel('Scores')\n",
    "ax.set_title('Scores by group and gender')\n",
    "ax.set_xticks(x)\n",
    "ax.set_xticklabels(labels)\n",
    "ax.legend()\n",
    "\n",
    "\n",
    "def autolabel(rects):\n",
    "    \"\"\"Attach a text label above each bar in *rects*, displaying its height.\"\"\"\n",
    "    for rect in rects:\n",
    "        height = rect.get_height()\n",
    "        ax.annotate('{}'.format(height),\n",
    "                    xy=(rect.get_x() + rect.get_width() / 2, height),\n",
    "                    xytext=(0, 3),  # 3 points vertical offset\n",
    "                    textcoords=\"offset points\",\n",
    "                    ha='center', va='bottom')\n",
    "\n",
    "\n",
    "autolabel(rects1)\n",
    "autolabel(rects2)\n",
    "\n",
    "fig.tight_layout()\n",
    "\n",
    "plt.show()"
   ]
  },
  {
   "cell_type": "markdown",
   "metadata": {},
   "source": [
    "### Variation of VMT per time of day for 100 scenarios"
   ]
  },
  {
   "cell_type": "code",
   "execution_count": null,
   "metadata": {},
   "outputs": [],
   "source": [
    "trip17_vmt = trip17_pred[trip17_pred['VMT_MILE']>0]\n",
    "trip17_vmt = trip17_vmt[trip17_vmt['TRVLCMIN']>0]\n"
   ]
  },
  {
   "cell_type": "code",
   "execution_count": null,
   "metadata": {},
   "outputs": [],
   "source": [
    "trip17_vmt_T = trip17_vmt[trip17_vmt['MUDs_Predict_OW'] == 1]\n",
    "trip17_vmt_F = trip17_vmt[trip17_vmt['MUDs_Predict_OW'] == 0]\n",
    "\n",
    "for i in range(24):\n",
    "    trip17_vmt_T['VMT_Hr'+str(i+1)] = np.where((trip17_vmt_T['STRTTIME'] >= 100*i) & (trip17_vmt_T['STRTTIME']< 100*(i+1)), \n",
    "                                               trip17_vmt_T['VMT_MILE']/(trip17_vmt_T['TRVLCMIN']/60),0)\n",
    "    trip17_vmt_T['VMT_Hr'+str(i+1)] = np.where((trip17_vmt_T['STRTTIME'] >= 100*i) & (trip17_vmt_T['ENDTIME']< 100*(i+1)), \n",
    "                                               trip17_vmt_T['VMT_MILE']/(trip17_vmt_T['TRVLCMIN']/60),0)\n",
    "    trip17_vmt_F['VMT_Hr'+str(i+1)] = np.where((trip17_vmt_F['STRTTIME'] >= 100*i) & (trip17_vmt_F['STRTTIME']< 100*(i+1)), \n",
    "                                               trip17_vmt_F['VMT_MILE']/(trip17_vmt_F['TRVLCMIN']/60),0)\n",
    "    trip17_vmt_F['VMT_Hr'+str(i+1)] = np.where((trip17_vmt_F['STRTTIME'] >= 100*i) & (trip17_vmt_F['ENDTIME']< 100*(i+1)), \n",
    "                                               trip17_vmt_F['VMT_MILE']/(trip17_vmt_F['TRVLCMIN']/60),0)\n"
   ]
  },
  {
   "cell_type": "code",
   "execution_count": null,
   "metadata": {},
   "outputs": [],
   "source": [
    "trip17_vmt_T.head()"
   ]
  },
  {
   "cell_type": "code",
   "execution_count": null,
   "metadata": {},
   "outputs": [],
   "source": [
    "avg_vmt_T = [[0 for i in range(24)] for j in range(100)]\n",
    "avg_vmt_F = [[0 for i in range(24)] for j in range(100)]\n",
    "avg_vmt = [[0 for i in range(24)] for j in range(100)]\n",
    "\n",
    "# trip17_vmt_T = trip17_vmt[trip17_vmt['MUDs_Predict_OW'] == 1]\n",
    "# trip17_vmt_F = trip17_vmt[trip17_vmt['MUDs_Predict_OW'] == 0]\n",
    "trip17_vmt_T = trip17_vmt_T[trip17_vmt_T['MUDs_Predict_OW'] == 1]\n",
    "trip17_vmt_F = trip17_vmt_F[trip17_vmt_F['MUDs_Predict_OW'] == 0]\n",
    "\n",
    "\n",
    "#trip17_MUD_C['HHIncomes'].mask(trip17_MUD_C['HHFAMINC'] == i+1, income[i], inplace=True)\n",
    "for i in range(24):\n",
    "    #avg_vmt_T[0][i] = trip17_vmt_T[(trip17_vmt_T['STRTTIME'] >= 100*i) & (trip17_vmt_T['STRTTIME']< 100*(i+1))].VMT_MILE.mean()\n",
    "    avg_vmt_T[0][i] = trip17_vmt_T['VMT_Hr'+str(i+1)].mean()\n",
    "    #avg_vmt_F[0][i] = trip17_vmt_F[(trip17_vmt_F['STRTTIME'] >= 100*i) & (trip17_vmt_F['STRTTIME']< 100*(i+1))].VMT_MILE.mean()\n",
    "    avg_vmt_F[0][i] = trip17_vmt_F['VMT_Hr'+str(i+1)].mean()\n",
    "    avg_vmt[0][i] = trip17_vmt[(trip17_vmt['STRTTIME'] >= 100*i) & (trip17_vmt['STRTTIME']< 100*(i+1))].VMT_MILE.mean()\n",
    "    "
   ]
  },
  {
   "cell_type": "code",
   "execution_count": null,
   "metadata": {},
   "outputs": [],
   "source": [
    "for i in range(1,100):\n",
    "#     trip17_vmt_T = trip17_vmt[trip17_vmt['MUDs_Predict_OW_'+str(i)] == 1]\n",
    "#     trip17_vmt_F = trip17_vmt[trip17_vmt['MUDs_Predict_OW_'+str(i)] == 0]\n",
    "    trip17_vmt_T = trip17_vmt_T[trip17_vmt_T['MUDs_Predict_OW_'+str(i)] == 1]\n",
    "    trip17_vmt_F = trip17_vmt_F[trip17_vmt_F['MUDs_Predict_OW_'+str(i)] == 0]\n",
    "    for j in range(24):\n",
    "#         avg_vmt_T[i][j] = trip17_vmt_T[(trip17_vmt_T['STRTTIME'] >= 100*j) & (trip17_vmt_T['STRTTIME']< 100*(j+1))].VMT_MILE.mean()\n",
    "        avg_vmt_T[i][j] = trip17_vmt_T['VMT_Hr'+str(j+1)].mean()\n",
    "#         avg_vmt_F[i][j] = trip17_vmt_F[(trip17_vmt_F['STRTTIME'] >= 100*j) & (trip17_vmt_F['STRTTIME']< 100*(j+1))].VMT_MILE.mean()\n",
    "        avg_vmt_F[i][j] = trip17_vmt_F['VMT_Hr'+str(j+1)].mean()\n",
    "        avg_vmt[i][j] = trip17_vmt[(trip17_vmt['STRTTIME'] >= 100*j) & (trip17_vmt['STRTTIME']< 100*(j+1))].VMT_MILE.mean()\n",
    "\n",
    "# for i in range(24):\n",
    "#     trip17_vmt_T.loc[trip17_vmt_T['VMT_Hr'+str(i+1)] > 120,'VMT_Hr'+str(i+1)] = 120\n",
    "#     trip17_vmt_F.loc[trip17_vmt_F['VMT_Hr'+str(i+1)] > 120,'VMT_Hr'+str(i+1)] = 120"
   ]
  },
  {
   "cell_type": "code",
   "execution_count": null,
   "metadata": {
    "scrolled": true
   },
   "outputs": [],
   "source": [
    "col_list = range(24)\n",
    "df_avg_vmt_T = pd.DataFrame(data=avg_vmt_T, columns=col_list)\n",
    "df_avg_vmt_F = pd.DataFrame(data=avg_vmt_F, columns=col_list)\n",
    "df_avg_vmt = pd.DataFrame(data=avg_vmt, columns=col_list)\n",
    "df_avg_vmt_T"
   ]
  },
  {
   "cell_type": "code",
   "execution_count": null,
   "metadata": {},
   "outputs": [],
   "source": [
    "df_avg_vmt_T.fillna(0, inplace=True)\n",
    "df_avg_vmt_F.fillna(0, inplace=True)\n",
    "df_avg_vmt.fillna(0,inplace=True)"
   ]
  },
  {
   "cell_type": "code",
   "execution_count": null,
   "metadata": {},
   "outputs": [],
   "source": [
    "# function for setting the colors of the box plots pairs\n",
    "def set_box_color(bp, color):\n",
    "    plt.setp(bp['boxes'], color=color)\n",
    "    plt.setp(bp['whiskers'], color=color)\n",
    "    plt.setp(bp['caps'], color=color)\n",
    "    plt.setp(bp['medians'], color=color)"
   ]
  },
  {
   "cell_type": "code",
   "execution_count": null,
   "metadata": {},
   "outputs": [],
   "source": [
    "tod = []\n",
    "for i in range(24):\n",
    "    tod.append(str(i) + ':00 to ' + str(i+1) + ':00')\n",
    "  "
   ]
  },
  {
   "cell_type": "code",
   "execution_count": null,
   "metadata": {},
   "outputs": [],
   "source": [
    "plt.figure(figsize=(16, 8))\n",
    "plt.title('Time of Day Average VMT for personally driven vehicle trips (Miles)', fontsize=28)\n",
    " \n",
    "# data required for plotting\n",
    "all_data = [df_avg_vmt_T[i] for i in range(24)]\n",
    "all_data_F = [df_avg_vmt_F[i] for i in range(24)]\n",
    "\n",
    "# plot box plot\n",
    "bp2 = plt.boxplot(all_data,positions=np.array(range(1,len(all_data)+1))*2-0.3)\n",
    "set_box_color(bp2, '#0000FF')\n",
    "\n",
    "\n",
    "# plot box plot\n",
    "bp4 = plt.boxplot(all_data_F,positions=np.array(range(1,len(all_data)+1))*2+0.3)\n",
    "#axs[1][1].set_title('Box plot')\n",
    "set_box_color(bp4, '#FF0000')\n",
    "\n",
    "\n",
    "plt.plot([], c='#0000FF', label=\"MUDs' Residents\")\n",
    "plt.plot([], c='#FF0000', label=\"Others' Residents\")\n",
    "plt.legend()\n",
    "# adding horizontal grid lines\n",
    "\n",
    "plt.xticks(range(1, len(tod)*2+1, 2), tod)\n",
    "plt.xticks(rotation=45)        \n",
    "plt.xlabel('Time of Day',fontdict=font)\n",
    "plt.ylabel('VMT(Miles)',fontdict=font)\n",
    "\n",
    "plt.show()"
   ]
  },
  {
   "cell_type": "code",
   "execution_count": null,
   "metadata": {},
   "outputs": [],
   "source": [
    "trip17_vmt_T = trip17_vmt[trip17_vmt['MUDs_Predict_OW'] == 1]\n",
    "trip17_vmt_F = trip17_vmt[trip17_vmt['MUDs_Predict_OW'] == 0]\n",
    "#trip17_vmt = trip17_vmt[trip17_vmt['TRVLCMIN']>0]\n"
   ]
  },
  {
   "cell_type": "code",
   "execution_count": null,
   "metadata": {},
   "outputs": [],
   "source": [
    "len(trip17_vmt_F)"
   ]
  },
  {
   "cell_type": "code",
   "execution_count": null,
   "metadata": {},
   "outputs": [],
   "source": [
    "len(trip17_vmt)"
   ]
  },
  {
   "cell_type": "code",
   "execution_count": null,
   "metadata": {
    "scrolled": true
   },
   "outputs": [],
   "source": [
    "trip17_vmt_T.head()"
   ]
  },
  {
   "cell_type": "code",
   "execution_count": null,
   "metadata": {},
   "outputs": [],
   "source": [
    "for i in range(24):\n",
    "    trip17_vmt_T['VMT_Hr'+str(i+1)] = np.where((trip17_vmt_T['STRTTIME'] >= 100*i) & (trip17_vmt_T['STRTTIME']< 100*(i+1)), \n",
    "                                               trip17_vmt_T['VMT_MILE']/(trip17_vmt_T['TRVLCMIN']/60),0)\n",
    "    trip17_vmt_T['VMT_Hr'+str(i+1)] = np.where((trip17_vmt_T['STRTTIME'] >= 100*i) & (trip17_vmt_T['ENDTIME']< 100*(i+1)), \n",
    "                                               trip17_vmt_T['VMT_MILE']/(trip17_vmt_T['TRVLCMIN']/60),0)\n",
    "    trip17_vmt_F['VMT_Hr'+str(i+1)] = np.where((trip17_vmt_F['STRTTIME'] >= 100*i) & (trip17_vmt_F['STRTTIME']< 100*(i+1)), \n",
    "                                               trip17_vmt_F['VMT_MILE']/(trip17_vmt_F['TRVLCMIN']/60),0)\n",
    "    trip17_vmt_F['VMT_Hr'+str(i+1)] = np.where((trip17_vmt_F['STRTTIME'] >= 100*i) & (trip17_vmt_F['ENDTIME']< 100*(i+1)), \n",
    "                                               trip17_vmt_F['VMT_MILE']/(trip17_vmt_F['TRVLCMIN']/60),0)\n",
    "                                               "
   ]
  },
  {
   "cell_type": "code",
   "execution_count": null,
   "metadata": {},
   "outputs": [],
   "source": [
    "for i in range(24):\n",
    "    trip17_vmt_T.loc[trip17_vmt_T['VMT_Hr'+str(i+1)] > 120,'VMT_Hr'+str(i+1)] = 120\n",
    "    trip17_vmt_F.loc[trip17_vmt_F['VMT_Hr'+str(i+1)] > 120,'VMT_Hr'+str(i+1)] = 120"
   ]
  },
  {
   "cell_type": "code",
   "execution_count": null,
   "metadata": {},
   "outputs": [],
   "source": [
    "trip17_vmt_T[['HOUSEID','VMT_Hr16','VMT_MILE']].head(10)"
   ]
  },
  {
   "cell_type": "code",
   "execution_count": null,
   "metadata": {},
   "outputs": [],
   "source": [
    "tod = []\n",
    "for i in range(24):\n",
    "    tod.append(str(i) + ':00 to ' + str(i+1) + ':00')\n",
    "    "
   ]
  },
  {
   "cell_type": "code",
   "execution_count": null,
   "metadata": {
    "scrolled": true
   },
   "outputs": [],
   "source": [
    "trip17_vmt_T[trip17_vmt_T['VMT_Hr'+str(1+1)] != 0]['VMT_Hr2'].head()"
   ]
  },
  {
   "cell_type": "code",
   "execution_count": null,
   "metadata": {},
   "outputs": [],
   "source": [
    "plt.figure(figsize=(16, 8))\n",
    "plt.title('Time of Day VMT for personally driven vehicle trips', fontsize=28)\n",
    " \n",
    "# data required for plotting\n",
    "all_data = [trip17_vmt_T[trip17_vmt_T['VMT_Hr'+str(i+1)] != 0]['VMT_Hr'+str(i+1)] \n",
    "            for i in range(24)]\n",
    "all_data_F = [trip17_vmt_F[trip17_vmt_F['VMT_Hr'+str(i+1)]!=0]['VMT_Hr'+str(i+1)] \n",
    "            for i in range(24)]\n",
    "\n",
    "# plot box plot\n",
    "flierprops1 = dict(marker='o', markerfacecolor='blue', markersize=6,\n",
    "                  linestyle='none', markeredgecolor='g')\n",
    "bp2 = plt.boxplot(all_data,positions=np.array(range(1,len(all_data)+1))*2-0.3, flierprops=flierprops1)\n",
    "set_box_color(bp2, '#0000FF')\n",
    "\n",
    "\n",
    "# plot box plot\n",
    "flierprops2 = dict(marker='o', markerfacecolor='r', markersize=6,\n",
    "                  linestyle='none', markeredgecolor='g')\n",
    "bp4 = plt.boxplot(all_data_F,positions=np.array(range(1,len(all_data)+1))*2+0.3, flierprops=flierprops2)\n",
    "#axs[1][1].set_title('Box plot')\n",
    "set_box_color(bp4, '#FF0000')\n",
    "\n",
    "\n",
    "plt.plot([], c='#0000FF', label=\"MUDs' Residents\")\n",
    "plt.plot([], c='#FF0000', label=\"Others' Residents\")\n",
    "plt.legend(loc='upper left', bbox_to_anchor=(0.9, 1.06))\n",
    "# adding horizontal grid lines\n",
    "\n",
    "plt.xticks(range(1, len(tod)*2+1, 2), tod)\n",
    "plt.xticks(rotation=45)        \n",
    "plt.xlabel('Time of Day (Hrs)',fontdict=font)\n",
    "plt.ylabel('VMT (Miles)',fontdict=font)\n",
    "\n",
    "plt.show();"
   ]
  },
  {
   "cell_type": "code",
   "execution_count": null,
   "metadata": {},
   "outputs": [],
   "source": [
    "all_data[24].mean()"
   ]
  },
  {
   "cell_type": "code",
   "execution_count": null,
   "metadata": {},
   "outputs": [],
   "source": [
    "list_avg_vmt_T = []\n",
    "list_avg_vmt_F = []\n",
    "for i in range(24):\n",
    "    list_avg_vmt_T.append(all_data[i].mean())\n",
    "    list_avg_vmt_F.append(all_data_F[i].mean())"
   ]
  },
  {
   "cell_type": "code",
   "execution_count": null,
   "metadata": {
    "scrolled": false
   },
   "outputs": [],
   "source": [
    "tod = []\n",
    "for i in range(24):\n",
    "    tod.append(str(i) + ':00 to ' + str(i+1) + ':00')\n",
    "\n",
    "plt.figure(figsize =(20,12))\n",
    "\n",
    "plt.plot(tod, list_avg_vmt_T, label='MUDs');\n",
    "plt.plot(tod, list_avg_vmt_F, label='Others');\n",
    "#plt.plot(tod, avg_vmt[0], label='Alls');\n",
    "\n",
    "plt.xlabel('Time of day (Hrs)', fontdict=font)\n",
    "plt.ylabel('Average VMT (Miles)', fontdict=font)\n",
    "plt.title('Time of Day Average VMTs for personally driven vehicle trips', fontsize=28)\n",
    "plt.legend(loc='upper right')\n",
    "plt.xticks(rotation=45)\n",
    "\n",
    "plt.show()"
   ]
  },
  {
   "cell_type": "code",
   "execution_count": null,
   "metadata": {},
   "outputs": [],
   "source": [
    "def avg_vmt_plot(avg_vmt_T,avg_vmt_F,division,tod):\n",
    "    plt.figure(figsize =(20,12))\n",
    "\n",
    "    plt.plot(tod, avg_vmt_T[0], label='MUDs');\n",
    "    plt.plot(tod, avg_vmt_F[0], label='Others');\n",
    "    #plt.plot(tod, avg_vmt[0], label='Alls');\n",
    "\n",
    "    plt.xlabel('Time of day', fontdict=font)\n",
    "    plt.ylabel('Average VMT (Miles)', fontdict=font)\n",
    "    plt.title('Average VMTs of predicted MUDs of '+division, fontsize=28)\n",
    "    plt.legend(loc='upper right')\n",
    "    plt.xticks(rotation=45)\n",
    "\n",
    "    plt.show()"
   ]
  },
  {
   "cell_type": "code",
   "execution_count": null,
   "metadata": {},
   "outputs": [],
   "source": [
    "# plot 9 divisions in one graph of MUDs and Others respectively\n",
    "def avg_vmt_plot_muds(avg_vmt_T,avg_vmt_F,division,tod,style_line,marker_fill):\n",
    "    \n",
    "    axs[0].plot(tod, avg_vmt_T[0], label=division,linestyle=style_line,marker=marker_fill)\n",
    "    axs[1].plot(tod, avg_vmt_F[0], label=division,linestyle=style_line,marker=marker_fill)\n",
    "    #plt.plot(tod, avg_vmt_F[0], label='Others');\n",
    "    #plt.plot(tod, avg_vmt[0], label='Alls');\n",
    "\n",
    "    \n",
    "    axs[0].set_ylabel('Average VMT (Miles)', fontdict=font)\n",
    "    axs[1].set_xlabel('Time of day (Hrs)', fontdict=font)\n",
    "    axs[1].set_ylabel('Average VMT (Miles)', fontdict=font)\n",
    "    axs[0].set_title('Average VMTs of predicted MUDs residents vehicles for different Census divisions', fontsize=28)\n",
    "    axs[1].set_title('Average VMTs of other residents vehicles for different Census divisions', fontsize=28)\n",
    "    axs[0].legend(loc='upper right')\n",
    "    axs[1].legend(loc='upper right')\n",
    " \n",
    "    axs[0].set_xticklabels(tod, rotation=45)\n",
    "    axs[1].set_xticklabels(tod, rotation=45)\n",
    "\n",
    "    #plt.show()"
   ]
  },
  {
   "cell_type": "code",
   "execution_count": null,
   "metadata": {},
   "outputs": [],
   "source": [
    "avg_vmt_T = [[0 for i in range(24)] for j in range(100)]\n",
    "trip17_vmt_CENSUS = trip17_vmt[trip17_vmt['CENSUS_D'] == 0+1]\n",
    "trip17_vmt_T = trip17_vmt_CENSUS[trip17_vmt_CENSUS['MUDs_Predict_OW'] == 1]\n",
    "for j in range(24):\n",
    "    avg_vmt_T[0][j] = trip17_vmt_T[(trip17_vmt_T['STRTTIME'] >= 100*j) & (trip17_vmt_T['STRTTIME']< 100*(j+1))].VMT_MILE.mean()\n",
    "\n"
   ]
  },
  {
   "cell_type": "code",
   "execution_count": null,
   "metadata": {},
   "outputs": [],
   "source": [
    "avg_vmt_T[0] = [0 if str(x)=='nan' else x for x in avg_vmt_T[0]]"
   ]
  },
  {
   "cell_type": "code",
   "execution_count": null,
   "metadata": {},
   "outputs": [],
   "source": [
    "avg_vmt_T"
   ]
  },
  {
   "cell_type": "code",
   "execution_count": null,
   "metadata": {},
   "outputs": [],
   "source": [
    "division_list = ['New England','Middle Atlantic','East North Central','West North Central',\n",
    "                 'South Atlantic','East South Central','West South Central','Mountain','Pacific']\n",
    "\n",
    "filled_markers = ['o', 'v', '8', 's', 'p', '*', 'H', 'D', 'X']\n",
    "linestyle_tuple = ['solid','dashed','dashdot','dotted','solid',\n",
    "                   'solid','dashed','dashdot','dotted']\n",
    "tod = []\n",
    "for i in range(24):\n",
    "    tod.append(str(i) + ':00 to ' + str(i+1) + ':00')\n",
    "\n",
    "\n",
    "fig, axs = plt.subplots(nrows=2, ncols=1, figsize=(20, 17))\n",
    "for i in range(9):\n",
    "    division = division_list[i]\n",
    "    style_line = linestyle_tuple[i]\n",
    "    marker_fill = filled_markers[i]\n",
    "    avg_vmt_T = [[0 for i in range(24)] for j in range(100)]\n",
    "    trip17_vmt_T_Census = trip17_vmt_T[trip17_vmt_T['CENSUS_D'] == i+1]\n",
    "    #trip17_vmt_T = trip17_vmt_CENSUS[trip17_vmt_CENSUS['MUDs_Predict_OW'] == 1]\n",
    "    for j in range(24):\n",
    "#         avg_vmt_T[0][j] = trip17_vmt_T[(trip17_vmt_T['STRTTIME'] >= 100*j) & (trip17_vmt_T['STRTTIME']< 100*(j+1))].VMT_MILE.mean()\n",
    "        '''\n",
    "        Drop zeros VMT trips or not\n",
    "        '''\n",
    "        #temp_T = trip17_vmt_T_Census[trip17_vmt_T_Census['VMT_Hr'+str(j+1)] != 0]\n",
    "        temp_T = trip17_vmt_T_Census\n",
    "        avg_vmt_T[0][j] = temp_T['VMT_Hr'+str(j+1)].mean()\n",
    "        \n",
    "    avg_vmt_T[0] = [0 if str(x)=='nan' else x for x in avg_vmt_T[0]]\n",
    "    \n",
    "    avg_vmt_F = [[0 for i in range(24)] for j in range(100)]\n",
    "    trip17_vmt_F_Census = trip17_vmt_F[trip17_vmt_F['CENSUS_D'] == i+1]\n",
    "#     trip17_vmt_CENSUS = trip17_vmt[trip17_vmt['CENSUS_D'] == i+1]\n",
    "#     trip17_vmt_F = trip17_vmt_CENSUS[trip17_vmt_CENSUS['MUDs_Predict_OW'] == 0]\n",
    "    for j in range(24):\n",
    "        #avg_vmt_F[0][j] = trip17_vmt_F[(trip17_vmt_F['STRTTIME'] >= 100*j) & (trip17_vmt_F['STRTTIME']< 100*(j+1))].VMT_MILE.mean()\n",
    "        '''\n",
    "        Drop zeros VMT trips or not\n",
    "        '''\n",
    "        #temp_F = trip17_vmt_F_Census[trip17_vmt_F_Census['VMT_Hr'+str(j+1)] != 0]\n",
    "        temp_F = trip17_vmt_F_Census\n",
    "        avg_vmt_F[0][j] = temp_F['VMT_Hr'+str(j+1)].mean()\n",
    "    avg_vmt_F[0] = [0 if str(x)=='nan' else x for x in avg_vmt_F[0]]    \n",
    "    \n",
    "    avg_vmt_plot_muds(avg_vmt_T,avg_vmt_F,division,tod,style_line,marker_fill)\n",
    "    "
   ]
  },
  {
   "cell_type": "markdown",
   "metadata": {},
   "source": [
    "## Drop all zero VMTs trips"
   ]
  },
  {
   "cell_type": "code",
   "execution_count": null,
   "metadata": {},
   "outputs": [],
   "source": [
    "division_list = ['New England','Middle Atlantic','East North Central','West North Central',\n",
    "                 'South Atlantic','East South Central','West South Central','Mountain','Pacific']\n",
    "\n",
    "filled_markers = ['o', 'v', '8', 's', 'p', '*', 'H', 'D', 'X']\n",
    "linestyle_tuple = ['solid','dashed','dashdot','dotted','solid',\n",
    "                   'solid','dashed','dashdot','dotted']\n",
    "tod = []\n",
    "for i in range(24):\n",
    "    tod.append(str(i) + ':00 to ' + str(i+1) + ':00')\n",
    "\n",
    "\n",
    "fig, axs = plt.subplots(nrows=2, ncols=1, figsize=(20, 17))\n",
    "for i in range(9):\n",
    "    division = division_list[i]\n",
    "    style_line = linestyle_tuple[i]\n",
    "    marker_fill = filled_markers[i]\n",
    "    avg_vmt_T = [[0 for i in range(24)] for j in range(100)]\n",
    "    trip17_vmt_T_Census = trip17_vmt_T[trip17_vmt_T['CENSUS_D'] == i+1]\n",
    "    #trip17_vmt_T = trip17_vmt_CENSUS[trip17_vmt_CENSUS['MUDs_Predict_OW'] == 1]\n",
    "    for j in range(24):\n",
    "#         avg_vmt_T[0][j] = trip17_vmt_T[(trip17_vmt_T['STRTTIME'] >= 100*j) & (trip17_vmt_T['STRTTIME']< 100*(j+1))].VMT_MILE.mean()\n",
    "        '''\n",
    "        Drop zeros VMT trips or not\n",
    "        '''\n",
    "        temp_T = trip17_vmt_T_Census[trip17_vmt_T_Census['VMT_Hr'+str(j+1)] != 0]\n",
    "        #temp_T = trip17_vmt_T_Census\n",
    "        avg_vmt_T[0][j] = temp_T['VMT_Hr'+str(j+1)].mean()\n",
    "        \n",
    "    avg_vmt_T[0] = [0 if str(x)=='nan' else x for x in avg_vmt_T[0]]\n",
    "    \n",
    "    avg_vmt_F = [[0 for i in range(24)] for j in range(100)]\n",
    "    trip17_vmt_F_Census = trip17_vmt_F[trip17_vmt_F['CENSUS_D'] == i+1]\n",
    "#     trip17_vmt_CENSUS = trip17_vmt[trip17_vmt['CENSUS_D'] == i+1]\n",
    "#     trip17_vmt_F = trip17_vmt_CENSUS[trip17_vmt_CENSUS['MUDs_Predict_OW'] == 0]\n",
    "    for j in range(24):\n",
    "        #avg_vmt_F[0][j] = trip17_vmt_F[(trip17_vmt_F['STRTTIME'] >= 100*j) & (trip17_vmt_F['STRTTIME']< 100*(j+1))].VMT_MILE.mean()\n",
    "        '''\n",
    "        Drop zeros VMT trips or not\n",
    "        '''\n",
    "        temp_F = trip17_vmt_F_Census[trip17_vmt_F_Census['VMT_Hr'+str(j+1)] != 0]\n",
    "        #temp_F = trip17_vmt_F_Census\n",
    "        avg_vmt_F[0][j] = temp_F['VMT_Hr'+str(j+1)].mean()\n",
    "    avg_vmt_F[0] = [0 if str(x)=='nan' else x for x in avg_vmt_F[0]]    \n",
    "    \n",
    "    avg_vmt_plot_muds(avg_vmt_T,avg_vmt_F,division,tod,style_line,marker_fill)\n",
    "    "
   ]
  },
  {
   "cell_type": "code",
   "execution_count": null,
   "metadata": {},
   "outputs": [],
   "source": [
    "trip17_pred['NOHOMEDWELL']=np.where(trip17_pred['WHYTRP1S']!='01',trip17_pred['DWELTIME'],0)"
   ]
  },
  {
   "cell_type": "code",
   "execution_count": null,
   "metadata": {},
   "outputs": [],
   "source": [
    "trip17_pred['NOHOMEDWELL']=np.where(2400-trip17_pred['ENDTIME']<trip17_pred['NOHOMEDWELL'],2400-trip17_pred['DWELTIME'],trip17_pred['NOHOMEDWELL'])\n",
    "#trip17_MUD_final['NOHOMEDWELL']= min(2400-trip17_MUD_final['ENDTIME'],trip17_MUD_final['NOHOMEDWELL'])"
   ]
  },
  {
   "cell_type": "code",
   "execution_count": null,
   "metadata": {},
   "outputs": [],
   "source": [
    "trip17_interme=trip17_pred.groupby(['HOUSEID'], as_index=False)[['TRVLCMIN','NOHOMEDWELL']].sum()"
   ]
  },
  {
   "cell_type": "code",
   "execution_count": null,
   "metadata": {},
   "outputs": [],
   "source": [
    "trip17_interme['time_home'] = 1440 - trip17_interme['TRVLCMIN'] - trip17_interme['NOHOMEDWELL']"
   ]
  },
  {
   "cell_type": "code",
   "execution_count": null,
   "metadata": {},
   "outputs": [],
   "source": [
    "trip17_interme['share_home'] = trip17_interme['time_home'] /1440"
   ]
  },
  {
   "cell_type": "code",
   "execution_count": null,
   "metadata": {},
   "outputs": [],
   "source": [
    "trip17_pred_T = trip17_pred[trip17_pred['MUDs_Predict_OW'] == 1]\n",
    "trip17_pred_F = trip17_pred[trip17_pred['MUDs_Predict_OW'] == 0]"
   ]
  },
  {
   "cell_type": "code",
   "execution_count": null,
   "metadata": {},
   "outputs": [],
   "source": [
    "trip17_interme = trip17_interme[trip17_interme['share_home']>0]"
   ]
  },
  {
   "cell_type": "code",
   "execution_count": null,
   "metadata": {},
   "outputs": [],
   "source": [
    "trip17_interme = trip17_interme[trip17_interme['share_home']<1]"
   ]
  },
  {
   "cell_type": "code",
   "execution_count": null,
   "metadata": {},
   "outputs": [],
   "source": [
    "trip17_interme=trip17_interme.merge(trip17_pred[['HOUSEID','CENSUS_D']],on=['HOUSEID'],how='inner')\n",
    "\n"
   ]
  },
  {
   "cell_type": "code",
   "execution_count": null,
   "metadata": {},
   "outputs": [],
   "source": [
    "\n",
    "trip17_interme = trip17_interme.groupby(['HOUSEID'], as_index=False).mean()"
   ]
  },
  {
   "cell_type": "code",
   "execution_count": null,
   "metadata": {},
   "outputs": [],
   "source": [
    "trip17_interme['MUDs_OW'] = simu['MUDs_Predict_OW']"
   ]
  },
  {
   "cell_type": "code",
   "execution_count": null,
   "metadata": {},
   "outputs": [],
   "source": [
    "trip17_interme.head()"
   ]
  },
  {
   "cell_type": "code",
   "execution_count": null,
   "metadata": {},
   "outputs": [],
   "source": [
    "trip17_interme =trip17_interme[(trip17_interme['share_home']<=1) & (trip17_interme['share_home']>=0)]"
   ]
  },
  {
   "cell_type": "code",
   "execution_count": null,
   "metadata": {},
   "outputs": [],
   "source": [
    "def box_share_home(my_dict,font,cate):\n",
    "    fig, ax = plt.subplots(figsize = (16,8))\n",
    "    ax.boxplot(my_dict.values())\n",
    "    ax.set_xticklabels(my_dict.keys())\n",
    "#    ax.set_ylim(0, 1);\n",
    "    ax.set_xlabel('CENSUS DIVISIONS',fontdict= font)\n",
    "    ax.set_ylabel('% of time of a day (0-1)',fontdict= font)\n",
    "    ax.set_title('Share of time staying at home of ' + cate,fontdict= font)\n",
    "    plt.show()\n",
    "    "
   ]
  },
  {
   "cell_type": "code",
   "execution_count": null,
   "metadata": {},
   "outputs": [],
   "source": [
    "division_list = ['New England','Middle Atlantic','East North Central','West North Central',\n",
    "                 'South Atlantic','East South Central','West South Central','Mountain','Pacific']\n",
    "\n",
    "\n",
    "data_dict = dict(zip(division_list, [None]*len(division_list)))"
   ]
  },
  {
   "cell_type": "code",
   "execution_count": null,
   "metadata": {},
   "outputs": [],
   "source": [
    "cate = ['MUDs residents', 'Others residents']\n",
    "trip17_MUD_1v_T = trip17_interme[trip17_interme['MUDs_OW'] == 1]\n",
    "for i in range(9):\n",
    "    data_dict[division_list[i]] = trip17_MUD_1v_T[trip17_MUD_1v_T['CENSUS_D'] == 1+i]['share_home']\n",
    "\n",
    "box_share_home(data_dict,font,cate[0])"
   ]
  },
  {
   "cell_type": "code",
   "execution_count": null,
   "metadata": {},
   "outputs": [],
   "source": [
    "trip17_MUD_1v_F = trip17_interme[trip17_interme['MUDs_OW'] == 0]\n",
    "for i in range(9):\n",
    "    data_dict[division_list[i]] = trip17_MUD_1v_F[trip17_MUD_1v_F['CENSUS_D'] == 1+i]['share_home']\n",
    "\n",
    "box_share_home(data_dict,font,cate[1])"
   ]
  },
  {
   "cell_type": "code",
   "execution_count": null,
   "metadata": {},
   "outputs": [],
   "source": [
    "division_list = ['New England','Middle Atlantic','East North Central','West North Central',\n",
    "                 'South Atlantic','East South Central','West South Central','Mountain','Pacific']\n",
    "\n",
    "\n",
    "data_dict = dict(zip(division_list, [None]*len(division_list)))\n",
    "data_dict1 = dict(zip(division_list, [None]*len(division_list)))\n",
    "data_dict2 = dict(zip(division_list, [None]*len(division_list)))\n",
    "\n",
    "trip17_MUD_1v_T = trip17_interme[trip17_interme['MUDs_OW'] == 1]\n",
    "for i in range(9):\n",
    "    data_dict1[division_list[i]] = trip17_MUD_1v_T[trip17_MUD_1v_T['CENSUS_D'] == 1+i]['share_home']\n",
    "\n",
    "trip17_MUD_1v_F = trip17_interme[trip17_interme['MUDs_OW'] == 0]\n",
    "for i in range(9):\n",
    "    data_dict2[division_list[i]] = trip17_MUD_1v_F[trip17_MUD_1v_F['CENSUS_D'] == 1+i]['share_home']\n",
    "\n"
   ]
  },
  {
   "cell_type": "code",
   "execution_count": null,
   "metadata": {},
   "outputs": [],
   "source": [
    "data_dict1"
   ]
  },
  {
   "cell_type": "code",
   "execution_count": null,
   "metadata": {},
   "outputs": [],
   "source": [
    "plt.figure(figsize=(16, 8))\n",
    "plt.title('Share of time staying at home', fontsize=28)\n",
    " \n",
    "# data required for plotting\n",
    "all_data = [data_dict1[division_list[i]] for i in range(9)]\n",
    "all_data_F = [data_dict2[division_list[i]] for i in range(9)]\n",
    "\n",
    "# plot box plot\n",
    "flierprops1 = dict(marker='o', markerfacecolor='blue', markersize=6,\n",
    "                  linestyle='none', markeredgecolor='g')\n",
    "bp2 = plt.boxplot(all_data,positions=np.array(range(1,len(all_data)+1))*2-0.3, flierprops=flierprops1)\n",
    "set_box_color(bp2, '#0000FF')\n",
    "\n",
    "\n",
    "# plot box plot\n",
    "flierprops2 = dict(marker='o', markerfacecolor='r', markersize=6,\n",
    "                  linestyle='none', markeredgecolor='g')\n",
    "bp4 = plt.boxplot(all_data_F,positions=np.array(range(1,len(all_data)+1))*2+0.3, flierprops=flierprops2)\n",
    "#axs[1][1].set_title('Box plot')\n",
    "set_box_color(bp4, '#FF0000')\n",
    "\n",
    "\n",
    "plt.plot([], c='#0000FF', label=\"MUDs' Residents\")\n",
    "plt.plot([], c='#FF0000', label=\"Others' Residents\")\n",
    "plt.legend(loc='upper left', bbox_to_anchor=(0.85, 1.06))\n",
    "# adding horizontal grid lines\n",
    "\n",
    "plt.xticks(range(2, len(division_list)*2 + 1, 2), division_list)\n",
    "#plt.xticks(rotation=45)        \n",
    "plt.xlabel('CENSUS DIVISIONS',fontdict=font)\n",
    "plt.ylabel('% of time',fontdict=font)\n",
    "\n",
    "plt.show()"
   ]
  },
  {
   "cell_type": "code",
   "execution_count": null,
   "metadata": {},
   "outputs": [],
   "source": []
  },
  {
   "cell_type": "code",
   "execution_count": null,
   "metadata": {},
   "outputs": [],
   "source": [
    "# MUDs: time not at home"
   ]
  },
  {
   "cell_type": "code",
   "execution_count": null,
   "metadata": {},
   "outputs": [],
   "source": [
    "trip17_MUD_1v_vmt_T['VMT_MILE']"
   ]
  },
  {
   "cell_type": "code",
   "execution_count": null,
   "metadata": {},
   "outputs": [],
   "source": [
    "trip17_MUD_1v_vmt_T = trip17_pred[trip17_pred['MUDs_Predict_OW'] == 1]\n",
    "trip17_MUD_1v_vmt_F = trip17_pred[trip17_pred['MUDs_Predict_OW'] == 0]\n",
    "trip17_MUD_1v_vmt_T = trip17_MUD_1v_vmt_T[\n",
    "    np.abs(trip17_MUD_1v_vmt_T.VMT_MILE - trip17_MUD_1v_vmt_T.VMT_MILE.mean()) <= (3*trip17_MUD_1v_vmt_T.VMT_MILE.std())\n",
    "]\n",
    "\n",
    "trip17_MUD_1v_vmt_F = trip17_MUD_1v_vmt_F[\n",
    "    np.abs(trip17_MUD_1v_vmt_F.VMT_MILE - trip17_MUD_1v_vmt_F.VMT_MILE.mean()) <= (3*trip17_MUD_1v_vmt_F.VMT_MILE.std())\n",
    "]\n",
    "\n",
    "plt.figure(figsize =(12,8))\n",
    "\n",
    "sns.distplot(trip17_MUD_1v_vmt_T['VMT_MILE'],color= 'blue',label='VMT of MUDs');\n",
    "\n",
    "\n",
    "sns.distplot(trip17_MUD_1v_vmt_F['VMT_MILE'],color=\"red\",label = 'VMT of Others');\n",
    "plt.xlabel('VMT (miles)',fontdict = font)\n",
    "plt.ylabel(\"Density\",fontdict= font)\n",
    "plt.title('Distribution of Trip distance in miles for one primary vehicle per household', fontsize=24)\n",
    "#.legend(loc='upper right');\n",
    "plt.legend(loc='best');\n",
    "\n",
    "\n"
   ]
  },
  {
   "cell_type": "code",
   "execution_count": null,
   "metadata": {
    "scrolled": false
   },
   "outputs": [],
   "source": [
    "\n",
    "def vmt_count_dist(trip17_MUD_vmt_T, trip17_MUD_vmt_F,division):\n",
    "    trip17_MUD_vmt_T = trip17_MUD_vmt_T[\n",
    "        np.abs(trip17_MUD_vmt_T.VMT_MILE - trip17_MUD_vmt_T.VMT_MILE.mean()) <= (3*trip17_MUD_vmt_T.VMT_MILE.std())\n",
    "    ]\n",
    "    trip17_MUD_vmt_T = trip17_MUD_vmt_T.groupby('VMT_MILE').WTTRDFIN.sum().reset_index(name ='count')\n",
    "    trip17_MUD_vmt_T = trip17_MUD_vmt_T.groupby(pd.cut(trip17_MUD_vmt_T.VMT_MILE, bins=np.arange(trip17_MUD_vmt_T.VMT_MILE.min(), trip17_MUD_vmt_T.VMT_MILE.max(), step=10),include_lowest=True)).sum()\n",
    "    trip17_MUD_vmt_T = trip17_MUD_vmt_T.head(5)\n",
    "\n",
    "    trip17_MUD_vmt_F = trip17_MUD_vmt_F[\n",
    "        np.abs(trip17_MUD_vmt_F.VMT_MILE - trip17_MUD_vmt_F.VMT_MILE.mean()) <= (3*trip17_MUD_vmt_F.VMT_MILE.std())\n",
    "    ]\n",
    "    trip17_MUD_vmt_F = trip17_MUD_vmt_F.groupby('VMT_MILE').WTTRDFIN.sum().reset_index(name ='count')\n",
    "    trip17_MUD_vmt_F = trip17_MUD_vmt_F.groupby(pd.cut(trip17_MUD_vmt_F.VMT_MILE, bins=np.arange(trip17_MUD_vmt_F.VMT_MILE.min(), trip17_MUD_vmt_F.VMT_MILE.max(), step=10),include_lowest=True)).sum()\n",
    "    trip17_MUD_vmt_F=trip17_MUD_vmt_F.head(5)\n",
    "\n",
    "    VMT_MILE = []\n",
    "    for i in range(len(trip17_MUD_vmt_T)):\n",
    "        VMT_MILE.append(str(10*i) + ' to ' + str(10*(i+1)))\n",
    "\n",
    "    x = np.arange(len(VMT_MILE))  # the label locations\n",
    "    width = 0.35       # the width of the bars: can also be len(x) sequence\n",
    "\n",
    "    fig, ax = plt.subplots(figsize = (16,8))\n",
    "\n",
    "    # rects1 = ax.bar(x - width/2, men_means, width, label='Men')\n",
    "    # rects2 = ax.bar(x - width/2, women_means, width, label='Women')\n",
    "\n",
    "    # plt.bar(VMT_MILE, trip17_MUD_vmt_T['count'],x - width/2, width, label='MUDs');\n",
    "    # plt.bar(VMT_MILE, trip17_MUD_vmt_F['count'],x + width/2, width, label='Others');\n",
    "\n",
    "    ax.bar(x - width/2, trip17_MUD_vmt_T['count'], width, label='MUDs');\n",
    "    ax.bar(x + width/2, trip17_MUD_vmt_F['count'], width, label='Others');\n",
    "\n",
    "    ax.set_xlabel('VMT_MILE(miles)', fontdict=font)\n",
    "    ax.set_ylabel('Counts of trips', fontdict=font)\n",
    "    ax.set_title('Distribution of counts of Trip distance in miles for personally driven vehicle trips of '+division, fontdict=font)\n",
    "    ax.legend(loc='upper right')\n",
    "    #ax.xticks(rotation=45)\n",
    "    ax.set_xticks(x)\n",
    "    ax.set_xticklabels(VMT_MILE)\n",
    "\n",
    "    plt.show()\n",
    "\n",
    "    \n",
    "division_list = ['New England','Middle Atlantic','East North Central','West North Central',\n",
    "                 'South Atlantic','East South Central','West South Central','Mountain','Pacific']\n",
    "\n",
    "for i in range(9):\n",
    "    trip17_MUD_vmt_CENSUS = trip17_pred[trip17_pred['CENSUS_D'] == i+1]\n",
    "    trip17_MUD_vmt_T = trip17_MUD_vmt_CENSUS[trip17_MUD_vmt_CENSUS['MUDs_Predict_OW'] == 1]\n",
    "    trip17_MUD_vmt_F = trip17_MUD_vmt_CENSUS[trip17_MUD_vmt_CENSUS['MUDs_Predict_OW'] == 0]\n",
    "\n",
    "    division = division_list[i]\n",
    "    vmt_count_dist(trip17_MUD_vmt_T, trip17_MUD_vmt_F,division)"
   ]
  },
  {
   "cell_type": "code",
   "execution_count": null,
   "metadata": {},
   "outputs": [],
   "source": []
  },
  {
   "cell_type": "code",
   "execution_count": null,
   "metadata": {},
   "outputs": [],
   "source": []
  },
  {
   "cell_type": "code",
   "execution_count": null,
   "metadata": {},
   "outputs": [],
   "source": []
  },
  {
   "cell_type": "code",
   "execution_count": null,
   "metadata": {},
   "outputs": [],
   "source": []
  },
  {
   "cell_type": "code",
   "execution_count": null,
   "metadata": {},
   "outputs": [],
   "source": []
  },
  {
   "cell_type": "code",
   "execution_count": null,
   "metadata": {},
   "outputs": [],
   "source": []
  },
  {
   "cell_type": "code",
   "execution_count": null,
   "metadata": {},
   "outputs": [],
   "source": [
    "time_not_home = []\n",
    "for i in range(len(hsid)):\n",
    "    trip17_temp = trip17_pred_T[trip17_pred_T['HOUSEID'] == hsid[i]]\n",
    "    temp1 = trip17_temp['TRVLCMIN'].sum()\n",
    "    temp2 = min(trip17_temp[trip17_temp['WHYTRP1S'] != '01']['DWELTIME'],\n",
    "                2400-trip17_temp[trip17_temp['WHYTRP1S'] != '01']['STRTTIME'])\n",
    "    temp = temp1 + temp2\n",
    "    time_not_home.append(temp)"
   ]
  },
  {
   "cell_type": "code",
   "execution_count": null,
   "metadata": {},
   "outputs": [],
   "source": [
    "time_not_home = [i for i in time_not_home if i != 0]\n",
    "time_home_muds = []\n",
    "for i in range(len(time_not_home)):\n",
    "    temp = (1440-time_not_home[i])/1440\n",
    "    time_home_muds.append(temp)\n"
   ]
  },
  {
   "cell_type": "code",
   "execution_count": null,
   "metadata": {},
   "outputs": [],
   "source": [
    "# Others: time not at home"
   ]
  },
  {
   "cell_type": "code",
   "execution_count": null,
   "metadata": {},
   "outputs": [],
   "source": [
    "time_not_home_others = []\n",
    "for i in range(len(hsid)):\n",
    "    temp1 = trip17_pred_F[trip17_pred_F['HOUSEID'] == hsid[i]]['TRVLCMIN'].sum()\n",
    "    temp2 = trip17_pred_F[(trip17_pred_F['HOUSEID'] == hsid[i]) &\n",
    "                          (trip17_pred_F['WHYTRP1S'] != '01')]['DWELTIME'].sum()\n",
    "    temp = temp1 + temp2\n",
    "    time_not_home_others.append(temp)"
   ]
  },
  {
   "cell_type": "code",
   "execution_count": null,
   "metadata": {},
   "outputs": [],
   "source": [
    "time_not_home_others = [i for i in time_not_home_others if i != 0]\n",
    "time_home_others = []\n",
    "for i in range(len(time_not_home_others)):\n",
    "    temp = (1440-time_not_home_others[i])/1440\n",
    "    time_home_others.append(temp)"
   ]
  },
  {
   "cell_type": "code",
   "execution_count": null,
   "metadata": {},
   "outputs": [],
   "source": []
  }
 ],
 "metadata": {
  "kernelspec": {
   "display_name": "Python 3",
   "language": "python",
   "name": "python3"
  },
  "language_info": {
   "codemirror_mode": {
    "name": "ipython",
    "version": 3
   },
   "file_extension": ".py",
   "mimetype": "text/x-python",
   "name": "python",
   "nbconvert_exporter": "python",
   "pygments_lexer": "ipython3",
   "version": "3.7.7"
  }
 },
 "nbformat": 4,
 "nbformat_minor": 4
}
